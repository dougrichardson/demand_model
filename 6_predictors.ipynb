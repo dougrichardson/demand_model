{
 "cells": [
  {
   "cell_type": "markdown",
   "id": "d5dd2c48-20ce-47d9-ba81-b1e6fcea5574",
   "metadata": {},
   "source": [
    "# Finalise predictors"
   ]
  },
  {
   "cell_type": "markdown",
   "id": "425c3161-a3da-4be4-a397-2426ed5b73b1",
   "metadata": {},
   "source": [
    "Weight the data by population and by state."
   ]
  },
  {
   "cell_type": "code",
   "execution_count": 1,
   "id": "5425c2ed-494d-440d-a271-b3a017105bae",
   "metadata": {},
   "outputs": [],
   "source": [
    "import xarray as xr"
   ]
  },
  {
   "cell_type": "code",
   "execution_count": 3,
   "id": "60c78ef6-6c4c-4021-8f96-74513f46bf10",
   "metadata": {},
   "outputs": [],
   "source": [
    "regions = [\"NEM\", \"NSW\", \"QLD\", \"VIC\", \"SA\", \"TAS\"]"
   ]
  },
  {
   "cell_type": "code",
   "execution_count": null,
   "id": "113aae17-0cb7-4f09-b6b6-66be19189b44",
   "metadata": {},
   "outputs": [],
   "source": []
  }
 ],
 "metadata": {
  "kernelspec": {
   "display_name": "Python (pangeo)",
   "language": "python",
   "name": "pangeo"
  },
  "language_info": {
   "codemirror_mode": {
    "name": "ipython",
    "version": 3
   },
   "file_extension": ".py",
   "mimetype": "text/x-python",
   "name": "python",
   "nbconvert_exporter": "python",
   "pygments_lexer": "ipython3",
   "version": "3.10.8"
  }
 },
 "nbformat": 4,
 "nbformat_minor": 5
}
