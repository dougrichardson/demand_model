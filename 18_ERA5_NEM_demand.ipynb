{
 "cells": [
  {
   "cell_type": "markdown",
   "id": "7ca7eab1-334a-400c-8f50-70eb48d45296",
   "metadata": {},
   "source": [
    "# Write ERA5 demand predictions"
   ]
  },
  {
   "cell_type": "code",
   "execution_count": 35,
   "id": "3b4056c3-c92b-4d90-9b47-a23182be0776",
   "metadata": {},
   "outputs": [],
   "source": [
    "import os\n",
    "import glob\n",
    "import xarray as xr\n",
    "import pandas as pd\n",
    "import numpy as np\n",
    "\n",
    "from sklearn.ensemble import RandomForestRegressor, ExtraTreesRegressor\n",
    "\n",
    "import matplotlib.pyplot as plt\n",
    "import matplotlib.cm"
   ]
  },
  {
   "cell_type": "code",
   "execution_count": 20,
   "id": "bb88b1e8-eae2-405b-98f2-e78be4bb1d56",
   "metadata": {},
   "outputs": [
    {
     "name": "stdout",
     "output_type": "stream",
     "text": [
      "/g/data/w42/dr6273/work/demand_model\n"
     ]
    }
   ],
   "source": [
    "%cd /g/data/w42/dr6273/work/demand_model/\n",
    "\n",
    "import functions as fn"
   ]
  },
  {
   "cell_type": "code",
   "execution_count": 15,
   "id": "99695b52-b66a-469e-bb05-b531e3327b9f",
   "metadata": {},
   "outputs": [],
   "source": [
    "%load_ext autoreload\n",
    "%autoreload 2"
   ]
  },
  {
   "cell_type": "markdown",
   "id": "dae90325-7619-4cb5-bd8c-4107a32cba1b",
   "metadata": {},
   "source": [
    "### Set global variables"
   ]
  },
  {
   "cell_type": "code",
   "execution_count": 16,
   "id": "cb452c7c-9cba-456b-9447-e9ec4d04b24e",
   "metadata": {},
   "outputs": [],
   "source": [
    "RESULTS_PATH = \"/g/data/w42/dr6273/work/projects/Aus_energy/model_results/\""
   ]
  },
  {
   "cell_type": "code",
   "execution_count": 3,
   "id": "320da562-9164-4a9c-9c69-9ca257c96bc8",
   "metadata": {},
   "outputs": [],
   "source": [
    "MARKET = \"NEM\" # \"NEM\" or \"EU\""
   ]
  },
  {
   "cell_type": "code",
   "execution_count": 4,
   "id": "0b94b6c2-f049-4ce3-ba6a-575bcf6fdb9f",
   "metadata": {},
   "outputs": [],
   "source": [
    "REMOVE_WEEKEND = True"
   ]
  },
  {
   "cell_type": "code",
   "execution_count": 5,
   "id": "bdd8357e-04a2-4df9-8a60-db143b5fbd45",
   "metadata": {},
   "outputs": [],
   "source": [
    "REMOVE_XMAS = True"
   ]
  },
  {
   "cell_type": "code",
   "execution_count": 6,
   "id": "fb89ccfb-bd3f-4eb6-bd8e-9f1b0a5e6b5f",
   "metadata": {},
   "outputs": [],
   "source": [
    "REMOVE_MONTH = 0 # integer: [1, 12]"
   ]
  },
  {
   "cell_type": "code",
   "execution_count": 7,
   "id": "b0d86628-2694-4543-a9af-916b1cca9005",
   "metadata": {},
   "outputs": [],
   "source": [
    "MASK_NAME = \"pop_dens_mask\""
   ]
  },
  {
   "cell_type": "code",
   "execution_count": 8,
   "id": "8d2e42a8-241e-4fed-a66e-233638a5ac08",
   "metadata": {},
   "outputs": [],
   "source": [
    "TIME_COLUMNS = []"
   ]
  },
  {
   "cell_type": "code",
   "execution_count": 9,
   "id": "7b0ece9b-148f-430a-b546-6de800f191bd",
   "metadata": {},
   "outputs": [],
   "source": [
    "FIRST_TRAIN_YEAR = 2010\n",
    "LAST_TRAIN_YEAR = 2019"
   ]
  },
  {
   "cell_type": "code",
   "execution_count": 10,
   "id": "feab51a0-4261-4a48-9d4f-da9783961bb4",
   "metadata": {},
   "outputs": [],
   "source": [
    "FIRST_TEST_YEAR = 2020\n",
    "LAST_TEST_YEAR = 2020"
   ]
  },
  {
   "cell_type": "code",
   "execution_count": 11,
   "id": "2f2eff62-38fc-47a6-9851-adaf2bc0205b",
   "metadata": {},
   "outputs": [],
   "source": [
    "N_FEATURES = \"parsimonious\""
   ]
  },
  {
   "cell_type": "code",
   "execution_count": 12,
   "id": "e029f07b-1b58-44c7-ae6b-0284041dbc48",
   "metadata": {},
   "outputs": [],
   "source": [
    "regions = [\"NEM\", \"QLD\", \"NSW\", \"VIC\", \"SA\", \"TAS\"]"
   ]
  },
  {
   "cell_type": "markdown",
   "id": "24462422-0742-4a06-a17b-3eb427aed883",
   "metadata": {},
   "source": [
    "### Load features and hyperparameters"
   ]
  },
  {
   "cell_type": "code",
   "execution_count": 23,
   "id": "f0300262-afab-4381-a8af-1d2682fe4958",
   "metadata": {},
   "outputs": [],
   "source": [
    "# def read_results(results_name, mask_name, rm_weekend, rm_xmas, n_features):\n",
    "#     \"\"\"\n",
    "#     Read in results dataframes as dictionary items\n",
    "#     \"\"\"\n",
    "#     if results_name == \"feature_selection\":\n",
    "#         name = \"feature_selection_results\"\n",
    "#     elif (results_name == \"training\") | (results_name == \"test\"):\n",
    "#         name = results_name + \"_predictions\"\n",
    "#     else:\n",
    "#         name = results_name\n",
    "        \n",
    "#     results = dict()\n",
    "#     for r in regions:\n",
    "#         filename = fn.get_filename(\n",
    "#             name, MARKET, r, mask_name,\n",
    "#             FIRST_TRAIN_YEAR, LAST_TRAIN_YEAR, FIRST_TEST_YEAR, LAST_TEST_YEAR,\n",
    "#             rm_weekend, rm_xmas, REMOVE_MONTH, n_features\n",
    "#         )\n",
    "#         results[r] = pd.read_csv(\n",
    "#             RESULTS_PATH + results_name + \"/random_forest/\" + filename + \".csv\",\n",
    "#             index_col=0\n",
    "#         )\n",
    "#     return results"
   ]
  },
  {
   "cell_type": "code",
   "execution_count": 24,
   "id": "185d7d9b-e5dc-47e3-a438-8d995e2a1719",
   "metadata": {},
   "outputs": [],
   "source": [
    "features = fn.read_results(\n",
    "    \"feature_selection\", MARKET, regions, MASK_NAME,\n",
    "    FIRST_TRAIN_YEAR, LAST_TRAIN_YEAR, FIRST_TEST_YEAR, LAST_TEST_YEAR,\n",
    "    REMOVE_WEEKEND, REMOVE_XMAS, REMOVE_MONTH, N_FEATURES, RESULTS_PATH\n",
    ")"
   ]
  },
  {
   "cell_type": "code",
   "execution_count": 27,
   "id": "f5fd4f62-8c24-4fa6-8905-e0318ef93bb0",
   "metadata": {},
   "outputs": [],
   "source": [
    "hyps = fn.read_results(\n",
    "    \"hyperparameters\", MARKET, regions, MASK_NAME,\n",
    "    FIRST_TRAIN_YEAR, LAST_TRAIN_YEAR, FIRST_TEST_YEAR, LAST_TEST_YEAR,\n",
    "    REMOVE_WEEKEND, REMOVE_XMAS, REMOVE_MONTH, N_FEATURES, RESULTS_PATH\n",
    ")"
   ]
  },
  {
   "cell_type": "markdown",
   "id": "802d83b3-6e97-4726-a35d-c12cc720e6e2",
   "metadata": {},
   "source": [
    "### Fit model"
   ]
  },
  {
   "cell_type": "code",
   "execution_count": 28,
   "id": "b476c9c7-6c03-4020-8548-92271e0b9a7a",
   "metadata": {},
   "outputs": [],
   "source": [
    "dem_da = xr.open_dataset(\"/g/data/w42/dr6273/work/projects/Aus_energy/data/energy_demand/daily_demand_2010-2020_stl.nc\")[\"demand_stl\"]\n",
    "dem_da = fn.remove_time(dem_da, REMOVE_WEEKEND, REMOVE_XMAS, REMOVE_MONTH)"
   ]
  },
  {
   "cell_type": "code",
   "execution_count": 29,
   "id": "e09f1e81-1ddf-4bbd-9d07-27109cd0e59b",
   "metadata": {},
   "outputs": [],
   "source": [
    "da_list = []\n",
    "for r in regions:\n",
    "     da_list.append(dem_da.sel(region=r).expand_dims({\"region\": [r]}))\n",
    "demand = xr.concat(da_list, \"region\")"
   ]
  },
  {
   "cell_type": "code",
   "execution_count": 30,
   "id": "143cd30b-39d7-45a0-9e23-c460110f4d46",
   "metadata": {},
   "outputs": [],
   "source": [
    "# Prepare predictors\n",
    "files = fn.get_predictor_files(MARKET, MASK_NAME)\n",
    "pred_ds = xr.open_mfdataset(files, combine=\"nested\", compat=\"override\")"
   ]
  },
  {
   "cell_type": "code",
   "execution_count": 34,
   "id": "1cfe840e-3556-4ee3-b4f0-19eba8fc4678",
   "metadata": {},
   "outputs": [
    {
     "name": "stdout",
     "output_type": "stream",
     "text": [
      "['t2m', 't2m3', 'cdd', 'hdd', 'cdd4', 'q', 'hdd4', 't2max', 't2min', 't2m4', 'msdwswrf', 'w10', 'mtpr']\n",
      "['t2m', 't2m3', 'q', 'hdd4', 't2max', 'cdd3', 'rh', 'msdwswrf']\n",
      "['t2m', 't2m3', 'q', 't2max', 't2m4', 'msdwswrf', 'w10']\n",
      "['t2m3', 'cdd', 'hdd', 't2max', 't2m4', 'msdwswrf', 'w10']\n",
      "['t2m3', 'cdd', 'q', 't2max', 't2m4', 'msdwswrf', 'w10']\n",
      "['t2m', 't2m3', 'rh', 'msdwswrf', 'w10']\n"
     ]
    }
   ],
   "source": [
    "# Prepare dataframe for machine learning\n",
    "region_dfs = {}\n",
    "for r in regions:\n",
    "    df = fn.to_dataframe(dem_da, pred_ds, r)\n",
    "    selected_preds = fn.parse_features(fn.sel_model(features[r])[\"feature_names\"])[:]\n",
    "    print(selected_preds[::-1])\n",
    "    df = df[[\"demand\"] + selected_preds[::-1]]\n",
    "    region_dfs[r] = df"
   ]
  },
  {
   "cell_type": "code",
   "execution_count": 36,
   "id": "50fce1df-93e7-4626-97ae-9cffa498c3d5",
   "metadata": {},
   "outputs": [],
   "source": [
    "models = {}\n",
    "\n",
    "for r in regions:\n",
    "    test_len = dem_da.sel(time=slice(str(FIRST_TEST_YEAR), str(LAST_TEST_YEAR))).time.values.shape[0]\n",
    "    \n",
    "    train_X, test_X, train_y, test_y = fn.split(\n",
    "        fn.sel_train_test(region_dfs[r], FIRST_TRAIN_YEAR, LAST_TEST_YEAR),\n",
    "        \"demand\",\n",
    "        test_size=test_len,\n",
    "        random_state=0,\n",
    "        shuffle=False\n",
    "    )\n",
    "    \n",
    "    # Finalise model\n",
    "    rf = ExtraTreesRegressor(\n",
    "        n_estimators=int(hyps[r].loc[\"n_estimators\"].values),\n",
    "        min_samples_leaf=int(hyps[r].loc[\"min_samples_leaf\"].values),\n",
    "        max_depth=int(hyps[r].loc[\"max_depth\"].values),\n",
    "        max_leaf_nodes=int(hyps[r].loc[\"max_leaf_nodes\"].values),\n",
    "        random_state=0,\n",
    "    )\n",
    "    \n",
    "    models[r], _ = fn.predict_forest(train_y, train_X, train_X, rf)"
   ]
  },
  {
   "cell_type": "code",
   "execution_count": 38,
   "id": "492a15a4-4089-427b-ba54-0ea8cb4b8c99",
   "metadata": {},
   "outputs": [
    {
     "data": {
      "text/html": [
       "<style>#sk-container-id-1 {color: black;}#sk-container-id-1 pre{padding: 0;}#sk-container-id-1 div.sk-toggleable {background-color: white;}#sk-container-id-1 label.sk-toggleable__label {cursor: pointer;display: block;width: 100%;margin-bottom: 0;padding: 0.3em;box-sizing: border-box;text-align: center;}#sk-container-id-1 label.sk-toggleable__label-arrow:before {content: \"▸\";float: left;margin-right: 0.25em;color: #696969;}#sk-container-id-1 label.sk-toggleable__label-arrow:hover:before {color: black;}#sk-container-id-1 div.sk-estimator:hover label.sk-toggleable__label-arrow:before {color: black;}#sk-container-id-1 div.sk-toggleable__content {max-height: 0;max-width: 0;overflow: hidden;text-align: left;background-color: #f0f8ff;}#sk-container-id-1 div.sk-toggleable__content pre {margin: 0.2em;color: black;border-radius: 0.25em;background-color: #f0f8ff;}#sk-container-id-1 input.sk-toggleable__control:checked~div.sk-toggleable__content {max-height: 200px;max-width: 100%;overflow: auto;}#sk-container-id-1 input.sk-toggleable__control:checked~label.sk-toggleable__label-arrow:before {content: \"▾\";}#sk-container-id-1 div.sk-estimator input.sk-toggleable__control:checked~label.sk-toggleable__label {background-color: #d4ebff;}#sk-container-id-1 div.sk-label input.sk-toggleable__control:checked~label.sk-toggleable__label {background-color: #d4ebff;}#sk-container-id-1 input.sk-hidden--visually {border: 0;clip: rect(1px 1px 1px 1px);clip: rect(1px, 1px, 1px, 1px);height: 1px;margin: -1px;overflow: hidden;padding: 0;position: absolute;width: 1px;}#sk-container-id-1 div.sk-estimator {font-family: monospace;background-color: #f0f8ff;border: 1px dotted black;border-radius: 0.25em;box-sizing: border-box;margin-bottom: 0.5em;}#sk-container-id-1 div.sk-estimator:hover {background-color: #d4ebff;}#sk-container-id-1 div.sk-parallel-item::after {content: \"\";width: 100%;border-bottom: 1px solid gray;flex-grow: 1;}#sk-container-id-1 div.sk-label:hover label.sk-toggleable__label {background-color: #d4ebff;}#sk-container-id-1 div.sk-serial::before {content: \"\";position: absolute;border-left: 1px solid gray;box-sizing: border-box;top: 0;bottom: 0;left: 50%;z-index: 0;}#sk-container-id-1 div.sk-serial {display: flex;flex-direction: column;align-items: center;background-color: white;padding-right: 0.2em;padding-left: 0.2em;position: relative;}#sk-container-id-1 div.sk-item {position: relative;z-index: 1;}#sk-container-id-1 div.sk-parallel {display: flex;align-items: stretch;justify-content: center;background-color: white;position: relative;}#sk-container-id-1 div.sk-item::before, #sk-container-id-1 div.sk-parallel-item::before {content: \"\";position: absolute;border-left: 1px solid gray;box-sizing: border-box;top: 0;bottom: 0;left: 50%;z-index: -1;}#sk-container-id-1 div.sk-parallel-item {display: flex;flex-direction: column;z-index: 1;position: relative;background-color: white;}#sk-container-id-1 div.sk-parallel-item:first-child::after {align-self: flex-end;width: 50%;}#sk-container-id-1 div.sk-parallel-item:last-child::after {align-self: flex-start;width: 50%;}#sk-container-id-1 div.sk-parallel-item:only-child::after {width: 0;}#sk-container-id-1 div.sk-dashed-wrapped {border: 1px dashed gray;margin: 0 0.4em 0.5em 0.4em;box-sizing: border-box;padding-bottom: 0.4em;background-color: white;}#sk-container-id-1 div.sk-label label {font-family: monospace;font-weight: bold;display: inline-block;line-height: 1.2em;}#sk-container-id-1 div.sk-label-container {text-align: center;}#sk-container-id-1 div.sk-container {/* jupyter's `normalize.less` sets `[hidden] { display: none; }` but bootstrap.min.css set `[hidden] { display: none !important; }` so we also need the `!important` here to be able to override the default hidden behavior on the sphinx rendered scikit-learn.org. See: https://github.com/scikit-learn/scikit-learn/issues/21755 */display: inline-block !important;position: relative;}#sk-container-id-1 div.sk-text-repr-fallback {display: none;}</style><div id=\"sk-container-id-1\" class=\"sk-top-container\"><div class=\"sk-text-repr-fallback\"><pre>ExtraTreesRegressor(max_depth=42, max_leaf_nodes=147, min_samples_leaf=6,\n",
       "                    n_estimators=398, random_state=0)</pre><b>In a Jupyter environment, please rerun this cell to show the HTML representation or trust the notebook. <br />On GitHub, the HTML representation is unable to render, please try loading this page with nbviewer.org.</b></div><div class=\"sk-container\" hidden><div class=\"sk-item\"><div class=\"sk-estimator sk-toggleable\"><input class=\"sk-toggleable__control sk-hidden--visually\" id=\"sk-estimator-id-1\" type=\"checkbox\" checked><label for=\"sk-estimator-id-1\" class=\"sk-toggleable__label sk-toggleable__label-arrow\">ExtraTreesRegressor</label><div class=\"sk-toggleable__content\"><pre>ExtraTreesRegressor(max_depth=42, max_leaf_nodes=147, min_samples_leaf=6,\n",
       "                    n_estimators=398, random_state=0)</pre></div></div></div></div></div>"
      ],
      "text/plain": [
       "ExtraTreesRegressor(max_depth=42, max_leaf_nodes=147, min_samples_leaf=6,\n",
       "                    n_estimators=398, random_state=0)"
      ]
     },
     "execution_count": 38,
     "metadata": {},
     "output_type": "execute_result"
    }
   ],
   "source": [
    "models[\"NSW\"]"
   ]
  },
  {
   "cell_type": "markdown",
   "id": "7fb9d571-b74b-4087-99b9-d36bfba0e7b3",
   "metadata": {},
   "source": [
    "### Prepare predictors from 1959"
   ]
  },
  {
   "cell_type": "code",
   "execution_count": 44,
   "id": "57fd88ce-4384-4935-ab64-6a031281410f",
   "metadata": {},
   "outputs": [],
   "source": [
    "x = pred_ds.sel(region=r).to_array(\"variable\").transpose()"
   ]
  },
  {
   "cell_type": "code",
   "execution_count": 45,
   "id": "9dd7edb8-8362-4876-9d3a-e21c66075d8e",
   "metadata": {},
   "outputs": [
    {
     "data": {
      "text/html": [
       "<div>\n",
       "<style scoped>\n",
       "    .dataframe tbody tr th:only-of-type {\n",
       "        vertical-align: middle;\n",
       "    }\n",
       "\n",
       "    .dataframe tbody tr th {\n",
       "        vertical-align: top;\n",
       "    }\n",
       "\n",
       "    .dataframe thead th {\n",
       "        text-align: right;\n",
       "    }\n",
       "</style>\n",
       "<table border=\"1\" class=\"dataframe\">\n",
       "  <thead>\n",
       "    <tr style=\"text-align: right;\">\n",
       "      <th></th>\n",
       "      <th>mtpr</th>\n",
       "      <th>w10</th>\n",
       "      <th>msdwswrf</th>\n",
       "      <th>rh</th>\n",
       "      <th>cdd3</th>\n",
       "      <th>t2m4</th>\n",
       "      <th>t2min</th>\n",
       "      <th>t2max</th>\n",
       "      <th>hdd4</th>\n",
       "      <th>q</th>\n",
       "      <th>cdd4</th>\n",
       "      <th>hdd</th>\n",
       "      <th>cdd</th>\n",
       "      <th>t2m3</th>\n",
       "      <th>hdd3</th>\n",
       "      <th>t2m</th>\n",
       "    </tr>\n",
       "  </thead>\n",
       "  <tbody>\n",
       "    <tr>\n",
       "      <th>1959-01-01</th>\n",
       "      <td>6.961498e-06</td>\n",
       "      <td>2.143507</td>\n",
       "      <td>295.833407</td>\n",
       "      <td>67.832597</td>\n",
       "      <td>NaN</td>\n",
       "      <td>NaN</td>\n",
       "      <td>NaN</td>\n",
       "      <td>NaN</td>\n",
       "      <td>NaN</td>\n",
       "      <td>7.165296</td>\n",
       "      <td>NaN</td>\n",
       "      <td>3.337329</td>\n",
       "      <td>-0.000056</td>\n",
       "      <td>NaN</td>\n",
       "      <td>NaN</td>\n",
       "      <td>287.809994</td>\n",
       "    </tr>\n",
       "    <tr>\n",
       "      <th>1959-01-02</th>\n",
       "      <td>4.138236e-06</td>\n",
       "      <td>1.547626</td>\n",
       "      <td>296.495098</td>\n",
       "      <td>68.295531</td>\n",
       "      <td>NaN</td>\n",
       "      <td>NaN</td>\n",
       "      <td>282.314842</td>\n",
       "      <td>291.004595</td>\n",
       "      <td>NaN</td>\n",
       "      <td>6.668263</td>\n",
       "      <td>NaN</td>\n",
       "      <td>4.492937</td>\n",
       "      <td>-0.000056</td>\n",
       "      <td>NaN</td>\n",
       "      <td>NaN</td>\n",
       "      <td>286.654383</td>\n",
       "    </tr>\n",
       "    <tr>\n",
       "      <th>1959-01-03</th>\n",
       "      <td>6.463298e-07</td>\n",
       "      <td>1.914627</td>\n",
       "      <td>336.022931</td>\n",
       "      <td>65.253390</td>\n",
       "      <td>-0.000056</td>\n",
       "      <td>NaN</td>\n",
       "      <td>283.028545</td>\n",
       "      <td>294.007927</td>\n",
       "      <td>NaN</td>\n",
       "      <td>7.098229</td>\n",
       "      <td>NaN</td>\n",
       "      <td>2.787199</td>\n",
       "      <td>-0.000056</td>\n",
       "      <td>287.607653</td>\n",
       "      <td>3.539570</td>\n",
       "      <td>288.360122</td>\n",
       "    </tr>\n",
       "    <tr>\n",
       "      <th>1959-01-04</th>\n",
       "      <td>7.133438e-07</td>\n",
       "      <td>3.561940</td>\n",
       "      <td>322.010753</td>\n",
       "      <td>66.016614</td>\n",
       "      <td>-0.000056</td>\n",
       "      <td>288.017412</td>\n",
       "      <td>283.832506</td>\n",
       "      <td>293.966743</td>\n",
       "      <td>3.129871</td>\n",
       "      <td>7.611438</td>\n",
       "      <td>-0.000056</td>\n",
       "      <td>1.900114</td>\n",
       "      <td>-0.000056</td>\n",
       "      <td>288.086819</td>\n",
       "      <td>3.060498</td>\n",
       "      <td>289.247497</td>\n",
       "    </tr>\n",
       "    <tr>\n",
       "      <th>1959-01-05</th>\n",
       "      <td>3.009269e-06</td>\n",
       "      <td>3.646212</td>\n",
       "      <td>329.861403</td>\n",
       "      <td>70.886509</td>\n",
       "      <td>-0.000056</td>\n",
       "      <td>289.015338</td>\n",
       "      <td>287.486882</td>\n",
       "      <td>297.136628</td>\n",
       "      <td>2.320323</td>\n",
       "      <td>9.611721</td>\n",
       "      <td>-0.000056</td>\n",
       "      <td>0.099138</td>\n",
       "      <td>-0.000056</td>\n",
       "      <td>289.802591</td>\n",
       "      <td>1.595898</td>\n",
       "      <td>291.801697</td>\n",
       "    </tr>\n",
       "    <tr>\n",
       "      <th>...</th>\n",
       "      <td>...</td>\n",
       "      <td>...</td>\n",
       "      <td>...</td>\n",
       "      <td>...</td>\n",
       "      <td>...</td>\n",
       "      <td>...</td>\n",
       "      <td>...</td>\n",
       "      <td>...</td>\n",
       "      <td>...</td>\n",
       "      <td>...</td>\n",
       "      <td>...</td>\n",
       "      <td>...</td>\n",
       "      <td>...</td>\n",
       "      <td>...</td>\n",
       "      <td>...</td>\n",
       "      <td>...</td>\n",
       "    </tr>\n",
       "    <tr>\n",
       "      <th>2022-12-27</th>\n",
       "      <td>1.076402e-05</td>\n",
       "      <td>3.540114</td>\n",
       "      <td>336.674630</td>\n",
       "      <td>57.457803</td>\n",
       "      <td>0.187025</td>\n",
       "      <td>291.605356</td>\n",
       "      <td>291.101700</td>\n",
       "      <td>302.260550</td>\n",
       "      <td>1.065333</td>\n",
       "      <td>10.546278</td>\n",
       "      <td>0.140283</td>\n",
       "      <td>0.002582</td>\n",
       "      <td>0.560964</td>\n",
       "      <td>292.559360</td>\n",
       "      <td>0.617335</td>\n",
       "      <td>296.664633</td>\n",
       "    </tr>\n",
       "    <tr>\n",
       "      <th>2022-12-28</th>\n",
       "      <td>6.566586e-06</td>\n",
       "      <td>3.352393</td>\n",
       "      <td>270.689053</td>\n",
       "      <td>62.519901</td>\n",
       "      <td>0.187025</td>\n",
       "      <td>291.121505</td>\n",
       "      <td>281.360945</td>\n",
       "      <td>295.255835</td>\n",
       "      <td>1.549175</td>\n",
       "      <td>6.175383</td>\n",
       "      <td>0.140283</td>\n",
       "      <td>4.345357</td>\n",
       "      <td>0.000056</td>\n",
       "      <td>291.481027</td>\n",
       "      <td>1.695494</td>\n",
       "      <td>286.807123</td>\n",
       "    </tr>\n",
       "    <tr>\n",
       "      <th>2022-12-29</th>\n",
       "      <td>-4.658816e-07</td>\n",
       "      <td>1.758395</td>\n",
       "      <td>281.512600</td>\n",
       "      <td>65.667224</td>\n",
       "      <td>0.187025</td>\n",
       "      <td>290.382313</td>\n",
       "      <td>281.876394</td>\n",
       "      <td>291.125878</td>\n",
       "      <td>2.288237</td>\n",
       "      <td>6.549033</td>\n",
       "      <td>0.140283</td>\n",
       "      <td>4.067125</td>\n",
       "      <td>0.000056</td>\n",
       "      <td>290.186211</td>\n",
       "      <td>2.804607</td>\n",
       "      <td>287.085357</td>\n",
       "    </tr>\n",
       "    <tr>\n",
       "      <th>2022-12-30</th>\n",
       "      <td>1.613845e-05</td>\n",
       "      <td>3.059278</td>\n",
       "      <td>249.934595</td>\n",
       "      <td>76.733655</td>\n",
       "      <td>0.000056</td>\n",
       "      <td>290.091305</td>\n",
       "      <td>287.808120</td>\n",
       "      <td>293.266439</td>\n",
       "      <td>2.440684</td>\n",
       "      <td>9.237493</td>\n",
       "      <td>0.140283</td>\n",
       "      <td>1.349576</td>\n",
       "      <td>0.000056</td>\n",
       "      <td>287.899934</td>\n",
       "      <td>3.253604</td>\n",
       "      <td>289.805775</td>\n",
       "    </tr>\n",
       "    <tr>\n",
       "      <th>2022-12-31</th>\n",
       "      <td>6.045184e-06</td>\n",
       "      <td>3.368508</td>\n",
       "      <td>299.576647</td>\n",
       "      <td>71.142587</td>\n",
       "      <td>0.000056</td>\n",
       "      <td>288.979568</td>\n",
       "      <td>287.877199</td>\n",
       "      <td>297.156186</td>\n",
       "      <td>2.455304</td>\n",
       "      <td>9.996925</td>\n",
       "      <td>0.000056</td>\n",
       "      <td>0.061065</td>\n",
       "      <td>0.000056</td>\n",
       "      <td>289.703445</td>\n",
       "      <td>1.825507</td>\n",
       "      <td>292.217656</td>\n",
       "    </tr>\n",
       "  </tbody>\n",
       "</table>\n",
       "<p>23376 rows × 16 columns</p>\n",
       "</div>"
      ],
      "text/plain": [
       "                    mtpr       w10    msdwswrf         rh      cdd3  \\\n",
       "1959-01-01  6.961498e-06  2.143507  295.833407  67.832597       NaN   \n",
       "1959-01-02  4.138236e-06  1.547626  296.495098  68.295531       NaN   \n",
       "1959-01-03  6.463298e-07  1.914627  336.022931  65.253390 -0.000056   \n",
       "1959-01-04  7.133438e-07  3.561940  322.010753  66.016614 -0.000056   \n",
       "1959-01-05  3.009269e-06  3.646212  329.861403  70.886509 -0.000056   \n",
       "...                  ...       ...         ...        ...       ...   \n",
       "2022-12-27  1.076402e-05  3.540114  336.674630  57.457803  0.187025   \n",
       "2022-12-28  6.566586e-06  3.352393  270.689053  62.519901  0.187025   \n",
       "2022-12-29 -4.658816e-07  1.758395  281.512600  65.667224  0.187025   \n",
       "2022-12-30  1.613845e-05  3.059278  249.934595  76.733655  0.000056   \n",
       "2022-12-31  6.045184e-06  3.368508  299.576647  71.142587  0.000056   \n",
       "\n",
       "                  t2m4       t2min       t2max      hdd4          q      cdd4  \\\n",
       "1959-01-01         NaN         NaN         NaN       NaN   7.165296       NaN   \n",
       "1959-01-02         NaN  282.314842  291.004595       NaN   6.668263       NaN   \n",
       "1959-01-03         NaN  283.028545  294.007927       NaN   7.098229       NaN   \n",
       "1959-01-04  288.017412  283.832506  293.966743  3.129871   7.611438 -0.000056   \n",
       "1959-01-05  289.015338  287.486882  297.136628  2.320323   9.611721 -0.000056   \n",
       "...                ...         ...         ...       ...        ...       ...   \n",
       "2022-12-27  291.605356  291.101700  302.260550  1.065333  10.546278  0.140283   \n",
       "2022-12-28  291.121505  281.360945  295.255835  1.549175   6.175383  0.140283   \n",
       "2022-12-29  290.382313  281.876394  291.125878  2.288237   6.549033  0.140283   \n",
       "2022-12-30  290.091305  287.808120  293.266439  2.440684   9.237493  0.140283   \n",
       "2022-12-31  288.979568  287.877199  297.156186  2.455304   9.996925  0.000056   \n",
       "\n",
       "                 hdd       cdd        t2m3      hdd3         t2m  \n",
       "1959-01-01  3.337329 -0.000056         NaN       NaN  287.809994  \n",
       "1959-01-02  4.492937 -0.000056         NaN       NaN  286.654383  \n",
       "1959-01-03  2.787199 -0.000056  287.607653  3.539570  288.360122  \n",
       "1959-01-04  1.900114 -0.000056  288.086819  3.060498  289.247497  \n",
       "1959-01-05  0.099138 -0.000056  289.802591  1.595898  291.801697  \n",
       "...              ...       ...         ...       ...         ...  \n",
       "2022-12-27  0.002582  0.560964  292.559360  0.617335  296.664633  \n",
       "2022-12-28  4.345357  0.000056  291.481027  1.695494  286.807123  \n",
       "2022-12-29  4.067125  0.000056  290.186211  2.804607  287.085357  \n",
       "2022-12-30  1.349576  0.000056  287.899934  3.253604  289.805775  \n",
       "2022-12-31  0.061065  0.000056  289.703445  1.825507  292.217656  \n",
       "\n",
       "[23376 rows x 16 columns]"
      ]
     },
     "execution_count": 45,
     "metadata": {},
     "output_type": "execute_result"
    }
   ],
   "source": [
    "pd.DataFrame(\n",
    "    x,\n",
    "    columns=x[\"variable\"],\n",
    "    index=x[\"time\"]\n",
    ")"
   ]
  },
  {
   "cell_type": "code",
   "execution_count": 61,
   "id": "04a0006b-1824-4f16-8ae8-eb8e4ee12ff2",
   "metadata": {},
   "outputs": [
    {
     "name": "stdout",
     "output_type": "stream",
     "text": [
      "['t2m', 't2m3', 'cdd', 'hdd', 'cdd4', 'q', 'hdd4', 't2max', 't2min', 't2m4', 'msdwswrf', 'w10', 'mtpr']\n",
      "['t2m', 't2m3', 'q', 'hdd4', 't2max', 'cdd3', 'rh', 'msdwswrf']\n",
      "['t2m', 't2m3', 'q', 't2max', 't2m4', 'msdwswrf', 'w10']\n",
      "['t2m3', 'cdd', 'hdd', 't2max', 't2m4', 'msdwswrf', 'w10']\n",
      "['t2m3', 'cdd', 'q', 't2max', 't2m4', 'msdwswrf', 'w10']\n",
      "['t2m', 't2m3', 'rh', 'msdwswrf', 'w10']\n"
     ]
    }
   ],
   "source": [
    "# Prepare dataframe for machine learning\n",
    "predictions = {}\n",
    "\n",
    "for r in regions:\n",
    "    pred_arr = pred_ds.sel(region=r).to_array(\"variable\")\n",
    "    df = pd.DataFrame(\n",
    "        pred_arr.transpose(),\n",
    "        columns=pred_arr[\"variable\"],\n",
    "        index=pred_arr[\"time\"]\n",
    "    )\n",
    "    selected_preds = fn.parse_features(fn.sel_model(features[r])[\"feature_names\"])[:]\n",
    "    print(selected_preds[::-1])\n",
    "    df = df[selected_preds[::-1]]\n",
    "    \n",
    "    df = df.dropna()\n",
    "    \n",
    "    model = models[r]\n",
    "    df[\"prediction\"] = model.predict(np.array(df))\n",
    "    predictions[r] = df\n",
    "    \n",
    "    filename = fn.get_filename(\n",
    "        \"extrapolated\", MARKET, r, MASK_NAME,\n",
    "        FIRST_TRAIN_YEAR, LAST_TRAIN_YEAR, \"1959\", \"2022\",\n",
    "        REMOVE_WEEKEND, REMOVE_XMAS, REMOVE_MONTH, N_FEATURES\n",
    "    )\n",
    "    df.to_csv(\n",
    "        RESULTS_PATH + \"/extrapolated/random_forest/\" + filename + \".csv\",\n",
    "    )"
   ]
  }
 ],
 "metadata": {
  "kernelspec": {
   "display_name": "Python (pangeo_ML)",
   "language": "python",
   "name": "pangeo_ml"
  },
  "language_info": {
   "codemirror_mode": {
    "name": "ipython",
    "version": 3
   },
   "file_extension": ".py",
   "mimetype": "text/x-python",
   "name": "python",
   "nbconvert_exporter": "python",
   "pygments_lexer": "ipython3",
   "version": "3.10.8"
  }
 },
 "nbformat": 4,
 "nbformat_minor": 5
}
