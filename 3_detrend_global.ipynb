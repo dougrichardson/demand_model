{
 "cells": [
  {
   "cell_type": "markdown",
   "id": "ec94d82c-6fd6-45a0-bbc9-beb1a8554590",
   "metadata": {},
   "source": [
    "# Detrend some variables on global grid"
   ]
  },
  {
   "cell_type": "markdown",
   "id": "dc04c4d5-60f4-426e-a8c7-53f944000076",
   "metadata": {},
   "source": [
    "We do this in a separate notebook because it requires a few steps and quite a bit of resource."
   ]
  },
  {
   "cell_type": "code",
   "execution_count": 1,
   "id": "63d3b1ac-6749-4742-9557-b65c4c30d0b1",
   "metadata": {},
   "outputs": [],
   "source": [
    "from dask.distributed import Client,LocalCluster\n",
    "from dask_jobqueue import PBSCluster\n",
    "\n",
    "import bottleneck"
   ]
  },
  {
   "cell_type": "code",
   "execution_count": 2,
   "id": "87028d02-fea0-49be-baae-624b9bfbb2de",
   "metadata": {},
   "outputs": [
    {
     "name": "stderr",
     "output_type": "stream",
     "text": [
      "/g/data/w42/dr6273/apps/conda/envs/pangeo/lib/python3.10/site-packages/distributed/node.py:182: UserWarning: Port 8787 is already in use.\n",
      "Perhaps you already have a cluster running?\n",
      "Hosting the HTTP server on port 41991 instead\n",
      "  warnings.warn(\n"
     ]
    }
   ],
   "source": [
    "# One node on Gadi has 48 cores - try and use up a full node before going to multiple nodes (jobs)\n",
    "\n",
    "walltime = \"04:00:00\"\n",
    "cores = 24\n",
    "memory = str(4 * cores) + \"GB\"\n",
    "\n",
    "cluster = PBSCluster(walltime=str(walltime), cores=cores, memory=str(memory), processes=cores,\n",
    "                                          \n",
    "                     job_extra_directives=[\"-q normal\",\n",
    "                                           \"-P w42\",\n",
    "                                           \"-l ncpus=\"+str(cores),\n",
    "                                           \"-l mem=\"+str(memory),\n",
    "                                           \"-l storage=gdata/w42+gdata/rt52\"],\n",
    "                     local_directory=\"$TMPDIR\",\n",
    "                     job_directives_skip=[\"select\"])"
   ]
  },
  {
   "cell_type": "code",
   "execution_count": 3,
   "id": "29ea0ce5-c620-46ee-b694-c0b725ece4e9",
   "metadata": {},
   "outputs": [],
   "source": [
    "cluster.scale(jobs=1)\n",
    "client = Client(cluster)"
   ]
  },
  {
   "cell_type": "code",
   "execution_count": 4,
   "id": "e9cbb223-c9a6-4610-9fea-1f694e19cbcc",
   "metadata": {},
   "outputs": [
    {
     "data": {
      "text/html": [
       "<div>\n",
       "    <div style=\"width: 24px; height: 24px; background-color: #e1e1e1; border: 3px solid #9D9D9D; border-radius: 5px; position: absolute;\"> </div>\n",
       "    <div style=\"margin-left: 48px;\">\n",
       "        <h3 style=\"margin-bottom: 0px;\">Client</h3>\n",
       "        <p style=\"color: #9D9D9D; margin-bottom: 0px;\">Client-d34c2366-2071-11ee-9921-00000745fe80</p>\n",
       "        <table style=\"width: 100%; text-align: left;\">\n",
       "\n",
       "        <tr>\n",
       "        \n",
       "            <td style=\"text-align: left;\"><strong>Connection method:</strong> Cluster object</td>\n",
       "            <td style=\"text-align: left;\"><strong>Cluster type:</strong> dask_jobqueue.PBSCluster</td>\n",
       "        \n",
       "        </tr>\n",
       "\n",
       "        \n",
       "            <tr>\n",
       "                <td style=\"text-align: left;\">\n",
       "                    <strong>Dashboard: </strong> <a href=\"/proxy/41991/status\" target=\"_blank\">/proxy/41991/status</a>\n",
       "                </td>\n",
       "                <td style=\"text-align: left;\"></td>\n",
       "            </tr>\n",
       "        \n",
       "\n",
       "        </table>\n",
       "\n",
       "        \n",
       "            <button style=\"margin-bottom: 12px;\" data-commandlinker-command=\"dask:populate-and-launch-layout\" data-commandlinker-args='{\"url\": \"/proxy/41991/status\" }'>\n",
       "                Launch dashboard in JupyterLab\n",
       "            </button>\n",
       "        \n",
       "\n",
       "        \n",
       "            <details>\n",
       "            <summary style=\"margin-bottom: 20px;\"><h3 style=\"display: inline;\">Cluster Info</h3></summary>\n",
       "            <div class=\"jp-RenderedHTMLCommon jp-RenderedHTML jp-mod-trusted jp-OutputArea-output\">\n",
       "    <div style=\"width: 24px; height: 24px; background-color: #e1e1e1; border: 3px solid #9D9D9D; border-radius: 5px; position: absolute;\">\n",
       "    </div>\n",
       "    <div style=\"margin-left: 48px;\">\n",
       "        <h3 style=\"margin-bottom: 0px; margin-top: 0px;\">PBSCluster</h3>\n",
       "        <p style=\"color: #9D9D9D; margin-bottom: 0px;\">3233145a</p>\n",
       "        <table style=\"width: 100%; text-align: left;\">\n",
       "            <tr>\n",
       "                <td style=\"text-align: left;\">\n",
       "                    <strong>Dashboard:</strong> <a href=\"/proxy/41991/status\" target=\"_blank\">/proxy/41991/status</a>\n",
       "                </td>\n",
       "                <td style=\"text-align: left;\">\n",
       "                    <strong>Workers:</strong> 0\n",
       "                </td>\n",
       "            </tr>\n",
       "            <tr>\n",
       "                <td style=\"text-align: left;\">\n",
       "                    <strong>Total threads:</strong> 0\n",
       "                </td>\n",
       "                <td style=\"text-align: left;\">\n",
       "                    <strong>Total memory:</strong> 0 B\n",
       "                </td>\n",
       "            </tr>\n",
       "            \n",
       "        </table>\n",
       "\n",
       "        <details>\n",
       "            <summary style=\"margin-bottom: 20px;\">\n",
       "                <h3 style=\"display: inline;\">Scheduler Info</h3>\n",
       "            </summary>\n",
       "\n",
       "            <div style=\"\">\n",
       "    <div>\n",
       "        <div style=\"width: 24px; height: 24px; background-color: #FFF7E5; border: 3px solid #FF6132; border-radius: 5px; position: absolute;\"> </div>\n",
       "        <div style=\"margin-left: 48px;\">\n",
       "            <h3 style=\"margin-bottom: 0px;\">Scheduler</h3>\n",
       "            <p style=\"color: #9D9D9D; margin-bottom: 0px;\">Scheduler-f8b77c47-50a5-4fe3-a184-903270d4d09d</p>\n",
       "            <table style=\"width: 100%; text-align: left;\">\n",
       "                <tr>\n",
       "                    <td style=\"text-align: left;\">\n",
       "                        <strong>Comm:</strong> tcp://10.6.121.33:35053\n",
       "                    </td>\n",
       "                    <td style=\"text-align: left;\">\n",
       "                        <strong>Workers:</strong> 0\n",
       "                    </td>\n",
       "                </tr>\n",
       "                <tr>\n",
       "                    <td style=\"text-align: left;\">\n",
       "                        <strong>Dashboard:</strong> <a href=\"/proxy/41991/status\" target=\"_blank\">/proxy/41991/status</a>\n",
       "                    </td>\n",
       "                    <td style=\"text-align: left;\">\n",
       "                        <strong>Total threads:</strong> 0\n",
       "                    </td>\n",
       "                </tr>\n",
       "                <tr>\n",
       "                    <td style=\"text-align: left;\">\n",
       "                        <strong>Started:</strong> Just now\n",
       "                    </td>\n",
       "                    <td style=\"text-align: left;\">\n",
       "                        <strong>Total memory:</strong> 0 B\n",
       "                    </td>\n",
       "                </tr>\n",
       "            </table>\n",
       "        </div>\n",
       "    </div>\n",
       "\n",
       "    <details style=\"margin-left: 48px;\">\n",
       "        <summary style=\"margin-bottom: 20px;\">\n",
       "            <h3 style=\"display: inline;\">Workers</h3>\n",
       "        </summary>\n",
       "\n",
       "        \n",
       "\n",
       "    </details>\n",
       "</div>\n",
       "\n",
       "        </details>\n",
       "    </div>\n",
       "</div>\n",
       "            </details>\n",
       "        \n",
       "\n",
       "    </div>\n",
       "</div>"
      ],
      "text/plain": [
       "<Client: 'tcp://10.6.121.33:35053' processes=0 threads=0, memory=0 B>"
      ]
     },
     "execution_count": 4,
     "metadata": {},
     "output_type": "execute_result"
    }
   ],
   "source": [
    "client"
   ]
  },
  {
   "cell_type": "code",
   "execution_count": 5,
   "id": "e414843a-aa25-4e45-82ee-f6bff1db789f",
   "metadata": {},
   "outputs": [],
   "source": [
    "import xarray as xr"
   ]
  },
  {
   "cell_type": "code",
   "execution_count": 6,
   "id": "9ad0cf44-7588-4583-bf2b-6f818b021dff",
   "metadata": {},
   "outputs": [
    {
     "name": "stdout",
     "output_type": "stream",
     "text": [
      "/g/data/w42/dr6273/work/demand_model\n"
     ]
    }
   ],
   "source": [
    "%cd /g/data/w42/dr6273/work/demand_model//\n",
    "\n",
    "import functions as fn"
   ]
  },
  {
   "cell_type": "code",
   "execution_count": 7,
   "id": "f6750b22-6b23-49f4-9881-f2075782b4b6",
   "metadata": {},
   "outputs": [],
   "source": [
    "era_path = \"/g/data/w42/dr6273/work/data/era5/\""
   ]
  },
  {
   "cell_type": "markdown",
   "id": "9f68551e-f6fc-44f6-9eeb-f97abdfac5ec",
   "metadata": {},
   "source": [
    "### First open the daily files, rechunk and store as zarr\n",
    "\n",
    "I used 3 full nodes for this - takes a couple of minutes."
   ]
  },
  {
   "cell_type": "code",
   "execution_count": 51,
   "id": "72cda0fb-2888-414f-a67b-8ece223ba0f4",
   "metadata": {
    "tags": []
   },
   "outputs": [],
   "source": [
    "# Need to chunk when we open these files!\n",
    "T = xr.open_mfdataset(era_path+\"2t/daily/*.nc\", chunks={\"time\": 500, \"latitude\": 500, \"longitude\": 300})"
   ]
  },
  {
   "cell_type": "code",
   "execution_count": 52,
   "id": "8798b112-573d-4afc-9327-eee4c1f6e744",
   "metadata": {},
   "outputs": [
    {
     "data": {
      "text/plain": [
       "90.41259867325425"
      ]
     },
     "execution_count": 52,
     "metadata": {},
     "output_type": "execute_result"
    }
   ],
   "source": [
    "T.nbytes / 1024 ** 3"
   ]
  },
  {
   "cell_type": "code",
   "execution_count": 53,
   "id": "05390863-bc26-419d-8940-8bbbea81a5f2",
   "metadata": {},
   "outputs": [],
   "source": [
    "T = T.chunk({\"time\": -1, \"latitude\": 50, \"longitude\": 50})"
   ]
  },
  {
   "cell_type": "code",
   "execution_count": 55,
   "id": "6591c6de-4797-49ef-8d24-85a5f6017dcb",
   "metadata": {},
   "outputs": [
    {
     "data": {
      "text/plain": [
       "<xarray.backends.zarr.ZarrStore at 0x147775e58660>"
      ]
     },
     "execution_count": 55,
     "metadata": {},
     "output_type": "execute_result"
    }
   ],
   "source": [
    "T.to_zarr(\n",
    "    \"/scratch/w42/dr6273/tmp/2t_era5_daily_1959-2022.zarr\",\n",
    "    mode=\"w\",\n",
    "    consolidated=True\n",
    ")"
   ]
  },
  {
   "cell_type": "markdown",
   "id": "069b3ddc-b684-4e2a-b9e9-a5f4c7c48e30",
   "metadata": {},
   "source": [
    "### Now process one latitude at a time, and append to a zarr store\n",
    "\n",
    "24 cores."
   ]
  },
  {
   "cell_type": "code",
   "execution_count": 8,
   "id": "617a7b92-c680-486e-b809-4cd699eab070",
   "metadata": {},
   "outputs": [],
   "source": [
    "T = xr.open_zarr(\n",
    "    \"/scratch/w42/dr6273/tmp/2t_era5_daily_1959-2022.zarr\",\n",
    "    consolidated=True,\n",
    "    # chunks={\"time\": -1, \"latitude\": 1}\n",
    ")"
   ]
  },
  {
   "cell_type": "code",
   "execution_count": null,
   "id": "4948d6b2-5169-4a0a-925a-dfc2a6a9e31c",
   "metadata": {
    "tags": []
   },
   "outputs": [],
   "source": [
    "%%time\n",
    "for i in range(len(T[\"latitude\"].values)):\n",
    "    lat = T[\"latitude\"].values[i]\n",
    "    T_ = T.isel(latitude=i)\n",
    "    \n",
    "    # detrended = data - fit + mean\n",
    "    Tmean = T_[\"t2m\"].mean(\"time\")\n",
    "    Tfit = fn.detrend_dim(T_[\"t2m\"], \"time\").astype(\"float32\")\n",
    "    Tdt = Tfit + Tmean\n",
    "    \n",
    "    Tdt = Tdt.to_dataset(name=\"t2m\")\n",
    "    Tdt = Tdt.expand_dims({\"latitude\": [lat]})\n",
    "    Tdt = Tdt.chunk({\"time\": -1, \"longitude\": -1})\n",
    "    \n",
    "    if i == 0:\n",
    "        Tdt.to_zarr(\n",
    "            \"/scratch/w42/dr6273/tmp/2t_detrended_era5_daily_1959-2022_by_lat.zarr\",\n",
    "            mode=\"w\",\n",
    "            consolidated=True\n",
    "        )\n",
    "    else:\n",
    "        Tdt.to_zarr(\n",
    "            \"/scratch/w42/dr6273/tmp/2t_detrended_era5_daily_1959-2022_by_lat.zarr\",\n",
    "            mode=\"a\",\n",
    "            append_dim=\"latitude\",\n",
    "            consolidated=True\n",
    "        )"
   ]
  },
  {
   "cell_type": "code",
   "execution_count": 10,
   "id": "03fd4641-db4c-4484-9c68-6622ca82ceeb",
   "metadata": {
    "tags": []
   },
   "outputs": [],
   "source": [
    "test = xr.open_zarr(\n",
    "            \"/scratch/w42/dr6273/tmp/2t_detrended_era5_daily_1959-2022_by_lat.zarr\",\n",
    "            consolidated=True\n",
    "        )"
   ]
  },
  {
   "cell_type": "code",
   "execution_count": 11,
   "id": "3ecd5915-0164-4f25-aa33-d94ad9fff136",
   "metadata": {},
   "outputs": [
    {
     "data": {
      "text/plain": [
       "[<matplotlib.lines.Line2D at 0x152b8beb3d60>]"
      ]
     },
     "execution_count": 11,
     "metadata": {},
     "output_type": "execute_result"
    },
    {
     "data": {
      "image/png": "[encoded data removed]",
      "text/plain": [
       "<Figure size 640x480 with 1 Axes>"
      ]
     },
     "metadata": {},
     "output_type": "display_data"
    }
   ],
   "source": [
    "T.sel(latitude=90, longitude=155, time=slice(\"2010\", \"2022\")).t2m.plot()\n",
    "test.sel(latitude=90, longitude=155, time=slice(\"2010\", \"2022\")).t2m.plot()"
   ]
  },
  {
   "cell_type": "code",
   "execution_count": null,
   "id": "103d343c-dae3-4f2f-85f9-79d9560154cd",
   "metadata": {},
   "outputs": [],
   "source": []
  }
 ],
 "metadata": {
  "kernelspec": {
   "display_name": "Python (pangeo)",
   "language": "python",
   "name": "pangeo"
  },
  "language_info": {
   "codemirror_mode": {
    "name": "ipython",
    "version": 3
   },
   "file_extension": ".py",
   "mimetype": "text/x-python",
   "name": "python",
   "nbconvert_exporter": "python",
   "pygments_lexer": "ipython3",
   "version": "3.10.8"
  }
 },
 "nbformat": 4,
 "nbformat_minor": 5
}
