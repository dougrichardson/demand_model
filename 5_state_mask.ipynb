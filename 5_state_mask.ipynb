{
 "cells": [
  {
   "cell_type": "markdown",
   "id": "c6bb5367-48c5-47df-8bb1-2dca86903ee8",
   "metadata": {},
   "source": [
    "# Australia state and territory mask"
   ]
  },
  {
   "cell_type": "markdown",
   "id": "4c907d16-2d20-40b4-9988-d9c5bcf9e645",
   "metadata": {},
   "source": [
    "State boundaries from ABS: https://www.abs.gov.au/statistics/standards/australian-statistical-geography-standard-asgs-edition-3/jul2021-jun2026/access-and-downloads/digital-boundary-files"
   ]
  },
  {
   "cell_type": "code",
   "execution_count": null,
   "id": "1ef803ee-bc94-4202-9315-40d22efccb00",
   "metadata": {},
   "outputs": [],
   "source": [
    "import geopandas\n",
    "import regionmask"
   ]
  }
 ],
 "metadata": {
  "kernelspec": {
   "display_name": "Python (pangeo)",
   "language": "python",
   "name": "pangeo"
  },
  "language_info": {
   "codemirror_mode": {
    "name": "ipython",
    "version": 3
   },
   "file_extension": ".py",
   "mimetype": "text/x-python",
   "name": "python",
   "nbconvert_exporter": "python",
   "pygments_lexer": "ipython3",
   "version": "3.10.8"
  }
 },
 "nbformat": 4,
 "nbformat_minor": 5
}
