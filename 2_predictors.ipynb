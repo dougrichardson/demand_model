{
 "cells": [
  {
   "cell_type": "markdown",
   "id": "ae9966b9-bd5f-4389-99e3-3f3d334bd2ea",
   "metadata": {},
   "source": [
    "# Predictors of model"
   ]
  },
  {
   "cell_type": "markdown",
   "id": "635509f5-b2d2-4e18-a998-a1783b88baa9",
   "metadata": {},
   "source": [
    "What climate metrics might affect energy demand?"
   ]
  },
  {
   "cell_type": "markdown",
   "id": "5a789823-86ca-4ace-99f2-2db44968a49c",
   "metadata": {},
   "source": [
    "Bloomfield et al (2019) https://rmets.onlinelibrary.wiley.com/doi/10.1002/met.1858 :\n",
    "- Heating Degree Days (based on daily mean T)\n",
    "- Cooling Degree Days (based on daily mean T)"
   ]
  },
  {
   "cell_type": "markdown",
   "id": "69316318-9883-411e-b4ca-83289aa4818d",
   "metadata": {},
   "source": [
    "van der Wiel et al (2019) https://www.sciencedirect.com/science/article/pii/S1364032119302862#sec3 :\n",
    "- Daily mean temperature (two linear regimes combined)"
   ]
  },
  {
   "cell_type": "markdown",
   "id": "8a5cff34-9ef0-4bb6-946a-3eb4dd72c10f",
   "metadata": {},
   "source": [
    "Kang & Reiner (2022) https://www.sciencedirect.com/science/article/pii/S014098832200189X :\n",
    "- This study is from Ireland\n",
    "- Number of sun hours\n",
    "- Wind speed, humidity (less important than T)\n",
    "- Rainfall (affects length of time spent indoors)"
   ]
  },
  {
   "cell_type": "markdown",
   "id": "c7af11c7-cda5-4765-b10d-3656e807b1f3",
   "metadata": {},
   "source": [
    "Me spitballing:\n",
    "- Maximum daily T\n",
    "- Minimum daily T\n",
    "- Humidity (daily average and/or overnight?)\n",
    "- Heatwaves (e.g. EHF or even just 3-day T?)"
   ]
  },
  {
   "cell_type": "markdown",
   "id": "c8189ad1-ed89-4ad7-9ad2-d071b719804a",
   "metadata": {},
   "source": [
    "Also useful read: https://www.energycouncil.com.au/media/mejc2mfz/extreme-weather-and-electricity-supply.pdf\n",
    "- Heatwaves in multiple states (might not affect demand though, just ability to supply)\n",
    "- Demand peaks in 3rd and 4th day of a heatwave (so 4-day T?)\n",
    "- Cloud cover (affects demand on grid by reducing rooftop solar's ability to smooth the peaks)"
   ]
  },
  {
   "cell_type": "markdown",
   "id": "2234608f-ac8e-4a75-9e43-f9b05cc27129",
   "metadata": {},
   "source": [
    "Could also consider:\n",
    "- weighting the selected metrics by population (we eventually want state and national figures)\n",
    "- Detrending everything, including demand."
   ]
  },
  {
   "cell_type": "code",
   "execution_count": 1,
   "id": "19680ff7-5eb2-4989-b8fa-713399585b3f",
   "metadata": {},
   "outputs": [],
   "source": [
    "from dask.distributed import Client,LocalCluster\n",
    "from dask_jobqueue import PBSCluster"
   ]
  },
  {
   "cell_type": "code",
   "execution_count": 2,
   "id": "76d23f9e-dad1-4fd6-8e50-718f0e69a54e",
   "metadata": {},
   "outputs": [],
   "source": [
    "# One node on Gadi has 48 cores - try and use up a full node before going to multiple nodes (jobs)\n",
    "\n",
    "walltime = \"05:00:00\"\n",
    "cores = 24\n",
    "memory = str(4 * cores) + \"GB\"\n",
    "\n",
    "cluster = PBSCluster(walltime=str(walltime), cores=cores, memory=str(memory), processes=cores,\n",
    "                     job_extra_directives=[\"-q normal\",\n",
    "                                           \"-P w42\",\n",
    "                                           \"-l ncpus=\"+str(cores),\n",
    "                                           \"-l mem=\"+str(memory),\n",
    "                                           \"-l storage=gdata/w42+gdata/rt52\"],\n",
    "                     local_directory=\"$TMPDIR\",\n",
    "                     job_directives_skip=[\"select\"])"
   ]
  },
  {
   "cell_type": "code",
   "execution_count": 3,
   "id": "051a0c91-3395-4d56-ba4e-9c1f686cd031",
   "metadata": {},
   "outputs": [],
   "source": [
    "cluster.scale(jobs=1)\n",
    "client = Client(cluster)"
   ]
  },
  {
   "cell_type": "code",
   "execution_count": 4,
   "id": "62f69630-f688-4422-892e-0c3a56016809",
   "metadata": {},
   "outputs": [
    {
     "data": {
      "text/html": [
       "<div>\n",
       "    <div style=\"width: 24px; height: 24px; background-color: #e1e1e1; border: 3px solid #9D9D9D; border-radius: 5px; position: absolute;\"> </div>\n",
       "    <div style=\"margin-left: 48px;\">\n",
       "        <h3 style=\"margin-bottom: 0px;\">Client</h3>\n",
       "        <p style=\"color: #9D9D9D; margin-bottom: 0px;\">Client-68ca06aa-fa87-11ed-af73-00000769fe80</p>\n",
       "        <table style=\"width: 100%; text-align: left;\">\n",
       "\n",
       "        <tr>\n",
       "        \n",
       "            <td style=\"text-align: left;\"><strong>Connection method:</strong> Cluster object</td>\n",
       "            <td style=\"text-align: left;\"><strong>Cluster type:</strong> dask_jobqueue.PBSCluster</td>\n",
       "        \n",
       "        </tr>\n",
       "\n",
       "        \n",
       "            <tr>\n",
       "                <td style=\"text-align: left;\">\n",
       "                    <strong>Dashboard: </strong> <a href=\"/proxy/8787/status\" target=\"_blank\">/proxy/8787/status</a>\n",
       "                </td>\n",
       "                <td style=\"text-align: left;\"></td>\n",
       "            </tr>\n",
       "        \n",
       "\n",
       "        </table>\n",
       "\n",
       "        \n",
       "            <button style=\"margin-bottom: 12px;\" data-commandlinker-command=\"dask:populate-and-launch-layout\" data-commandlinker-args='{\"url\": \"/proxy/8787/status\" }'>\n",
       "                Launch dashboard in JupyterLab\n",
       "            </button>\n",
       "        \n",
       "\n",
       "        \n",
       "            <details>\n",
       "            <summary style=\"margin-bottom: 20px;\"><h3 style=\"display: inline;\">Cluster Info</h3></summary>\n",
       "            <div class=\"jp-RenderedHTMLCommon jp-RenderedHTML jp-mod-trusted jp-OutputArea-output\">\n",
       "    <div style=\"width: 24px; height: 24px; background-color: #e1e1e1; border: 3px solid #9D9D9D; border-radius: 5px; position: absolute;\">\n",
       "    </div>\n",
       "    <div style=\"margin-left: 48px;\">\n",
       "        <h3 style=\"margin-bottom: 0px; margin-top: 0px;\">PBSCluster</h3>\n",
       "        <p style=\"color: #9D9D9D; margin-bottom: 0px;\">bf977ade</p>\n",
       "        <table style=\"width: 100%; text-align: left;\">\n",
       "            <tr>\n",
       "                <td style=\"text-align: left;\">\n",
       "                    <strong>Dashboard:</strong> <a href=\"/proxy/8787/status\" target=\"_blank\">/proxy/8787/status</a>\n",
       "                </td>\n",
       "                <td style=\"text-align: left;\">\n",
       "                    <strong>Workers:</strong> 0\n",
       "                </td>\n",
       "            </tr>\n",
       "            <tr>\n",
       "                <td style=\"text-align: left;\">\n",
       "                    <strong>Total threads:</strong> 0\n",
       "                </td>\n",
       "                <td style=\"text-align: left;\">\n",
       "                    <strong>Total memory:</strong> 0 B\n",
       "                </td>\n",
       "            </tr>\n",
       "            \n",
       "        </table>\n",
       "\n",
       "        <details>\n",
       "            <summary style=\"margin-bottom: 20px;\">\n",
       "                <h3 style=\"display: inline;\">Scheduler Info</h3>\n",
       "            </summary>\n",
       "\n",
       "            <div style=\"\">\n",
       "    <div>\n",
       "        <div style=\"width: 24px; height: 24px; background-color: #FFF7E5; border: 3px solid #FF6132; border-radius: 5px; position: absolute;\"> </div>\n",
       "        <div style=\"margin-left: 48px;\">\n",
       "            <h3 style=\"margin-bottom: 0px;\">Scheduler</h3>\n",
       "            <p style=\"color: #9D9D9D; margin-bottom: 0px;\">Scheduler-6aabfcf6-e220-44c7-8aa8-811d0694f1f7</p>\n",
       "            <table style=\"width: 100%; text-align: left;\">\n",
       "                <tr>\n",
       "                    <td style=\"text-align: left;\">\n",
       "                        <strong>Comm:</strong> tcp://10.6.121.1:45233\n",
       "                    </td>\n",
       "                    <td style=\"text-align: left;\">\n",
       "                        <strong>Workers:</strong> 0\n",
       "                    </td>\n",
       "                </tr>\n",
       "                <tr>\n",
       "                    <td style=\"text-align: left;\">\n",
       "                        <strong>Dashboard:</strong> <a href=\"/proxy/8787/status\" target=\"_blank\">/proxy/8787/status</a>\n",
       "                    </td>\n",
       "                    <td style=\"text-align: left;\">\n",
       "                        <strong>Total threads:</strong> 0\n",
       "                    </td>\n",
       "                </tr>\n",
       "                <tr>\n",
       "                    <td style=\"text-align: left;\">\n",
       "                        <strong>Started:</strong> Just now\n",
       "                    </td>\n",
       "                    <td style=\"text-align: left;\">\n",
       "                        <strong>Total memory:</strong> 0 B\n",
       "                    </td>\n",
       "                </tr>\n",
       "            </table>\n",
       "        </div>\n",
       "    </div>\n",
       "\n",
       "    <details style=\"margin-left: 48px;\">\n",
       "        <summary style=\"margin-bottom: 20px;\">\n",
       "            <h3 style=\"display: inline;\">Workers</h3>\n",
       "        </summary>\n",
       "\n",
       "        \n",
       "\n",
       "    </details>\n",
       "</div>\n",
       "\n",
       "        </details>\n",
       "    </div>\n",
       "</div>\n",
       "            </details>\n",
       "        \n",
       "\n",
       "    </div>\n",
       "</div>"
      ],
      "text/plain": [
       "<Client: 'tcp://10.6.121.1:45233' processes=0 threads=0, memory=0 B>"
      ]
     },
     "execution_count": 4,
     "metadata": {},
     "output_type": "execute_result"
    }
   ],
   "source": [
    "client"
   ]
  },
  {
   "cell_type": "code",
   "execution_count": 5,
   "id": "40a15913-1b05-40db-989c-aa5e2ec96c90",
   "metadata": {},
   "outputs": [],
   "source": [
    "import xarray as xr\n",
    "import numpy as np"
   ]
  },
  {
   "cell_type": "code",
   "execution_count": 6,
   "id": "0e43893c-0dc0-4d10-bd92-ca7cc3060b07",
   "metadata": {},
   "outputs": [
    {
     "name": "stdout",
     "output_type": "stream",
     "text": [
      "/g/data/w42/dr6273/work/energy_climate_modes\n"
     ]
    }
   ],
   "source": [
    "%cd /g/data/w42/dr6273/work/energy_climate_modes\n",
    "\n",
    "import functions as fn"
   ]
  },
  {
   "cell_type": "code",
   "execution_count": 7,
   "id": "7042723b-a1ab-42e9-aa64-1138315bacb1",
   "metadata": {},
   "outputs": [],
   "source": [
    "root_path = \"/g/data/rt52/era5/single-levels/reanalysis/\"\n",
    "write_path = \"/g/data/w42/dr6273/work/data/era5/\""
   ]
  },
  {
   "cell_type": "markdown",
   "id": "0eca548b-49c0-40c2-8310-4dc26f15ac82",
   "metadata": {},
   "source": [
    "### Note:\n",
    "We will process this differently to the energy/climate modes analysis (https://github.com/dougrichardson/energy_climate_modes/blob/main/1_hourly_to_daily.ipynb), because:\n",
    "- we only need Australia (for now)\n",
    "- we need the correct time zone, as demand data"
   ]
  },
  {
   "cell_type": "code",
   "execution_count": 8,
   "id": "0bdf75d1-d21a-4138-a495-2541f33cb583",
   "metadata": {},
   "outputs": [],
   "source": [
    "years = range(1959, 2023)"
   ]
  },
  {
   "cell_type": "code",
   "execution_count": 9,
   "id": "e575934d-3edc-4471-9003-911f5f0db4d7",
   "metadata": {},
   "outputs": [],
   "source": [
    "desired_first_hour = 0 # Set the desired first hour of the day"
   ]
  },
  {
   "cell_type": "code",
   "execution_count": 10,
   "id": "e2127bea-4f0d-4259-82a5-7031255da6eb",
   "metadata": {},
   "outputs": [],
   "source": [
    "def hourly_to_daily(aggregate_function, variable, year, first_hour, data_path=root_path):\n",
    "    \"\"\"\n",
    "    Compute 24-hour aggregates from hourly data for a given year.\n",
    "    \n",
    "    aggregate_function: function to aggregate hourly data (e.g. mean, max)\n",
    "    variable: name of variable to process\n",
    "    year:  year to process\n",
    "    first_hour: desired first hour from which to compute 24-hour aggregations\n",
    "    data_path: path to hourly data\n",
    "    \"\"\"\n",
    "    # Open all hours in the year (~33 GB)\n",
    "    hourly = xr.open_mfdataset(\n",
    "        data_path + variable + \"/\" + str(year) + \"/*.nc\",\n",
    "        chunks={\"time\": 24}\n",
    "    )\n",
    "\n",
    "    # Start the aggregation on the desired hour (e.g. 0000)\n",
    "    data_first_hour = hourly[\"time\"].dt.hour.item(0)\n",
    "    desired_start_index = (first_hour - data_first_hour) % 24\n",
    "    hourly = hourly.isel(time=range(desired_start_index, len(hourly[\"time\"])))\n",
    "\n",
    "    # Resample to daily means\n",
    "    daily = aggregate_function(hourly)\n",
    "\n",
    "    # Re-assign time to be 0000 hour of each day\n",
    "    daily = daily.assign_coords({\"time\": daily[\"time\"].dt.floor(\"1D\")})\n",
    "    \n",
    "    return daily"
   ]
  },
  {
   "cell_type": "code",
   "execution_count": 27,
   "id": "57b85f40-1b05-42bb-8afe-c0466adf3c16",
   "metadata": {},
   "outputs": [],
   "source": [
    "def write_by_year(aggregate_function, variable, years, first_hour, data_path, write_path, encoding_name=None):\n",
    "    \"\"\"\n",
    "    Compute 24-hour aggregations from hourly data and write to file for each year.\n",
    "    \n",
    "    aggregate_function: function to aggregate hourly data (e.g. mean, max)\n",
    "    variable: name of variable to process\n",
    "    years: range of years to process\n",
    "    first_hour: desired first hour from which to compute 24-hour aggregations\n",
    "    data_path: path to hourly data\n",
    "    encoding_name: name of variable to encode. Usually the same as variable.\n",
    "    \"\"\"\n",
    "    for year in years:\n",
    "        print(year)\n",
    "\n",
    "        daily = hourly_to_daily(aggregate_function, variable, year, first_hour, data_path=data_path)\n",
    "        \n",
    "        write_daily(daily, variable, year, first_hour, write_path=write_path, encoding_name=encoding_name)"
   ]
  },
  {
   "cell_type": "code",
   "execution_count": 28,
   "id": "65d4b4c0-9e92-40dc-ada7-d46b2091fae5",
   "metadata": {},
   "outputs": [],
   "source": [
    "def write_daily(daily, variable, year, first_hour, write_path=write_path, encoding_name=None):\n",
    "    \"\"\"\n",
    "    Write daily data to file\n",
    "    \n",
    "    daily: DataArray to be written\n",
    "    variable: name of variable\n",
    "    year: year being written\n",
    "    data_path: path to hourly data\n",
    "    encoding_name: name of variable to encode. Usually the same as variable.\n",
    "    \"\"\"\n",
    "    # Chunk\n",
    "    daily = daily.chunk({\"time\": 24})\n",
    "\n",
    "    # Write to netcdf\n",
    "    if isinstance(encoding_name, str):\n",
    "        name = encoding_name\n",
    "    else:\n",
    "        name = variable\n",
    "        \n",
    "    encoding = {\n",
    "        name: {\"dtype\": \"float32\"}\n",
    "    }\n",
    "    daily.to_netcdf(\n",
    "        write_path + variable + \"/daily/\" + variable + \"_era5_daily_\" + str(year) + \".nc\",\n",
    "        mode=\"w\",\n",
    "        encoding=encoding\n",
    "    )"
   ]
  },
  {
   "cell_type": "code",
   "execution_count": 13,
   "id": "041afa3d-2bc7-47f6-8949-1ffbc10f6813",
   "metadata": {},
   "outputs": [],
   "source": [
    "def daily_mean(da):\n",
    "    \"\"\"\n",
    "    24-hour mean of da.\n",
    "    \"\"\"\n",
    "    return da.coarsen(time=24, boundary=\"trim\").mean(keep_attrs=True)"
   ]
  },
  {
   "cell_type": "code",
   "execution_count": null,
   "id": "d437a041-ad77-45e9-876f-9b0cf482dd2c",
   "metadata": {},
   "outputs": [],
   "source": [
    "data_path = \"/g/data/w42/dr6273/work/data/era5\""
   ]
  }
 ],
 "metadata": {
  "kernelspec": {
   "display_name": "Python (pangeo)",
   "language": "python",
   "name": "pangeo"
  },
  "language_info": {
   "codemirror_mode": {
    "name": "ipython",
    "version": 3
   },
   "file_extension": ".py",
   "mimetype": "text/x-python",
   "name": "python",
   "nbconvert_exporter": "python",
   "pygments_lexer": "ipython3",
   "version": "3.10.8"
  }
 },
 "nbformat": 4,
 "nbformat_minor": 5
}
