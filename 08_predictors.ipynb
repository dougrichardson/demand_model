{
 "cells": [
  {
   "cell_type": "markdown",
   "id": "d5dd2c48-20ce-47d9-ba81-b1e6fcea5574",
   "metadata": {},
   "source": [
    "# Finalise model predictors"
   ]
  },
  {
   "cell_type": "markdown",
   "id": "425c3161-a3da-4be4-a397-2426ed5b73b1",
   "metadata": {},
   "source": [
    "Weight the data by population and by state, then detrend."
   ]
  },
  {
   "cell_type": "code",
   "execution_count": 1,
   "id": "19680ff7-5eb2-4989-b8fa-713399585b3f",
   "metadata": {},
   "outputs": [],
   "source": [
    "from dask.distributed import Client, LocalCluster\n",
    "from dask_jobqueue import PBSCluster\n",
    "\n",
    "import bottleneck"
   ]
  },
  {
   "cell_type": "code",
   "execution_count": 29,
   "id": "76d23f9e-dad1-4fd6-8e50-718f0e69a54e",
   "metadata": {},
   "outputs": [
    {
     "name": "stderr",
     "output_type": "stream",
     "text": [
      "/g/data/w42/dr6273/apps/conda/envs/pangeo/lib/python3.10/site-packages/distributed/node.py:182: UserWarning: Port 8787 is already in use.\n",
      "Perhaps you already have a cluster running?\n",
      "Hosting the HTTP server on port 40329 instead\n",
      "  warnings.warn(\n"
     ]
    }
   ],
   "source": [
    "# One node on Gadi has 48 cores - try and use up a full node before going to multiple nodes (jobs)\n",
    "\n",
    "walltime = \"03:30:00\"\n",
    "cores = 12\n",
    "memory = str(4 * cores) + \"GB\"\n",
    "\n",
    "cluster = PBSCluster(walltime=str(walltime), cores=cores, memory=str(memory), processes=cores,\n",
    "                                          \n",
    "                     job_extra_directives=[\"-q normal\",\n",
    "                                           \"-P w42\",\n",
    "                                           \"-l ncpus=\"+str(cores),\n",
    "                                           \"-l mem=\"+str(memory),\n",
    "                                           \"-l storage=gdata/w42+gdata/rt52\"],\n",
    "                     local_directory=\"$TMPDIR\",\n",
    "                     job_directives_skip=[\"select\"])"
   ]
  },
  {
   "cell_type": "code",
   "execution_count": 30,
   "id": "051a0c91-3395-4d56-ba4e-9c1f686cd031",
   "metadata": {},
   "outputs": [],
   "source": [
    "cluster.scale(jobs=1)\n",
    "client = Client(cluster)"
   ]
  },
  {
   "cell_type": "code",
   "execution_count": 31,
   "id": "62f69630-f688-4422-892e-0c3a56016809",
   "metadata": {},
   "outputs": [
    {
     "data": {
      "text/html": [
       "<div>\n",
       "    <div style=\"width: 24px; height: 24px; background-color: #e1e1e1; border: 3px solid #9D9D9D; border-radius: 5px; position: absolute;\"> </div>\n",
       "    <div style=\"margin-left: 48px;\">\n",
       "        <h3 style=\"margin-bottom: 0px;\">Client</h3>\n",
       "        <p style=\"color: #9D9D9D; margin-bottom: 0px;\">Client-99c5a0fa-3be6-11ee-b40f-00000746fe80</p>\n",
       "        <table style=\"width: 100%; text-align: left;\">\n",
       "\n",
       "        <tr>\n",
       "        \n",
       "            <td style=\"text-align: left;\"><strong>Connection method:</strong> Cluster object</td>\n",
       "            <td style=\"text-align: left;\"><strong>Cluster type:</strong> dask_jobqueue.PBSCluster</td>\n",
       "        \n",
       "        </tr>\n",
       "\n",
       "        \n",
       "            <tr>\n",
       "                <td style=\"text-align: left;\">\n",
       "                    <strong>Dashboard: </strong> <a href=\"/proxy/40329/status\" target=\"_blank\">/proxy/40329/status</a>\n",
       "                </td>\n",
       "                <td style=\"text-align: left;\"></td>\n",
       "            </tr>\n",
       "        \n",
       "\n",
       "        </table>\n",
       "\n",
       "        \n",
       "            <button style=\"margin-bottom: 12px;\" data-commandlinker-command=\"dask:populate-and-launch-layout\" data-commandlinker-args='{\"url\": \"/proxy/40329/status\" }'>\n",
       "                Launch dashboard in JupyterLab\n",
       "            </button>\n",
       "        \n",
       "\n",
       "        \n",
       "            <details>\n",
       "            <summary style=\"margin-bottom: 20px;\"><h3 style=\"display: inline;\">Cluster Info</h3></summary>\n",
       "            <div class=\"jp-RenderedHTMLCommon jp-RenderedHTML jp-mod-trusted jp-OutputArea-output\">\n",
       "    <div style=\"width: 24px; height: 24px; background-color: #e1e1e1; border: 3px solid #9D9D9D; border-radius: 5px; position: absolute;\">\n",
       "    </div>\n",
       "    <div style=\"margin-left: 48px;\">\n",
       "        <h3 style=\"margin-bottom: 0px; margin-top: 0px;\">PBSCluster</h3>\n",
       "        <p style=\"color: #9D9D9D; margin-bottom: 0px;\">73a903fb</p>\n",
       "        <table style=\"width: 100%; text-align: left;\">\n",
       "            <tr>\n",
       "                <td style=\"text-align: left;\">\n",
       "                    <strong>Dashboard:</strong> <a href=\"/proxy/40329/status\" target=\"_blank\">/proxy/40329/status</a>\n",
       "                </td>\n",
       "                <td style=\"text-align: left;\">\n",
       "                    <strong>Workers:</strong> 0\n",
       "                </td>\n",
       "            </tr>\n",
       "            <tr>\n",
       "                <td style=\"text-align: left;\">\n",
       "                    <strong>Total threads:</strong> 0\n",
       "                </td>\n",
       "                <td style=\"text-align: left;\">\n",
       "                    <strong>Total memory:</strong> 0 B\n",
       "                </td>\n",
       "            </tr>\n",
       "            \n",
       "        </table>\n",
       "\n",
       "        <details>\n",
       "            <summary style=\"margin-bottom: 20px;\">\n",
       "                <h3 style=\"display: inline;\">Scheduler Info</h3>\n",
       "            </summary>\n",
       "\n",
       "            <div style=\"\">\n",
       "    <div>\n",
       "        <div style=\"width: 24px; height: 24px; background-color: #FFF7E5; border: 3px solid #FF6132; border-radius: 5px; position: absolute;\"> </div>\n",
       "        <div style=\"margin-left: 48px;\">\n",
       "            <h3 style=\"margin-bottom: 0px;\">Scheduler</h3>\n",
       "            <p style=\"color: #9D9D9D; margin-bottom: 0px;\">Scheduler-2eb482e5-536d-4191-bad2-5335edd7c7e7</p>\n",
       "            <table style=\"width: 100%; text-align: left;\">\n",
       "                <tr>\n",
       "                    <td style=\"text-align: left;\">\n",
       "                        <strong>Comm:</strong> tcp://10.6.121.1:39821\n",
       "                    </td>\n",
       "                    <td style=\"text-align: left;\">\n",
       "                        <strong>Workers:</strong> 0\n",
       "                    </td>\n",
       "                </tr>\n",
       "                <tr>\n",
       "                    <td style=\"text-align: left;\">\n",
       "                        <strong>Dashboard:</strong> <a href=\"/proxy/40329/status\" target=\"_blank\">/proxy/40329/status</a>\n",
       "                    </td>\n",
       "                    <td style=\"text-align: left;\">\n",
       "                        <strong>Total threads:</strong> 0\n",
       "                    </td>\n",
       "                </tr>\n",
       "                <tr>\n",
       "                    <td style=\"text-align: left;\">\n",
       "                        <strong>Started:</strong> Just now\n",
       "                    </td>\n",
       "                    <td style=\"text-align: left;\">\n",
       "                        <strong>Total memory:</strong> 0 B\n",
       "                    </td>\n",
       "                </tr>\n",
       "            </table>\n",
       "        </div>\n",
       "    </div>\n",
       "\n",
       "    <details style=\"margin-left: 48px;\">\n",
       "        <summary style=\"margin-bottom: 20px;\">\n",
       "            <h3 style=\"display: inline;\">Workers</h3>\n",
       "        </summary>\n",
       "\n",
       "        \n",
       "\n",
       "    </details>\n",
       "</div>\n",
       "\n",
       "        </details>\n",
       "    </div>\n",
       "</div>\n",
       "            </details>\n",
       "        \n",
       "\n",
       "    </div>\n",
       "</div>"
      ],
      "text/plain": [
       "<Client: 'tcp://10.6.121.1:39821' processes=0 threads=0, memory=0 B>"
      ]
     },
     "execution_count": 31,
     "metadata": {},
     "output_type": "execute_result"
    }
   ],
   "source": [
    "client"
   ]
  },
  {
   "cell_type": "code",
   "execution_count": 2,
   "id": "5425c2ed-494d-440d-a271-b3a017105bae",
   "metadata": {},
   "outputs": [],
   "source": [
    "import xarray as xr\n",
    "import pandas as pd"
   ]
  },
  {
   "cell_type": "code",
   "execution_count": 3,
   "id": "9ea65520-7d94-4cfa-a7ff-ffddfbd06187",
   "metadata": {},
   "outputs": [
    {
     "name": "stdout",
     "output_type": "stream",
     "text": [
      "/g/data/w42/dr6273/work/demand_model\n"
     ]
    }
   ],
   "source": [
    "%cd /g/data/w42/dr6273/work/demand_model//\n",
    "\n",
    "import functions as fn"
   ]
  },
  {
   "cell_type": "markdown",
   "id": "0a666e12-d21b-4ec8-a970-90c9c0c83ebd",
   "metadata": {},
   "source": [
    "# Load population and region mask"
   ]
  },
  {
   "cell_type": "code",
   "execution_count": 4,
   "id": "60c78ef6-6c4c-4021-8f96-74513f46bf10",
   "metadata": {},
   "outputs": [],
   "source": [
    "nem_pop = xr.open_dataset(\n",
    "    \"/g/data/w42/dr6273/work/projects/Aus_energy/data/NEM_population_density_state_mask.nc\"\n",
    ")[\"population_density\"]"
   ]
  },
  {
   "cell_type": "code",
   "execution_count": 5,
   "id": "30ce64f8-cecc-4850-ad9c-42446c24c924",
   "metadata": {},
   "outputs": [],
   "source": [
    "nem_pop_discrete_10 = xr.open_dataset(\n",
    "    \"/g/data/w42/dr6273/work/projects/Aus_energy/data/NEM_population_density_state_mask_discrete_10.nc\"\n",
    ")[\"population_bins_10\"]\n",
    "\n",
    "nem_pop_discrete_100 = xr.open_dataset(\n",
    "    \"/g/data/w42/dr6273/work/projects/Aus_energy/data/NEM_population_density_state_mask_discrete_100.nc\"\n",
    ")[\"population_bins_100\"]\n",
    "\n",
    "nem_pop_discrete_1000 = xr.open_dataset(\n",
    "    \"/g/data/w42/dr6273/work/projects/Aus_energy/data/NEM_population_density_state_mask_discrete_1000.nc\"\n",
    ")[\"population_bins_1000\"]\n",
    "\n",
    "nem_pop_log = xr.open_dataset(\n",
    "    \"/g/data/w42/dr6273/work/projects/Aus_energy/data/NEM_population_density_state_mask_log.nc\"\n",
    ")[\"log_population_density\"]"
   ]
  },
  {
   "cell_type": "code",
   "execution_count": 6,
   "id": "80e89397-0f1c-4c04-adc6-a6a58916dc1f",
   "metadata": {},
   "outputs": [],
   "source": [
    "eu_pop = xr.open_dataset(\n",
    "    \"/g/data/w42/dr6273/work/projects/Aus_energy/data/EU_population_count_mask.nc\"\n",
    ")[\"population_count\"]"
   ]
  },
  {
   "cell_type": "markdown",
   "id": "6cd984f8-1926-4503-b3f6-08a12b191bae",
   "metadata": {},
   "source": [
    "Prepare masks"
   ]
  },
  {
   "cell_type": "code",
   "execution_count": 7,
   "id": "e427a569-1650-4b48-a728-4ceaadd2e924",
   "metadata": {},
   "outputs": [],
   "source": [
    "def scale(da):\n",
    "    \"\"\"\n",
    "    Scale da to be between 0 and 1.\n",
    "    \"\"\"\n",
    "    return (da - da.min()) / (da.max() - da.min())"
   ]
  },
  {
   "cell_type": "code",
   "execution_count": 8,
   "id": "f254c6ed-2064-4c99-9705-032a67ad813c",
   "metadata": {},
   "outputs": [],
   "source": [
    "def prepare_mask(mask):\n",
    "    \"\"\"\n",
    "    Scale mask to be 0-1, set NaNs to zero and chunk.\n",
    "    \"\"\"\n",
    "    mask = mask.where(mask.notnull(), 0)\n",
    "    return scale(mask).chunk()"
   ]
  },
  {
   "cell_type": "code",
   "execution_count": 9,
   "id": "0024333c-fdbd-4d7e-b938-15e3d031217d",
   "metadata": {},
   "outputs": [],
   "source": [
    "nem_pop = prepare_mask(nem_pop)\n",
    "nem_pop_discrete_10 = prepare_mask(nem_pop_discrete_10)\n",
    "nem_pop_discrete_100 = prepare_mask(nem_pop_discrete_100)\n",
    "nem_pop_discrete_1000 = prepare_mask(nem_pop_discrete_1000)\n",
    "nem_pop_log = prepare_mask(nem_pop_log)\n",
    "eu_pop = prepare_mask(eu_pop)"
   ]
  },
  {
   "cell_type": "markdown",
   "id": "69952dc3-297e-4ac2-aa36-0105f1513e19",
   "metadata": {},
   "source": [
    "And a non-weighted mask"
   ]
  },
  {
   "cell_type": "code",
   "execution_count": 10,
   "id": "25b0fcd7-401c-4da8-a477-19b4665f4fbf",
   "metadata": {},
   "outputs": [],
   "source": [
    "equal_mask = xr.open_dataset(\n",
    "    \"/g/data/w42/dr6273/work/projects/Aus_energy/data/NEM_state_mask.nc\"\n",
    ")[\"mask\"]"
   ]
  },
  {
   "cell_type": "markdown",
   "id": "ee815e4f-7e9d-4a9e-abeb-daef4b20a39a",
   "metadata": {},
   "source": [
    "# Weight predictors and average over regions"
   ]
  },
  {
   "cell_type": "markdown",
   "id": "37716467-4b7c-450a-88e9-b3eb81bad50c",
   "metadata": {},
   "source": [
    "We open the data differently depending on whether we need derived indices, which are available as zarr stores, or basic daily ERA5 data, which are separate netcdf files for each year."
   ]
  },
  {
   "cell_type": "code",
   "execution_count": 14,
   "id": "79509228-5e8b-41f3-9b0e-b20f218d9349",
   "metadata": {},
   "outputs": [],
   "source": [
    "def sel_NEM(ds, lat_name=\"lat\", lon_name=\"lon\"):\n",
    "    \"\"\"\n",
    "    Select NEM region. Renames coords to lat/lon if not already.\n",
    "    \n",
    "    ds: dataset or array to sel on.\n",
    "    lat_name, lon_name: names of lat/lon coords.\n",
    "    \"\"\"\n",
    "    if lat_name != \"lat\":\n",
    "        ds = ds.rename({lat_name: \"lat\"})\n",
    "    if lon_name != \"lon\":\n",
    "        ds = ds.rename({lon_name: \"lon\"})\n",
    "        \n",
    "    return ds.sel(lon=slice(125, 155), lat=slice(-10, -45))"
   ]
  },
  {
   "cell_type": "code",
   "execution_count": 15,
   "id": "a6985d1c-8697-4655-8b33-025ecb1a8483",
   "metadata": {},
   "outputs": [],
   "source": [
    "def sel_EU(ds, lat_name=\"lat\", lon_name=\"lon\"):\n",
    "    \"\"\"\n",
    "    Select Europe region. Renames coords to lat/lon if not already.\n",
    "    \n",
    "    ds: dataset or array to sel on.\n",
    "    lat_name, lon_name: names of lat/lon coords.\n",
    "    \"\"\"\n",
    "    if lat_name != \"lat\":\n",
    "        ds = ds.rename({lat_name: \"lat\"})\n",
    "    if lon_name != \"lon\":\n",
    "        ds = ds.rename({lon_name: \"lon\"})\n",
    "        \n",
    "    return ds.sel(lon=slice(-12, 30), lat=slice(75, 35))"
   ]
  },
  {
   "cell_type": "code",
   "execution_count": 16,
   "id": "01f68f29-11b5-4328-ba14-446eda7a87b5",
   "metadata": {},
   "outputs": [],
   "source": [
    "def read_zarr(fp):\n",
    "    \"\"\"\n",
    "    Open zarr collection of ERA5 data.\n",
    "    \n",
    "    fp: str, path to file.\n",
    "    \"\"\"\n",
    "    return xr.open_zarr(fp, consolidated=False)"
   ]
  },
  {
   "cell_type": "code",
   "execution_count": 17,
   "id": "e9911cea-2608-4a1c-863b-74b61393f12f",
   "metadata": {},
   "outputs": [],
   "source": [
    "def zarr_read_and_sel(fp, sel_fn, lat_name=\"lat\", lon_name=\"lon\"):\n",
    "    \"\"\"\n",
    "    Open zarr store, select region and rename lat/lon.\n",
    "    \n",
    "    fp: str, path to file.\n",
    "    sel_fn: function to select region e.g. sel_NEM\n",
    "    lat_name, lon_name: names of lat/lon coords.\n",
    "    \"\"\"\n",
    "    ds = read_zarr(fp)\n",
    "    return sel_fn(ds, lat_name, lon_name)"
   ]
  },
  {
   "cell_type": "code",
   "execution_count": 18,
   "id": "56bfaa93-aefe-4024-9d6c-f12e85d60125",
   "metadata": {},
   "outputs": [],
   "source": [
    "def open_daily(fp, lat_slice, lon_slice, lat_name=\"lat\", lon_name=\"lon\"):\n",
    "    \"\"\"\n",
    "    Open multiple daily ERA5 files and preprocess to region.\n",
    "    \n",
    "    fp: str, path to file. Should not include files, only the path to dir.\n",
    "    lat_name, lon_name: names of lat/lon coords.\n",
    "    \"\"\"\n",
    "    def preprocess(ds):\n",
    "        ds = ds.rename({lat_name: \"lat\"})\n",
    "        ds = ds.rename({lon_name: \"lon\"})\n",
    "        return ds.sel(lon=lon_slice, lat=lat_slice)\n",
    "    \n",
    "    ds = xr.open_mfdataset(\n",
    "        fp,\n",
    "        preprocess=preprocess,\n",
    "        chunks={\"time\": \"200MB\"}\n",
    "    )\n",
    "    return ds"
   ]
  },
  {
   "cell_type": "code",
   "execution_count": 19,
   "id": "f6c8459e-7dc0-4900-acd2-7ac6329627f9",
   "metadata": {},
   "outputs": [],
   "source": [
    "def read_data(fp, lat_slice, lon_slice, lat_name=\"lat\", lon_name=\"lon\"):\n",
    "    \"\"\"\n",
    "    Reads and processes data to NEM region according to whether\n",
    "    the data are stored as zarr or multiple netcdf files.\n",
    "    \n",
    "    fp: str, path to file.\n",
    "    lat_name, lon_name: names of lat/lon coords.\n",
    "    \"\"\"\n",
    "    if fp[-5:] == \".zarr\":\n",
    "        return zarr_read_and_sel(fp, lat_name=lat_name, lon_name=lon_name)\n",
    "    elif fp[-3:] == \".nc\":\n",
    "        return open_daily(fp, lat_slice=lat_slice, lon_slice=lon_slice, lat_name=lat_name, lon_name=lon_name)\n",
    "    else:\n",
    "        raise ValueError(\"Unrecognised file type.\")"
   ]
  },
  {
   "cell_type": "code",
   "execution_count": 20,
   "id": "689c4809-ffc3-45fd-870e-5d537dc537b5",
   "metadata": {},
   "outputs": [],
   "source": [
    "def population_mean(ds, mask):\n",
    "    \"\"\"\n",
    "    Compute the spatial average of population-weighted data for each region.\n",
    "    \n",
    "    ds: dataset or array to process\n",
    "    mask: population mask/data\n",
    "    \"\"\"\n",
    "    return ds.weighted(mask).mean([\"lat\", \"lon\"])"
   ]
  },
  {
   "cell_type": "code",
   "execution_count": 21,
   "id": "e999c933-d77d-4850-8445-cd18bdf58bb6",
   "metadata": {},
   "outputs": [],
   "source": [
    "def detrend_ds(ds, var_name, new_var_name, dim=\"time\"):\n",
    "    \"\"\"\n",
    "    Detrend a dataset, retaining the mean, and rename variable.\n",
    "    \n",
    "    ds: dataset to detrend\n",
    "    var_name: name of variable to detrend\n",
    "    new_var_name: new name of detrended variable\n",
    "    dim: dimension along which to detrend\n",
    "    \"\"\"\n",
    "    mu = ds[var_name].mean(dim)\n",
    "    dt = fn.detrend_dim(ds[var_name], dim)\n",
    "    return (mu + dt).to_dataset(name=new_var_name)"
   ]
  },
  {
   "cell_type": "code",
   "execution_count": 22,
   "id": "5f7e1bf6-f640-42b3-b4ff-72987ed6cc4f",
   "metadata": {},
   "outputs": [],
   "source": [
    "def write(ds, fp):\n",
    "    \"\"\"\n",
    "    Write to file and chunk to single chunk.\n",
    "    \n",
    "    ds: dataset to write.\n",
    "    fp: str, path to write to.\n",
    "    \"\"\"\n",
    "    ds = ds.chunk({\"time\": -1})\n",
    "    # ds.to_zarr(fp, mode=\"w\", consolidated=True)\n",
    "    ds.to_netcdf(fp + \".nc\")"
   ]
  },
  {
   "cell_type": "markdown",
   "id": "65eeadbd-d699-4f84-a518-b13a8187a7c8",
   "metadata": {},
   "source": [
    "Dictionary of variables to process.\n",
    "\n",
    "Organised with the variable name as the key, then a list as follows:\n",
    "`[path_to_open, lat_name, lon_name, path_to_write, var_name, new_var_name]`"
   ]
  },
  {
   "cell_type": "code",
   "execution_count": 25,
   "id": "2cf569ba-0e39-4b79-92c2-c9aaeaa52cf2",
   "metadata": {},
   "outputs": [],
   "source": [
    "era_path = \"/g/data/w42/dr6273/work/data/era5/\""
   ]
  },
  {
   "cell_type": "code",
   "execution_count": 26,
   "id": "1fd9e15e-93a7-44b2-aa97-407d7de4578d",
   "metadata": {},
   "outputs": [],
   "source": [
    "write_path = \"/g/data/w42/dr6273/work/projects/Aus_energy/demand_predictors/\""
   ]
  },
  {
   "cell_type": "code",
   "execution_count": 46,
   "id": "b9fd52a3-068e-4fa9-8575-2a58941f3179",
   "metadata": {},
   "outputs": [],
   "source": [
    "variables = {\n",
    "    \"msdwswrf\": [\n",
    "        era_path + \"msdwswrf/daily/*.nc\",\n",
    "        \"latitude\",\n",
    "        \"longitude\",\n",
    "        write_path + \"msdwswrf_era5_daily_1959-2022_NEM\",\n",
    "        \"msdwswrf\",\n",
    "        \"msdwswrf\"\n",
    "    ],\n",
    "    \"10w\": [\n",
    "        era_path + \"10w/daily/*.nc\",\n",
    "        \"latitude\",\n",
    "        \"longitude\",\n",
    "        write_path + \"10w_era5_daily_1959-2022_NEM\",\n",
    "        \"w10\",\n",
    "        \"w10\"\n",
    "    ],\n",
    "    \"2t\": [\n",
    "        era_path + \"2t/daily/*.nc\",\n",
    "        \"latitude\",\n",
    "        \"longitude\",\n",
    "        write_path + \"2t_era5_daily_1959-2022_NEM\",\n",
    "        \"t2m\",\n",
    "        \"t2m\"\n",
    "    ],\n",
    "    \"2tmax\": [\n",
    "        era_path + \"2tmax/daily/*.nc\",\n",
    "        \"latitude\",\n",
    "        \"longitude\",\n",
    "        write_path + \"2tmax_era5_daily_1959-2022_NEM\",\n",
    "        \"mx2t\",\n",
    "        \"t2max\"\n",
    "    ],\n",
    "    \"2tmin\": [\n",
    "        era_path + \"2tmin/daily/*.nc\",\n",
    "        \"latitude\",\n",
    "        \"longitude\",\n",
    "        write_path + \"2tmin_era5_daily_1959-2022_NEM\",\n",
    "        \"mn2t\",\n",
    "        \"t2min\"\n",
    "    ],\n",
    "    \"mtpr\": [\n",
    "        era_path + \"mtpr/daily/*.nc\",\n",
    "        \"latitude\",\n",
    "        \"longitude\",\n",
    "        write_path + \"mtpr_era5_daily_1959-2022_NEM\",\n",
    "        \"mtpr\",\n",
    "        \"mtpr\"\n",
    "    ],\n",
    "    \"rh\": [\n",
    "        era_path + \"rh/daily/*.nc\",\n",
    "        \"latitude\",\n",
    "        \"longitude\",\n",
    "        write_path + \"rh_era5_daily_1959-2022_NEM\",\n",
    "        \"rh\",\n",
    "        \"rh\"\n",
    "    ],\n",
    "    \"q\": [\n",
    "        era_path + \"q/daily/*.nc\",\n",
    "        \"latitude\",\n",
    "        \"longitude\",\n",
    "        write_path + \"q_era5_daily_1959-2022_NEM\",\n",
    "        \"q\",\n",
    "        \"q\"\n",
    "    ],\n",
    "    \"cdd\": [\n",
    "        era_path + \"derived/cdd_24_era5_daily_1959-2022.zarr\",\n",
    "        \"latitude\",\n",
    "        \"longitude\",\n",
    "        write_path + \"cdd_24_era5_daily_1959-2022_NEM\",\n",
    "        \"cdd\",\n",
    "        \"cdd\"\n",
    "    ],\n",
    "    \"hdd\": [\n",
    "        era_path + \"derived/hdd_18_era5_daily_1959-2022.zarr\",\n",
    "        \"latitude\",\n",
    "        \"longitude\",\n",
    "        write_path + \"hdd_18_era5_daily_1959-2022_NEM\",\n",
    "        \"hdd\",\n",
    "        \"hdd\"\n",
    "    ],\n",
    "    \"cdd3\": [\n",
    "        era_path + \"derived/cdd_24_Aus_rollmean3_era5_daily_1959-2022.zarr\",\n",
    "        \"latitude\",\n",
    "        \"longitude\",\n",
    "        write_path + \"cdd_24_rollmean3_era5_daily_1959-2022_NEM\",\n",
    "        \"cdd\",\n",
    "        \"cdd3\"\n",
    "    ],\n",
    "    \"cdd4\": [\n",
    "        era_path + \"derived/cdd_24_Aus_rollmean4_era5_daily_1959-2022.zarr\",\n",
    "        \"latitude\",\n",
    "        \"longitude\",\n",
    "        write_path + \"cdd_24_rollmean4_era5_daily_1959-2022_NEM\",\n",
    "        \"cdd\",\n",
    "        \"cdd4\"\n",
    "    ],\n",
    "    \"hdd3\": [\n",
    "        era_path + \"derived/hdd_18_Aus_rollmean3_era5_daily_1959-2022.zarr\",\n",
    "        \"latitude\",\n",
    "        \"longitude\",\n",
    "        write_path + \"hdd_18_rollmean3_era5_daily_1959-2022_NEM\",\n",
    "        \"hdd\",\n",
    "        \"hdd3\"\n",
    "    ],\n",
    "    \"hdd4\": [\n",
    "        era_path + \"derived/hdd_18_Aus_rollmean4_era5_daily_1959-2022.zarr\",\n",
    "        \"latitude\",\n",
    "        \"longitude\",\n",
    "        write_path + \"hdd_18_rollmean4_era5_daily_1959-2022_NEM\",\n",
    "        \"hdd\",\n",
    "        \"hdd4\"\n",
    "    ],\n",
    "    \"2t3\": [\n",
    "        era_path + \"derived/2t_Aus_rollmean3_era5_daily_1959-2022.zarr\",\n",
    "        \"latitude\",\n",
    "        \"longitude\",\n",
    "        write_path + \"2t_rollmean3_era5_daily_1959-2022_NEM\",\n",
    "        \"t2m\",\n",
    "        \"t2m3\"\n",
    "    ],\n",
    "    \"2t4\": [\n",
    "        era_path + \"derived/2t_Aus_rollmean4_era5_daily_1959-2022.zarr\",\n",
    "        \"latitude\",\n",
    "        \"longitude\",\n",
    "        write_path + \"2t_rollmean4_era5_daily_1959-2022_NEM\",\n",
    "        \"t2m\",\n",
    "        \"t2m4\"\n",
    "    ]\n",
    "}"
   ]
  },
  {
   "cell_type": "markdown",
   "id": "4ffcc0b1-99f0-402e-8606-4c5c9de11f4b",
   "metadata": {},
   "source": [
    "Loop through and process"
   ]
  },
  {
   "cell_type": "code",
   "execution_count": null,
   "id": "bd22474c-a4fb-44c3-9eb0-2d86989fa53f",
   "metadata": {},
   "outputs": [],
   "source": [
    "for key, values in zip(variables.keys(), variables.values()):\n",
    "    ds = read_data(values[0], slice(-10, -45), slice(125, 155), values[1], values[2])\n",
    "    for mask, mask_name in zip(\n",
    "        [equal_mask, nem_pop_discrete_10, nem_pop_discrete_100, nem_pop_discrete_1000, nem_pop_log],\n",
    "        [\"no_mask\", \"pop_discrete_10_mask\", \"pop_discrete_100_mask\", \"pop_discrete_1000_mask\", \"pop_dens_log_mask\"]\n",
    "    ):\n",
    "    # for mask, mask_name in zip([equal_mask], [\"no_mask\"]):\n",
    "        ds = population_mean(ds, mask)\n",
    "        ds = detrend_ds(ds, values[4], values[5])\n",
    "        fp = values[3] + \"_\" + mask_name\n",
    "        write(ds, fp)"
   ]
  },
  {
   "cell_type": "markdown",
   "id": "6b3e0c16-294b-4f4b-995a-006962196887",
   "metadata": {},
   "source": [
    "Now for Europe"
   ]
  },
  {
   "cell_type": "code",
   "execution_count": 87,
   "id": "9cd1f80d-baf8-469b-b60d-8d83463b0191",
   "metadata": {},
   "outputs": [],
   "source": [
    "variables = {\n",
    "    \"2t\": [\n",
    "        era_path + \"2t/daily/*.nc\",\n",
    "        \"latitude\",\n",
    "        \"longitude\",\n",
    "        write_path + \"2t_era5_daily_1959-2022_EU\",\n",
    "        \"t2m\",\n",
    "        \"t2m\"\n",
    "    ]\n",
    "}"
   ]
  },
  {
   "cell_type": "code",
   "execution_count": 90,
   "id": "ad77ddd4-da0a-492b-9abd-98c1cef98789",
   "metadata": {},
   "outputs": [],
   "source": [
    "for key, values in zip(variables.keys(), variables.values()):\n",
    "    ds = read_data(values[0], slice(75, 35), slice(-12, 30), values[1], values[2])\n",
    "    ds = population_mean(ds, eu_pop)\n",
    "    ds = detrend_ds(ds, values[4], values[5])\n",
    "    fp = values[3] + \"_pop_dens_mask\"\n",
    "    write(ds, fp)"
   ]
  },
  {
   "cell_type": "markdown",
   "id": "5071516e-ceff-4325-aadd-522b24fee92f",
   "metadata": {},
   "source": [
    "# Close cluster"
   ]
  },
  {
   "cell_type": "code",
   "execution_count": 32,
   "id": "4a0889bc-007e-4c5b-b446-f2326974d717",
   "metadata": {},
   "outputs": [],
   "source": [
    "client.close()\n",
    "cluster.close()"
   ]
  },
  {
   "cell_type": "code",
   "execution_count": null,
   "id": "bef2bf56-3617-42e8-9704-1dc92f1426aa",
   "metadata": {},
   "outputs": [],
   "source": []
  }
 ],
 "metadata": {
  "kernelspec": {
   "display_name": "Python (pangeo)",
   "language": "python",
   "name": "pangeo"
  },
  "language_info": {
   "codemirror_mode": {
    "name": "ipython",
    "version": 3
   },
   "file_extension": ".py",
   "mimetype": "text/x-python",
   "name": "python",
   "nbconvert_exporter": "python",
   "pygments_lexer": "ipython3",
   "version": "3.10.8"
  }
 },
 "nbformat": 4,
 "nbformat_minor": 5
}
