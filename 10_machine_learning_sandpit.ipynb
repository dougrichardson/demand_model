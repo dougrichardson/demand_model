{
 "cells": [
  {
   "cell_type": "markdown",
   "id": "3264db0d-24c7-4ac4-bb6a-e11cf1e42a6c",
   "metadata": {},
   "source": [
    "# Generic script for processing machine learning"
   ]
  },
  {
   "cell_type": "code",
   "execution_count": 1,
   "id": "c876499d-e4fb-4261-85e9-5c18ff54c4d1",
   "metadata": {},
   "outputs": [],
   "source": [
    "import os\n",
    "import glob\n",
    "import xarray as xr\n",
    "import pandas as pd\n",
    "import numpy as np\n",
    "\n",
    "from sklearn.ensemble import RandomForestRegressor, ExtraTreesRegressor\n",
    "from sklearn.model_selection import train_test_split\n",
    "from sklearn.model_selection import RandomizedSearchCV\n",
    "from sklearn.model_selection import LeaveOneGroupOut\n",
    "\n",
    "from mlxtend.feature_selection import SequentialFeatureSelector\n",
    "from mlxtend.plotting import plot_sequential_feature_selection as plot_sfs\n",
    "\n",
    "from scipy.stats import randint, uniform\n",
    "\n",
    "import matplotlib.pyplot as plt"
   ]
  },
  {
   "cell_type": "markdown",
   "id": "b9447bd5-fdfb-488b-b84e-d4c3765885f9",
   "metadata": {},
   "source": [
    "### Note:\n",
    "\n",
    "You will need to change the kernel to ml_env to use `mlxtend`"
   ]
  },
  {
   "cell_type": "code",
   "execution_count": 2,
   "id": "6a9edea8-5023-4fe4-81a8-a35c3c945cbf",
   "metadata": {},
   "outputs": [
    {
     "name": "stdout",
     "output_type": "stream",
     "text": [
      "/g/data/w42/dr6273/work/demand_model\n"
     ]
    }
   ],
   "source": [
    "%cd /g/data/w42/dr6273/work/demand_model/\n",
    "\n",
    "import functions as fn"
   ]
  },
  {
   "cell_type": "code",
   "execution_count": 3,
   "id": "fbd119c8-511f-4bd9-8a36-0aa660b686d4",
   "metadata": {},
   "outputs": [],
   "source": [
    "%load_ext autoreload\n",
    "%autoreload 2"
   ]
  },
  {
   "cell_type": "markdown",
   "id": "8bed221c-938a-4f46-987d-ce318d459a31",
   "metadata": {},
   "source": [
    "### Set global variables"
   ]
  },
  {
   "cell_type": "code",
   "execution_count": 4,
   "id": "fadbab66-c210-445c-95b5-22a5da5b0a20",
   "metadata": {},
   "outputs": [],
   "source": [
    "PATH = \"/g/data/w42/dr6273/work/projects/Aus_energy/\""
   ]
  },
  {
   "cell_type": "code",
   "execution_count": 5,
   "id": "2ffeccea-228d-4e54-837f-8e5e9b50e5c6",
   "metadata": {},
   "outputs": [],
   "source": [
    "DEMAND_FILE = \"daily_demand_2010-2020_stl.nc\""
   ]
  },
  {
   "cell_type": "code",
   "execution_count": 6,
   "id": "35e3eed4-2bf5-4637-bead-11d75c077371",
   "metadata": {},
   "outputs": [],
   "source": [
    "MARKET = \"NEM\" # \"NEM\" or \"EU\""
   ]
  },
  {
   "cell_type": "code",
   "execution_count": 7,
   "id": "7a3921f5-1446-4a56-9c4d-3295557bd13d",
   "metadata": {},
   "outputs": [],
   "source": [
    "REGION = \"NEM\""
   ]
  },
  {
   "cell_type": "code",
   "execution_count": 25,
   "id": "0dba5e8d-5c75-4131-9c4d-b920a59fafad",
   "metadata": {},
   "outputs": [],
   "source": [
    "REMOVE_WEEKEND = False"
   ]
  },
  {
   "cell_type": "code",
   "execution_count": 26,
   "id": "c98a5668-2f9d-4fb1-be98-5aa57037021a",
   "metadata": {},
   "outputs": [],
   "source": [
    "REMOVE_XMAS = False"
   ]
  },
  {
   "cell_type": "code",
   "execution_count": 27,
   "id": "cafab6e8-63d1-423f-b8ba-f906447bcec7",
   "metadata": {},
   "outputs": [],
   "source": [
    "REMOVE_MONTH = 0 # integer: [1, 12]"
   ]
  },
  {
   "cell_type": "code",
   "execution_count": 28,
   "id": "d3eba0cb-be6b-4a19-8f32-d3bc9fd2248a",
   "metadata": {},
   "outputs": [],
   "source": [
    "MASK_NAME = \"pop_dens_mask\""
   ]
  },
  {
   "cell_type": "code",
   "execution_count": 29,
   "id": "86795850-c2ed-4337-8ba6-238686df4f74",
   "metadata": {},
   "outputs": [],
   "source": [
    "TIME_COLUMNS = [\"is_weekend\"]\n",
    "\n",
    "# Alternatives:\n",
    "# time_cols = [\"is_weekend\", \"month_sin\", \"month_cos\"]\n",
    "# time_cols = [\"is_weekend\", \"month_int\"]\n",
    "# time_cols = [\"is_weekend\", \"season_int\"]\n",
    "# time_cols = [\"is_weekend\", \"is_transition\"]\n",
    "# time_cols = []"
   ]
  },
  {
   "cell_type": "code",
   "execution_count": 30,
   "id": "463887e3-2d7b-41db-803c-a71bac46f5cd",
   "metadata": {},
   "outputs": [],
   "source": [
    "FIRST_TRAIN_YEAR = 2010\n",
    "LAST_TRAIN_YEAR = 2011"
   ]
  },
  {
   "cell_type": "code",
   "execution_count": 31,
   "id": "230467b5-e128-46b9-b356-0ef2be9c456c",
   "metadata": {},
   "outputs": [],
   "source": [
    "FIRST_TEST_YEAR = 2012\n",
    "LAST_TEST_YEAR = 2012"
   ]
  },
  {
   "cell_type": "code",
   "execution_count": 32,
   "id": "9453dc80-a0db-43b3-8ad6-766d9f446b70",
   "metadata": {},
   "outputs": [],
   "source": [
    "N_FEATURES = \"parsimonious\""
   ]
  },
  {
   "cell_type": "code",
   "execution_count": 33,
   "id": "231fd4f0-6ff5-4921-bb8d-44440e7acc0d",
   "metadata": {},
   "outputs": [],
   "source": [
    "T_ONLY = False"
   ]
  },
  {
   "cell_type": "code",
   "execution_count": 34,
   "id": "8166b5b7-e03f-4f17-b928-1de1d8def084",
   "metadata": {},
   "outputs": [],
   "source": [
    "CALENDAR = fn.get_calendar(MARKET, REGION)"
   ]
  },
  {
   "cell_type": "markdown",
   "id": "f65ae5df-cb1a-4849-9b57-884ff5262b0b",
   "metadata": {},
   "source": [
    "### Prepare demand data"
   ]
  },
  {
   "cell_type": "code",
   "execution_count": 35,
   "id": "a69bf2fb-b1c0-41ed-88d6-6cfbc7b7afa6",
   "metadata": {},
   "outputs": [],
   "source": [
    "dem_da = xr.open_dataset(PATH + \"data/energy_demand/\" + DEMAND_FILE)[\"demand_stl\"]"
   ]
  },
  {
   "cell_type": "code",
   "execution_count": 36,
   "id": "62f6973b-b2dd-48ad-a42f-ae22fc240e9f",
   "metadata": {},
   "outputs": [],
   "source": [
    "dem_da = fn.remove_time(dem_da, REMOVE_WEEKEND, REMOVE_XMAS, REMOVE_MONTH, calendar=CALENDAR)"
   ]
  },
  {
   "cell_type": "code",
   "execution_count": 37,
   "id": "acca9762-6731-462d-a6d2-95d8235daddd",
   "metadata": {},
   "outputs": [],
   "source": [
    "dem_da = dem_da.sel(region=REGION).expand_dims({\"region\": [REGION]})"
   ]
  },
  {
   "cell_type": "code",
   "execution_count": 38,
   "id": "d8309e36-a14b-43af-89e9-be2be77b027f",
   "metadata": {},
   "outputs": [
    {
     "data": {
      "text/plain": [
       "[<matplotlib.lines.Line2D at 0x14badc854250>]"
      ]
     },
     "execution_count": 38,
     "metadata": {},
     "output_type": "execute_result"
    },
    {
     "data": {
      "image/png": "[encoded data removed]",
      "text/plain": [
       "<Figure size 640x480 with 1 Axes>"
      ]
     },
     "metadata": {},
     "output_type": "display_data"
    }
   ],
   "source": [
    "dem_da.plot()"
   ]
  },
  {
   "cell_type": "code",
   "execution_count": 40,
   "id": "5059ba4a-634a-401e-851b-53ac92f5a014",
   "metadata": {},
   "outputs": [
    {
     "data": {
      "text/html": [
       "<div><svg style=\"position: absolute; width: 0; height: 0; overflow: hidden\">\n",
       "<defs>\n",
       "<symbol id=\"icon-database\" viewBox=\"0 0 32 32\">\n",
       "<path d=\"M16 0c-8.837 0-16 2.239-16 5v4c0 2.761 7.163 5 16 5s16-2.239 16-5v-4c0-2.761-7.163-5-16-5z\"></path>\n",
       "<path d=\"M16 17c-8.837 0-16-2.239-16-5v6c0 2.761 7.163 5 16 5s16-2.239 16-5v-6c0 2.761-7.163 5-16 5z\"></path>\n",
       "<path d=\"M16 26c-8.837 0-16-2.239-16-5v6c0 2.761 7.163 5 16 5s16-2.239 16-5v-6c0 2.761-7.163 5-16 5z\"></path>\n",
       "</symbol>\n",
       "<symbol id=\"icon-file-text2\" viewBox=\"0 0 32 32\">\n",
       "<path d=\"M28.681 7.159c-0.694-0.947-1.662-2.053-2.724-3.116s-2.169-2.030-3.116-2.724c-1.612-1.182-2.393-1.319-2.841-1.319h-15.5c-1.378 0-2.5 1.121-2.5 2.5v27c0 1.378 1.122 2.5 2.5 2.5h23c1.378 0 2.5-1.122 2.5-2.5v-19.5c0-0.448-0.137-1.23-1.319-2.841zM24.543 5.457c0.959 0.959 1.712 1.825 2.268 2.543h-4.811v-4.811c0.718 0.556 1.584 1.309 2.543 2.268zM28 29.5c0 0.271-0.229 0.5-0.5 0.5h-23c-0.271 0-0.5-0.229-0.5-0.5v-27c0-0.271 0.229-0.5 0.5-0.5 0 0 15.499-0 15.5 0v7c0 0.552 0.448 1 1 1h7v19.5z\"></path>\n",
       "<path d=\"M23 26h-14c-0.552 0-1-0.448-1-1s0.448-1 1-1h14c0.552 0 1 0.448 1 1s-0.448 1-1 1z\"></path>\n",
       "<path d=\"M23 22h-14c-0.552 0-1-0.448-1-1s0.448-1 1-1h14c0.552 0 1 0.448 1 1s-0.448 1-1 1z\"></path>\n",
       "<path d=\"M23 18h-14c-0.552 0-1-0.448-1-1s0.448-1 1-1h14c0.552 0 1 0.448 1 1s-0.448 1-1 1z\"></path>\n",
       "</symbol>\n",
       "</defs>\n",
       "</svg>\n",
       "<style>/* CSS stylesheet for displaying xarray objects in jupyterlab.\n",
       " *\n",
       " */\n",
       "\n",
       ":root {\n",
       "  --xr-font-color0: var(--jp-content-font-color0, rgba(0, 0, 0, 1));\n",
       "  --xr-font-color2: var(--jp-content-font-color2, rgba(0, 0, 0, 0.54));\n",
       "  --xr-font-color3: var(--jp-content-font-color3, rgba(0, 0, 0, 0.38));\n",
       "  --xr-border-color: var(--jp-border-color2, #e0e0e0);\n",
       "  --xr-disabled-color: var(--jp-layout-color3, #bdbdbd);\n",
       "  --xr-background-color: var(--jp-layout-color0, white);\n",
       "  --xr-background-color-row-even: var(--jp-layout-color1, white);\n",
       "  --xr-background-color-row-odd: var(--jp-layout-color2, #eeeeee);\n",
       "}\n",
       "\n",
       "html[theme=dark],\n",
       "body[data-theme=dark],\n",
       "body.vscode-dark {\n",
       "  --xr-font-color0: rgba(255, 255, 255, 1);\n",
       "  --xr-font-color2: rgba(255, 255, 255, 0.54);\n",
       "  --xr-font-color3: rgba(255, 255, 255, 0.38);\n",
       "  --xr-border-color: #1F1F1F;\n",
       "  --xr-disabled-color: #515151;\n",
       "  --xr-background-color: #111111;\n",
       "  --xr-background-color-row-even: #111111;\n",
       "  --xr-background-color-row-odd: #313131;\n",
       "}\n",
       "\n",
       ".xr-wrap {\n",
       "  display: block !important;\n",
       "  min-width: 300px;\n",
       "  max-width: 700px;\n",
       "}\n",
       "\n",
       ".xr-text-repr-fallback {\n",
       "  /* fallback to plain text repr when CSS is not injected (untrusted notebook) */\n",
       "  display: none;\n",
       "}\n",
       "\n",
       ".xr-header {\n",
       "  padding-top: 6px;\n",
       "  padding-bottom: 6px;\n",
       "  margin-bottom: 4px;\n",
       "  border-bottom: solid 1px var(--xr-border-color);\n",
       "}\n",
       "\n",
       ".xr-header > div,\n",
       ".xr-header > ul {\n",
       "  display: inline;\n",
       "  margin-top: 0;\n",
       "  margin-bottom: 0;\n",
       "}\n",
       "\n",
       ".xr-obj-type,\n",
       ".xr-array-name {\n",
       "  margin-left: 2px;\n",
       "  margin-right: 10px;\n",
       "}\n",
       "\n",
       ".xr-obj-type {\n",
       "  color: var(--xr-font-color2);\n",
       "}\n",
       "\n",
       ".xr-sections {\n",
       "  padding-left: 0 !important;\n",
       "  display: grid;\n",
       "  grid-template-columns: 150px auto auto 1fr 20px 20px;\n",
       "}\n",
       "\n",
       ".xr-section-item {\n",
       "  display: contents;\n",
       "}\n",
       "\n",
       ".xr-section-item input {\n",
       "  display: none;\n",
       "}\n",
       "\n",
       ".xr-section-item input + label {\n",
       "  color: var(--xr-disabled-color);\n",
       "}\n",
       "\n",
       ".xr-section-item input:enabled + label {\n",
       "  cursor: pointer;\n",
       "  color: var(--xr-font-color2);\n",
       "}\n",
       "\n",
       ".xr-section-item input:enabled + label:hover {\n",
       "  color: var(--xr-font-color0);\n",
       "}\n",
       "\n",
       ".xr-section-summary {\n",
       "  grid-column: 1;\n",
       "  color: var(--xr-font-color2);\n",
       "  font-weight: 500;\n",
       "}\n",
       "\n",
       ".xr-section-summary > span {\n",
       "  display: inline-block;\n",
       "  padding-left: 0.5em;\n",
       "}\n",
       "\n",
       ".xr-section-summary-in:disabled + label {\n",
       "  color: var(--xr-font-color2);\n",
       "}\n",
       "\n",
       ".xr-section-summary-in + label:before {\n",
       "  display: inline-block;\n",
       "  content: '►';\n",
       "  font-size: 11px;\n",
       "  width: 15px;\n",
       "  text-align: center;\n",
       "}\n",
       "\n",
       ".xr-section-summary-in:disabled + label:before {\n",
       "  color: var(--xr-disabled-color);\n",
       "}\n",
       "\n",
       ".xr-section-summary-in:checked + label:before {\n",
       "  content: '▼';\n",
       "}\n",
       "\n",
       ".xr-section-summary-in:checked + label > span {\n",
       "  display: none;\n",
       "}\n",
       "\n",
       ".xr-section-summary,\n",
       ".xr-section-inline-details {\n",
       "  padding-top: 4px;\n",
       "  padding-bottom: 4px;\n",
       "}\n",
       "\n",
       ".xr-section-inline-details {\n",
       "  grid-column: 2 / -1;\n",
       "}\n",
       "\n",
       ".xr-section-details {\n",
       "  display: none;\n",
       "  grid-column: 1 / -1;\n",
       "  margin-bottom: 5px;\n",
       "}\n",
       "\n",
       ".xr-section-summary-in:checked ~ .xr-section-details {\n",
       "  display: contents;\n",
       "}\n",
       "\n",
       ".xr-array-wrap {\n",
       "  grid-column: 1 / -1;\n",
       "  display: grid;\n",
       "  grid-template-columns: 20px auto;\n",
       "}\n",
       "\n",
       ".xr-array-wrap > label {\n",
       "  grid-column: 1;\n",
       "  vertical-align: top;\n",
       "}\n",
       "\n",
       ".xr-preview {\n",
       "  color: var(--xr-font-color3);\n",
       "}\n",
       "\n",
       ".xr-array-preview,\n",
       ".xr-array-data {\n",
       "  padding: 0 5px !important;\n",
       "  grid-column: 2;\n",
       "}\n",
       "\n",
       ".xr-array-data,\n",
       ".xr-array-in:checked ~ .xr-array-preview {\n",
       "  display: none;\n",
       "}\n",
       "\n",
       ".xr-array-in:checked ~ .xr-array-data,\n",
       ".xr-array-preview {\n",
       "  display: inline-block;\n",
       "}\n",
       "\n",
       ".xr-dim-list {\n",
       "  display: inline-block !important;\n",
       "  list-style: none;\n",
       "  padding: 0 !important;\n",
       "  margin: 0;\n",
       "}\n",
       "\n",
       ".xr-dim-list li {\n",
       "  display: inline-block;\n",
       "  padding: 0;\n",
       "  margin: 0;\n",
       "}\n",
       "\n",
       ".xr-dim-list:before {\n",
       "  content: '(';\n",
       "}\n",
       "\n",
       ".xr-dim-list:after {\n",
       "  content: ')';\n",
       "}\n",
       "\n",
       ".xr-dim-list li:not(:last-child):after {\n",
       "  content: ',';\n",
       "  padding-right: 5px;\n",
       "}\n",
       "\n",
       ".xr-has-index {\n",
       "  font-weight: bold;\n",
       "}\n",
       "\n",
       ".xr-var-list,\n",
       ".xr-var-item {\n",
       "  display: contents;\n",
       "}\n",
       "\n",
       ".xr-var-item > div,\n",
       ".xr-var-item label,\n",
       ".xr-var-item > .xr-var-name span {\n",
       "  background-color: var(--xr-background-color-row-even);\n",
       "  margin-bottom: 0;\n",
       "}\n",
       "\n",
       ".xr-var-item > .xr-var-name:hover span {\n",
       "  padding-right: 5px;\n",
       "}\n",
       "\n",
       ".xr-var-list > li:nth-child(odd) > div,\n",
       ".xr-var-list > li:nth-child(odd) > label,\n",
       ".xr-var-list > li:nth-child(odd) > .xr-var-name span {\n",
       "  background-color: var(--xr-background-color-row-odd);\n",
       "}\n",
       "\n",
       ".xr-var-name {\n",
       "  grid-column: 1;\n",
       "}\n",
       "\n",
       ".xr-var-dims {\n",
       "  grid-column: 2;\n",
       "}\n",
       "\n",
       ".xr-var-dtype {\n",
       "  grid-column: 3;\n",
       "  text-align: right;\n",
       "  color: var(--xr-font-color2);\n",
       "}\n",
       "\n",
       ".xr-var-preview {\n",
       "  grid-column: 4;\n",
       "}\n",
       "\n",
       ".xr-index-preview {\n",
       "  grid-column: 2 / 5;\n",
       "  color: var(--xr-font-color2);\n",
       "}\n",
       "\n",
       ".xr-var-name,\n",
       ".xr-var-dims,\n",
       ".xr-var-dtype,\n",
       ".xr-preview,\n",
       ".xr-attrs dt {\n",
       "  white-space: nowrap;\n",
       "  overflow: hidden;\n",
       "  text-overflow: ellipsis;\n",
       "  padding-right: 10px;\n",
       "}\n",
       "\n",
       ".xr-var-name:hover,\n",
       ".xr-var-dims:hover,\n",
       ".xr-var-dtype:hover,\n",
       ".xr-attrs dt:hover {\n",
       "  overflow: visible;\n",
       "  width: auto;\n",
       "  z-index: 1;\n",
       "}\n",
       "\n",
       ".xr-var-attrs,\n",
       ".xr-var-data,\n",
       ".xr-index-data {\n",
       "  display: none;\n",
       "  background-color: var(--xr-background-color) !important;\n",
       "  padding-bottom: 5px !important;\n",
       "}\n",
       "\n",
       ".xr-var-attrs-in:checked ~ .xr-var-attrs,\n",
       ".xr-var-data-in:checked ~ .xr-var-data,\n",
       ".xr-index-data-in:checked ~ .xr-index-data {\n",
       "  display: block;\n",
       "}\n",
       "\n",
       ".xr-var-data > table {\n",
       "  float: right;\n",
       "}\n",
       "\n",
       ".xr-var-name span,\n",
       ".xr-var-data,\n",
       ".xr-index-name div,\n",
       ".xr-index-data,\n",
       ".xr-attrs {\n",
       "  padding-left: 25px !important;\n",
       "}\n",
       "\n",
       ".xr-attrs,\n",
       ".xr-var-attrs,\n",
       ".xr-var-data,\n",
       ".xr-index-data {\n",
       "  grid-column: 1 / -1;\n",
       "}\n",
       "\n",
       "dl.xr-attrs {\n",
       "  padding: 0;\n",
       "  margin: 0;\n",
       "  display: grid;\n",
       "  grid-template-columns: 125px auto;\n",
       "}\n",
       "\n",
       ".xr-attrs dt,\n",
       ".xr-attrs dd {\n",
       "  padding: 0;\n",
       "  margin: 0;\n",
       "  float: left;\n",
       "  padding-right: 10px;\n",
       "  width: auto;\n",
       "}\n",
       "\n",
       ".xr-attrs dt {\n",
       "  font-weight: normal;\n",
       "  grid-column: 1;\n",
       "}\n",
       "\n",
       ".xr-attrs dt:hover span {\n",
       "  display: inline-block;\n",
       "  background: var(--xr-background-color);\n",
       "  padding-right: 10px;\n",
       "}\n",
       "\n",
       ".xr-attrs dd {\n",
       "  grid-column: 2;\n",
       "  white-space: pre-wrap;\n",
       "  word-break: break-all;\n",
       "}\n",
       "\n",
       ".xr-icon-database,\n",
       ".xr-icon-file-text2,\n",
       ".xr-no-icon {\n",
       "  display: inline-block;\n",
       "  vertical-align: middle;\n",
       "  width: 1em;\n",
       "  height: 1.5em !important;\n",
       "  stroke-width: 0;\n",
       "  stroke: currentColor;\n",
       "  fill: currentColor;\n",
       "}\n",
       "</style><pre class='xr-text-repr-fallback'>&lt;xarray.DataArray &#x27;demand_stl&#x27; (region: 1, time: 4018)&gt;\n",
       "array([[451465.09773767, 452373.18382865, 460430.34262412, ...,\n",
       "        498595.88924398, 493304.87263992, 483746.84870344]])\n",
       "Coordinates:\n",
       "  * region   (region) object &#x27;NEM&#x27;\n",
       "  * time     (time) datetime64[ns] 2010-01-01 2010-01-02 ... 2020-12-31</pre><div class='xr-wrap' style='display:none'><div class='xr-header'><div class='xr-obj-type'>xarray.DataArray</div><div class='xr-array-name'>'demand_stl'</div><ul class='xr-dim-list'><li><span class='xr-has-index'>region</span>: 1</li><li><span class='xr-has-index'>time</span>: 4018</li></ul></div><ul class='xr-sections'><li class='xr-section-item'><div class='xr-array-wrap'><input id='section-41e8637b-e4b6-47c8-af10-c775f7a3cdbd' class='xr-array-in' type='checkbox' checked><label for='section-41e8637b-e4b6-47c8-af10-c775f7a3cdbd' title='Show/hide data repr'><svg class='icon xr-icon-database'><use xlink:href='#icon-database'></use></svg></label><div class='xr-array-preview xr-preview'><span>4.515e+05 4.524e+05 4.604e+05 ... 4.986e+05 4.933e+05 4.837e+05</span></div><div class='xr-array-data'><pre>array([[451465.09773767, 452373.18382865, 460430.34262412, ...,\n",
       "        498595.88924398, 493304.87263992, 483746.84870344]])</pre></div></div></li><li class='xr-section-item'><input id='section-5fbb4994-8242-4882-bb97-40df66e807c5' class='xr-section-summary-in' type='checkbox'  checked><label for='section-5fbb4994-8242-4882-bb97-40df66e807c5' class='xr-section-summary' >Coordinates: <span>(2)</span></label><div class='xr-section-inline-details'></div><div class='xr-section-details'><ul class='xr-var-list'><li class='xr-var-item'><div class='xr-var-name'><span class='xr-has-index'>region</span></div><div class='xr-var-dims'>(region)</div><div class='xr-var-dtype'>object</div><div class='xr-var-preview xr-preview'>&#x27;NEM&#x27;</div><input id='attrs-00364856-4b4b-4ffd-9f1c-670e9235212b' class='xr-var-attrs-in' type='checkbox' disabled><label for='attrs-00364856-4b4b-4ffd-9f1c-670e9235212b' title='Show/Hide attributes'><svg class='icon xr-icon-file-text2'><use xlink:href='#icon-file-text2'></use></svg></label><input id='data-43a6eafd-553e-45d7-9ec4-6b576200906c' class='xr-var-data-in' type='checkbox'><label for='data-43a6eafd-553e-45d7-9ec4-6b576200906c' title='Show/Hide data repr'><svg class='icon xr-icon-database'><use xlink:href='#icon-database'></use></svg></label><div class='xr-var-attrs'><dl class='xr-attrs'></dl></div><div class='xr-var-data'><pre>array([&#x27;NEM&#x27;], dtype=object)</pre></div></li><li class='xr-var-item'><div class='xr-var-name'><span class='xr-has-index'>time</span></div><div class='xr-var-dims'>(time)</div><div class='xr-var-dtype'>datetime64[ns]</div><div class='xr-var-preview xr-preview'>2010-01-01 ... 2020-12-31</div><input id='attrs-b3c6ebbf-7f9e-4304-8e51-cd033b4ba238' class='xr-var-attrs-in' type='checkbox' disabled><label for='attrs-b3c6ebbf-7f9e-4304-8e51-cd033b4ba238' title='Show/Hide attributes'><svg class='icon xr-icon-file-text2'><use xlink:href='#icon-file-text2'></use></svg></label><input id='data-f6f420b7-b9ef-4159-a8bc-3b6261585b3d' class='xr-var-data-in' type='checkbox'><label for='data-f6f420b7-b9ef-4159-a8bc-3b6261585b3d' title='Show/Hide data repr'><svg class='icon xr-icon-database'><use xlink:href='#icon-database'></use></svg></label><div class='xr-var-attrs'><dl class='xr-attrs'></dl></div><div class='xr-var-data'><pre>array([&#x27;2010-01-01T00:00:00.000000000&#x27;, &#x27;2010-01-02T00:00:00.000000000&#x27;,\n",
       "       &#x27;2010-01-03T00:00:00.000000000&#x27;, ..., &#x27;2020-12-29T00:00:00.000000000&#x27;,\n",
       "       &#x27;2020-12-30T00:00:00.000000000&#x27;, &#x27;2020-12-31T00:00:00.000000000&#x27;],\n",
       "      dtype=&#x27;datetime64[ns]&#x27;)</pre></div></li></ul></div></li><li class='xr-section-item'><input id='section-4c15eb53-a4ea-41ff-9d40-e9909bdb9537' class='xr-section-summary-in' type='checkbox'  ><label for='section-4c15eb53-a4ea-41ff-9d40-e9909bdb9537' class='xr-section-summary' >Indexes: <span>(2)</span></label><div class='xr-section-inline-details'></div><div class='xr-section-details'><ul class='xr-var-list'><li class='xr-var-item'><div class='xr-index-name'><div>time</div></div><div class='xr-index-preview'>PandasIndex</div><div></div><input id='index-42b294a9-c8fe-4545-8494-12803a8a2c33' class='xr-index-data-in' type='checkbox'/><label for='index-42b294a9-c8fe-4545-8494-12803a8a2c33' title='Show/Hide index repr'><svg class='icon xr-icon-database'><use xlink:href='#icon-database'></use></svg></label><div class='xr-index-data'><pre>PandasIndex(DatetimeIndex([&#x27;2010-01-01&#x27;, &#x27;2010-01-02&#x27;, &#x27;2010-01-03&#x27;, &#x27;2010-01-04&#x27;,\n",
       "               &#x27;2010-01-05&#x27;, &#x27;2010-01-06&#x27;, &#x27;2010-01-07&#x27;, &#x27;2010-01-08&#x27;,\n",
       "               &#x27;2010-01-09&#x27;, &#x27;2010-01-10&#x27;,\n",
       "               ...\n",
       "               &#x27;2020-12-22&#x27;, &#x27;2020-12-23&#x27;, &#x27;2020-12-24&#x27;, &#x27;2020-12-25&#x27;,\n",
       "               &#x27;2020-12-26&#x27;, &#x27;2020-12-27&#x27;, &#x27;2020-12-28&#x27;, &#x27;2020-12-29&#x27;,\n",
       "               &#x27;2020-12-30&#x27;, &#x27;2020-12-31&#x27;],\n",
       "              dtype=&#x27;datetime64[ns]&#x27;, name=&#x27;time&#x27;, length=4018, freq=None))</pre></div></li><li class='xr-var-item'><div class='xr-index-name'><div>region</div></div><div class='xr-index-preview'>PandasIndex</div><div></div><input id='index-78d00b8c-8507-4bce-811e-6b934d10e9d5' class='xr-index-data-in' type='checkbox'/><label for='index-78d00b8c-8507-4bce-811e-6b934d10e9d5' title='Show/Hide index repr'><svg class='icon xr-icon-database'><use xlink:href='#icon-database'></use></svg></label><div class='xr-index-data'><pre>PandasIndex(Index([&#x27;NEM&#x27;], dtype=&#x27;object&#x27;, name=&#x27;region&#x27;))</pre></div></li></ul></div></li><li class='xr-section-item'><input id='section-d168765c-6c7e-41a6-a737-6f15323276c2' class='xr-section-summary-in' type='checkbox' disabled ><label for='section-d168765c-6c7e-41a6-a737-6f15323276c2' class='xr-section-summary'  title='Expand/collapse section'>Attributes: <span>(0)</span></label><div class='xr-section-inline-details'></div><div class='xr-section-details'><dl class='xr-attrs'></dl></div></li></ul></div></div>"
      ],
      "text/plain": [
       "<xarray.DataArray 'demand_stl' (region: 1, time: 4018)>\n",
       "array([[451465.09773767, 452373.18382865, 460430.34262412, ...,\n",
       "        498595.88924398, 493304.87263992, 483746.84870344]])\n",
       "Coordinates:\n",
       "  * region   (region) object 'NEM'\n",
       "  * time     (time) datetime64[ns] 2010-01-01 2010-01-02 ... 2020-12-31"
      ]
     },
     "execution_count": 40,
     "metadata": {},
     "output_type": "execute_result"
    }
   ],
   "source": [
    "dem_da"
   ]
  },
  {
   "cell_type": "markdown",
   "id": "0d923a0c-c8eb-4104-86ef-e4c472297247",
   "metadata": {},
   "source": [
    "### Prepare predictors"
   ]
  },
  {
   "cell_type": "code",
   "execution_count": 41,
   "id": "1aa230c7-9088-4663-ba49-3cd665d7efe5",
   "metadata": {},
   "outputs": [
    {
     "data": {
      "text/plain": [
       "['/g/data/w42/dr6273/work/projects/Aus_energy/demand_predictors/hdd_18_rollmean4_era5_daily_1959-2022_NEM_pop_dens_mask_detrended.nc',\n",
       " '/g/data/w42/dr6273/work/projects/Aus_energy/demand_predictors/2t_rollmean3_era5_daily_1959-2022_NEM_pop_dens_mask_detrended.nc',\n",
       " '/g/data/w42/dr6273/work/projects/Aus_energy/demand_predictors/rh_era5_daily_1959-2022_NEM_pop_dens_mask_detrended.nc',\n",
       " '/g/data/w42/dr6273/work/projects/Aus_energy/demand_predictors/2t_rollmean4_era5_daily_1959-2022_NEM_pop_dens_mask_detrended.nc',\n",
       " '/g/data/w42/dr6273/work/projects/Aus_energy/demand_predictors/2tmin_era5_daily_1959-2022_NEM_pop_dens_mask_detrended.nc',\n",
       " '/g/data/w42/dr6273/work/projects/Aus_energy/demand_predictors/cdd_24_era5_daily_1959-2022_NEM_pop_dens_mask_detrended.nc',\n",
       " '/g/data/w42/dr6273/work/projects/Aus_energy/demand_predictors/10w_era5_daily_1959-2022_NEM_pop_dens_mask_detrended.nc',\n",
       " '/g/data/w42/dr6273/work/projects/Aus_energy/demand_predictors/hdd_18_rollmean3_era5_daily_1959-2022_NEM_pop_dens_mask_detrended.nc',\n",
       " '/g/data/w42/dr6273/work/projects/Aus_energy/demand_predictors/q_era5_daily_1959-2022_NEM_pop_dens_mask_detrended.nc',\n",
       " '/g/data/w42/dr6273/work/projects/Aus_energy/demand_predictors/hdd_18_era5_daily_1959-2022_NEM_pop_dens_mask_detrended.nc',\n",
       " '/g/data/w42/dr6273/work/projects/Aus_energy/demand_predictors/mtpr_era5_daily_1959-2022_NEM_pop_dens_mask_detrended.nc',\n",
       " '/g/data/w42/dr6273/work/projects/Aus_energy/demand_predictors/cdd_24_rollmean3_era5_daily_1959-2022_NEM_pop_dens_mask_detrended.nc',\n",
       " '/g/data/w42/dr6273/work/projects/Aus_energy/demand_predictors/cdd_24_rollmean4_era5_daily_1959-2022_NEM_pop_dens_mask_detrended.nc',\n",
       " '/g/data/w42/dr6273/work/projects/Aus_energy/demand_predictors/2t_era5_daily_1959-2022_NEM_pop_dens_mask_detrended.nc',\n",
       " '/g/data/w42/dr6273/work/projects/Aus_energy/demand_predictors/msdwswrf_era5_daily_1959-2022_NEM_pop_dens_mask_detrended.nc',\n",
       " '/g/data/w42/dr6273/work/projects/Aus_energy/demand_predictors/2tmax_era5_daily_1959-2022_NEM_pop_dens_mask_detrended.nc']"
      ]
     },
     "execution_count": 41,
     "metadata": {},
     "output_type": "execute_result"
    }
   ],
   "source": [
    "files = fn.get_predictor_files(MARKET, MASK_NAME)\n",
    "files"
   ]
  },
  {
   "cell_type": "code",
   "execution_count": 42,
   "id": "d0800218-a4e0-4142-89e1-f74a3b91ad94",
   "metadata": {},
   "outputs": [],
   "source": [
    "pred_ds = xr.open_mfdataset(files, combine=\"nested\", compat=\"override\")"
   ]
  },
  {
   "cell_type": "code",
   "execution_count": 43,
   "id": "4bb3c313-a7d5-48eb-a67a-cf000e168a65",
   "metadata": {},
   "outputs": [],
   "source": [
    "pred_ds = pred_ds.sel(region=REGION).expand_dims({\"region\": [REGION]}).compute()"
   ]
  },
  {
   "cell_type": "code",
   "execution_count": 44,
   "id": "04593bf6-b3ea-4d33-9a07-1c013a85bf26",
   "metadata": {},
   "outputs": [],
   "source": [
    "pred_ds = fn.remove_time(pred_ds, REMOVE_WEEKEND, REMOVE_XMAS, REMOVE_MONTH, calendar=CALENDAR)"
   ]
  },
  {
   "cell_type": "code",
   "execution_count": 45,
   "id": "d053d9e7-4c8d-4875-baa5-2a2808067b87",
   "metadata": {},
   "outputs": [
    {
     "data": {
      "text/plain": [
       "[<matplotlib.lines.Line2D at 0x14bad4781660>]"
      ]
     },
     "execution_count": 45,
     "metadata": {},
     "output_type": "execute_result"
    },
    {
     "data": {
      "image/png": "[encoded data removed]",
      "text/plain": [
       "<Figure size 640x480 with 1 Axes>"
      ]
     },
     "metadata": {},
     "output_type": "display_data"
    }
   ],
   "source": [
    "pred_ds.t2m.sel(time=slice(\"2010\", \"2020\")).plot()"
   ]
  },
  {
   "cell_type": "markdown",
   "id": "ca6cbe99-3ec9-4c98-ae73-067a299180d0",
   "metadata": {},
   "source": [
    "## Prepare dataframe for machine learning"
   ]
  },
  {
   "cell_type": "code",
   "execution_count": 84,
   "id": "f3dfedaa-e04c-48c0-937a-2f0e3bf55dd0",
   "metadata": {},
   "outputs": [],
   "source": [
    "T_ONLY = False"
   ]
  },
  {
   "cell_type": "code",
   "execution_count": 87,
   "id": "f42df64a-cf40-45fc-804e-4acf1cd45ae9",
   "metadata": {},
   "outputs": [],
   "source": [
    "region_dfs = {}\n",
    "for region in dem_da.region.values:\n",
    "    df = fn.to_dataframe(dem_da, pred_ds, region)\n",
    "    \n",
    "    for t in TIME_COLUMNS:\n",
    "        df = fn.add_time_column(df, t, calendar=CALENDAR)\n",
    "        \n",
    "    if T_ONLY:\n",
    "        new_cols = np.append(np.append(\"demand\", TIME_COLUMNS), [\"mtpr\", \"w10\", \"msdwswrf\", \"rh\", \"q\", \"t2m\"])\n",
    "    else:\n",
    "        new_cols = np.append(np.append(\"demand\", TIME_COLUMNS), df.columns[:-(len(TIME_COLUMNS) + 1)])\n",
    "    df = df[new_cols]\n",
    "    \n",
    "    region_dfs[region] = df"
   ]
  },
  {
   "cell_type": "code",
   "execution_count": 89,
   "id": "743427e0-4955-457c-b8d7-bf22c691a867",
   "metadata": {},
   "outputs": [
    {
     "data": {
      "text/html": [
       "<div>\n",
       "<style scoped>\n",
       "    .dataframe tbody tr th:only-of-type {\n",
       "        vertical-align: middle;\n",
       "    }\n",
       "\n",
       "    .dataframe tbody tr th {\n",
       "        vertical-align: top;\n",
       "    }\n",
       "\n",
       "    .dataframe thead th {\n",
       "        text-align: right;\n",
       "    }\n",
       "</style>\n",
       "<table border=\"1\" class=\"dataframe\">\n",
       "  <thead>\n",
       "    <tr style=\"text-align: right;\">\n",
       "      <th></th>\n",
       "      <th>demand</th>\n",
       "      <th>is_weekend</th>\n",
       "      <th>hdd4</th>\n",
       "      <th>t2m3</th>\n",
       "      <th>rh</th>\n",
       "      <th>t2m4</th>\n",
       "      <th>t2min</th>\n",
       "      <th>cdd</th>\n",
       "      <th>w10</th>\n",
       "      <th>hdd3</th>\n",
       "      <th>q</th>\n",
       "      <th>hdd</th>\n",
       "      <th>mtpr</th>\n",
       "      <th>cdd3</th>\n",
       "      <th>cdd4</th>\n",
       "      <th>t2m</th>\n",
       "      <th>msdwswrf</th>\n",
       "      <th>t2max</th>\n",
       "    </tr>\n",
       "  </thead>\n",
       "  <tbody>\n",
       "    <tr>\n",
       "      <th>2010-01-01</th>\n",
       "      <td>451465.097738</td>\n",
       "      <td>1</td>\n",
       "      <td>0.059137</td>\n",
       "      <td>296.809199</td>\n",
       "      <td>77.791976</td>\n",
       "      <td>296.334684</td>\n",
       "      <td>291.457241</td>\n",
       "      <td>0.306849</td>\n",
       "      <td>2.851172</td>\n",
       "      <td>0.066103</td>\n",
       "      <td>13.026265</td>\n",
       "      <td>0.210040</td>\n",
       "      <td>0.000080</td>\n",
       "      <td>1.131732</td>\n",
       "      <td>0.950205</td>\n",
       "      <td>294.932766</td>\n",
       "      <td>182.795252</td>\n",
       "      <td>298.835258</td>\n",
       "    </tr>\n",
       "    <tr>\n",
       "      <th>2010-01-02</th>\n",
       "      <td>452373.183829</td>\n",
       "      <td>1</td>\n",
       "      <td>0.282733</td>\n",
       "      <td>295.438404</td>\n",
       "      <td>71.327385</td>\n",
       "      <td>296.059684</td>\n",
       "      <td>290.169984</td>\n",
       "      <td>0.537259</td>\n",
       "      <td>3.420816</td>\n",
       "      <td>0.377464</td>\n",
       "      <td>11.670512</td>\n",
       "      <td>0.932693</td>\n",
       "      <td>0.000049</td>\n",
       "      <td>0.653353</td>\n",
       "      <td>0.983108</td>\n",
       "      <td>293.810930</td>\n",
       "      <td>234.439421</td>\n",
       "      <td>297.945871</td>\n",
       "    </tr>\n",
       "    <tr>\n",
       "      <th>2010-01-03</th>\n",
       "      <td>460430.342624</td>\n",
       "      <td>1</td>\n",
       "      <td>0.579537</td>\n",
       "      <td>293.665205</td>\n",
       "      <td>72.550361</td>\n",
       "      <td>294.641710</td>\n",
       "      <td>289.051242</td>\n",
       "      <td>0.286443</td>\n",
       "      <td>2.972514</td>\n",
       "      <td>0.776123</td>\n",
       "      <td>10.586548</td>\n",
       "      <td>1.185825</td>\n",
       "      <td>0.000066</td>\n",
       "      <td>0.376844</td>\n",
       "      <td>0.561619</td>\n",
       "      <td>292.251413</td>\n",
       "      <td>227.148863</td>\n",
       "      <td>296.184716</td>\n",
       "    </tr>\n",
       "    <tr>\n",
       "      <th>2010-01-04</th>\n",
       "      <td>507166.339096</td>\n",
       "      <td>0</td>\n",
       "      <td>0.600803</td>\n",
       "      <td>293.313986</td>\n",
       "      <td>67.344300</td>\n",
       "      <td>293.718734</td>\n",
       "      <td>289.139517</td>\n",
       "      <td>0.115896</td>\n",
       "      <td>2.582235</td>\n",
       "      <td>0.731081</td>\n",
       "      <td>10.500570</td>\n",
       "      <td>0.074916</td>\n",
       "      <td>0.000008</td>\n",
       "      <td>0.313193</td>\n",
       "      <td>0.311601</td>\n",
       "      <td>293.879116</td>\n",
       "      <td>277.953119</td>\n",
       "      <td>298.149133</td>\n",
       "    </tr>\n",
       "    <tr>\n",
       "      <th>2010-01-05</th>\n",
       "      <td>522990.173209</td>\n",
       "      <td>0</td>\n",
       "      <td>0.590532</td>\n",
       "      <td>293.643693</td>\n",
       "      <td>67.795080</td>\n",
       "      <td>293.685556</td>\n",
       "      <td>289.905604</td>\n",
       "      <td>0.203012</td>\n",
       "      <td>2.717305</td>\n",
       "      <td>0.476502</td>\n",
       "      <td>11.256901</td>\n",
       "      <td>0.168955</td>\n",
       "      <td>0.000004</td>\n",
       "      <td>0.201778</td>\n",
       "      <td>0.285642</td>\n",
       "      <td>294.800052</td>\n",
       "      <td>311.593728</td>\n",
       "      <td>300.051849</td>\n",
       "    </tr>\n",
       "  </tbody>\n",
       "</table>\n",
       "</div>"
      ],
      "text/plain": [
       "                   demand  is_weekend      hdd4        t2m3         rh  \\\n",
       "2010-01-01  451465.097738           1  0.059137  296.809199  77.791976   \n",
       "2010-01-02  452373.183829           1  0.282733  295.438404  71.327385   \n",
       "2010-01-03  460430.342624           1  0.579537  293.665205  72.550361   \n",
       "2010-01-04  507166.339096           0  0.600803  293.313986  67.344300   \n",
       "2010-01-05  522990.173209           0  0.590532  293.643693  67.795080   \n",
       "\n",
       "                  t2m4       t2min       cdd       w10      hdd3          q  \\\n",
       "2010-01-01  296.334684  291.457241  0.306849  2.851172  0.066103  13.026265   \n",
       "2010-01-02  296.059684  290.169984  0.537259  3.420816  0.377464  11.670512   \n",
       "2010-01-03  294.641710  289.051242  0.286443  2.972514  0.776123  10.586548   \n",
       "2010-01-04  293.718734  289.139517  0.115896  2.582235  0.731081  10.500570   \n",
       "2010-01-05  293.685556  289.905604  0.203012  2.717305  0.476502  11.256901   \n",
       "\n",
       "                 hdd      mtpr      cdd3      cdd4         t2m    msdwswrf  \\\n",
       "2010-01-01  0.210040  0.000080  1.131732  0.950205  294.932766  182.795252   \n",
       "2010-01-02  0.932693  0.000049  0.653353  0.983108  293.810930  234.439421   \n",
       "2010-01-03  1.185825  0.000066  0.376844  0.561619  292.251413  227.148863   \n",
       "2010-01-04  0.074916  0.000008  0.313193  0.311601  293.879116  277.953119   \n",
       "2010-01-05  0.168955  0.000004  0.201778  0.285642  294.800052  311.593728   \n",
       "\n",
       "                 t2max  \n",
       "2010-01-01  298.835258  \n",
       "2010-01-02  297.945871  \n",
       "2010-01-03  296.184716  \n",
       "2010-01-04  298.149133  \n",
       "2010-01-05  300.051849  "
      ]
     },
     "execution_count": 89,
     "metadata": {},
     "output_type": "execute_result"
    }
   ],
   "source": [
    "region_dfs[region].head()"
   ]
  },
  {
   "cell_type": "markdown",
   "id": "0a1f0397-ab94-4d8c-9e0a-25112a03ccfb",
   "metadata": {},
   "source": [
    "### Subselect predictors if desired"
   ]
  },
  {
   "cell_type": "code",
   "execution_count": 90,
   "id": "0a45f44a-2787-4550-9a6a-cb31a5fa98cb",
   "metadata": {},
   "outputs": [],
   "source": [
    "region_dfs[REGION] = region_dfs[REGION][\n",
    "    [\"demand\", \"mtpr\", \"w10\", \"msdwswrf\", \"rh\", \"q\", \"t2m\"]\n",
    "]"
   ]
  },
  {
   "cell_type": "code",
   "execution_count": 91,
   "id": "7d6270d3-91aa-432f-aeb4-3664150e8f61",
   "metadata": {},
   "outputs": [],
   "source": [
    "# region_dfs[region].head()"
   ]
  },
  {
   "cell_type": "markdown",
   "id": "1c0f9b51-4f06-4faa-9aeb-2ae17e2b34ca",
   "metadata": {},
   "source": [
    "## Split data into training and testing"
   ]
  },
  {
   "cell_type": "markdown",
   "id": "775f1615-25d5-420f-b204-6732315e61ce",
   "metadata": {},
   "source": [
    "Using this as a guide: https://towardsdatascience.com/random-forest-in-python-24d0893d51c0\n",
    "\n",
    "As this is time series data, leave out a consecutive block for testing (not random non-consecutive times)."
   ]
  },
  {
   "cell_type": "code",
   "execution_count": 92,
   "id": "42e4eb7a-f800-4040-8824-54089c08c09a",
   "metadata": {},
   "outputs": [],
   "source": [
    "test_len = dem_da.sel(time=slice(str(FIRST_TEST_YEAR), str(LAST_TEST_YEAR))).time.values.shape[0]"
   ]
  },
  {
   "cell_type": "code",
   "execution_count": 93,
   "id": "6354a05c-92c4-4e2f-be13-2ef8978e7224",
   "metadata": {},
   "outputs": [
    {
     "data": {
      "text/plain": [
       "2012"
      ]
     },
     "execution_count": 93,
     "metadata": {},
     "output_type": "execute_result"
    }
   ],
   "source": [
    "FIRST_TEST_YEAR"
   ]
  },
  {
   "cell_type": "code",
   "execution_count": 94,
   "id": "cf0dba1d-40e2-4f8a-8bb3-1a4d94214c50",
   "metadata": {},
   "outputs": [],
   "source": [
    "train_X, test_X, train_y, test_y = fn.split(\n",
    "    fn.sel_train_test(region_dfs[REGION], FIRST_TRAIN_YEAR, LAST_TEST_YEAR),\n",
    "    \"demand\",\n",
    "    test_size=test_len,\n",
    "    random_state=0,\n",
    "    shuffle=False\n",
    ")"
   ]
  },
  {
   "cell_type": "code",
   "execution_count": 95,
   "id": "796d5a55-081c-467a-8b5d-1430f13fe0ec",
   "metadata": {},
   "outputs": [
    {
     "name": "stdout",
     "output_type": "stream",
     "text": [
      "(730, 6) (366, 6) (730,) (366,)\n"
     ]
    }
   ],
   "source": [
    "print(train_X.shape, test_X.shape, train_y.shape, test_y.shape)"
   ]
  },
  {
   "cell_type": "markdown",
   "id": "b0b7eb97-53b5-4c27-8222-47634ea47d3d",
   "metadata": {},
   "source": [
    "## Sequential feature selection\n",
    "\n",
    "Chooses the predictors using forwards selection and a stopping criterion for a score."
   ]
  },
  {
   "cell_type": "code",
   "execution_count": 62,
   "id": "2ae82f83-5411-4756-aae6-e31a530b288c",
   "metadata": {},
   "outputs": [],
   "source": [
    "rf = ExtraTreesRegressor(\n",
    "    random_state=0\n",
    ")"
   ]
  },
  {
   "cell_type": "code",
   "execution_count": 63,
   "id": "09a0caca-cd8d-4127-a360-78db4bbfbee6",
   "metadata": {},
   "outputs": [],
   "source": [
    "logo = fn.leave_one_group_out(\n",
    "    train_X,\n",
    "    train_y,\n",
    "    dem_da.sel(time=slice(str(FIRST_TRAIN_YEAR), str(LAST_TRAIN_YEAR))),\n",
    "    str(FIRST_TRAIN_YEAR),\n",
    "    str(LAST_TRAIN_YEAR),\n",
    ")"
   ]
  },
  {
   "cell_type": "code",
   "execution_count": 64,
   "id": "1cfe3e22-723b-4ccc-851f-86cc60638305",
   "metadata": {},
   "outputs": [
    {
     "name": "stdout",
     "output_type": "stream",
     "text": [
      "CPU times: user 1.12 s, sys: 10.4 ms, total: 1.13 s\n",
      "Wall time: 1.13 s\n"
     ]
    }
   ],
   "source": [
    "%%time\n",
    "model = fn.mlextend_sfs(train_X, train_y, rf, list(logo), True, scoring=\"neg_mean_absolute_error\", k_features=N_FEATURES)"
   ]
  },
  {
   "cell_type": "code",
   "execution_count": 65,
   "id": "88cc5e24-e089-42b3-8283-f6a61e7cd68b",
   "metadata": {},
   "outputs": [
    {
     "data": {
      "text/plain": [
       "{1: {'feature_idx': (2,),\n",
       "  'cv_scores': array([-11984.13550535, -12523.15960258]),\n",
       "  'avg_score': -12253.64755396497,\n",
       "  'feature_names': ('2',)},\n",
       " 2: {'feature_idx': (0, 2),\n",
       "  'cv_scores': array([-11211.65918594, -11763.8079314 ]),\n",
       "  'avg_score': -11487.733558672324,\n",
       "  'feature_names': ('0', '2')},\n",
       " 3: {'feature_idx': (0, 1, 2),\n",
       "  'cv_scores': array([-10869.06115419, -17574.97478941]),\n",
       "  'avg_score': -14222.017971799654,\n",
       "  'feature_names': ('0', '1', '2')}}"
      ]
     },
     "execution_count": 65,
     "metadata": {},
     "output_type": "execute_result"
    }
   ],
   "source": [
    "model.subsets_"
   ]
  },
  {
   "cell_type": "code",
   "execution_count": 66,
   "id": "c4999b3a-81ae-494e-8dc9-11fedfa6c448",
   "metadata": {},
   "outputs": [
    {
     "data": {
      "text/plain": [
       "(0, 2)"
      ]
     },
     "execution_count": 66,
     "metadata": {},
     "output_type": "execute_result"
    }
   ],
   "source": [
    "model.k_feature_idx_"
   ]
  },
  {
   "cell_type": "code",
   "execution_count": 67,
   "id": "103e29d7-f195-406c-9824-a619470529f3",
   "metadata": {},
   "outputs": [
    {
     "data": {
      "text/plain": [
       "Index(['hdd', 'cdd', 't2m'], dtype='object')"
      ]
     },
     "execution_count": 67,
     "metadata": {},
     "output_type": "execute_result"
    }
   ],
   "source": [
    "features = region_dfs[region].columns[1:]\n",
    "features"
   ]
  },
  {
   "cell_type": "code",
   "execution_count": 68,
   "id": "3ad43cd1-fe5a-466d-baa9-9db59a1c589e",
   "metadata": {},
   "outputs": [
    {
     "name": "stdout",
     "output_type": "stream",
     "text": [
      "['hdd', 't2m']\n"
     ]
    }
   ],
   "source": [
    "selected_features = list(features[list(model.k_feature_idx_)])\n",
    "print(selected_features)"
   ]
  },
  {
   "cell_type": "code",
   "execution_count": 69,
   "id": "4cf3d10f-0231-4096-988f-381a255e7040",
   "metadata": {},
   "outputs": [],
   "source": [
    "results_df = pd.DataFrame.from_dict(model.get_metric_dict()).T"
   ]
  },
  {
   "cell_type": "code",
   "execution_count": 70,
   "id": "6838a199-6139-4483-bc83-a999a3b52265",
   "metadata": {},
   "outputs": [],
   "source": [
    "feature_names = [\n",
    "    [features[i] for i in results_df[\"feature_idx\"].iloc[j]]\n",
    "    for j in range(len(results_df))\n",
    "]"
   ]
  },
  {
   "cell_type": "code",
   "execution_count": 71,
   "id": "3dc0d6c2-5149-4636-a7d6-cd253c6e5e6e",
   "metadata": {},
   "outputs": [],
   "source": [
    "results_df[\"feature_names\"] = feature_names"
   ]
  },
  {
   "cell_type": "markdown",
   "id": "349bc73c-2027-4926-bac2-0d07cc9d1585",
   "metadata": {},
   "source": [
    "Add boolean column , with True in row of selected features"
   ]
  },
  {
   "cell_type": "code",
   "execution_count": 88,
   "id": "d3003ef2-0d4f-4d71-99fb-8f490400d8a7",
   "metadata": {},
   "outputs": [],
   "source": [
    "results_df[\"selected_features\"] = [len(i) == len(selected_features) for i in results_df[\"feature_idx\"]]"
   ]
  },
  {
   "cell_type": "code",
   "execution_count": 89,
   "id": "edca68f3-608c-4e03-acaa-1ad99dd3b17b",
   "metadata": {},
   "outputs": [
    {
     "data": {
      "text/html": [
       "<div>\n",
       "<style scoped>\n",
       "    .dataframe tbody tr th:only-of-type {\n",
       "        vertical-align: middle;\n",
       "    }\n",
       "\n",
       "    .dataframe tbody tr th {\n",
       "        vertical-align: top;\n",
       "    }\n",
       "\n",
       "    .dataframe thead th {\n",
       "        text-align: right;\n",
       "    }\n",
       "</style>\n",
       "<table border=\"1\" class=\"dataframe\">\n",
       "  <thead>\n",
       "    <tr style=\"text-align: right;\">\n",
       "      <th></th>\n",
       "      <th>feature_idx</th>\n",
       "      <th>cv_scores</th>\n",
       "      <th>avg_score</th>\n",
       "      <th>feature_names</th>\n",
       "      <th>ci_bound</th>\n",
       "      <th>std_dev</th>\n",
       "      <th>std_err</th>\n",
       "      <th>selected_features</th>\n",
       "    </tr>\n",
       "  </thead>\n",
       "  <tbody>\n",
       "    <tr>\n",
       "      <th>1</th>\n",
       "      <td>(2,)</td>\n",
       "      <td>[-11984.135505352799, -12523.159602577138]</td>\n",
       "      <td>-12253.647554</td>\n",
       "      <td>[t2m]</td>\n",
       "      <td>1159.616752</td>\n",
       "      <td>269.512049</td>\n",
       "      <td>269.512049</td>\n",
       "      <td>False</td>\n",
       "    </tr>\n",
       "    <tr>\n",
       "      <th>2</th>\n",
       "      <td>(0, 2)</td>\n",
       "      <td>[-11211.659185941115, -11763.807931403535]</td>\n",
       "      <td>-11487.733559</td>\n",
       "      <td>[hdd, t2m]</td>\n",
       "      <td>1187.852153</td>\n",
       "      <td>276.074373</td>\n",
       "      <td>276.074373</td>\n",
       "      <td>True</td>\n",
       "    </tr>\n",
       "    <tr>\n",
       "      <th>3</th>\n",
       "      <td>(0, 1, 2)</td>\n",
       "      <td>[-10869.061154186098, -17574.97478941321]</td>\n",
       "      <td>-14222.017972</td>\n",
       "      <td>[hdd, cdd, t2m]</td>\n",
       "      <td>14426.608805</td>\n",
       "      <td>3352.956818</td>\n",
       "      <td>3352.956818</td>\n",
       "      <td>False</td>\n",
       "    </tr>\n",
       "  </tbody>\n",
       "</table>\n",
       "</div>"
      ],
      "text/plain": [
       "  feature_idx                                   cv_scores     avg_score  \\\n",
       "1        (2,)  [-11984.135505352799, -12523.159602577138] -12253.647554   \n",
       "2      (0, 2)  [-11211.659185941115, -11763.807931403535] -11487.733559   \n",
       "3   (0, 1, 2)   [-10869.061154186098, -17574.97478941321] -14222.017972   \n",
       "\n",
       "     feature_names      ci_bound      std_dev      std_err  selected_features  \n",
       "1            [t2m]   1159.616752   269.512049   269.512049              False  \n",
       "2       [hdd, t2m]   1187.852153   276.074373   276.074373               True  \n",
       "3  [hdd, cdd, t2m]  14426.608805  3352.956818  3352.956818              False  "
      ]
     },
     "execution_count": 89,
     "metadata": {},
     "output_type": "execute_result"
    }
   ],
   "source": [
    "results_df"
   ]
  },
  {
   "cell_type": "markdown",
   "id": "5d5acba1-33d6-4290-8602-6ee4a0eaa291",
   "metadata": {},
   "source": [
    "Write results to file"
   ]
  },
  {
   "cell_type": "code",
   "execution_count": 178,
   "id": "2d434711-9ced-493f-a93d-69ccf73cddfd",
   "metadata": {},
   "outputs": [],
   "source": [
    "def get_filename(\n",
    "    filename, market, region, mask_name,\n",
    "    first_train_year, last_train_year, first_test_year, last_test_year,\n",
    "    weekend=False, xmas=False, month=None\n",
    "):\n",
    "    \"\"\"\n",
    "    Return a filename appropriate for the modelling choices made.\n",
    "    \"\"\"\n",
    "    filename = filename + \"_\" + market + \"_\" + region + \"_\" + mask_name\n",
    "    if weekend:\n",
    "        filename += \"_NOWEEKEND\"\n",
    "    if xmas:\n",
    "        filename += \"_NOXMAS\"\n",
    "    if month is not None:\n",
    "        filename = filename + \"_NOMONTH\" + str(month)\n",
    "        \n",
    "    filename =  filename + \"_training\" + str(first_train_year) + \"-\" + str(last_train_year)\n",
    "    filename = filename + \"_test\" + str(first_test_year) + \"-\" + str(last_test_year)\n",
    "    \n",
    "    return filename"
   ]
  },
  {
   "cell_type": "code",
   "execution_count": 180,
   "id": "c05ee4a4-7b84-4972-b3bf-5df06f4c3e96",
   "metadata": {},
   "outputs": [],
   "source": [
    "filename = get_filename(\n",
    "    \"feature_selection_results\", MARKET, REGION, MASK_NAME,\n",
    "    FIRST_TRAIN_YEAR, LAST_TRAIN_YEAR, FIRST_TEST_YEAR, LAST_TEST_YEAR,\n",
    "    REMOVE_WEEKEND, REMOVE_XMAS, REMOVE_MONTH\n",
    ")"
   ]
  },
  {
   "cell_type": "code",
   "execution_count": 181,
   "id": "cd77f57a-6704-4e11-a280-df930873eb62",
   "metadata": {},
   "outputs": [
    {
     "data": {
      "text/plain": [
       "'feature_selection_results_NEM_NSW_pop_dens_mask_training2010-2011_test2012-2012'"
      ]
     },
     "execution_count": 181,
     "metadata": {},
     "output_type": "execute_result"
    }
   ],
   "source": [
    "filename"
   ]
  },
  {
   "cell_type": "code",
   "execution_count": 182,
   "id": "1081a015-8302-4d11-9734-4ec3e29201b2",
   "metadata": {},
   "outputs": [],
   "source": [
    "results_df.to_csv(\n",
    "    PATH + \"model_results/feature_selection/random_forest/\" + filename + \".csv\",\n",
    ")"
   ]
  },
  {
   "cell_type": "code",
   "execution_count": 114,
   "id": "f975afea-d756-47fc-b814-925247b4d686",
   "metadata": {},
   "outputs": [
    {
     "data": {
      "image/png": "[encoded data removed]",
      "text/plain": [
       "<Figure size 640x480 with 1 Axes>"
      ]
     },
     "metadata": {},
     "output_type": "display_data"
    }
   ],
   "source": [
    "fig1 = plot_sfs(model.get_metric_dict(), kind='std_dev')\n",
    "plt.title('Sequential Forward Selection (w. StdDev)')\n",
    "plt.grid()\n",
    "plt.show()"
   ]
  },
  {
   "cell_type": "markdown",
   "id": "fec7ebfc-7472-4529-8de1-607f70ede74e",
   "metadata": {
    "tags": []
   },
   "source": [
    "## Tune hyperparameters\n",
    "\n",
    "Using leave one group out cross validation, where a group is a year."
   ]
  },
  {
   "cell_type": "code",
   "execution_count": 133,
   "id": "e6ebb30f-83ff-4346-ad79-9d6e36ae755f",
   "metadata": {},
   "outputs": [],
   "source": [
    "# parameters = {\n",
    "#     \"n_estimators\": randint(200, 500), # no. trees in the forest\n",
    "#     \"min_samples_leaf\": randint(5, 30), # min no. samples at leaf node\n",
    "#     \"max_depth\" : randint(5, 50), # max depth of each tree\n",
    "#     \"max_leaf_nodes\": randint(20, 200) # size of tree, how many end nodes\n",
    "# }"
   ]
  },
  {
   "cell_type": "code",
   "execution_count": 185,
   "id": "9f288a6b-fc28-4a66-a0f2-857258e70ea7",
   "metadata": {},
   "outputs": [],
   "source": [
    "# very restricted space for testing\n",
    "parameters = {\n",
    "    \"n_estimators\": randint(20, 22), # no. trees in the forest\n",
    "    \"min_samples_leaf\": randint(5, 7), # min no. samples at leaf node\n",
    "    \"max_depth\" : randint(5, 7), # max depth of each tree\n",
    "    \"max_leaf_nodes\": randint(20, 22) # size of tree, how many end nodes\n",
    "}"
   ]
  },
  {
   "cell_type": "code",
   "execution_count": 186,
   "id": "df6f5a8b-3f90-4e04-bfd0-1e2e2fe65218",
   "metadata": {},
   "outputs": [],
   "source": [
    "retain = [\"demand\"] + selected_features"
   ]
  },
  {
   "cell_type": "code",
   "execution_count": 187,
   "id": "26cfec80-5b79-49fa-b449-ee14e50ce391",
   "metadata": {},
   "outputs": [],
   "source": [
    "final_features = region_dfs[region][retain]"
   ]
  },
  {
   "cell_type": "code",
   "execution_count": 188,
   "id": "dfab5812-a53e-4028-8401-7c170e9d58c4",
   "metadata": {},
   "outputs": [
    {
     "data": {
      "text/html": [
       "<div>\n",
       "<style scoped>\n",
       "    .dataframe tbody tr th:only-of-type {\n",
       "        vertical-align: middle;\n",
       "    }\n",
       "\n",
       "    .dataframe tbody tr th {\n",
       "        vertical-align: top;\n",
       "    }\n",
       "\n",
       "    .dataframe thead th {\n",
       "        text-align: right;\n",
       "    }\n",
       "</style>\n",
       "<table border=\"1\" class=\"dataframe\">\n",
       "  <thead>\n",
       "    <tr style=\"text-align: right;\">\n",
       "      <th></th>\n",
       "      <th>demand</th>\n",
       "      <th>hdd</th>\n",
       "    </tr>\n",
       "  </thead>\n",
       "  <tbody>\n",
       "    <tr>\n",
       "      <th>2010-01-01</th>\n",
       "      <td>167621.888019</td>\n",
       "      <td>0.000324</td>\n",
       "    </tr>\n",
       "    <tr>\n",
       "      <th>2010-01-02</th>\n",
       "      <td>169699.603911</td>\n",
       "      <td>0.008797</td>\n",
       "    </tr>\n",
       "    <tr>\n",
       "      <th>2010-01-03</th>\n",
       "      <td>162531.991928</td>\n",
       "      <td>0.236494</td>\n",
       "    </tr>\n",
       "    <tr>\n",
       "      <th>2010-01-04</th>\n",
       "      <td>180512.667072</td>\n",
       "      <td>0.019122</td>\n",
       "    </tr>\n",
       "    <tr>\n",
       "      <th>2010-01-05</th>\n",
       "      <td>194817.439344</td>\n",
       "      <td>-0.000134</td>\n",
       "    </tr>\n",
       "  </tbody>\n",
       "</table>\n",
       "</div>"
      ],
      "text/plain": [
       "                   demand       hdd\n",
       "2010-01-01  167621.888019  0.000324\n",
       "2010-01-02  169699.603911  0.008797\n",
       "2010-01-03  162531.991928  0.236494\n",
       "2010-01-04  180512.667072  0.019122\n",
       "2010-01-05  194817.439344 -0.000134"
      ]
     },
     "execution_count": 188,
     "metadata": {},
     "output_type": "execute_result"
    }
   ],
   "source": [
    "final_features.head()"
   ]
  },
  {
   "cell_type": "code",
   "execution_count": 189,
   "id": "dcc640b3-8028-4965-abca-e27ef3f8533c",
   "metadata": {},
   "outputs": [],
   "source": [
    "train_X, test_X, train_y, test_y = fn.split(\n",
    "    fn.sel_train_test(final_features, FIRST_TRAIN_YEAR, LAST_TEST_YEAR),\n",
    "    \"demand\",\n",
    "    test_size=test_len,\n",
    "    random_state=0,\n",
    "    shuffle=False\n",
    ")"
   ]
  },
  {
   "cell_type": "code",
   "execution_count": 190,
   "id": "bf71411f-c061-4ec5-9db1-dc79c9bd48be",
   "metadata": {},
   "outputs": [],
   "source": [
    "rf = ExtraTreesRegressor()"
   ]
  },
  {
   "cell_type": "code",
   "execution_count": 191,
   "id": "d19a98f2-a6c1-4e8d-8de7-9f5f3f1c5792",
   "metadata": {},
   "outputs": [
    {
     "name": "stdout",
     "output_type": "stream",
     "text": [
      "[2010 2010 2010 2010 2010 2010 2010 2010 2010 2010 2010 2010 2010 2010\n",
      " 2010 2010 2010 2010 2010 2010 2010 2010 2010 2010 2010 2010 2010 2010\n",
      " 2010 2010 2010 2010 2010 2010 2010 2010 2010 2010 2010 2010 2010 2010\n",
      " 2010 2010 2010 2010 2010 2010 2010 2010 2010 2010 2010 2010 2010 2010\n",
      " 2010 2010 2010 2010 2010 2010 2010 2010 2010 2010 2010 2010 2010 2010\n",
      " 2010 2010 2010 2010 2010 2010 2010 2010 2010 2010 2010 2010 2010 2010\n",
      " 2010 2010 2010 2010 2010 2010 2010 2010 2010 2010 2010 2010 2010 2010\n",
      " 2010 2010 2010 2010 2010 2010 2010 2010 2010 2010 2010 2010 2010 2010\n",
      " 2010 2010 2010 2010 2010 2010 2010 2010 2010 2010 2010 2010 2010 2010\n",
      " 2010 2010 2010 2010 2010 2010 2010 2010 2010 2010 2010 2010 2010 2010\n",
      " 2010 2010 2010 2010 2010 2010 2010 2010 2010 2010 2010 2010 2010 2010\n",
      " 2010 2010 2010 2010 2010 2010 2010 2010 2010 2010 2010 2010 2010 2010\n",
      " 2010 2010 2010 2010 2010 2010 2010 2010 2010 2010 2010 2010 2010 2010\n",
      " 2010 2010 2010 2010 2010 2010 2010 2010 2010 2010 2010 2010 2010 2010\n",
      " 2010 2010 2010 2010 2010 2010 2010 2010 2010 2010 2010 2010 2010 2010\n",
      " 2010 2010 2010 2010 2010 2010 2010 2010 2010 2010 2010 2010 2010 2010\n",
      " 2010 2010 2010 2010 2010 2010 2010 2010 2010 2010 2010 2010 2010 2010\n",
      " 2010 2010 2010 2010 2010 2010 2010 2010 2010 2010 2010 2010 2010 2010\n",
      " 2010 2010 2010 2010 2010 2010 2010 2010 2010 2010 2010 2010 2010 2010\n",
      " 2010 2010 2010 2010 2010 2010 2010 2010 2010 2010 2010 2010 2010 2010\n",
      " 2010 2010 2010 2010 2010 2010 2010 2010 2010 2010 2010 2010 2010 2010\n",
      " 2010 2010 2010 2010 2010 2010 2010 2010 2010 2010 2010 2010 2010 2010\n",
      " 2010 2010 2010 2010 2010 2010 2010 2010 2010 2010 2010 2010 2010 2010\n",
      " 2010 2010 2010 2010 2010 2010 2010 2010 2010 2010 2010 2010 2010 2010\n",
      " 2010 2010 2010 2010 2010 2010 2010 2010 2010 2010 2010 2010 2010 2010\n",
      " 2010 2010 2010 2010 2010 2010 2010 2010 2010 2010 2010 2010 2010 2010\n",
      " 2010 2011 2011 2011 2011 2011 2011 2011 2011 2011 2011 2011 2011 2011\n",
      " 2011 2011 2011 2011 2011 2011 2011 2011 2011 2011 2011 2011 2011 2011\n",
      " 2011 2011 2011 2011 2011 2011 2011 2011 2011 2011 2011 2011 2011 2011\n",
      " 2011 2011 2011 2011 2011 2011 2011 2011 2011 2011 2011 2011 2011 2011\n",
      " 2011 2011 2011 2011 2011 2011 2011 2011 2011 2011 2011 2011 2011 2011\n",
      " 2011 2011 2011 2011 2011 2011 2011 2011 2011 2011 2011 2011 2011 2011\n",
      " 2011 2011 2011 2011 2011 2011 2011 2011 2011 2011 2011 2011 2011 2011\n",
      " 2011 2011 2011 2011 2011 2011 2011 2011 2011 2011 2011 2011 2011 2011\n",
      " 2011 2011 2011 2011 2011 2011 2011 2011 2011 2011 2011 2011 2011 2011\n",
      " 2011 2011 2011 2011 2011 2011 2011 2011 2011 2011 2011 2011 2011 2011\n",
      " 2011 2011 2011 2011 2011 2011 2011 2011 2011 2011 2011 2011 2011 2011\n",
      " 2011 2011 2011 2011 2011 2011 2011 2011 2011 2011 2011 2011 2011 2011\n",
      " 2011 2011 2011 2011 2011 2011 2011 2011 2011 2011 2011 2011 2011 2011\n",
      " 2011 2011 2011 2011 2011 2011 2011 2011 2011 2011 2011 2011 2011 2011\n",
      " 2011 2011 2011 2011 2011 2011 2011 2011 2011 2011 2011 2011 2011 2011\n",
      " 2011 2011 2011 2011 2011 2011 2011 2011 2011 2011 2011 2011 2011 2011\n",
      " 2011 2011 2011 2011 2011 2011 2011 2011 2011 2011 2011 2011 2011 2011\n",
      " 2011 2011 2011 2011 2011 2011 2011 2011 2011 2011 2011 2011 2011 2011\n",
      " 2011 2011 2011 2011 2011 2011 2011 2011 2011 2011 2011 2011 2011 2011\n",
      " 2011 2011 2011 2011 2011 2011 2011 2011 2011 2011 2011 2011 2011 2011\n",
      " 2011 2011 2011 2011 2011 2011 2011 2011 2011 2011 2011 2011 2011 2011\n",
      " 2011 2011 2011 2011 2011 2011 2011 2011 2011 2011 2011 2011 2011 2011\n",
      " 2011 2011 2011 2011 2011 2011 2011 2011 2011 2011 2011 2011 2011 2011\n",
      " 2011 2011 2011 2011 2011 2011 2011 2011 2011 2011 2011 2011 2011 2011\n",
      " 2011 2011 2011 2011 2011 2011 2011 2011 2011 2011 2011 2011 2011 2011\n",
      " 2011 2011 2011 2011 2011 2011 2011 2011 2011 2011 2011 2011 2011 2011\n",
      " 2011 2011]\n"
     ]
    }
   ],
   "source": [
    "logo = fn.leave_one_group_out(\n",
    "    train_X,\n",
    "    train_y,\n",
    "    dem_da.sel(time=slice(str(FIRST_TRAIN_YEAR), str(LAST_TRAIN_YEAR))),\n",
    "    str(FIRST_TRAIN_YEAR),\n",
    "    str(LAST_TRAIN_YEAR)\n",
    ")"
   ]
  },
  {
   "cell_type": "code",
   "execution_count": 192,
   "id": "6ac60c5f-aa0f-4b5d-980b-b964ef4af382",
   "metadata": {},
   "outputs": [
    {
     "name": "stdout",
     "output_type": "stream",
     "text": [
      "CPU times: user 120 ms, sys: 13.9 ms, total: 134 ms\n",
      "Wall time: 172 ms\n"
     ]
    }
   ],
   "source": [
    "%%time\n",
    "best_params = fn.tune_hyperparameters(\n",
    "    train_X,\n",
    "    train_y,\n",
    "    rf,\n",
    "    parameters,\n",
    "    logo,\n",
    "    n_iter=3#200\n",
    ")"
   ]
  },
  {
   "cell_type": "code",
   "execution_count": 193,
   "id": "e71ae9c3-11bc-46ef-b67d-098dc265b300",
   "metadata": {},
   "outputs": [
    {
     "data": {
      "text/plain": [
       "{'max_depth': 6,\n",
       " 'max_leaf_nodes': 21,\n",
       " 'min_samples_leaf': 6,\n",
       " 'n_estimators': 21}"
      ]
     },
     "execution_count": 193,
     "metadata": {},
     "output_type": "execute_result"
    }
   ],
   "source": [
    "best_params"
   ]
  },
  {
   "cell_type": "code",
   "execution_count": 194,
   "id": "3cda47d6-ba24-4be6-bd2d-c36ce2623bf4",
   "metadata": {},
   "outputs": [
    {
     "data": {
      "text/plain": [
       "['max_depth', 'max_leaf_nodes', 'min_samples_leaf', 'n_estimators']"
      ]
     },
     "execution_count": 194,
     "metadata": {},
     "output_type": "execute_result"
    }
   ],
   "source": [
    "list(best_params.keys())"
   ]
  },
  {
   "cell_type": "code",
   "execution_count": 195,
   "id": "281d609a-3dad-4203-89a2-b09990866cc3",
   "metadata": {},
   "outputs": [],
   "source": [
    "best_params_df = pd.Series(\n",
    "    [best_params[i] for i in list(best_params.keys())],\n",
    "    index=list(best_params.keys())\n",
    ")"
   ]
  },
  {
   "cell_type": "code",
   "execution_count": 196,
   "id": "da34ac10-9a06-40ba-876f-2fad67744add",
   "metadata": {},
   "outputs": [
    {
     "data": {
      "text/plain": [
       "max_depth            6\n",
       "max_leaf_nodes      21\n",
       "min_samples_leaf     6\n",
       "n_estimators        21\n",
       "dtype: int64"
      ]
     },
     "execution_count": 196,
     "metadata": {},
     "output_type": "execute_result"
    }
   ],
   "source": [
    "best_params_df"
   ]
  },
  {
   "cell_type": "code",
   "execution_count": 197,
   "id": "a1fec56a-cae8-496b-80e3-f2984014a306",
   "metadata": {},
   "outputs": [],
   "source": [
    "filename = get_filename(\n",
    "    \"hyperparameters\", MARKET, REGION, MASK_NAME,\n",
    "    FIRST_TRAIN_YEAR, LAST_TRAIN_YEAR, FIRST_TEST_YEAR, LAST_TEST_YEAR,\n",
    "    REMOVE_WEEKEND, REMOVE_XMAS, REMOVE_MONTH\n",
    ")"
   ]
  },
  {
   "cell_type": "code",
   "execution_count": 198,
   "id": "cba39d01-d6d2-4e33-9690-e8d4667cc367",
   "metadata": {},
   "outputs": [],
   "source": [
    "best_params_df.to_csv(\n",
    "    PATH + \"model_results/hyperparameters/random_forest/\" + filename + \".csv\",\n",
    ")"
   ]
  },
  {
   "cell_type": "markdown",
   "id": "033804e3-135b-4e58-a66c-a9ab9e2151ed",
   "metadata": {},
   "source": [
    "## Finalise model"
   ]
  },
  {
   "cell_type": "code",
   "execution_count": 199,
   "id": "69e744d2-0c4b-4196-b90f-47086f085c37",
   "metadata": {},
   "outputs": [],
   "source": [
    "rf = ExtraTreesRegressor(\n",
    "    n_estimators=best_params[\"n_estimators\"],\n",
    "    min_samples_leaf=best_params[\"min_samples_leaf\"],\n",
    "    max_depth=best_params[\"max_depth\"],\n",
    "    max_leaf_nodes=best_params[\"max_leaf_nodes\"],\n",
    "    random_state=0,\n",
    ")"
   ]
  },
  {
   "cell_type": "code",
   "execution_count": 200,
   "id": "ee062991-8b86-4cd4-a0a3-657816341bff",
   "metadata": {},
   "outputs": [],
   "source": [
    "model_train, pred_train = fn.predict_forest(train_y, train_X, train_X, rf)"
   ]
  },
  {
   "cell_type": "code",
   "execution_count": 201,
   "id": "959201c8-66d3-44ec-9996-a3be3c74f524",
   "metadata": {},
   "outputs": [],
   "source": [
    "model_test, pred_test = fn.predict_forest(train_y, train_X, test_X, rf)"
   ]
  },
  {
   "cell_type": "code",
   "execution_count": 202,
   "id": "5cfc07ab-8283-4b3c-bc60-8d0e28a43fb6",
   "metadata": {},
   "outputs": [
    {
     "data": {
      "text/plain": [
       "(730,)"
      ]
     },
     "execution_count": 202,
     "metadata": {},
     "output_type": "execute_result"
    }
   ],
   "source": [
    "pred_train.shape"
   ]
  },
  {
   "cell_type": "code",
   "execution_count": 203,
   "id": "c8f2be32-d757-40a0-a786-8ed831c3c945",
   "metadata": {},
   "outputs": [
    {
     "data": {
      "text/plain": [
       "(366,)"
      ]
     },
     "execution_count": 203,
     "metadata": {},
     "output_type": "execute_result"
    }
   ],
   "source": [
    "pred_test.shape"
   ]
  },
  {
   "cell_type": "markdown",
   "id": "61c4b06e-ab10-4144-97b5-717729cfe56b",
   "metadata": {},
   "source": [
    "#### Dataframes of observations and predictions for training and testing period"
   ]
  },
  {
   "cell_type": "markdown",
   "id": "5963bb96-3672-4fb0-884a-3e207a441da0",
   "metadata": {},
   "source": [
    "Training"
   ]
  },
  {
   "cell_type": "code",
   "execution_count": 219,
   "id": "5d5e33dd-6447-4d98-959a-2dab77edd942",
   "metadata": {},
   "outputs": [],
   "source": [
    "train_df = pd.DataFrame(\n",
    "    np.vstack([train_y, pred_train]).transpose(),\n",
    "    columns=[\"observation\", \"prediction\"],\n",
    "    index=dem_da.sel(time=slice(str(FIRST_TRAIN_YEAR), str(LAST_TRAIN_YEAR))).time\n",
    ")"
   ]
  },
  {
   "cell_type": "code",
   "execution_count": 220,
   "id": "eda9a431-d9aa-47f3-90c7-e6b50d311892",
   "metadata": {},
   "outputs": [
    {
     "data": {
      "text/html": [
       "<div>\n",
       "<style scoped>\n",
       "    .dataframe tbody tr th:only-of-type {\n",
       "        vertical-align: middle;\n",
       "    }\n",
       "\n",
       "    .dataframe tbody tr th {\n",
       "        vertical-align: top;\n",
       "    }\n",
       "\n",
       "    .dataframe thead th {\n",
       "        text-align: right;\n",
       "    }\n",
       "</style>\n",
       "<table border=\"1\" class=\"dataframe\">\n",
       "  <thead>\n",
       "    <tr style=\"text-align: right;\">\n",
       "      <th></th>\n",
       "      <th>observation</th>\n",
       "      <th>prediction</th>\n",
       "    </tr>\n",
       "  </thead>\n",
       "  <tbody>\n",
       "    <tr>\n",
       "      <th>2010-01-01</th>\n",
       "      <td>167621.888019</td>\n",
       "      <td>199368.696176</td>\n",
       "    </tr>\n",
       "    <tr>\n",
       "      <th>2010-01-02</th>\n",
       "      <td>169699.603911</td>\n",
       "      <td>196443.651461</td>\n",
       "    </tr>\n",
       "    <tr>\n",
       "      <th>2010-01-03</th>\n",
       "      <td>162531.991928</td>\n",
       "      <td>188464.388320</td>\n",
       "    </tr>\n",
       "    <tr>\n",
       "      <th>2010-01-04</th>\n",
       "      <td>180512.667072</td>\n",
       "      <td>193922.764594</td>\n",
       "    </tr>\n",
       "    <tr>\n",
       "      <th>2010-01-05</th>\n",
       "      <td>194817.439344</td>\n",
       "      <td>200226.879254</td>\n",
       "    </tr>\n",
       "    <tr>\n",
       "      <th>...</th>\n",
       "      <td>...</td>\n",
       "      <td>...</td>\n",
       "    </tr>\n",
       "    <tr>\n",
       "      <th>2011-12-27</th>\n",
       "      <td>163309.141429</td>\n",
       "      <td>187309.335707</td>\n",
       "    </tr>\n",
       "    <tr>\n",
       "      <th>2011-12-28</th>\n",
       "      <td>170383.365991</td>\n",
       "      <td>188070.772650</td>\n",
       "    </tr>\n",
       "    <tr>\n",
       "      <th>2011-12-29</th>\n",
       "      <td>171176.454211</td>\n",
       "      <td>188070.772650</td>\n",
       "    </tr>\n",
       "    <tr>\n",
       "      <th>2011-12-30</th>\n",
       "      <td>170610.961444</td>\n",
       "      <td>188037.752945</td>\n",
       "    </tr>\n",
       "    <tr>\n",
       "      <th>2011-12-31</th>\n",
       "      <td>162693.278003</td>\n",
       "      <td>190826.961611</td>\n",
       "    </tr>\n",
       "  </tbody>\n",
       "</table>\n",
       "<p>730 rows × 2 columns</p>\n",
       "</div>"
      ],
      "text/plain": [
       "              observation     prediction\n",
       "2010-01-01  167621.888019  199368.696176\n",
       "2010-01-02  169699.603911  196443.651461\n",
       "2010-01-03  162531.991928  188464.388320\n",
       "2010-01-04  180512.667072  193922.764594\n",
       "2010-01-05  194817.439344  200226.879254\n",
       "...                   ...            ...\n",
       "2011-12-27  163309.141429  187309.335707\n",
       "2011-12-28  170383.365991  188070.772650\n",
       "2011-12-29  171176.454211  188070.772650\n",
       "2011-12-30  170610.961444  188037.752945\n",
       "2011-12-31  162693.278003  190826.961611\n",
       "\n",
       "[730 rows x 2 columns]"
      ]
     },
     "execution_count": 220,
     "metadata": {},
     "output_type": "execute_result"
    }
   ],
   "source": [
    "train_df"
   ]
  },
  {
   "cell_type": "code",
   "execution_count": 221,
   "id": "5c6e5656-cfe5-419c-b068-5c1ce67e68c8",
   "metadata": {},
   "outputs": [],
   "source": [
    "filename = get_filename(\n",
    "    \"training_predictions\", MARKET, REGION, MASK_NAME,\n",
    "    FIRST_TRAIN_YEAR, LAST_TRAIN_YEAR, FIRST_TEST_YEAR, LAST_TEST_YEAR,\n",
    "    REMOVE_WEEKEND, REMOVE_XMAS, REMOVE_MONTH\n",
    ")"
   ]
  },
  {
   "cell_type": "code",
   "execution_count": 222,
   "id": "a539cf2b-c9b3-488c-a0c8-9bf8f2911d9b",
   "metadata": {},
   "outputs": [],
   "source": [
    "best_params_df.to_csv(\n",
    "    PATH + \"model_results/training/random_forest/\" + filename + \".csv\",\n",
    ")"
   ]
  },
  {
   "cell_type": "markdown",
   "id": "3fb2320e-50d4-4f99-8e13-928d73bc182d",
   "metadata": {},
   "source": [
    "Test"
   ]
  },
  {
   "cell_type": "code",
   "execution_count": 223,
   "id": "d5e1fba0-72b9-4ef8-8b1c-fc2f96e9210d",
   "metadata": {},
   "outputs": [],
   "source": [
    "test_df = pd.DataFrame(\n",
    "    np.vstack([test_y, pred_test]).transpose(),\n",
    "    columns=[\"observation\", \"prediction\"],\n",
    "    index=dem_da.sel(time=slice(str(FIRST_TEST_YEAR), str(LAST_TEST_YEAR))).time\n",
    ")"
   ]
  },
  {
   "cell_type": "code",
   "execution_count": 225,
   "id": "a13e8cc2-0b8d-4578-892d-436ad484284f",
   "metadata": {},
   "outputs": [],
   "source": [
    "filename = get_filename(\n",
    "    \"test_predictions\", MARKET, REGION, MASK_NAME,\n",
    "    FIRST_TRAIN_YEAR, LAST_TRAIN_YEAR, FIRST_TEST_YEAR, LAST_TEST_YEAR,\n",
    "    REMOVE_WEEKEND, REMOVE_XMAS, REMOVE_MONTH\n",
    ")"
   ]
  },
  {
   "cell_type": "code",
   "execution_count": 226,
   "id": "6ac83a5b-dfc6-4df4-941a-58172345541e",
   "metadata": {},
   "outputs": [],
   "source": [
    "best_params_df.to_csv(\n",
    "    PATH + \"model_results/test/random_forest/\" + filename + \".csv\",\n",
    ")"
   ]
  },
  {
   "cell_type": "code",
   "execution_count": null,
   "id": "7ccc6065-44b0-4beb-ad4e-a194f13b514d",
   "metadata": {},
   "outputs": [],
   "source": []
  }
 ],
 "metadata": {
  "kernelspec": {
   "display_name": "Python (pangeo_ML)",
   "language": "python",
   "name": "pangeo_ml"
  },
  "language_info": {
   "codemirror_mode": {
    "name": "ipython",
    "version": 3
   },
   "file_extension": ".py",
   "mimetype": "text/x-python",
   "name": "python",
   "nbconvert_exporter": "python",
   "pygments_lexer": "ipython3",
   "version": "3.10.8"
  }
 },
 "nbformat": 4,
 "nbformat_minor": 5
}
