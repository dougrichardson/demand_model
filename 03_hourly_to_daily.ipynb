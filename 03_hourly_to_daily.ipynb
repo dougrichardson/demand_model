{
 "cells": [
  {
   "cell_type": "markdown",
   "id": "ae9966b9-bd5f-4389-99e3-3f3d334bd2ea",
   "metadata": {},
   "source": [
    "# Process hourly data to daily"
   ]
  },
  {
   "cell_type": "markdown",
   "id": "635509f5-b2d2-4e18-a998-a1783b88baa9",
   "metadata": {},
   "source": [
    "This notebook is to process the base variables that will be used as predictors in the energy demand model, or will be used in computations of further indices."
   ]
  },
  {
   "cell_type": "markdown",
   "id": "69316318-9883-411e-b4ca-83289aa4818d",
   "metadata": {},
   "source": [
    "- Daily mean temperature - Done.\n",
    "- Maximum daily T - Done\n",
    "- Minimum daily T - Done\n",
    "- Number of sun hours / Cloud cover (use solar radiation as proxy?)\n",
    "- Solar radiation - Done\n",
    "- Wind speed - Done\n",
    "- Rainfall - Done\n",
    "- Relative humidity (daily average and/or overnight?) - Done (daily avg only)\n",
    "- Specific humidity - Done\n",
    "- Dew point (average daily)\n",
    "- Dew point T (maximum hour of the day)"
   ]
  },
  {
   "cell_type": "markdown",
   "id": "edb9efd8-d729-4904-a5b4-af473f36d86f",
   "metadata": {},
   "source": [
    "We already have some variables computed from the energy/climate modes project: https://github.com/dougrichardson/energy_climate_modes/blob/main/1_hourly_to_daily.ipynb"
   ]
  },
  {
   "cell_type": "code",
   "execution_count": 1,
   "id": "19680ff7-5eb2-4989-b8fa-713399585b3f",
   "metadata": {},
   "outputs": [],
   "source": [
    "from dask.distributed import Client,LocalCluster\n",
    "from dask_jobqueue import PBSCluster"
   ]
  },
  {
   "cell_type": "code",
   "execution_count": 18,
   "id": "76d23f9e-dad1-4fd6-8e50-718f0e69a54e",
   "metadata": {},
   "outputs": [],
   "source": [
    "# One node on Gadi has 48 cores - try and use up a full node before going to multiple nodes (jobs)\n",
    "\n",
    "walltime = \"01:00:00\"\n",
    "cores = 24\n",
    "memory = str(4 * cores) + \"GB\"\n",
    "\n",
    "cluster = PBSCluster(walltime=str(walltime), cores=cores, memory=str(memory), processes=cores,\n",
    "                     job_extra_directives=[\"-q normal\",\n",
    "                                           \"-P w42\",\n",
    "                                           \"-l ncpus=\"+str(cores),\n",
    "                                           \"-l mem=\"+str(memory),\n",
    "                                           \"-l storage=gdata/w42+gdata/rt52\"],\n",
    "                     local_directory=\"$TMPDIR\",\n",
    "                     job_directives_skip=[\"select\"])"
   ]
  },
  {
   "cell_type": "code",
   "execution_count": 19,
   "id": "051a0c91-3395-4d56-ba4e-9c1f686cd031",
   "metadata": {},
   "outputs": [],
   "source": [
    "cluster.scale(jobs=1)\n",
    "client = Client(cluster)"
   ]
  },
  {
   "cell_type": "code",
   "execution_count": 20,
   "id": "62f69630-f688-4422-892e-0c3a56016809",
   "metadata": {},
   "outputs": [
    {
     "data": {
      "text/html": [
       "<div>\n",
       "    <div style=\"width: 24px; height: 24px; background-color: #e1e1e1; border: 3px solid #9D9D9D; border-radius: 5px; position: absolute;\"> </div>\n",
       "    <div style=\"margin-left: 48px;\">\n",
       "        <h3 style=\"margin-bottom: 0px;\">Client</h3>\n",
       "        <p style=\"color: #9D9D9D; margin-bottom: 0px;\">Client-da909f4d-47fc-11ee-91a5-00000769fe80</p>\n",
       "        <table style=\"width: 100%; text-align: left;\">\n",
       "\n",
       "        <tr>\n",
       "        \n",
       "            <td style=\"text-align: left;\"><strong>Connection method:</strong> Cluster object</td>\n",
       "            <td style=\"text-align: left;\"><strong>Cluster type:</strong> dask_jobqueue.PBSCluster</td>\n",
       "        \n",
       "        </tr>\n",
       "\n",
       "        \n",
       "            <tr>\n",
       "                <td style=\"text-align: left;\">\n",
       "                    <strong>Dashboard: </strong> <a href=\"/proxy/8787/status\" target=\"_blank\">/proxy/8787/status</a>\n",
       "                </td>\n",
       "                <td style=\"text-align: left;\"></td>\n",
       "            </tr>\n",
       "        \n",
       "\n",
       "        </table>\n",
       "\n",
       "        \n",
       "            <button style=\"margin-bottom: 12px;\" data-commandlinker-command=\"dask:populate-and-launch-layout\" data-commandlinker-args='{\"url\": \"/proxy/8787/status\" }'>\n",
       "                Launch dashboard in JupyterLab\n",
       "            </button>\n",
       "        \n",
       "\n",
       "        \n",
       "            <details>\n",
       "            <summary style=\"margin-bottom: 20px;\"><h3 style=\"display: inline;\">Cluster Info</h3></summary>\n",
       "            <div class=\"jp-RenderedHTMLCommon jp-RenderedHTML jp-mod-trusted jp-OutputArea-output\">\n",
       "    <div style=\"width: 24px; height: 24px; background-color: #e1e1e1; border: 3px solid #9D9D9D; border-radius: 5px; position: absolute;\">\n",
       "    </div>\n",
       "    <div style=\"margin-left: 48px;\">\n",
       "        <h3 style=\"margin-bottom: 0px; margin-top: 0px;\">PBSCluster</h3>\n",
       "        <p style=\"color: #9D9D9D; margin-bottom: 0px;\">770cdaa8</p>\n",
       "        <table style=\"width: 100%; text-align: left;\">\n",
       "            <tr>\n",
       "                <td style=\"text-align: left;\">\n",
       "                    <strong>Dashboard:</strong> <a href=\"/proxy/8787/status\" target=\"_blank\">/proxy/8787/status</a>\n",
       "                </td>\n",
       "                <td style=\"text-align: left;\">\n",
       "                    <strong>Workers:</strong> 0\n",
       "                </td>\n",
       "            </tr>\n",
       "            <tr>\n",
       "                <td style=\"text-align: left;\">\n",
       "                    <strong>Total threads:</strong> 0\n",
       "                </td>\n",
       "                <td style=\"text-align: left;\">\n",
       "                    <strong>Total memory:</strong> 0 B\n",
       "                </td>\n",
       "            </tr>\n",
       "            \n",
       "        </table>\n",
       "\n",
       "        <details>\n",
       "            <summary style=\"margin-bottom: 20px;\">\n",
       "                <h3 style=\"display: inline;\">Scheduler Info</h3>\n",
       "            </summary>\n",
       "\n",
       "            <div style=\"\">\n",
       "    <div>\n",
       "        <div style=\"width: 24px; height: 24px; background-color: #FFF7E5; border: 3px solid #FF6132; border-radius: 5px; position: absolute;\"> </div>\n",
       "        <div style=\"margin-left: 48px;\">\n",
       "            <h3 style=\"margin-bottom: 0px;\">Scheduler</h3>\n",
       "            <p style=\"color: #9D9D9D; margin-bottom: 0px;\">Scheduler-38db99f6-18bc-4b17-b310-fac0924b292c</p>\n",
       "            <table style=\"width: 100%; text-align: left;\">\n",
       "                <tr>\n",
       "                    <td style=\"text-align: left;\">\n",
       "                        <strong>Comm:</strong> tcp://10.6.121.49:37529\n",
       "                    </td>\n",
       "                    <td style=\"text-align: left;\">\n",
       "                        <strong>Workers:</strong> 0\n",
       "                    </td>\n",
       "                </tr>\n",
       "                <tr>\n",
       "                    <td style=\"text-align: left;\">\n",
       "                        <strong>Dashboard:</strong> <a href=\"/proxy/8787/status\" target=\"_blank\">/proxy/8787/status</a>\n",
       "                    </td>\n",
       "                    <td style=\"text-align: left;\">\n",
       "                        <strong>Total threads:</strong> 0\n",
       "                    </td>\n",
       "                </tr>\n",
       "                <tr>\n",
       "                    <td style=\"text-align: left;\">\n",
       "                        <strong>Started:</strong> Just now\n",
       "                    </td>\n",
       "                    <td style=\"text-align: left;\">\n",
       "                        <strong>Total memory:</strong> 0 B\n",
       "                    </td>\n",
       "                </tr>\n",
       "            </table>\n",
       "        </div>\n",
       "    </div>\n",
       "\n",
       "    <details style=\"margin-left: 48px;\">\n",
       "        <summary style=\"margin-bottom: 20px;\">\n",
       "            <h3 style=\"display: inline;\">Workers</h3>\n",
       "        </summary>\n",
       "\n",
       "        \n",
       "\n",
       "    </details>\n",
       "</div>\n",
       "\n",
       "        </details>\n",
       "    </div>\n",
       "</div>\n",
       "            </details>\n",
       "        \n",
       "\n",
       "    </div>\n",
       "</div>"
      ],
      "text/plain": [
       "<Client: 'tcp://10.6.121.49:37529' processes=0 threads=0, memory=0 B>"
      ]
     },
     "execution_count": 20,
     "metadata": {},
     "output_type": "execute_result"
    }
   ],
   "source": [
    "client"
   ]
  },
  {
   "cell_type": "code",
   "execution_count": 5,
   "id": "40a15913-1b05-40db-989c-aa5e2ec96c90",
   "metadata": {},
   "outputs": [],
   "source": [
    "import xarray as xr\n",
    "import numpy as np"
   ]
  },
  {
   "cell_type": "code",
   "execution_count": 6,
   "id": "7042723b-a1ab-42e9-aa64-1138315bacb1",
   "metadata": {},
   "outputs": [],
   "source": [
    "root_path = \"/g/data/rt52/era5/single-levels/reanalysis/\"\n",
    "write_path = \"/g/data/w42/dr6273/work/data/era5/\""
   ]
  },
  {
   "cell_type": "code",
   "execution_count": 7,
   "id": "0bdf75d1-d21a-4138-a495-2541f33cb583",
   "metadata": {},
   "outputs": [],
   "source": [
    "years = range(1959, 2023)"
   ]
  },
  {
   "cell_type": "markdown",
   "id": "c4269eb5-8e6f-483b-953d-36529d0ab692",
   "metadata": {},
   "source": [
    "The demand data has been converted to UTC, so we can use UTC for ERA5, too."
   ]
  },
  {
   "cell_type": "code",
   "execution_count": 8,
   "id": "e575934d-3edc-4471-9003-911f5f0db4d7",
   "metadata": {},
   "outputs": [],
   "source": [
    "desired_first_hour = 0 # Set the desired first hour of the day"
   ]
  },
  {
   "cell_type": "code",
   "execution_count": 9,
   "id": "e2127bea-4f0d-4259-82a5-7031255da6eb",
   "metadata": {},
   "outputs": [],
   "source": [
    "def hourly_to_daily(aggregate_function, variable, year, first_hour, data_path=root_path):\n",
    "    \"\"\"\n",
    "    Compute 24-hour aggregates from hourly data for a given year.\n",
    "    \n",
    "    aggregate_function: function to aggregate hourly data (e.g. mean, max)\n",
    "    variable: name of variable to process\n",
    "    year:  year to process\n",
    "    first_hour: desired first hour from which to compute 24-hour aggregations\n",
    "    data_path: path to hourly data\n",
    "    \"\"\"\n",
    "    # Open all hours in the year (~33 GB)\n",
    "    hourly = xr.open_mfdataset(\n",
    "        data_path + variable + \"/\" + str(year) + \"/*.nc\",\n",
    "        chunks={\"time\": 24}\n",
    "    )\n",
    "\n",
    "    # Start the aggregation on the desired hour (e.g. 0000)\n",
    "    data_first_hour = hourly[\"time\"].dt.hour.item(0)\n",
    "    desired_start_index = (first_hour - data_first_hour) % 24\n",
    "    hourly = hourly.isel(time=range(desired_start_index, len(hourly[\"time\"])))\n",
    "\n",
    "    # Resample to daily means\n",
    "    daily = aggregate_function(hourly)\n",
    "\n",
    "    # Re-assign time to be 0000 hour of each day\n",
    "    daily = daily.assign_coords({\"time\": daily[\"time\"].dt.floor(\"1D\")})\n",
    "    \n",
    "    return daily"
   ]
  },
  {
   "cell_type": "code",
   "execution_count": 10,
   "id": "65d4b4c0-9e92-40dc-ada7-d46b2091fae5",
   "metadata": {},
   "outputs": [],
   "source": [
    "def write_daily(daily, variable, year, first_hour, write_path=write_path, encoding_name=None):\n",
    "    \"\"\"\n",
    "    Write daily data to file\n",
    "    \n",
    "    daily: DataArray to be written\n",
    "    variable: name of variable\n",
    "    year: year being written\n",
    "    data_path: path to hourly data\n",
    "    encoding_name: name of variable to encode. Usually the same as variable.\n",
    "    \"\"\"\n",
    "    # Chunk\n",
    "    daily = daily.chunk({\"time\": 24})\n",
    "\n",
    "    # Write to netcdf\n",
    "    if isinstance(encoding_name, str):\n",
    "        name = encoding_name\n",
    "    else:\n",
    "        name = variable\n",
    "        \n",
    "    encoding = {\n",
    "        name: {\"dtype\": \"float32\"}\n",
    "    }\n",
    "    daily.to_netcdf(\n",
    "        write_path + variable + \"/daily/\" + variable + \"_era5_daily_\" + str(year) + \".nc\",\n",
    "        mode=\"w\",\n",
    "        encoding=encoding\n",
    "    )"
   ]
  },
  {
   "cell_type": "code",
   "execution_count": 11,
   "id": "57b85f40-1b05-42bb-8afe-c0466adf3c16",
   "metadata": {},
   "outputs": [],
   "source": [
    "def write_by_year(aggregate_function, variable, years, first_hour, data_path, write_path, encoding_name=None):\n",
    "    \"\"\"\n",
    "    Compute 24-hour aggregations from hourly data and write to file for each year.\n",
    "    \n",
    "    aggregate_function: function to aggregate hourly data (e.g. mean, max)\n",
    "    variable: name of variable to process\n",
    "    years: range of years to process\n",
    "    first_hour: desired first hour from which to compute 24-hour aggregations\n",
    "    data_path: path to hourly data\n",
    "    encoding_name: name of variable to encode. Usually the same as variable.\n",
    "    \"\"\"\n",
    "    for year in years:\n",
    "        # print(year)\n",
    "\n",
    "        daily = hourly_to_daily(aggregate_function, variable, year, first_hour, data_path=data_path)\n",
    "        \n",
    "        write_daily(daily, variable, year, first_hour, write_path=write_path, encoding_name=encoding_name)"
   ]
  },
  {
   "cell_type": "code",
   "execution_count": 12,
   "id": "041afa3d-2bc7-47f6-8949-1ffbc10f6813",
   "metadata": {},
   "outputs": [],
   "source": [
    "def daily_mean(da):\n",
    "    \"\"\"\n",
    "    24-hour mean of da.\n",
    "    \"\"\"\n",
    "    return da.coarsen(time=24, boundary=\"trim\").mean(keep_attrs=True)"
   ]
  },
  {
   "cell_type": "markdown",
   "id": "c5d17010-2e9a-4f7c-8760-38b24e3c0f5a",
   "metadata": {},
   "source": [
    "# Solar radiation - available from other project"
   ]
  },
  {
   "cell_type": "code",
   "execution_count": 10,
   "id": "42130c8a-f2ec-4d04-bb70-12df0de0e13b",
   "metadata": {},
   "outputs": [],
   "source": [
    "# write_by_year(daily_mean, \"msdwswrf\", range(2022, 2023), desired_first_hour, root_path, write_path)"
   ]
  },
  {
   "cell_type": "markdown",
   "id": "d8ed7477-69d2-434d-91b7-75574c29b977",
   "metadata": {},
   "source": [
    "# 10 metre windspeed - available from other project"
   ]
  },
  {
   "cell_type": "markdown",
   "id": "7aa5e4a5-2ad3-4702-8a9d-dfe63633b80e",
   "metadata": {},
   "source": [
    "Wind speed needs different treatment, because we need daily values of u and v, then compute W."
   ]
  },
  {
   "cell_type": "code",
   "execution_count": 15,
   "id": "976fa9f5-513b-40ab-a757-f058f18e2fef",
   "metadata": {},
   "outputs": [],
   "source": [
    "# def windspeed(u, v):\n",
    "#     \"\"\"\n",
    "#     Compute windspeed from u and v\n",
    "    \n",
    "#     u: array of zonal wind\n",
    "#     v: array of meridional wind\n",
    "#     \"\"\"\n",
    "#     return np.sqrt(u ** 2 + v ** 2)"
   ]
  },
  {
   "cell_type": "code",
   "execution_count": 16,
   "id": "2cfb2538-dcab-4bf8-9bfc-c64d23d5e0e2",
   "metadata": {},
   "outputs": [],
   "source": [
    "# def windspeed_write_by_year(aggregate_function, u_name, v_name, w_name, years, first_hour, data_path, write_path):\n",
    "#     \"\"\"\n",
    "#     Compute 24-hour means from hourly data and write to file for each year.\n",
    "    \n",
    "#     aggregate_function: function to aggregate hourly data (e.g. mean, max)\n",
    "#     u_name: name of u variable to process (e.g. 10u)\n",
    "#     v_name: name of v variable to process\n",
    "#     w_name: name of output wind speed\n",
    "#     years: range of years to process\n",
    "#     first_hour: desired first hour from which to compute 24-hour means\n",
    "#     data_path: path to hourly data\n",
    "#     \"\"\"\n",
    "#     for year in years:\n",
    "#         print(year)\n",
    "\n",
    "#         # Get daily means of u and v\n",
    "#         u_daily = hourly_to_daily(aggregate_function, u_name, year, first_hour, data_path=data_path)\n",
    "#         v_daily = hourly_to_daily(aggregate_function, v_name, year, first_hour, data_path=data_path)\n",
    "        \n",
    "#         # Data variables have u/v/w before the level e.g. u10 instead of 10u\n",
    "#         # This is different to how the directories are structured and is annoying\n",
    "#         # We set some different variable names for the arrays.\n",
    "#         da_u_name = u_name[-1] + u_name[:-1]\n",
    "#         da_v_name = v_name[-1] + v_name[:-1]\n",
    "#         da_w_name = w_name[-1] + w_name[:-1]\n",
    "        \n",
    "#         # Windspeed\n",
    "#         w_daily = windspeed(\n",
    "#             u_daily.rename({da_u_name: da_w_name}),\n",
    "#             v_daily.rename({da_v_name: da_w_name})\n",
    "#         )\n",
    "        \n",
    "#         # Write to file. Note we specify encoding name here\n",
    "#         write_daily(w_daily, w_name, year, first_hour, write_path=write_path, encoding_name=da_w_name)"
   ]
  },
  {
   "cell_type": "code",
   "execution_count": 17,
   "id": "94e14481-e8eb-4173-9e9b-d38548ce3d58",
   "metadata": {},
   "outputs": [],
   "source": [
    "# windspeed_write_by_year(daily_mean, '10u', '10v', \"10w\", range(1994, 2023), desired_first_hour, root_path, write_path)"
   ]
  },
  {
   "cell_type": "markdown",
   "id": "01f65100-0558-46cb-a2f9-492bd5c0bfc1",
   "metadata": {},
   "source": [
    "# 2 metre daily mean temperature - available from other project"
   ]
  },
  {
   "cell_type": "code",
   "execution_count": 18,
   "id": "194a0d0e-c1c2-4c7a-b2d3-056a496379b5",
   "metadata": {},
   "outputs": [],
   "source": [
    "# write_by_year(daily_mean, \"2t\", years, desired_first_hour, root_path, write_path, encoding_name='t2m')"
   ]
  },
  {
   "cell_type": "markdown",
   "id": "02bbf7b6-c7d2-4547-b61d-9d676fdbcf3b",
   "metadata": {},
   "source": [
    "# 2 metre maximum daily temperature - available from other project"
   ]
  },
  {
   "cell_type": "code",
   "execution_count": 21,
   "id": "dbea95bb-f7fc-4973-9008-5817c0a0d3e4",
   "metadata": {},
   "outputs": [],
   "source": [
    "def daily_max(da):\n",
    "    \"\"\"\n",
    "    24-hour max of da.\n",
    "    \"\"\"\n",
    "    return da.coarsen(time=24, boundary=\"trim\").max(keep_attrs=True)"
   ]
  },
  {
   "cell_type": "code",
   "execution_count": 23,
   "id": "6b55fa65-97f3-4a66-9170-b1f806123b35",
   "metadata": {},
   "outputs": [],
   "source": [
    "def tmax_write_by_year(variable, years, first_hour, data_path, write_path):\n",
    "    \"\"\"\n",
    "    Compute 24-hour maximum temperature from hourly data and write to file for each year.\n",
    "    \n",
    "    variable: name of variable to process\n",
    "    years: range of years to process\n",
    "    first_hour: desired first hour from which to compute 24-hour aggregations\n",
    "    data_path: path to hourly data\n",
    "    \"\"\"\n",
    "    for year in years:\n",
    "        # print(year)\n",
    "\n",
    "        daily = hourly_to_daily(daily_max, variable, year, first_hour, data_path=data_path)\n",
    "        \n",
    "        write_daily(daily, \"2tmax\", year, first_hour, write_path=write_path, encoding_name='mx2t')"
   ]
  },
  {
   "cell_type": "code",
   "execution_count": 24,
   "id": "8f8a0296-176a-471d-87b5-7a092deda67f",
   "metadata": {},
   "outputs": [],
   "source": [
    "tmax_write_by_year(\"mx2t\", years, desired_first_hour, root_path, write_path)"
   ]
  },
  {
   "cell_type": "markdown",
   "id": "49dfe83d-756d-4b4e-849d-b986fbb102a5",
   "metadata": {},
   "source": [
    "# 2 metre minimum daily temperature"
   ]
  },
  {
   "cell_type": "code",
   "execution_count": 22,
   "id": "efc8bfe7-d2e8-4850-954b-27ecac4b6e40",
   "metadata": {},
   "outputs": [],
   "source": [
    "def daily_min(da):\n",
    "    \"\"\"\n",
    "    24-hour min of da.\n",
    "    \"\"\"\n",
    "    return da.coarsen(time=24, boundary=\"trim\").min(keep_attrs=True)"
   ]
  },
  {
   "cell_type": "code",
   "execution_count": 26,
   "id": "78513374-d0c2-4cc8-a8f7-82e759ba3303",
   "metadata": {},
   "outputs": [],
   "source": [
    "def tmin_write_by_year(variable, years, first_hour, data_path, write_path):\n",
    "    \"\"\"\n",
    "    Compute 24-hour minimum temperature from hourly data and write to file for each year.\n",
    "    \n",
    "    variable: name of variable to process\n",
    "    years: range of years to process\n",
    "    first_hour: desired first hour from which to compute 24-hour aggregations\n",
    "    data_path: path to hourly data\n",
    "    \"\"\"\n",
    "    for year in years:\n",
    "        # print(year)\n",
    "\n",
    "        daily = hourly_to_daily(daily_min, variable, year, first_hour, data_path=data_path)\n",
    "        \n",
    "        write_daily(daily, \"2tmin\", year, first_hour, write_path=write_path, encoding_name='mn2t')"
   ]
  },
  {
   "cell_type": "code",
   "execution_count": 27,
   "id": "213f9dde-135d-4b71-bf2b-a0d0101bf28f",
   "metadata": {},
   "outputs": [],
   "source": [
    "tmin_write_by_year(\"mn2t\", years, desired_first_hour, root_path, write_path)"
   ]
  },
  {
   "cell_type": "markdown",
   "id": "d616192f-3a7a-4611-b5f6-88c76c8909e5",
   "metadata": {},
   "source": [
    "# 2 metre daily mean dew point temperature"
   ]
  },
  {
   "cell_type": "code",
   "execution_count": 15,
   "id": "9003302a-ea69-4607-984a-8af75a435873",
   "metadata": {},
   "outputs": [],
   "source": [
    "write_by_year(daily_mean, \"2d\", years, desired_first_hour, root_path, write_path, encoding_name='d2m')"
   ]
  },
  {
   "cell_type": "markdown",
   "id": "3bd32f9f-596b-46e4-8165-f4752032f37b",
   "metadata": {},
   "source": [
    "# 2 metre maximum daily dew point temperature\n",
    "\n",
    "No maximum dew point variable, so take the hour that is the maximum of the hourly means per day."
   ]
  },
  {
   "cell_type": "code",
   "execution_count": 23,
   "id": "7f62f0a4-5ef1-412d-84a1-9bf518a83775",
   "metadata": {},
   "outputs": [],
   "source": [
    "def td_max_write_by_year(variable, years, first_hour, data_path, write_path):\n",
    "    \"\"\"\n",
    "    Compute 24-hour maximum dew-point temperature from hourly data and write to file for each year.\n",
    "    \n",
    "    variable: name of variable to process\n",
    "    years: range of years to process\n",
    "    first_hour: desired first hour from which to compute 24-hour aggregations\n",
    "    data_path: path to hourly data\n",
    "    \"\"\"\n",
    "    for year in years:\n",
    "        # print(year)\n",
    "\n",
    "        daily = hourly_to_daily(daily_max, variable, year, first_hour, data_path=data_path)\n",
    "        \n",
    "        write_daily(daily, \"2dmax\", year, first_hour, write_path=write_path, encoding_name='d2m')"
   ]
  },
  {
   "cell_type": "code",
   "execution_count": null,
   "id": "85df3540-dc35-4091-9c3b-d44decea6d8e",
   "metadata": {},
   "outputs": [],
   "source": [
    "td_max_write_by_year(\"2d\", years, desired_first_hour, root_path, write_path)"
   ]
  },
  {
   "cell_type": "markdown",
   "id": "80216891-2962-45ff-b9d6-46627934fb9b",
   "metadata": {},
   "source": [
    "# 2 metre minimum daily dew point temperature\n",
    "\n",
    "No minimum dew point variable, so take the hour that is the minimum of the hourly means per day."
   ]
  },
  {
   "cell_type": "code",
   "execution_count": null,
   "id": "7a4dc9c6-63f3-4efd-b256-55f2e1fbac0c",
   "metadata": {},
   "outputs": [],
   "source": [
    "def td_min_write_by_year(variable, years, first_hour, data_path, write_path):\n",
    "    \"\"\"\n",
    "    Compute 24-hour minimum dew-point temperature from hourly data and write to file for each year.\n",
    "    \n",
    "    variable: name of variable to process\n",
    "    years: range of years to process\n",
    "    first_hour: desired first hour from which to compute 24-hour aggregations\n",
    "    data_path: path to hourly data\n",
    "    \"\"\"\n",
    "    for year in years:\n",
    "        # print(year)\n",
    "\n",
    "        daily = hourly_to_daily(daily_min, variable, year, first_hour, data_path=data_path)\n",
    "        \n",
    "        write_daily(daily, \"2dmin\", year, first_hour, write_path=write_path, encoding_name='d2m')"
   ]
  },
  {
   "cell_type": "code",
   "execution_count": null,
   "id": "a41ea4e5-99ce-48a7-a6a8-9e1bab2314c4",
   "metadata": {},
   "outputs": [],
   "source": [
    "td_min_write_by_year(\"2d\", years, desired_first_hour, root_path, write_path)"
   ]
  },
  {
   "cell_type": "markdown",
   "id": "49b5bacf-e7a4-45e0-abbb-5f5dd9ed08e3",
   "metadata": {},
   "source": [
    "# Precipitation\n",
    "\n",
    "We use the mean total precipitation rate (kg/m^2/s), because it is available on NCI for ERA5 (not only ERA5 Land, as total precipitation is).\n",
    "\n",
    "The mean rate hydrological parameters (e.g. the \"Mean total precipitation rate\") have units of \"kg m-2 s-1\", which are equivalent to \"mm s-1\". They can be multiplied by 86400 seconds (24 hours) to convert to kg m-2 day-1 or mm day-1.\n",
    "\n",
    "Note that this conversion is *not done here*.\n",
    "\n",
    "https://confluence.ecmwf.int/display/CKB/ERA5%3A+data+documentation#ERA5:datadocumentation-Parameterlistings"
   ]
  },
  {
   "cell_type": "code",
   "execution_count": 63,
   "id": "a39d3b6f-bb10-4420-9e60-db2171107bfe",
   "metadata": {},
   "outputs": [],
   "source": [
    "write_by_year(daily_mean, \"mtpr\", years, desired_first_hour, root_path, write_path)"
   ]
  },
  {
   "cell_type": "markdown",
   "id": "79922d4d-32c7-4d93-adf0-817c6307f46a",
   "metadata": {},
   "source": [
    "# Relative humidity"
   ]
  },
  {
   "cell_type": "markdown",
   "id": "67c66f8c-6acd-49b8-8cb2-f512da495c10",
   "metadata": {},
   "source": [
    "Formula from Bolton 1980: https://journals.ametsoc.org/view/journals/mwre/108/7/1520-0493_1980_108_1046_tcoept_2_0_co_2.xml?tab_body=pdf\n",
    "\n",
    "As used in `metpy` package: https://github.com/Unidata/MetPy/blob/main/src/metpy/calc/thermo.py#L1278"
   ]
  },
  {
   "cell_type": "markdown",
   "id": "a119006a-74a1-4358-b7e5-fd4224531807",
   "metadata": {},
   "source": [
    "Relative humidity is\n",
    "\n",
    "$$ \\psi = \\frac{e}{e_s} \\times 100 $$\n",
    "    \n",
    "where $e$ is the water vapour pressure, dependent on the dew-point temperature $T_d [^\\circ$C], and $e_s$ is the saturation vapor pressure, dependent on temperature, $T [^\\circ$C]. The following formula can be used to calculate both $e$ and $e_s$ by using $T^* = T_d$ or $T^* = T$ as the input, respectively:\n",
    "\n",
    "$$ e^* = 6.112 \\exp \\left( \\frac{17.67T^*}{T^* + 243.5} \\right) $$"
   ]
  },
  {
   "cell_type": "code",
   "execution_count": 47,
   "id": "b89b6db1-1855-4b94-a3c2-ce634efae71f",
   "metadata": {},
   "outputs": [],
   "source": [
    "def saturation_vapour_pressure(T):\n",
    "    \"\"\"\n",
    "    Calculates the saturation vapour pressure if T is air temperature,\n",
    "    or the vapour pressure if T is dew-point temperature. Units of T\n",
    "    should be degrees Celsius.\n",
    "    \"\"\"\n",
    "    return 6.112 * np.exp( (17.67 * T) / (T + 243.5) )"
   ]
  },
  {
   "cell_type": "code",
   "execution_count": 48,
   "id": "a3e28d22-8eb6-4e83-953b-cd6e0e31158b",
   "metadata": {},
   "outputs": [],
   "source": [
    "def relative_humidity(T, T_d):\n",
    "    \"\"\"\n",
    "    Calculates relative humidity from temperature and dew-point temperature.\n",
    "    Units should be degrees Celsius.\n",
    "    \"\"\"\n",
    "    e = saturation_vapour_pressure(T_d)\n",
    "    e_s = saturation_vapour_pressure(T)\n",
    "    return 100 * (e / e_s)"
   ]
  },
  {
   "cell_type": "code",
   "execution_count": 49,
   "id": "cbae4482-f5f2-43fb-903f-634ac0ef4922",
   "metadata": {},
   "outputs": [],
   "source": [
    "def rel_hum_write_by_year(aggregate_function, T_name, Td_name, phi_name, years, first_hour, data_path, write_path):\n",
    "    \"\"\"\n",
    "    Compute 24-hour means of relative humidity from hourly temperature and dew-point data and write to file for each year.\n",
    "    \n",
    "    aggregate_function: function to aggregate hourly data (e.g. mean, max)\n",
    "    T_name: name of temperature variable to process\n",
    "    Td_name: name of dew-point temperature variable to process\n",
    "    phi_name: name of output relative humidity\n",
    "    years: range of years to process\n",
    "    first_hour: desired first hour from which to compute 24-hour means\n",
    "    data_path: path to hourly data\n",
    "    \"\"\"\n",
    "    for year in years:\n",
    "        # Get daily means of T and Td\n",
    "        T_daily = hourly_to_daily(aggregate_function, T_name, year, first_hour, data_path=data_path)\n",
    "        Td_daily = hourly_to_daily(aggregate_function, Td_name, year, first_hour, data_path=data_path)\n",
    "        \n",
    "        # Convert K to deg C\n",
    "        T_daily = T_daily - 273.15\n",
    "        Td_daily = Td_daily - 273.15\n",
    "        \n",
    "        # Rel. hum.\n",
    "        phi_daily = relative_humidity(\n",
    "            T_daily.rename({\"t2m\": phi_name}), # Data variables are t2m/d2m, not 2t/2d\n",
    "            Td_daily.rename({\"d2m\": phi_name})\n",
    "        )\n",
    "        \n",
    "        # Write to file. Note we specify encoding name here\n",
    "        write_daily(phi_daily, phi_name, year, first_hour, write_path=write_path, encoding_name=phi_name)"
   ]
  },
  {
   "cell_type": "code",
   "execution_count": 51,
   "id": "6c5e3c11-d8d5-4419-acff-b4eb012279f8",
   "metadata": {},
   "outputs": [],
   "source": [
    "rel_hum_write_by_year(daily_mean, \"2t\", \"2d\", \"rh\", years, desired_first_hour, root_path, write_path)"
   ]
  },
  {
   "cell_type": "markdown",
   "id": "9cca67e2-fee5-4c34-a0e6-2fbcd1000cb0",
   "metadata": {},
   "source": [
    "# Specific humidity\n",
    "\n",
    "Not available at the surface in ERA5, so we use the following formula:\n",
    "$$ q = \\frac{0.622e}{p - 0.378e}, $$\n",
    "where $e$ is the water vapour pressure as defined above (as a function of $T_{d}$) and $p$ is the surface pressure (mb).\n",
    "\n",
    "From: https://archive.eol.ucar.edu/projects/ceop/dm/documents/refdata_report/eqns.html"
   ]
  },
  {
   "cell_type": "code",
   "execution_count": 52,
   "id": "5230e7cc-8571-48a6-a5f8-930f0383c5d2",
   "metadata": {},
   "outputs": [],
   "source": [
    "def specific_humidity(T_d, p):\n",
    "    \"\"\"\n",
    "    Calculates specific humidity from dew-point temperature and surface pressure.\n",
    "    Units should be degrees Celsius and millibars.\n",
    "    \"\"\"\n",
    "    e = saturation_vapour_pressure(T_d)\n",
    "    return (0.622 * e) / (p - 0.378 * e)"
   ]
  },
  {
   "cell_type": "code",
   "execution_count": 53,
   "id": "af421b12-5cfe-411c-aa82-1ee73d26f4b7",
   "metadata": {},
   "outputs": [],
   "source": [
    "def specific_hum_write_by_year(aggregate_function, Td_name, sp_name, q_name, years, first_hour, data_path, write_path):\n",
    "    \"\"\"\n",
    "    Compute 24-hour means of specific humidity from hourly dew-point temperature and surface pressure data and write to file for each year.\n",
    "    \n",
    "    aggregate_function: function to aggregate hourly data (e.g. mean, max)\n",
    "    Td_name: name of dew-point temperature variable to process\n",
    "    sp_name: name of surface pressure variable to process\n",
    "    q_name: name of output specific humidity\n",
    "    years: range of years to process\n",
    "    first_hour: desired first hour from which to compute 24-hour means\n",
    "    data_path: path to hourly data\n",
    "    \"\"\"\n",
    "    for year in years:\n",
    "        # Get daily means of Td and sp\n",
    "        Td_daily = hourly_to_daily(aggregate_function, Td_name, year, first_hour, data_path=data_path)\n",
    "        sp_daily = hourly_to_daily(aggregate_function, sp_name, year, first_hour, data_path=data_path)\n",
    "        \n",
    "        # Convert pressure from Pa to mb and K to deg C\n",
    "        Td_daily = Td_daily - 273.15\n",
    "        sp_daily = sp_daily / 100\n",
    "        \n",
    "        # Spec. hum.\n",
    "        q_daily = specific_humidity(\n",
    "            Td_daily.rename({\"d2m\": q_name}),\n",
    "            sp_daily.rename({\"sp\": q_name})\n",
    "        )\n",
    "        # Convert to g/kg\n",
    "        q_daily = q_daily * 1000\n",
    "        \n",
    "        # Write to file. Note we specify encoding name here\n",
    "        write_daily(q_daily, q_name, year, first_hour, write_path=write_path, encoding_name=q_name)"
   ]
  },
  {
   "cell_type": "code",
   "execution_count": 54,
   "id": "a8431701-6953-4854-82ff-9295256c3a1c",
   "metadata": {},
   "outputs": [],
   "source": [
    "specific_hum_write_by_year(daily_mean, \"2d\", \"sp\", \"q\", years, desired_first_hour, root_path, write_path)"
   ]
  },
  {
   "cell_type": "markdown",
   "id": "a0105a28-9266-4041-a9c5-acbfc4d76665",
   "metadata": {},
   "source": [
    "# Close cluster"
   ]
  },
  {
   "cell_type": "code",
   "execution_count": 55,
   "id": "3b537ad0-af9f-4be5-bc23-1d10a08f5099",
   "metadata": {},
   "outputs": [],
   "source": [
    "client.close()\n",
    "cluster.close()"
   ]
  },
  {
   "cell_type": "code",
   "execution_count": null,
   "id": "334cf7db-25de-4268-8193-df3acd5e8019",
   "metadata": {},
   "outputs": [],
   "source": []
  }
 ],
 "metadata": {
  "kernelspec": {
   "display_name": "Python (pangeo)",
   "language": "python",
   "name": "pangeo"
  },
  "language_info": {
   "codemirror_mode": {
    "name": "ipython",
    "version": 3
   },
   "file_extension": ".py",
   "mimetype": "text/x-python",
   "name": "python",
   "nbconvert_exporter": "python",
   "pygments_lexer": "ipython3",
   "version": "3.10.8"
  }
 },
 "nbformat": 4,
 "nbformat_minor": 5
}
