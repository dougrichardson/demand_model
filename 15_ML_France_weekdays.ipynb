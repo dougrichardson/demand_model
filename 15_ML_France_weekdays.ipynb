{
 "cells": [
  {
   "cell_type": "markdown",
   "id": "f96752f8-fdcd-4b54-9aca-016711c1af42",
   "metadata": {},
   "source": [
    "# Predict energy demand in France"
   ]
  },
  {
   "cell_type": "code",
   "execution_count": 1,
   "id": "f5538669-0e3c-461a-b756-5fac6bd96d12",
   "metadata": {},
   "outputs": [],
   "source": [
    "import os\n",
    "import glob\n",
    "import xarray as xr\n",
    "import pandas as pd\n",
    "import numpy as np\n",
    "\n",
    "from sklearn.ensemble import RandomForestRegressor, ExtraTreesRegressor\n",
    "from sklearn.model_selection import train_test_split\n",
    "from sklearn.model_selection import RandomizedSearchCV\n",
    "from sklearn.model_selection import LeaveOneGroupOut\n",
    "# from sklearn.feature_selection import SequentialFeatureSelector\n",
    "from sklearn.metrics import r2_score, mean_absolute_error, mean_squared_error, mean_absolute_percentage_error, median_absolute_error\n",
    "from sklearn.inspection import permutation_importance\n",
    "\n",
    "from mlxtend.feature_selection import SequentialFeatureSelector\n",
    "from mlxtend.plotting import plot_sequential_feature_selection as plot_sfs\n",
    "\n",
    "from scipy.stats import pearsonr, randint, uniform\n",
    "from scipy.spatial.distance import correlation\n",
    "\n",
    "import matplotlib.pyplot as plt"
   ]
  },
  {
   "cell_type": "markdown",
   "id": "111aa367-07a9-45d6-bedb-822495e2b362",
   "metadata": {},
   "source": [
    "### Note:\n",
    "\n",
    "You will need to change the kernel to ml_env to use `mlxtend`"
   ]
  },
  {
   "cell_type": "code",
   "execution_count": 2,
   "id": "4b203944-f018-49da-b4b2-e90137d1fbab",
   "metadata": {},
   "outputs": [
    {
     "name": "stdout",
     "output_type": "stream",
     "text": [
      "/g/data/w42/dr6273/work/demand_model\n"
     ]
    }
   ],
   "source": [
    "%cd /g/data/w42/dr6273/work/demand_model/\n",
    "\n",
    "import functions as fn"
   ]
  },
  {
   "cell_type": "code",
   "execution_count": 3,
   "id": "5523b20c-24c6-4ee0-8f30-1fbb57af9eb5",
   "metadata": {},
   "outputs": [],
   "source": [
    "%load_ext autoreload\n",
    "%autoreload 2"
   ]
  },
  {
   "cell_type": "code",
   "execution_count": 4,
   "id": "839a36ce-2224-488a-a3fa-d397da9a1008",
   "metadata": {},
   "outputs": [],
   "source": [
    "path = \"/g/data/w42/dr6273/work/projects/Aus_energy/\""
   ]
  },
  {
   "cell_type": "code",
   "execution_count": 5,
   "id": "2552fe5c-dfc9-4e57-8cb6-8f6d5eb452bc",
   "metadata": {},
   "outputs": [],
   "source": [
    "region = \"FR\""
   ]
  },
  {
   "cell_type": "markdown",
   "id": "666a87dc-d01e-4830-b2a0-c68459c55768",
   "metadata": {},
   "source": [
    "### Demand"
   ]
  },
  {
   "cell_type": "code",
   "execution_count": 6,
   "id": "59134618-408a-45d4-95fd-b687a0db01e3",
   "metadata": {},
   "outputs": [],
   "source": [
    "def rm_weekend(da):\n",
    "    \"\"\"\n",
    "    Set weekend days to NaN\n",
    "    \"\"\"\n",
    "    return da.where(da.time.dt.dayofweek < 5, drop=False)"
   ]
  },
  {
   "cell_type": "code",
   "execution_count": 7,
   "id": "b349e2ce-8898-4a84-a114-cb9cf783ed31",
   "metadata": {},
   "outputs": [],
   "source": [
    "def rm_month(da, month):\n",
    "    \"\"\"\n",
    "    Set a particular month to NaN\n",
    "    \"\"\"\n",
    "    return da.where(da.time.dt.month != month, drop=False)"
   ]
  },
  {
   "cell_type": "code",
   "execution_count": 8,
   "id": "e2239375-1649-4a79-898f-b9b0489fccf1",
   "metadata": {},
   "outputs": [],
   "source": [
    "def rm_xmas(da):\n",
    "    \"\"\"\n",
    "    Set 21/12 through 06/01 to NaN\n",
    "    \"\"\"\n",
    "    da_ = da.where(\n",
    "        da.where(\n",
    "            (da.time.dt.month == 12) & \n",
    "            (da.time.dt.day > 20),\n",
    "            drop=False\n",
    "        ).isnull()\n",
    "    )\n",
    "    da_ = da_.where(\n",
    "        da_.where(\n",
    "            (da_.time.dt.month == 1) & \n",
    "            (da_.time.dt.day < 7),\n",
    "            drop=False\n",
    "        ).isnull()\n",
    "    )\n",
    "    return da_"
   ]
  },
  {
   "cell_type": "code",
   "execution_count": 9,
   "id": "d5c5f7b2-69dc-4c90-bcc8-2a288b2ec997",
   "metadata": {},
   "outputs": [],
   "source": [
    "def rm_nan(x):\n",
    "    \"\"\"\n",
    "    Remove NaNs from array\n",
    "    \"\"\"\n",
    "    return x[~np.isnan(x)]"
   ]
  },
  {
   "cell_type": "code",
   "execution_count": 10,
   "id": "190ec9dc-72d0-42ae-bdee-fcf7e38bfbc2",
   "metadata": {},
   "outputs": [],
   "source": [
    "demand = pd.read_csv(\n",
    "    \"/g/data/w42/dr6273/work/data/ENTSOE/ENTSOE_daily_demand_2006-2018.csv\",\n",
    "    index_col=0,\n",
    "    parse_dates=True\n",
    ")"
   ]
  },
  {
   "cell_type": "code",
   "execution_count": 11,
   "id": "4b229423-7f29-4cfc-baa0-7a5544de3630",
   "metadata": {},
   "outputs": [],
   "source": [
    "demand = demand[demand[\"Country\"] == region][\"Power (MWh/day)\"]"
   ]
  },
  {
   "cell_type": "code",
   "execution_count": 12,
   "id": "ac0b2a2b-b932-4cfa-b977-fb6ed9e57b8c",
   "metadata": {},
   "outputs": [],
   "source": [
    "dem_da = xr.DataArray(\n",
    "    demand.squeeze(),\n",
    "    dims=[\"time\"],\n",
    "    coords={\"time\": demand.index.values}\n",
    ")"
   ]
  },
  {
   "cell_type": "code",
   "execution_count": 13,
   "id": "edb3df55-a9ce-42b1-a441-92e33ae2ced5",
   "metadata": {},
   "outputs": [],
   "source": [
    "dem_da = dem_da.expand_dims({\"region\": [region]})"
   ]
  },
  {
   "cell_type": "code",
   "execution_count": 14,
   "id": "9c48d118-8386-4727-b532-24b1f7c385e4",
   "metadata": {},
   "outputs": [],
   "source": [
    "dem_da = fn.detrend_dim(dem_da, \"time\") + dem_da.mean(\"time\")"
   ]
  },
  {
   "cell_type": "code",
   "execution_count": 15,
   "id": "313287ca-0f7d-422b-a348-a6c48aa0ae93",
   "metadata": {},
   "outputs": [],
   "source": [
    "dem_da = rm_weekend(dem_da)\n",
    "dem_da = rm_xmas(dem_da)\n",
    "dem_da = rm_month(dem_da, 8)"
   ]
  },
  {
   "cell_type": "code",
   "execution_count": 16,
   "id": "45020aaa-5d9d-4aa8-908f-b8c7bb748851",
   "metadata": {},
   "outputs": [],
   "source": [
    "dem_da = dem_da.dropna(\"time\")"
   ]
  },
  {
   "cell_type": "code",
   "execution_count": 17,
   "id": "2aa9e048-698b-4d6d-9b7e-19fda463e9a9",
   "metadata": {},
   "outputs": [
    {
     "data": {
      "text/plain": [
       "[<matplotlib.lines.Line2D at 0x14dedacbf2b0>]"
      ]
     },
     "execution_count": 17,
     "metadata": {},
     "output_type": "execute_result"
    },
    {
     "data": {
      "image/png": "[encoded data removed]",
      "text/plain": [
       "<Figure size 640x480 with 1 Axes>"
      ]
     },
     "metadata": {},
     "output_type": "display_data"
    }
   ],
   "source": [
    "dem_da.plot()"
   ]
  },
  {
   "cell_type": "markdown",
   "id": "57543780-90ec-4f0f-a96a-a647c132fca8",
   "metadata": {},
   "source": [
    "### Predictors"
   ]
  },
  {
   "cell_type": "code",
   "execution_count": 18,
   "id": "2b4e5bbc-16f9-46e7-9dba-5479f7ada0d2",
   "metadata": {},
   "outputs": [],
   "source": [
    "files = fn.get_predictor_files(\"EU\", \"pop_dens_mask\")"
   ]
  },
  {
   "cell_type": "code",
   "execution_count": 19,
   "id": "b44b2fbb-0739-4be6-8504-30825368c503",
   "metadata": {},
   "outputs": [],
   "source": [
    "pred_ds = xr.open_mfdataset(files, combine=\"nested\", compat=\"override\")"
   ]
  },
  {
   "cell_type": "code",
   "execution_count": 20,
   "id": "d3a32bfa-8bd3-4b77-8b17-78b26ea4c3f3",
   "metadata": {},
   "outputs": [],
   "source": [
    "pred_ds = pred_ds.sel(region=region).expand_dims({\"region\": [region]}).compute()"
   ]
  },
  {
   "cell_type": "code",
   "execution_count": 21,
   "id": "3a0b2bd9-47ac-4a76-b1eb-49e89c1086be",
   "metadata": {},
   "outputs": [
    {
     "data": {
      "text/plain": [
       "Data variables:\n",
       "    hdd       (region, time) float64 8.329 9.109 10.6 ... 6.406 5.708 2.232\n",
       "    t2min     (region, time) float64 nan 275.9 274.8 273.6 ... 278.8 278.0 283.4\n",
       "    q         (region, time) float64 5.187 4.848 4.423 ... 6.038 6.935 7.073\n",
       "    rh        (region, time) float64 83.59 81.16 82.06 ... 84.61 92.13 75.65\n",
       "    msdwswrf  (region, time) float64 53.54 40.97 57.5 ... 34.07 17.45 45.65\n",
       "    t2m       (region, time) float64 279.9 279.1 277.6 ... 281.7 282.4 285.9\n",
       "    mtpr      (region, time) float64 9.475e-06 8.388e-05 ... 7.003e-05 1.753e-05\n",
       "    t2max     (region, time) float64 nan 281.7 279.4 278.6 ... 283.4 285.6 287.6\n",
       "    w10       (region, time) float64 3.19 5.238 3.507 ... 4.716 5.345 6.574\n",
       "    cdd       (region, time) float64 0.0234 0.0234 0.02339 ... -0.0234 -0.0234"
      ]
     },
     "execution_count": 21,
     "metadata": {},
     "output_type": "execute_result"
    }
   ],
   "source": [
    "pred_ds.data_vars"
   ]
  },
  {
   "cell_type": "code",
   "execution_count": 22,
   "id": "e264b3d7-36de-4315-9578-a71d8e5717c7",
   "metadata": {},
   "outputs": [],
   "source": [
    "pred_ds = rm_weekend(pred_ds)\n",
    "pred_ds = rm_xmas(pred_ds)\n",
    "pred_ds = rm_month(pred_ds, 8)\n",
    "pred_ds = pred_ds.dropna(\"time\")"
   ]
  },
  {
   "cell_type": "markdown",
   "id": "24b0feb0-c5e8-4f2f-9d8d-0acd6bce8760",
   "metadata": {},
   "source": [
    "## Prepare data"
   ]
  },
  {
   "cell_type": "code",
   "execution_count": 23,
   "id": "c77a210f-d6fb-415e-96c6-33b66270cd88",
   "metadata": {},
   "outputs": [],
   "source": [
    "# time_cols = [\"is_weekend\", \"month_sin\", \"month_cos\"]\n",
    "# time_cols = [\"is_weekend\", \"month_int\"]\n",
    "# time_cols = [\"is_weekend\", \"season_int\"]\n",
    "# time_cols = [\"is_weekend\", \"is_transition\"]\n",
    "# time_cols = [\"is_weekend\"]\n",
    "time_cols = []\n",
    "\n",
    "region_dfs = {}\n",
    "for region in dem_da.region.values:\n",
    "    df = fn.to_dataframe(dem_da, pred_ds, region)\n",
    "    for t in time_cols:\n",
    "        df = fn.add_time_column(df, t)\n",
    "    new_cols = np.append(np.append(\"demand\", time_cols), df.columns[:-(len(time_cols) + 1)])\n",
    "    df = df[new_cols]\n",
    "    region_dfs[region] = df"
   ]
  },
  {
   "cell_type": "code",
   "execution_count": 24,
   "id": "881bae2a-2fa4-4f1d-b60d-281eb45b4577",
   "metadata": {},
   "outputs": [],
   "source": [
    "# region_dfs[\"NEM\"].head()"
   ]
  },
  {
   "cell_type": "code",
   "execution_count": 25,
   "id": "73e229e3-1b57-4ccc-8384-3fc70697a46a",
   "metadata": {},
   "outputs": [
    {
     "data": {
      "text/html": [
       "<div>\n",
       "<style scoped>\n",
       "    .dataframe tbody tr th:only-of-type {\n",
       "        vertical-align: middle;\n",
       "    }\n",
       "\n",
       "    .dataframe tbody tr th {\n",
       "        vertical-align: top;\n",
       "    }\n",
       "\n",
       "    .dataframe thead th {\n",
       "        text-align: right;\n",
       "    }\n",
       "</style>\n",
       "<table border=\"1\" class=\"dataframe\">\n",
       "  <thead>\n",
       "    <tr style=\"text-align: right;\">\n",
       "      <th></th>\n",
       "      <th>demand</th>\n",
       "      <th>hdd</th>\n",
       "      <th>t2min</th>\n",
       "      <th>q</th>\n",
       "      <th>rh</th>\n",
       "      <th>msdwswrf</th>\n",
       "      <th>t2m</th>\n",
       "      <th>mtpr</th>\n",
       "      <th>t2max</th>\n",
       "      <th>w10</th>\n",
       "      <th>cdd</th>\n",
       "    </tr>\n",
       "  </thead>\n",
       "  <tbody>\n",
       "    <tr>\n",
       "      <th>2006-01-09</th>\n",
       "      <td>1.705217e+06</td>\n",
       "      <td>12.830156</td>\n",
       "      <td>272.657808</td>\n",
       "      <td>4.025527</td>\n",
       "      <td>88.573776</td>\n",
       "      <td>47.682237</td>\n",
       "      <td>275.296031</td>\n",
       "      <td>2.371277e-05</td>\n",
       "      <td>279.068155</td>\n",
       "      <td>1.637494</td>\n",
       "      <td>-0.010986</td>\n",
       "    </tr>\n",
       "    <tr>\n",
       "      <th>2006-01-10</th>\n",
       "      <td>1.758981e+06</td>\n",
       "      <td>13.984140</td>\n",
       "      <td>271.595228</td>\n",
       "      <td>3.784367</td>\n",
       "      <td>90.981190</td>\n",
       "      <td>48.892031</td>\n",
       "      <td>274.142046</td>\n",
       "      <td>8.657164e-07</td>\n",
       "      <td>277.980809</td>\n",
       "      <td>2.175711</td>\n",
       "      <td>-0.010988</td>\n",
       "    </tr>\n",
       "    <tr>\n",
       "      <th>2006-01-11</th>\n",
       "      <td>1.767110e+06</td>\n",
       "      <td>13.379867</td>\n",
       "      <td>272.089441</td>\n",
       "      <td>3.937797</td>\n",
       "      <td>89.671837</td>\n",
       "      <td>43.395979</td>\n",
       "      <td>274.746300</td>\n",
       "      <td>1.894812e-05</td>\n",
       "      <td>278.607238</td>\n",
       "      <td>2.630530</td>\n",
       "      <td>-0.010990</td>\n",
       "    </tr>\n",
       "    <tr>\n",
       "      <th>2006-01-12</th>\n",
       "      <td>1.730977e+06</td>\n",
       "      <td>12.000599</td>\n",
       "      <td>273.560888</td>\n",
       "      <td>4.345852</td>\n",
       "      <td>90.272008</td>\n",
       "      <td>36.045634</td>\n",
       "      <td>276.125578</td>\n",
       "      <td>4.888885e-06</td>\n",
       "      <td>278.765070</td>\n",
       "      <td>1.697897</td>\n",
       "      <td>-0.010992</td>\n",
       "    </tr>\n",
       "    <tr>\n",
       "      <th>2006-01-13</th>\n",
       "      <td>1.702120e+06</td>\n",
       "      <td>12.688761</td>\n",
       "      <td>272.924578</td>\n",
       "      <td>3.917686</td>\n",
       "      <td>85.423196</td>\n",
       "      <td>58.909644</td>\n",
       "      <td>275.437413</td>\n",
       "      <td>1.039919e-06</td>\n",
       "      <td>279.551716</td>\n",
       "      <td>3.101840</td>\n",
       "      <td>-0.010994</td>\n",
       "    </tr>\n",
       "    <tr>\n",
       "      <th>...</th>\n",
       "      <td>...</td>\n",
       "      <td>...</td>\n",
       "      <td>...</td>\n",
       "      <td>...</td>\n",
       "      <td>...</td>\n",
       "      <td>...</td>\n",
       "      <td>...</td>\n",
       "      <td>...</td>\n",
       "      <td>...</td>\n",
       "      <td>...</td>\n",
       "      <td>...</td>\n",
       "    </tr>\n",
       "    <tr>\n",
       "      <th>2018-12-14</th>\n",
       "      <td>1.858269e+06</td>\n",
       "      <td>15.253060</td>\n",
       "      <td>270.421605</td>\n",
       "      <td>3.132872</td>\n",
       "      <td>82.919852</td>\n",
       "      <td>54.533171</td>\n",
       "      <td>272.852644</td>\n",
       "      <td>6.090467e-06</td>\n",
       "      <td>275.651745</td>\n",
       "      <td>2.254828</td>\n",
       "      <td>-0.020439</td>\n",
       "    </tr>\n",
       "    <tr>\n",
       "      <th>2018-12-17</th>\n",
       "      <td>1.690065e+06</td>\n",
       "      <td>9.540993</td>\n",
       "      <td>275.600259</td>\n",
       "      <td>5.120544</td>\n",
       "      <td>90.494908</td>\n",
       "      <td>42.946475</td>\n",
       "      <td>278.564667</td>\n",
       "      <td>1.559290e-05</td>\n",
       "      <td>280.841640</td>\n",
       "      <td>3.031087</td>\n",
       "      <td>-0.020445</td>\n",
       "    </tr>\n",
       "    <tr>\n",
       "      <th>2018-12-18</th>\n",
       "      <td>1.716567e+06</td>\n",
       "      <td>9.877834</td>\n",
       "      <td>275.230825</td>\n",
       "      <td>4.678102</td>\n",
       "      <td>84.025399</td>\n",
       "      <td>44.365657</td>\n",
       "      <td>278.227820</td>\n",
       "      <td>1.990659e-05</td>\n",
       "      <td>281.332968</td>\n",
       "      <td>4.207445</td>\n",
       "      <td>-0.020447</td>\n",
       "    </tr>\n",
       "    <tr>\n",
       "      <th>2018-12-19</th>\n",
       "      <td>1.656328e+06</td>\n",
       "      <td>8.088248</td>\n",
       "      <td>277.581117</td>\n",
       "      <td>5.604242</td>\n",
       "      <td>88.285489</td>\n",
       "      <td>30.235904</td>\n",
       "      <td>280.017408</td>\n",
       "      <td>6.939653e-05</td>\n",
       "      <td>281.626877</td>\n",
       "      <td>3.894776</td>\n",
       "      <td>-0.020449</td>\n",
       "    </tr>\n",
       "    <tr>\n",
       "      <th>2018-12-20</th>\n",
       "      <td>1.639514e+06</td>\n",
       "      <td>8.506128</td>\n",
       "      <td>276.850538</td>\n",
       "      <td>5.318146</td>\n",
       "      <td>86.653452</td>\n",
       "      <td>37.775546</td>\n",
       "      <td>279.599536</td>\n",
       "      <td>1.567701e-05</td>\n",
       "      <td>281.468730</td>\n",
       "      <td>4.336528</td>\n",
       "      <td>-0.020451</td>\n",
       "    </tr>\n",
       "  </tbody>\n",
       "</table>\n",
       "<p>2944 rows × 11 columns</p>\n",
       "</div>"
      ],
      "text/plain": [
       "                  demand        hdd       t2min         q         rh  \\\n",
       "2006-01-09  1.705217e+06  12.830156  272.657808  4.025527  88.573776   \n",
       "2006-01-10  1.758981e+06  13.984140  271.595228  3.784367  90.981190   \n",
       "2006-01-11  1.767110e+06  13.379867  272.089441  3.937797  89.671837   \n",
       "2006-01-12  1.730977e+06  12.000599  273.560888  4.345852  90.272008   \n",
       "2006-01-13  1.702120e+06  12.688761  272.924578  3.917686  85.423196   \n",
       "...                  ...        ...         ...       ...        ...   \n",
       "2018-12-14  1.858269e+06  15.253060  270.421605  3.132872  82.919852   \n",
       "2018-12-17  1.690065e+06   9.540993  275.600259  5.120544  90.494908   \n",
       "2018-12-18  1.716567e+06   9.877834  275.230825  4.678102  84.025399   \n",
       "2018-12-19  1.656328e+06   8.088248  277.581117  5.604242  88.285489   \n",
       "2018-12-20  1.639514e+06   8.506128  276.850538  5.318146  86.653452   \n",
       "\n",
       "             msdwswrf         t2m          mtpr       t2max       w10  \\\n",
       "2006-01-09  47.682237  275.296031  2.371277e-05  279.068155  1.637494   \n",
       "2006-01-10  48.892031  274.142046  8.657164e-07  277.980809  2.175711   \n",
       "2006-01-11  43.395979  274.746300  1.894812e-05  278.607238  2.630530   \n",
       "2006-01-12  36.045634  276.125578  4.888885e-06  278.765070  1.697897   \n",
       "2006-01-13  58.909644  275.437413  1.039919e-06  279.551716  3.101840   \n",
       "...               ...         ...           ...         ...       ...   \n",
       "2018-12-14  54.533171  272.852644  6.090467e-06  275.651745  2.254828   \n",
       "2018-12-17  42.946475  278.564667  1.559290e-05  280.841640  3.031087   \n",
       "2018-12-18  44.365657  278.227820  1.990659e-05  281.332968  4.207445   \n",
       "2018-12-19  30.235904  280.017408  6.939653e-05  281.626877  3.894776   \n",
       "2018-12-20  37.775546  279.599536  1.567701e-05  281.468730  4.336528   \n",
       "\n",
       "                 cdd  \n",
       "2006-01-09 -0.010986  \n",
       "2006-01-10 -0.010988  \n",
       "2006-01-11 -0.010990  \n",
       "2006-01-12 -0.010992  \n",
       "2006-01-13 -0.010994  \n",
       "...              ...  \n",
       "2018-12-14 -0.020439  \n",
       "2018-12-17 -0.020445  \n",
       "2018-12-18 -0.020447  \n",
       "2018-12-19 -0.020449  \n",
       "2018-12-20 -0.020451  \n",
       "\n",
       "[2944 rows x 11 columns]"
      ]
     },
     "execution_count": 25,
     "metadata": {},
     "output_type": "execute_result"
    }
   ],
   "source": [
    "region_dfs[region]"
   ]
  },
  {
   "cell_type": "markdown",
   "id": "4869679f-498d-41a0-a4dd-bc50bcd6bed1",
   "metadata": {},
   "source": [
    "## Split data into training and testing"
   ]
  },
  {
   "cell_type": "markdown",
   "id": "b73b5b11-458a-4891-b47e-486a42ecca91",
   "metadata": {},
   "source": [
    "Using this as a guide: https://towardsdatascience.com/random-forest-in-python-24d0893d51c0\n",
    "\n",
    "As this is time series data, leave out the last two years for testing."
   ]
  },
  {
   "cell_type": "code",
   "execution_count": 26,
   "id": "a7a445ac-78af-45ab-9624-bdeccc035c7c",
   "metadata": {},
   "outputs": [],
   "source": [
    "first_train_year = 2006\n",
    "last_train_year = 2015"
   ]
  },
  {
   "cell_type": "code",
   "execution_count": 27,
   "id": "38321cea-ed8f-4922-8a0a-ea598a89f50a",
   "metadata": {},
   "outputs": [],
   "source": [
    "first_test_year = 2016\n",
    "last_test_year = 2018"
   ]
  },
  {
   "cell_type": "code",
   "execution_count": 28,
   "id": "ef6e611b-3631-4a09-a1ca-1aba9326384a",
   "metadata": {},
   "outputs": [],
   "source": [
    "# Hold out last two years for testing\n",
    "test_len = dem_da.sel(time=slice(str(first_test_year), str(last_test_year))).time.values.shape[0]"
   ]
  },
  {
   "cell_type": "code",
   "execution_count": 29,
   "id": "e6ae6fc9-8327-4c1d-a899-66649f9e89f5",
   "metadata": {},
   "outputs": [
    {
     "data": {
      "text/plain": [
       "677"
      ]
     },
     "execution_count": 29,
     "metadata": {},
     "output_type": "execute_result"
    }
   ],
   "source": [
    "test_len"
   ]
  },
  {
   "cell_type": "code",
   "execution_count": 30,
   "id": "87b83b7e-36da-4590-ab81-6471768a6215",
   "metadata": {},
   "outputs": [],
   "source": [
    "train_X, test_X, train_y, test_y = fn.split(\n",
    "    fn.sel_train_test(region_dfs[region], first_train_year, last_test_year),\n",
    "    \"demand\",\n",
    "    test_size=test_len,\n",
    "    random_state=0,\n",
    "    shuffle=False\n",
    ")"
   ]
  },
  {
   "cell_type": "markdown",
   "id": "bb3a746b-1692-4470-b535-a2afc7d82314",
   "metadata": {},
   "source": [
    "## Sequential feature selection\n",
    "\n",
    "Chooses the predictors using forwards selection and a stopping criterion for a score."
   ]
  },
  {
   "cell_type": "code",
   "execution_count": 94,
   "id": "0e4e7e55-9c87-4158-a82d-e836f350225a",
   "metadata": {},
   "outputs": [],
   "source": [
    "# rf = RandomForestRegressor(\n",
    "#     n_estimators=best_params[\"n_estimators\"],\n",
    "#     random_state=0\n",
    "# )"
   ]
  },
  {
   "cell_type": "code",
   "execution_count": 95,
   "id": "5df1f902-4375-4fb6-9f31-8df20ded6ac4",
   "metadata": {},
   "outputs": [],
   "source": [
    "rf = ExtraTreesRegressor(\n",
    "    random_state=0\n",
    ")"
   ]
  },
  {
   "cell_type": "code",
   "execution_count": 96,
   "id": "8a260c41-ed13-4836-b199-f82ae24ffb1f",
   "metadata": {},
   "outputs": [
    {
     "name": "stdout",
     "output_type": "stream",
     "text": [
      "[2006 2006 2006 ... 2015 2015 2015]\n"
     ]
    }
   ],
   "source": [
    "logo = fn.leave_one_group_out(train_X, train_y, dem_da, str(first_train_year), str(last_train_year))"
   ]
  },
  {
   "cell_type": "code",
   "execution_count": 97,
   "id": "e36ab030-e569-4e4c-ae2e-c34eb616a50a",
   "metadata": {},
   "outputs": [],
   "source": [
    "model = fn.mlextend_sfs(train_X, train_y, rf, list(logo), True, scoring=\"neg_mean_absolute_error\")"
   ]
  },
  {
   "cell_type": "code",
   "execution_count": 98,
   "id": "ae5f84ce-ea00-4417-9ade-398fde399825",
   "metadata": {},
   "outputs": [
    {
     "data": {
      "text/plain": [
       "{1: {'feature_idx': (7,),\n",
       "  'cv_scores': array([-70888.8465455 , -78194.1750756 , -65357.41254513, -70636.25694489,\n",
       "         -76483.37875679, -67572.25228733, -74816.37791143, -74812.39844999,\n",
       "         -71500.32085791, -73817.58739053]),\n",
       "  'avg_score': -72407.90067650998,\n",
       "  'feature_names': ('7',)},\n",
       " 2: {'feature_idx': (5, 7),\n",
       "  'cv_scores': array([-66496.95415298, -58289.51466107, -54140.42999574, -58818.51076796,\n",
       "         -65611.82955294, -57127.10256007, -59365.15823973, -61888.58540249,\n",
       "         -51221.88197892, -60063.97913141]),\n",
       "  'avg_score': -59302.394644331085,\n",
       "  'feature_names': ('5', '7')},\n",
       " 3: {'feature_idx': (4, 5, 7),\n",
       "  'cv_scores': array([-57789.19275572, -46917.46429256, -57146.13448418, -47309.17675847,\n",
       "         -61884.136126  , -47983.82453708, -53390.32434983, -54682.70358483,\n",
       "         -43178.73167776, -47719.33444988]),\n",
       "  'avg_score': -51800.102301630264,\n",
       "  'feature_names': ('4', '5', '7')},\n",
       " 4: {'feature_idx': (1, 4, 5, 7),\n",
       "  'cv_scores': array([-53675.98676447, -44161.93470434, -51601.80957096, -42539.19889293,\n",
       "         -57317.29217822, -45495.45673844, -50905.27423766, -50094.79135408,\n",
       "         -40254.67997524, -42799.32601181]),\n",
       "  'avg_score': -47884.5750428154,\n",
       "  'feature_names': ('1', '4', '5', '7')},\n",
       " 5: {'feature_idx': (1, 4, 5, 7, 9),\n",
       "  'cv_scores': array([-44356.92213827, -38424.01938287, -51452.85027279, -43430.99543189,\n",
       "         -54791.155524  , -44525.62380143, -48727.59046672, -45845.23625808,\n",
       "         -38953.3179318 , -39070.26757397]),\n",
       "  'avg_score': -44957.79787818056,\n",
       "  'feature_names': ('1', '4', '5', '7', '9')},\n",
       " 6: {'feature_idx': (1, 4, 5, 6, 7, 9),\n",
       "  'cv_scores': array([-44240.14412573, -38995.24588354, -51094.58953315, -39708.25873738,\n",
       "         -52817.03558246, -43544.23226186, -48103.86081948, -46336.11104506,\n",
       "         -38781.41539418, -37426.35374784]),\n",
       "  'avg_score': -44104.72471306803,\n",
       "  'feature_names': ('1', '4', '5', '6', '7', '9')},\n",
       " 7: {'feature_idx': (1, 2, 4, 5, 6, 7, 9),\n",
       "  'cv_scores': array([-43570.68999187, -39612.46379379, -50047.49347197, -40164.09580817,\n",
       "         -52352.77343554, -42911.81554082, -47194.81104098, -45486.03608858,\n",
       "         -38420.35833528, -36680.27519611]),\n",
       "  'avg_score': -43644.08127030985,\n",
       "  'feature_names': ('1', '2', '4', '5', '6', '7', '9')},\n",
       " 8: {'feature_idx': (1, 2, 4, 5, 6, 7, 8, 9),\n",
       "  'cv_scores': array([-42848.22253636, -39020.90686475, -48898.68850429, -41397.25130105,\n",
       "         -54133.75452602, -42546.93358562, -48259.3778842 , -45962.66469094,\n",
       "         -37198.99652557, -36747.66313081]),\n",
       "  'avg_score': -43701.44595496117,\n",
       "  'feature_names': ('1', '2', '4', '5', '6', '7', '8', '9')},\n",
       " 9: {'feature_idx': (1, 2, 3, 4, 5, 6, 7, 8, 9),\n",
       "  'cv_scores': array([-44044.33770122, -37982.61653514, -49716.53010051, -41621.07351183,\n",
       "         -53643.45351689, -42527.34831259, -47904.84414711, -45446.41319473,\n",
       "         -37439.03621525, -37110.95864448]),\n",
       "  'avg_score': -43743.66118797452,\n",
       "  'feature_names': ('1', '2', '3', '4', '5', '6', '7', '8', '9')},\n",
       " 10: {'feature_idx': (0, 1, 2, 3, 4, 5, 6, 7, 8, 9),\n",
       "  'cv_scores': array([-44091.05279397, -38778.97580298, -49455.06887801, -43365.98006128,\n",
       "         -55011.05153478, -43621.2152383 , -48396.87224473, -44971.91068236,\n",
       "         -37484.27015194, -36938.30177756]),\n",
       "  'avg_score': -44211.469916590766,\n",
       "  'feature_names': ('0', '1', '2', '3', '4', '5', '6', '7', '8', '9')}}"
      ]
     },
     "execution_count": 98,
     "metadata": {},
     "output_type": "execute_result"
    }
   ],
   "source": [
    "model.subsets_"
   ]
  },
  {
   "cell_type": "code",
   "execution_count": 99,
   "id": "818ab505-149a-4c06-a134-37d975f32320",
   "metadata": {},
   "outputs": [
    {
     "data": {
      "text/plain": [
       "(1, 2, 4, 5, 6, 7, 9)"
      ]
     },
     "execution_count": 99,
     "metadata": {},
     "output_type": "execute_result"
    }
   ],
   "source": [
    "model.k_feature_idx_"
   ]
  },
  {
   "cell_type": "code",
   "execution_count": 101,
   "id": "9608a661-65b0-4fad-8524-64686eb2bbcd",
   "metadata": {},
   "outputs": [
    {
     "name": "stdout",
     "output_type": "stream",
     "text": [
      "['t2min', 'q', 'msdwswrf', 't2m', 'mtpr', 't2max', 'cdd']\n"
     ]
    }
   ],
   "source": [
    "selected_features = list(region_dfs[region].columns[1:][list(model.k_feature_idx_)])\n",
    "print(selected_features)"
   ]
  },
  {
   "cell_type": "code",
   "execution_count": 31,
   "id": "b440b6a9-95be-46cf-96d3-15858b307773",
   "metadata": {},
   "outputs": [],
   "source": [
    "selected_features = ['t2min', 'q', 'msdwswrf', 't2m', 'mtpr', 't2max', 'cdd']"
   ]
  },
  {
   "cell_type": "code",
   "execution_count": 102,
   "id": "8abc5a36-aa48-4c77-8276-d4a2b31b02da",
   "metadata": {},
   "outputs": [
    {
     "data": {
      "text/html": [
       "<div>\n",
       "<style scoped>\n",
       "    .dataframe tbody tr th:only-of-type {\n",
       "        vertical-align: middle;\n",
       "    }\n",
       "\n",
       "    .dataframe tbody tr th {\n",
       "        vertical-align: top;\n",
       "    }\n",
       "\n",
       "    .dataframe thead th {\n",
       "        text-align: right;\n",
       "    }\n",
       "</style>\n",
       "<table border=\"1\" class=\"dataframe\">\n",
       "  <thead>\n",
       "    <tr style=\"text-align: right;\">\n",
       "      <th></th>\n",
       "      <th>feature_idx</th>\n",
       "      <th>cv_scores</th>\n",
       "      <th>avg_score</th>\n",
       "      <th>feature_names</th>\n",
       "      <th>ci_bound</th>\n",
       "      <th>std_dev</th>\n",
       "      <th>std_err</th>\n",
       "    </tr>\n",
       "  </thead>\n",
       "  <tbody>\n",
       "    <tr>\n",
       "      <th>1</th>\n",
       "      <td>(7,)</td>\n",
       "      <td>[-70888.84654549978, -78194.17507559704, -6535...</td>\n",
       "      <td>-72407.900677</td>\n",
       "      <td>(7,)</td>\n",
       "      <td>2808.819289</td>\n",
       "      <td>3781.836962</td>\n",
       "      <td>1260.612321</td>\n",
       "    </tr>\n",
       "    <tr>\n",
       "      <th>2</th>\n",
       "      <td>(5, 7)</td>\n",
       "      <td>[-66496.95415297574, -58289.51466107147, -5414...</td>\n",
       "      <td>-59302.394644</td>\n",
       "      <td>(5, 7)</td>\n",
       "      <td>3294.629086</td>\n",
       "      <td>4435.938653</td>\n",
       "      <td>1478.646218</td>\n",
       "    </tr>\n",
       "    <tr>\n",
       "      <th>3</th>\n",
       "      <td>(4, 5, 7)</td>\n",
       "      <td>[-57789.192755717835, -46917.46429255857, -571...</td>\n",
       "      <td>-51800.102302</td>\n",
       "      <td>(4, 5, 7)</td>\n",
       "      <td>4244.05988</td>\n",
       "      <td>5714.266697</td>\n",
       "      <td>1904.755566</td>\n",
       "    </tr>\n",
       "    <tr>\n",
       "      <th>4</th>\n",
       "      <td>(1, 4, 5, 7)</td>\n",
       "      <td>[-53675.98676447176, -44161.93470434079, -5160...</td>\n",
       "      <td>-47884.575043</td>\n",
       "      <td>(1, 4, 5, 7)</td>\n",
       "      <td>3947.979778</td>\n",
       "      <td>5315.619951</td>\n",
       "      <td>1771.873317</td>\n",
       "    </tr>\n",
       "    <tr>\n",
       "      <th>5</th>\n",
       "      <td>(1, 4, 5, 7, 9)</td>\n",
       "      <td>[-44356.92213826961, -38424.0193828729, -51452...</td>\n",
       "      <td>-44957.797878</td>\n",
       "      <td>(1, 4, 5, 7, 9)</td>\n",
       "      <td>3860.432427</td>\n",
       "      <td>5197.744866</td>\n",
       "      <td>1732.581622</td>\n",
       "    </tr>\n",
       "    <tr>\n",
       "      <th>6</th>\n",
       "      <td>(1, 4, 5, 6, 7, 9)</td>\n",
       "      <td>[-44240.144125729865, -38995.24588353975, -510...</td>\n",
       "      <td>-44104.724713</td>\n",
       "      <td>(1, 4, 5, 6, 7, 9)</td>\n",
       "      <td>3819.315566</td>\n",
       "      <td>5142.3845</td>\n",
       "      <td>1714.128167</td>\n",
       "    </tr>\n",
       "    <tr>\n",
       "      <th>7</th>\n",
       "      <td>(1, 2, 4, 5, 6, 7, 9)</td>\n",
       "      <td>[-43570.68999187208, -39612.46379379013, -5004...</td>\n",
       "      <td>-43644.08127</td>\n",
       "      <td>(1, 2, 4, 5, 6, 7, 9)</td>\n",
       "      <td>3619.788175</td>\n",
       "      <td>4873.737791</td>\n",
       "      <td>1624.579264</td>\n",
       "    </tr>\n",
       "    <tr>\n",
       "      <th>8</th>\n",
       "      <td>(1, 2, 4, 5, 6, 7, 8, 9)</td>\n",
       "      <td>[-42848.222536359346, -39020.90686474846, -488...</td>\n",
       "      <td>-43701.445955</td>\n",
       "      <td>(1, 2, 4, 5, 6, 7, 8, 9)</td>\n",
       "      <td>3941.608056</td>\n",
       "      <td>5307.040967</td>\n",
       "      <td>1769.013656</td>\n",
       "    </tr>\n",
       "    <tr>\n",
       "      <th>9</th>\n",
       "      <td>(1, 2, 3, 4, 5, 6, 7, 8, 9)</td>\n",
       "      <td>[-44044.33770122003, -37982.6165351359, -49716...</td>\n",
       "      <td>-43743.661188</td>\n",
       "      <td>(1, 2, 3, 4, 5, 6, 7, 8, 9)</td>\n",
       "      <td>3908.263491</td>\n",
       "      <td>5262.145338</td>\n",
       "      <td>1754.048446</td>\n",
       "    </tr>\n",
       "    <tr>\n",
       "      <th>10</th>\n",
       "      <td>(0, 1, 2, 3, 4, 5, 6, 7, 8, 9)</td>\n",
       "      <td>[-44091.05279397186, -38778.97580297908, -4945...</td>\n",
       "      <td>-44211.469917</td>\n",
       "      <td>(0, 1, 2, 3, 4, 5, 6, 7, 8, 9)</td>\n",
       "      <td>4006.288206</td>\n",
       "      <td>5394.127304</td>\n",
       "      <td>1798.042435</td>\n",
       "    </tr>\n",
       "  </tbody>\n",
       "</table>\n",
       "</div>"
      ],
      "text/plain": [
       "                       feature_idx  \\\n",
       "1                             (7,)   \n",
       "2                           (5, 7)   \n",
       "3                        (4, 5, 7)   \n",
       "4                     (1, 4, 5, 7)   \n",
       "5                  (1, 4, 5, 7, 9)   \n",
       "6               (1, 4, 5, 6, 7, 9)   \n",
       "7            (1, 2, 4, 5, 6, 7, 9)   \n",
       "8         (1, 2, 4, 5, 6, 7, 8, 9)   \n",
       "9      (1, 2, 3, 4, 5, 6, 7, 8, 9)   \n",
       "10  (0, 1, 2, 3, 4, 5, 6, 7, 8, 9)   \n",
       "\n",
       "                                            cv_scores     avg_score  \\\n",
       "1   [-70888.84654549978, -78194.17507559704, -6535... -72407.900677   \n",
       "2   [-66496.95415297574, -58289.51466107147, -5414... -59302.394644   \n",
       "3   [-57789.192755717835, -46917.46429255857, -571... -51800.102302   \n",
       "4   [-53675.98676447176, -44161.93470434079, -5160... -47884.575043   \n",
       "5   [-44356.92213826961, -38424.0193828729, -51452... -44957.797878   \n",
       "6   [-44240.144125729865, -38995.24588353975, -510... -44104.724713   \n",
       "7   [-43570.68999187208, -39612.46379379013, -5004...  -43644.08127   \n",
       "8   [-42848.222536359346, -39020.90686474846, -488... -43701.445955   \n",
       "9   [-44044.33770122003, -37982.6165351359, -49716... -43743.661188   \n",
       "10  [-44091.05279397186, -38778.97580297908, -4945... -44211.469917   \n",
       "\n",
       "                     feature_names     ci_bound      std_dev      std_err  \n",
       "1                             (7,)  2808.819289  3781.836962  1260.612321  \n",
       "2                           (5, 7)  3294.629086  4435.938653  1478.646218  \n",
       "3                        (4, 5, 7)   4244.05988  5714.266697  1904.755566  \n",
       "4                     (1, 4, 5, 7)  3947.979778  5315.619951  1771.873317  \n",
       "5                  (1, 4, 5, 7, 9)  3860.432427  5197.744866  1732.581622  \n",
       "6               (1, 4, 5, 6, 7, 9)  3819.315566    5142.3845  1714.128167  \n",
       "7            (1, 2, 4, 5, 6, 7, 9)  3619.788175  4873.737791  1624.579264  \n",
       "8         (1, 2, 4, 5, 6, 7, 8, 9)  3941.608056  5307.040967  1769.013656  \n",
       "9      (1, 2, 3, 4, 5, 6, 7, 8, 9)  3908.263491  5262.145338  1754.048446  \n",
       "10  (0, 1, 2, 3, 4, 5, 6, 7, 8, 9)  4006.288206  5394.127304  1798.042435  "
      ]
     },
     "execution_count": 102,
     "metadata": {},
     "output_type": "execute_result"
    }
   ],
   "source": [
    "pd.DataFrame.from_dict(model.get_metric_dict()).T"
   ]
  },
  {
   "cell_type": "code",
   "execution_count": 103,
   "id": "7245b423-68f8-4dd7-8457-e6728fbb3435",
   "metadata": {},
   "outputs": [
    {
     "data": {
      "image/png": "[encoded data removed]",
      "text/plain": [
       "<Figure size 640x480 with 1 Axes>"
      ]
     },
     "metadata": {},
     "output_type": "display_data"
    }
   ],
   "source": [
    "fig1 = plot_sfs(model.get_metric_dict(), kind='std_dev')\n",
    "# plt.ylim([0.8, 1])\n",
    "plt.title('Sequential Forward Selection (w. StdDev)')\n",
    "plt.grid()\n",
    "plt.show()"
   ]
  },
  {
   "cell_type": "markdown",
   "id": "8732ce2f-92aa-4bd6-9ab5-d02825e537f0",
   "metadata": {
    "tags": []
   },
   "source": [
    "## Tune hyperparameters\n",
    "\n",
    "Using leave one group out cross validation, where a group is a year."
   ]
  },
  {
   "cell_type": "code",
   "execution_count": 32,
   "id": "1a0c8bf7-5679-4d0c-9455-61c798feb19e",
   "metadata": {},
   "outputs": [],
   "source": [
    "parameters = {\n",
    "    \"n_estimators\": randint(200, 500), # no. trees in the forest\n",
    "    \"min_samples_leaf\": randint(1, 30), # min no. samples at leaf node\n",
    "    \"max_depth\" : randint(5, 50), # max depth of each tree\n",
    "    # \"max_features\" : uniform(0.2, 1) # max proportion of features to consider at split\n",
    "    \"max_leaf_nodes\": randint(200, 500) # size of tree, how many end nodes\n",
    "}"
   ]
  },
  {
   "cell_type": "code",
   "execution_count": 33,
   "id": "694d603f-38aa-403b-b327-7fafe44df0aa",
   "metadata": {},
   "outputs": [],
   "source": [
    "retain = [\"demand\"] + selected_features"
   ]
  },
  {
   "cell_type": "code",
   "execution_count": 34,
   "id": "1e7f7c2f-0b03-483b-9dda-83be10c6e1f3",
   "metadata": {},
   "outputs": [],
   "source": [
    "final_features = region_dfs[region][retain]"
   ]
  },
  {
   "cell_type": "code",
   "execution_count": 35,
   "id": "fe121a75-d646-4f5c-a0d8-42b253648dd2",
   "metadata": {},
   "outputs": [
    {
     "data": {
      "text/html": [
       "<div>\n",
       "<style scoped>\n",
       "    .dataframe tbody tr th:only-of-type {\n",
       "        vertical-align: middle;\n",
       "    }\n",
       "\n",
       "    .dataframe tbody tr th {\n",
       "        vertical-align: top;\n",
       "    }\n",
       "\n",
       "    .dataframe thead th {\n",
       "        text-align: right;\n",
       "    }\n",
       "</style>\n",
       "<table border=\"1\" class=\"dataframe\">\n",
       "  <thead>\n",
       "    <tr style=\"text-align: right;\">\n",
       "      <th></th>\n",
       "      <th>demand</th>\n",
       "      <th>t2min</th>\n",
       "      <th>q</th>\n",
       "      <th>msdwswrf</th>\n",
       "      <th>t2m</th>\n",
       "      <th>mtpr</th>\n",
       "      <th>t2max</th>\n",
       "      <th>cdd</th>\n",
       "    </tr>\n",
       "  </thead>\n",
       "  <tbody>\n",
       "    <tr>\n",
       "      <th>2006-01-09</th>\n",
       "      <td>1.705217e+06</td>\n",
       "      <td>272.657808</td>\n",
       "      <td>4.025527</td>\n",
       "      <td>47.682237</td>\n",
       "      <td>275.296031</td>\n",
       "      <td>2.371277e-05</td>\n",
       "      <td>279.068155</td>\n",
       "      <td>-0.010986</td>\n",
       "    </tr>\n",
       "    <tr>\n",
       "      <th>2006-01-10</th>\n",
       "      <td>1.758981e+06</td>\n",
       "      <td>271.595228</td>\n",
       "      <td>3.784367</td>\n",
       "      <td>48.892031</td>\n",
       "      <td>274.142046</td>\n",
       "      <td>8.657164e-07</td>\n",
       "      <td>277.980809</td>\n",
       "      <td>-0.010988</td>\n",
       "    </tr>\n",
       "    <tr>\n",
       "      <th>2006-01-11</th>\n",
       "      <td>1.767110e+06</td>\n",
       "      <td>272.089441</td>\n",
       "      <td>3.937797</td>\n",
       "      <td>43.395979</td>\n",
       "      <td>274.746300</td>\n",
       "      <td>1.894812e-05</td>\n",
       "      <td>278.607238</td>\n",
       "      <td>-0.010990</td>\n",
       "    </tr>\n",
       "    <tr>\n",
       "      <th>2006-01-12</th>\n",
       "      <td>1.730977e+06</td>\n",
       "      <td>273.560888</td>\n",
       "      <td>4.345852</td>\n",
       "      <td>36.045634</td>\n",
       "      <td>276.125578</td>\n",
       "      <td>4.888885e-06</td>\n",
       "      <td>278.765070</td>\n",
       "      <td>-0.010992</td>\n",
       "    </tr>\n",
       "    <tr>\n",
       "      <th>2006-01-13</th>\n",
       "      <td>1.702120e+06</td>\n",
       "      <td>272.924578</td>\n",
       "      <td>3.917686</td>\n",
       "      <td>58.909644</td>\n",
       "      <td>275.437413</td>\n",
       "      <td>1.039919e-06</td>\n",
       "      <td>279.551716</td>\n",
       "      <td>-0.010994</td>\n",
       "    </tr>\n",
       "  </tbody>\n",
       "</table>\n",
       "</div>"
      ],
      "text/plain": [
       "                  demand       t2min         q   msdwswrf         t2m  \\\n",
       "2006-01-09  1.705217e+06  272.657808  4.025527  47.682237  275.296031   \n",
       "2006-01-10  1.758981e+06  271.595228  3.784367  48.892031  274.142046   \n",
       "2006-01-11  1.767110e+06  272.089441  3.937797  43.395979  274.746300   \n",
       "2006-01-12  1.730977e+06  273.560888  4.345852  36.045634  276.125578   \n",
       "2006-01-13  1.702120e+06  272.924578  3.917686  58.909644  275.437413   \n",
       "\n",
       "                    mtpr       t2max       cdd  \n",
       "2006-01-09  2.371277e-05  279.068155 -0.010986  \n",
       "2006-01-10  8.657164e-07  277.980809 -0.010988  \n",
       "2006-01-11  1.894812e-05  278.607238 -0.010990  \n",
       "2006-01-12  4.888885e-06  278.765070 -0.010992  \n",
       "2006-01-13  1.039919e-06  279.551716 -0.010994  "
      ]
     },
     "execution_count": 35,
     "metadata": {},
     "output_type": "execute_result"
    }
   ],
   "source": [
    "final_features.head()"
   ]
  },
  {
   "cell_type": "code",
   "execution_count": 36,
   "id": "ba7ac74e-870e-4758-a68c-dd7370fee9bd",
   "metadata": {},
   "outputs": [],
   "source": [
    "train_X, test_X, train_y, test_y = fn.split(\n",
    "    fn.sel_train_test(final_features, first_train_year, last_test_year),\n",
    "    \"demand\",\n",
    "    test_size=test_len,\n",
    "    random_state=0,\n",
    "    shuffle=False\n",
    ")"
   ]
  },
  {
   "cell_type": "code",
   "execution_count": 37,
   "id": "831db82f-957c-41cc-b27b-27fd7005a3e8",
   "metadata": {},
   "outputs": [],
   "source": [
    "# # very restricted space for testing\n",
    "# parameters = {\n",
    "#     \"n_estimators\": randint(10, 12), # no. trees in the forest\n",
    "# }"
   ]
  },
  {
   "cell_type": "code",
   "execution_count": 38,
   "id": "cd7380d9-2d28-4939-ad90-10f7fd3363c3",
   "metadata": {},
   "outputs": [],
   "source": [
    "rf = ExtraTreesRegressor()"
   ]
  },
  {
   "cell_type": "code",
   "execution_count": 39,
   "id": "9fd0d2ce-0658-499f-ad51-7e5b39cf34ef",
   "metadata": {},
   "outputs": [
    {
     "name": "stdout",
     "output_type": "stream",
     "text": [
      "[2006 2006 2006 ... 2015 2015 2015]\n"
     ]
    }
   ],
   "source": [
    "logo = fn.leave_one_group_out(train_X, train_y, dem_da, str(first_train_year), str(last_train_year))"
   ]
  },
  {
   "cell_type": "code",
   "execution_count": 40,
   "id": "98b0e210-9a46-450d-acdb-5b7a0fcc6fb3",
   "metadata": {},
   "outputs": [],
   "source": [
    "best_params = fn.tune_hyperparameters(\n",
    "    train_X,\n",
    "    train_y,\n",
    "    rf,\n",
    "    parameters,\n",
    "    logo,\n",
    "    n_iter=200\n",
    ")"
   ]
  },
  {
   "cell_type": "code",
   "execution_count": 41,
   "id": "a50e878e-ecea-4852-92ec-b19d0b085fd8",
   "metadata": {},
   "outputs": [
    {
     "data": {
      "text/plain": [
       "{'max_depth': 38,\n",
       " 'max_leaf_nodes': 367,\n",
       " 'min_samples_leaf': 1,\n",
       " 'n_estimators': 489}"
      ]
     },
     "execution_count": 41,
     "metadata": {},
     "output_type": "execute_result"
    }
   ],
   "source": [
    "best_params"
   ]
  },
  {
   "cell_type": "markdown",
   "id": "0e199d4b-fa0f-4511-b831-89257ea3c785",
   "metadata": {},
   "source": [
    "## Finalise model"
   ]
  },
  {
   "cell_type": "code",
   "execution_count": 42,
   "id": "dcc0c4c8-8120-45a9-a193-513a77b6a72d",
   "metadata": {},
   "outputs": [],
   "source": [
    "rf = ExtraTreesRegressor(\n",
    "    n_estimators=best_params[\"n_estimators\"],\n",
    "    min_samples_leaf=best_params[\"min_samples_leaf\"],\n",
    "    max_depth=best_params[\"max_depth\"],\n",
    "    max_leaf_nodes=best_params[\"max_leaf_nodes\"],\n",
    "    random_state=0,\n",
    ")"
   ]
  },
  {
   "cell_type": "code",
   "execution_count": 43,
   "id": "ed294f4c-4136-45db-9472-c17ad6c88794",
   "metadata": {},
   "outputs": [],
   "source": [
    "model_train, pred_train = fn.predict_forest(train_y, train_X, train_X, rf)"
   ]
  },
  {
   "cell_type": "code",
   "execution_count": 44,
   "id": "d852debe-5307-4d89-83d2-afa77924f9c1",
   "metadata": {},
   "outputs": [],
   "source": [
    "model_test, pred_test = fn.predict_forest(train_y, train_X, test_X, rf)"
   ]
  },
  {
   "cell_type": "code",
   "execution_count": 45,
   "id": "52574d52-8511-45ed-afee-dc56095c627a",
   "metadata": {},
   "outputs": [
    {
     "data": {
      "text/plain": [
       "(2267,)"
      ]
     },
     "execution_count": 45,
     "metadata": {},
     "output_type": "execute_result"
    }
   ],
   "source": [
    "pred_train.shape"
   ]
  },
  {
   "cell_type": "code",
   "execution_count": 46,
   "id": "b8bae4f7-a310-490b-9bec-b2e493d06769",
   "metadata": {},
   "outputs": [
    {
     "data": {
      "text/plain": [
       "(677,)"
      ]
     },
     "execution_count": 46,
     "metadata": {},
     "output_type": "execute_result"
    }
   ],
   "source": [
    "pred_test.shape"
   ]
  },
  {
   "cell_type": "markdown",
   "id": "2be55ccf-24cd-4bc3-9ee7-ae014c381b80",
   "metadata": {},
   "source": [
    "## Evaluate performance"
   ]
  },
  {
   "cell_type": "code",
   "execution_count": 47,
   "id": "23d54ec0-8edb-48be-a4d1-8800c66ce2c3",
   "metadata": {},
   "outputs": [],
   "source": [
    "metric_names = [\"R2\", \"MAE\", \"MSE\", \"MAPE\", \"MedAE\"]\n",
    "metrics = [r2_score, mean_absolute_error,\n",
    "           mean_squared_error, mean_absolute_percentage_error, median_absolute_error]"
   ]
  },
  {
   "cell_type": "code",
   "execution_count": 48,
   "id": "fd1ba4e1-57c5-42a7-bf69-ddb24a4f64cd",
   "metadata": {},
   "outputs": [],
   "source": [
    "train_scores = fn.compute_scores(train_y, pred_train, metrics)"
   ]
  },
  {
   "cell_type": "code",
   "execution_count": 121,
   "id": "825c6dd6-78a6-4752-96d0-6fd48183a518",
   "metadata": {},
   "outputs": [
    {
     "data": {
      "text/plain": [
       "[0.9552510375939364,\n",
       " 36431.08988068906,\n",
       " 2634074896.539016,\n",
       " 0.027041094806112873,\n",
       " 26722.778213988757]"
      ]
     },
     "execution_count": 121,
     "metadata": {},
     "output_type": "execute_result"
    }
   ],
   "source": [
    "train_scores"
   ]
  },
  {
   "cell_type": "code",
   "execution_count": 49,
   "id": "50b01f31-8fed-4ac1-b717-e8f603c49ccd",
   "metadata": {},
   "outputs": [
    {
     "data": {
      "text/plain": [
       "[0.9852297740989927,\n",
       " 21734.802618407826,\n",
       " 869425326.7597971,\n",
       " 0.016595996360607514,\n",
       " 17190.118735994678]"
      ]
     },
     "execution_count": 49,
     "metadata": {},
     "output_type": "execute_result"
    }
   ],
   "source": [
    "train_scores"
   ]
  },
  {
   "cell_type": "code",
   "execution_count": 50,
   "id": "49518192-4e06-478b-82fd-1849024b5786",
   "metadata": {},
   "outputs": [],
   "source": [
    "test_scores = fn.compute_scores(test_y, pred_test, metrics)"
   ]
  },
  {
   "cell_type": "code",
   "execution_count": 123,
   "id": "fe7e6ee6-9d3b-4217-9d07-3ca44d04e03c",
   "metadata": {},
   "outputs": [
    {
     "data": {
      "text/plain": [
       "[0.9472517899998211,\n",
       " 40661.91889544719,\n",
       " 3339329426.1477222,\n",
       " 0.02941762168632571,\n",
       " 27637.343076422112]"
      ]
     },
     "execution_count": 123,
     "metadata": {},
     "output_type": "execute_result"
    }
   ],
   "source": [
    "test_scores"
   ]
  },
  {
   "cell_type": "code",
   "execution_count": 51,
   "id": "46e1d54a-bdbe-456c-a842-ad10c55cbde4",
   "metadata": {},
   "outputs": [
    {
     "data": {
      "text/plain": [
       "[0.9480116395412623,\n",
       " 39970.5157208191,\n",
       " 3291225652.8979535,\n",
       " 0.02882122958306124,\n",
       " 26685.2825520779]"
      ]
     },
     "execution_count": 51,
     "metadata": {},
     "output_type": "execute_result"
    }
   ],
   "source": [
    "test_scores"
   ]
  },
  {
   "cell_type": "code",
   "execution_count": 52,
   "id": "c77b6446-795f-42f0-bb1a-3579ee987d89",
   "metadata": {},
   "outputs": [],
   "source": [
    "def plot_scores(train, test, metric_names):\n",
    "    \"\"\"\n",
    "    Subplot for each metric showing score for train and test.\n",
    "    \"\"\"\n",
    "    fig, ax = plt.subplots(2, 3, figsize=(10, 6))\n",
    "    for i, a in enumerate(ax.flatten()):\n",
    "        if i < len(metric_names):\n",
    "            a.bar([\"Train\", \"Test\"], [train[i], test[i]])\n",
    "            a.set_title(metric_names[i])\n",
    "    plt.tight_layout()"
   ]
  },
  {
   "cell_type": "code",
   "execution_count": 53,
   "id": "f6290e08-8036-46ea-afd5-4ecdea888a2d",
   "metadata": {},
   "outputs": [
    {
     "data": {
      "image/png": "[encoded data removed]",
      "text/plain": [
       "<Figure size 1000x600 with 6 Axes>"
      ]
     },
     "metadata": {},
     "output_type": "display_data"
    }
   ],
   "source": [
    "plot_scores(train_scores, test_scores, metric_names)"
   ]
  },
  {
   "cell_type": "code",
   "execution_count": 54,
   "id": "fed537ec-6894-433e-993f-42eb1e923cd0",
   "metadata": {},
   "outputs": [
    {
     "data": {
      "image/png": "[encoded data removed]",
      "text/plain": [
       "<Figure size 900x400 with 2 Axes>"
      ]
     },
     "metadata": {},
     "output_type": "display_data"
    }
   ],
   "source": [
    "fig, ax = plt.subplots(2, 1, figsize=(9, 4))\n",
    "\n",
    "ax[0].plot(train_y, label=\"Observations\")\n",
    "ax[0].plot(pred_train, label=\"Predictions\")\n",
    "ax[0].legend()\n",
    "ax[0].set_title(\"Training\")\n",
    "\n",
    "ax[1].plot(test_y)\n",
    "ax[1].plot(pred_test)\n",
    "ax[1].set_title(\"Test\")\n",
    "\n",
    "plt.tight_layout()"
   ]
  },
  {
   "cell_type": "code",
   "execution_count": 55,
   "id": "689c3562-3c95-4123-b4cf-82ebf9d36819",
   "metadata": {},
   "outputs": [
    {
     "data": {
      "text/plain": [
       "[<matplotlib.lines.Line2D at 0x14ded8f73730>]"
      ]
     },
     "execution_count": 55,
     "metadata": {},
     "output_type": "execute_result"
    },
    {
     "data": {
      "image/png": "[encoded data removed]",
      "text/plain": [
       "<Figure size 640x480 with 1 Axes>"
      ]
     },
     "metadata": {},
     "output_type": "display_data"
    }
   ],
   "source": [
    "plt.plot(test_y[:180])\n",
    "plt.plot(pred_test[:180])"
   ]
  },
  {
   "cell_type": "markdown",
   "id": "3aab173b-4ed1-498a-84bc-d39fc0c0dcbb",
   "metadata": {},
   "source": [
    "## Performance by day of the week"
   ]
  },
  {
   "cell_type": "code",
   "execution_count": 56,
   "id": "e8f226e0-7781-42df-b0de-da046807dc69",
   "metadata": {},
   "outputs": [],
   "source": [
    "error_df = pd.DataFrame(\n",
    "    test_y,\n",
    "    index = final_features[\n",
    "        (final_features.index.year >= first_test_year) &\n",
    "        (final_features.index.year <= last_test_year)\n",
    "    ].index,\n",
    "    columns=[\"demand\"]\n",
    ")"
   ]
  },
  {
   "cell_type": "code",
   "execution_count": 57,
   "id": "3ced8727-64c8-4d65-8cfb-6eee55215057",
   "metadata": {},
   "outputs": [],
   "source": [
    "error_df[\"prediction\"] = pred_test"
   ]
  },
  {
   "cell_type": "code",
   "execution_count": 58,
   "id": "4c8b50b2-2708-4578-9b91-0ddee147b4e0",
   "metadata": {},
   "outputs": [],
   "source": [
    "error_df[\"error\"] = test_y - pred_test"
   ]
  },
  {
   "cell_type": "code",
   "execution_count": 59,
   "id": "ad341036-0ba3-4b1f-a7be-1debff1c1f00",
   "metadata": {},
   "outputs": [],
   "source": [
    "error_df[\"abs_error\"] = np.abs(test_y - pred_test)"
   ]
  },
  {
   "cell_type": "code",
   "execution_count": 60,
   "id": "2ed9e29f-7a47-4f45-9709-bf886dcbb224",
   "metadata": {},
   "outputs": [],
   "source": [
    "error_df[\"sq_error\"] = (test_y - pred_test) ** 2"
   ]
  },
  {
   "cell_type": "code",
   "execution_count": 61,
   "id": "9e58e1d4-c650-49b6-9c9e-d0f8cd5c8158",
   "metadata": {},
   "outputs": [
    {
     "data": {
      "text/plain": [
       "0    48552.134924\n",
       "1    39316.372119\n",
       "2    36070.380510\n",
       "3    38428.645956\n",
       "4    37333.865613\n",
       "Name: abs_error, dtype: float64"
      ]
     },
     "execution_count": 61,
     "metadata": {},
     "output_type": "execute_result"
    }
   ],
   "source": [
    "error_df[\"abs_error\"].groupby(error_df.index.weekday).mean()"
   ]
  },
  {
   "cell_type": "code",
   "execution_count": 62,
   "id": "3f7dba2f-b9b4-4f8d-91f9-b80b417f66ed",
   "metadata": {},
   "outputs": [
    {
     "data": {
      "text/plain": [
       "0    4.279529e+09\n",
       "1    3.286564e+09\n",
       "2    2.689678e+09\n",
       "3    3.351016e+09\n",
       "4    2.830278e+09\n",
       "Name: sq_error, dtype: float64"
      ]
     },
     "execution_count": 62,
     "metadata": {},
     "output_type": "execute_result"
    }
   ],
   "source": [
    "error_df[\"sq_error\"].groupby(error_df.index.weekday).mean()"
   ]
  },
  {
   "cell_type": "markdown",
   "id": "373155fe-e195-4baf-b10b-85c67b697e64",
   "metadata": {},
   "source": [
    "## Permutation importances\n",
    "\n",
    "Compute these on the training and test sets. Differences tell us what the model actually used to make the predictions."
   ]
  },
  {
   "cell_type": "code",
   "execution_count": 112,
   "id": "6206c92a-4e23-472c-ba5b-15dffa1d702f",
   "metadata": {},
   "outputs": [],
   "source": [
    "perm_train = fn.perm_imp(\n",
    "    model_train,\n",
    "    train_X,\n",
    "    train_y,\n",
    "    n_repeats=2,\n",
    ")"
   ]
  },
  {
   "cell_type": "code",
   "execution_count": 113,
   "id": "7208071a-f1ea-4031-8fa4-2b3b2b4b6d50",
   "metadata": {},
   "outputs": [],
   "source": [
    "perm_test = fn.perm_imp(\n",
    "    model_test,\n",
    "    test_X,\n",
    "    test_y,\n",
    "    n_repeats=2,\n",
    ")"
   ]
  },
  {
   "cell_type": "code",
   "execution_count": 114,
   "id": "c7a9129b-157a-49f9-bd30-ecdddef3cfa4",
   "metadata": {},
   "outputs": [
    {
     "data": {
      "text/plain": [
       "{'importances_mean': array([0.177155  , 0.05666925, 0.00144561, 0.00985985, 0.53398609,\n",
       "        0.17049582, 0.00094452]),\n",
       " 'importances_std': array([5.15550787e-04, 1.07742284e-04, 6.34458874e-06, 4.93632263e-04,\n",
       "        5.60215008e-04, 5.46410985e-06, 2.52766840e-05]),\n",
       " 'importances': array([[0.17663945, 0.17767055],\n",
       "        [0.056777  , 0.05656151],\n",
       "        [0.00143926, 0.00145195],\n",
       "        [0.00936622, 0.01035349],\n",
       "        [0.5345463 , 0.53342587],\n",
       "        [0.17049036, 0.17050129],\n",
       "        [0.00091924, 0.0009698 ]])}"
      ]
     },
     "execution_count": 114,
     "metadata": {},
     "output_type": "execute_result"
    }
   ],
   "source": [
    "perm_train"
   ]
  },
  {
   "cell_type": "code",
   "execution_count": 115,
   "id": "a9542d8f-89ee-487b-961b-e591edf6ed6f",
   "metadata": {},
   "outputs": [
    {
     "data": {
      "text/plain": [
       "{'importances_mean': array([1.53757324e-01, 5.89022394e-02, 7.14255622e-04, 6.54215064e-03,\n",
       "        5.38360922e-01, 1.65642262e-01, 3.56746693e-04]),\n",
       " 'importances_std': array([4.52798394e-03, 1.14930909e-03, 8.76817433e-06, 1.05591314e-04,\n",
       "        1.40634946e-02, 4.37519790e-03, 4.01823902e-06]),\n",
       " 'importances': array([[1.49229340e-01, 1.58285308e-01],\n",
       "        [5.77529303e-02, 6.00515485e-02],\n",
       "        [7.23023796e-04, 7.05487448e-04],\n",
       "        [6.64774196e-03, 6.43655933e-03],\n",
       "        [5.52424416e-01, 5.24297427e-01],\n",
       "        [1.70017460e-01, 1.61267064e-01],\n",
       "        [3.60764932e-04, 3.52728454e-04]])}"
      ]
     },
     "execution_count": 115,
     "metadata": {},
     "output_type": "execute_result"
    }
   ],
   "source": [
    "perm_test"
   ]
  },
  {
   "cell_type": "code",
   "execution_count": 116,
   "id": "83e1e109-b737-4ce8-ac6c-72188f5163c9",
   "metadata": {},
   "outputs": [
    {
     "name": "stdout",
     "output_type": "stream",
     "text": [
      "hdd      0.534 +/- 0.001\n",
      "is_weekend 0.177 +/- 0.001\n",
      "t2min    0.170 +/- 0.000\n",
      "msdwswrf 0.057 +/- 0.000\n",
      "cdd      0.010 +/- 0.000\n",
      "w10      0.001 +/- 0.000\n",
      "mtpr     0.001 +/- 0.000\n"
     ]
    }
   ],
   "source": [
    "fn.print_perm_imp(perm_train, selected_features)"
   ]
  },
  {
   "cell_type": "code",
   "execution_count": 117,
   "id": "b05661a2-27b8-47ba-a316-5bd3169e9f04",
   "metadata": {},
   "outputs": [
    {
     "name": "stdout",
     "output_type": "stream",
     "text": [
      "hdd      0.538 +/- 0.014\n",
      "t2min    0.166 +/- 0.004\n",
      "is_weekend 0.154 +/- 0.005\n",
      "msdwswrf 0.059 +/- 0.001\n",
      "cdd      0.007 +/- 0.000\n",
      "w10      0.001 +/- 0.000\n",
      "mtpr     0.000 +/- 0.000\n"
     ]
    }
   ],
   "source": [
    "fn.print_perm_imp(perm_test, selected_features)"
   ]
  },
  {
   "cell_type": "code",
   "execution_count": null,
   "id": "7be66240-b4bb-45c9-bac6-8e82c996d4a1",
   "metadata": {},
   "outputs": [],
   "source": []
  }
 ],
 "metadata": {
  "kernelspec": {
   "display_name": "Python (ml_env)",
   "language": "python",
   "name": "pangeo"
  },
  "language_info": {
   "codemirror_mode": {
    "name": "ipython",
    "version": 3
   },
   "file_extension": ".py",
   "mimetype": "text/x-python",
   "name": "python",
   "nbconvert_exporter": "python",
   "pygments_lexer": "ipython3",
   "version": "3.10.8"
  }
 },
 "nbformat": 4,
 "nbformat_minor": 5
}
