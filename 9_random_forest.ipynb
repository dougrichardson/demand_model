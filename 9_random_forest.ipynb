{
 "cells": [
  {
   "cell_type": "markdown",
   "id": "f96752f8-fdcd-4b54-9aca-016711c1af42",
   "metadata": {},
   "source": [
    "# Random forest model"
   ]
  },
  {
   "cell_type": "code",
   "execution_count": 1,
   "id": "f5538669-0e3c-461a-b756-5fac6bd96d12",
   "metadata": {},
   "outputs": [],
   "source": [
    "import os\n",
    "import xarray as xr\n",
    "import pandas as pd\n",
    "import numpy as np"
   ]
  },
  {
   "cell_type": "code",
   "execution_count": 2,
   "id": "839a36ce-2224-488a-a3fa-d397da9a1008",
   "metadata": {},
   "outputs": [],
   "source": [
    "path = \"/g/data/w42/dr6273/work/projects/Aus_energy/\""
   ]
  },
  {
   "cell_type": "markdown",
   "id": "666a87dc-d01e-4830-b2a0-c68459c55768",
   "metadata": {},
   "source": [
    "# Load predictors and predictands"
   ]
  },
  {
   "cell_type": "markdown",
   "id": "0332cf0f-d5d4-4ab4-a24c-d3f649de727c",
   "metadata": {},
   "source": [
    "Detrended energy demand (predicand)"
   ]
  },
  {
   "cell_type": "code",
   "execution_count": 3,
   "id": "04a895af-9b19-412e-9c42-9d2587fab170",
   "metadata": {},
   "outputs": [],
   "source": [
    "dem_da = xr.open_dataset(\n",
    "    path + \"/data/energy_demand/daily_demand_2010-2020_detrended.nc\"\n",
    ")[\"demand_dt\"]"
   ]
  },
  {
   "cell_type": "markdown",
   "id": "57543780-90ec-4f0f-a96a-a647c132fca8",
   "metadata": {},
   "source": [
    "Predictors. Load everything from relevant directory."
   ]
  },
  {
   "cell_type": "code",
   "execution_count": 4,
   "id": "110da383-d40a-4ba7-886c-2237b44a3506",
   "metadata": {},
   "outputs": [],
   "source": [
    "files = [path + \"demand_predictors/\" + i for i in os.listdir(path + \"demand_predictors/\")]"
   ]
  },
  {
   "cell_type": "code",
   "execution_count": 5,
   "id": "a9a9ec96-2668-419d-85e7-5d8ccb211132",
   "metadata": {},
   "outputs": [],
   "source": [
    "pred_ds = xr.open_mfdataset(files, combine=\"nested\", compat=\"override\").compute()"
   ]
  },
  {
   "cell_type": "code",
   "execution_count": 7,
   "id": "a14e31b1-e9a7-4b40-bc26-e2ff2d9fb8d1",
   "metadata": {},
   "outputs": [
    {
     "data": {
      "text/plain": [
       "Data variables:\n",
       "    t2min     (region, time) float64 289.3 289.0 289.3 ... 282.1 287.9 287.9\n",
       "    t2m3      (region, time) float64 nan nan 293.0 293.7 ... 290.2 287.9 289.7\n",
       "    msdwswrf  (region, time) float64 nan 293.4 257.6 298.1 ... 281.5 249.9 299.6\n",
       "    cdd4      (region, time) float64 nan nan nan ... 0.221 0.221 -0.001519\n",
       "    t2m       (region, time) float64 292.7 292.8 293.6 ... 287.1 289.8 292.2\n",
       "    cdd3      (region, time) float64 nan nan 0.2243 ... -0.001518 -0.001519\n",
       "    cdd       (region, time) float64 0.2843 0.1455 ... 5.631e-05 5.632e-05\n",
       "    hdd4      (region, time) float64 nan nan nan 0.383 ... 2.467 2.565 2.572\n",
       "    hdd       (region, time) float64 1.053 0.5182 0.3264 ... 4.067 1.35 0.06106\n",
       "    mtpr      (region, time) float64 2.842e-05 4.244e-05 ... 1.614e-05 6.045e-06\n",
       "    rh        (region, time) float64 92.39 91.39 91.05 ... 90.65 93.94 92.18\n",
       "    w10       (region, time) float64 3.489 3.602 3.166 ... 1.758 3.059 3.369\n",
       "    t2max     (region, time) float64 297.0 297.5 298.1 ... 291.4 292.7 297.2\n",
       "    hdd3      (region, time) float64 nan nan 0.5113 0.1891 ... 2.974 3.225 1.994\n",
       "    t2m4      (region, time) float64 nan nan nan 293.5 ... 290.4 290.1 289.0"
      ]
     },
     "execution_count": 7,
     "metadata": {},
     "output_type": "execute_result"
    }
   ],
   "source": [
    "pred_ds.data_vars"
   ]
  },
  {
   "cell_type": "markdown",
   "id": "d3ddd8d6-110b-4857-8c47-fe622a772c2d",
   "metadata": {},
   "source": [
    "### For a given region, get the data into a dataframe"
   ]
  },
  {
   "cell_type": "code",
   "execution_count": 74,
   "id": "5bcdde21-9c9f-4a08-b2c4-d1a92e73d02f",
   "metadata": {},
   "outputs": [],
   "source": [
    "def to_dataframe(target_da, predictors_ds, region):\n",
    "    \"\"\"\n",
    "    Convert xarray data to pandas dataframe.\n",
    "    \"\"\"\n",
    "    # Predictors to array\n",
    "    predictors_arr = predictors_ds.sel(region=region, time=target_da[\"time\"]).to_array(\"variable\")\n",
    "    # Data array of target and predictors\n",
    "    da = xr.concat([\n",
    "        predictors_arr,\n",
    "        target_da.sel(region=region).expand_dims({\"variable\": [\"demand\"]})\n",
    "    ], dim=\"variable\")\n",
    "    # Dataframe\n",
    "    df = pd.DataFrame(\n",
    "        da.transpose(),\n",
    "        columns=da[\"variable\"],\n",
    "        index=target_da[\"time\"]\n",
    "    )\n",
    "    return df"
   ]
  },
  {
   "cell_type": "code",
   "execution_count": 80,
   "id": "c77a210f-d6fb-415e-96c6-33b66270cd88",
   "metadata": {},
   "outputs": [],
   "source": [
    "NEM_df = to_dataframe(dem_da, pred_ds, \"NEM\")"
   ]
  },
  {
   "cell_type": "markdown",
   "id": "095fe98d-713f-4d59-8923-e64a2d9e1c90",
   "metadata": {},
   "source": [
    "Set up a time column to either indicate:\n",
    "1. day of week\n",
    "2. weekend/weekday binary\n",
    "3. winter/summer/transition\n",
    "4. transition/(winter,summer) binary"
   ]
  },
  {
   "cell_type": "code",
   "execution_count": 76,
   "id": "ec4cd1d5-09bd-4dc7-b518-15e27b1d1978",
   "metadata": {},
   "outputs": [],
   "source": [
    "def add_time_column(df, method):\n",
    "    \"\"\"\n",
    "    Add a time column to df.\n",
    "    \n",
    "    df: dataframe to add to\n",
    "    method: str indicating which method to use. Currently 'is_weekend'\n",
    "    \"\"\"\n",
    "    if method == \"is_weekend\":\n",
    "        # Bool for weekend day or weekday\n",
    "        new_col = (df.index.weekday > 4).astype(\"int16\")\n",
    "    else:\n",
    "        raise ValueError(\"Incorrect 'method'.\")\n",
    "    \n",
    "    df[method] = new_col\n",
    "    return df"
   ]
  },
  {
   "cell_type": "code",
   "execution_count": 81,
   "id": "faac9092-c04c-4fb2-897a-40cb7a150091",
   "metadata": {},
   "outputs": [],
   "source": [
    "NEM_df = add_time_column(NEM_df, \"is_weekend\")"
   ]
  },
  {
   "cell_type": "code",
   "execution_count": 82,
   "id": "2af29283-d2a0-4897-b0f0-9b81ee7ac690",
   "metadata": {},
   "outputs": [],
   "source": [
    "new_cols = np.append([\"demand\", \"is_weekend\"], NEM_df.columns[:-2])\n",
    "NEM_df = NEM_df[new_cols]"
   ]
  },
  {
   "cell_type": "code",
   "execution_count": 83,
   "id": "517f380c-813e-4dd8-b91a-1e9f6af97f26",
   "metadata": {},
   "outputs": [
    {
     "data": {
      "text/html": [
       "<div>\n",
       "<style scoped>\n",
       "    .dataframe tbody tr th:only-of-type {\n",
       "        vertical-align: middle;\n",
       "    }\n",
       "\n",
       "    .dataframe tbody tr th {\n",
       "        vertical-align: top;\n",
       "    }\n",
       "\n",
       "    .dataframe thead th {\n",
       "        text-align: right;\n",
       "    }\n",
       "</style>\n",
       "<table border=\"1\" class=\"dataframe\">\n",
       "  <thead>\n",
       "    <tr style=\"text-align: right;\">\n",
       "      <th></th>\n",
       "      <th>demand</th>\n",
       "      <th>is_weekend</th>\n",
       "      <th>t2min</th>\n",
       "      <th>t2m3</th>\n",
       "      <th>msdwswrf</th>\n",
       "      <th>cdd4</th>\n",
       "      <th>t2m</th>\n",
       "      <th>cdd3</th>\n",
       "      <th>cdd</th>\n",
       "      <th>hdd4</th>\n",
       "      <th>hdd</th>\n",
       "      <th>mtpr</th>\n",
       "      <th>rh</th>\n",
       "      <th>w10</th>\n",
       "      <th>t2max</th>\n",
       "      <th>hdd3</th>\n",
       "      <th>t2m4</th>\n",
       "    </tr>\n",
       "  </thead>\n",
       "  <tbody>\n",
       "    <tr>\n",
       "      <th>2010-01-01</th>\n",
       "      <td>497796.116857</td>\n",
       "      <td>0</td>\n",
       "      <td>292.145415</td>\n",
       "      <td>296.809199</td>\n",
       "      <td>182.786050</td>\n",
       "      <td>1.029217</td>\n",
       "      <td>294.932766</td>\n",
       "      <td>1.224715</td>\n",
       "      <td>0.306849</td>\n",
       "      <td>0.180132</td>\n",
       "      <td>0.210040</td>\n",
       "      <td>0.000080</td>\n",
       "      <td>94.039214</td>\n",
       "      <td>2.851172</td>\n",
       "      <td>298.171089</td>\n",
       "      <td>0.184734</td>\n",
       "      <td>296.334684</td>\n",
       "    </tr>\n",
       "    <tr>\n",
       "      <th>2010-01-02</th>\n",
       "      <td>558483.082220</td>\n",
       "      <td>1</td>\n",
       "      <td>290.632023</td>\n",
       "      <td>295.438404</td>\n",
       "      <td>234.430218</td>\n",
       "      <td>1.062422</td>\n",
       "      <td>293.810930</td>\n",
       "      <td>0.728721</td>\n",
       "      <td>0.537259</td>\n",
       "      <td>0.388894</td>\n",
       "      <td>0.932693</td>\n",
       "      <td>0.000049</td>\n",
       "      <td>92.116179</td>\n",
       "      <td>3.420816</td>\n",
       "      <td>297.977191</td>\n",
       "      <td>0.474258</td>\n",
       "      <td>296.059684</td>\n",
       "    </tr>\n",
       "    <tr>\n",
       "      <th>2010-01-03</th>\n",
       "      <td>532947.752583</td>\n",
       "      <td>1</td>\n",
       "      <td>289.203888</td>\n",
       "      <td>293.665205</td>\n",
       "      <td>227.139658</td>\n",
       "      <td>0.626438</td>\n",
       "      <td>292.251413</td>\n",
       "      <td>0.431673</td>\n",
       "      <td>0.286443</td>\n",
       "      <td>0.664994</td>\n",
       "      <td>1.185825</td>\n",
       "      <td>0.000066</td>\n",
       "      <td>92.519344</td>\n",
       "      <td>2.972514</td>\n",
       "      <td>295.809225</td>\n",
       "      <td>0.843940</td>\n",
       "      <td>294.641710</td>\n",
       "    </tr>\n",
       "    <tr>\n",
       "      <th>2010-01-04</th>\n",
       "      <td>514614.622945</td>\n",
       "      <td>0</td>\n",
       "      <td>289.071438</td>\n",
       "      <td>293.313986</td>\n",
       "      <td>277.943913</td>\n",
       "      <td>0.351973</td>\n",
       "      <td>293.879116</td>\n",
       "      <td>0.336023</td>\n",
       "      <td>0.115896</td>\n",
       "      <td>0.681499</td>\n",
       "      <td>0.074916</td>\n",
       "      <td>0.000008</td>\n",
       "      <td>90.785353</td>\n",
       "      <td>2.582235</td>\n",
       "      <td>298.264651</td>\n",
       "      <td>0.810878</td>\n",
       "      <td>293.718734</td>\n",
       "    </tr>\n",
       "    <tr>\n",
       "      <th>2010-01-05</th>\n",
       "      <td>509231.213308</td>\n",
       "      <td>0</td>\n",
       "      <td>290.031390</td>\n",
       "      <td>293.643693</td>\n",
       "      <td>311.584520</td>\n",
       "      <td>0.314227</td>\n",
       "      <td>294.800052</td>\n",
       "      <td>0.227121</td>\n",
       "      <td>0.203012</td>\n",
       "      <td>0.671171</td>\n",
       "      <td>0.168955</td>\n",
       "      <td>0.000004</td>\n",
       "      <td>90.873502</td>\n",
       "      <td>2.717305</td>\n",
       "      <td>300.019172</td>\n",
       "      <td>0.561104</td>\n",
       "      <td>293.685556</td>\n",
       "    </tr>\n",
       "  </tbody>\n",
       "</table>\n",
       "</div>"
      ],
      "text/plain": [
       "                   demand  is_weekend       t2min        t2m3    msdwswrf  \\\n",
       "2010-01-01  497796.116857           0  292.145415  296.809199  182.786050   \n",
       "2010-01-02  558483.082220           1  290.632023  295.438404  234.430218   \n",
       "2010-01-03  532947.752583           1  289.203888  293.665205  227.139658   \n",
       "2010-01-04  514614.622945           0  289.071438  293.313986  277.943913   \n",
       "2010-01-05  509231.213308           0  290.031390  293.643693  311.584520   \n",
       "\n",
       "                cdd4         t2m      cdd3       cdd      hdd4       hdd  \\\n",
       "2010-01-01  1.029217  294.932766  1.224715  0.306849  0.180132  0.210040   \n",
       "2010-01-02  1.062422  293.810930  0.728721  0.537259  0.388894  0.932693   \n",
       "2010-01-03  0.626438  292.251413  0.431673  0.286443  0.664994  1.185825   \n",
       "2010-01-04  0.351973  293.879116  0.336023  0.115896  0.681499  0.074916   \n",
       "2010-01-05  0.314227  294.800052  0.227121  0.203012  0.671171  0.168955   \n",
       "\n",
       "                mtpr         rh       w10       t2max      hdd3        t2m4  \n",
       "2010-01-01  0.000080  94.039214  2.851172  298.171089  0.184734  296.334684  \n",
       "2010-01-02  0.000049  92.116179  3.420816  297.977191  0.474258  296.059684  \n",
       "2010-01-03  0.000066  92.519344  2.972514  295.809225  0.843940  294.641710  \n",
       "2010-01-04  0.000008  90.785353  2.582235  298.264651  0.810878  293.718734  \n",
       "2010-01-05  0.000004  90.873502  2.717305  300.019172  0.561104  293.685556  "
      ]
     },
     "execution_count": 83,
     "metadata": {},
     "output_type": "execute_result"
    }
   ],
   "source": [
    "NEM_df.head()"
   ]
  },
  {
   "cell_type": "code",
   "execution_count": 84,
   "id": "2a046f54-3a1c-438f-9863-62d685da4d1b",
   "metadata": {},
   "outputs": [
    {
     "data": {
      "text/html": [
       "<div>\n",
       "<style scoped>\n",
       "    .dataframe tbody tr th:only-of-type {\n",
       "        vertical-align: middle;\n",
       "    }\n",
       "\n",
       "    .dataframe tbody tr th {\n",
       "        vertical-align: top;\n",
       "    }\n",
       "\n",
       "    .dataframe thead th {\n",
       "        text-align: right;\n",
       "    }\n",
       "</style>\n",
       "<table border=\"1\" class=\"dataframe\">\n",
       "  <thead>\n",
       "    <tr style=\"text-align: right;\">\n",
       "      <th></th>\n",
       "      <th>demand</th>\n",
       "      <th>is_weekend</th>\n",
       "      <th>t2min</th>\n",
       "      <th>t2m3</th>\n",
       "      <th>msdwswrf</th>\n",
       "      <th>cdd4</th>\n",
       "      <th>t2m</th>\n",
       "      <th>cdd3</th>\n",
       "      <th>cdd</th>\n",
       "      <th>hdd4</th>\n",
       "      <th>hdd</th>\n",
       "      <th>mtpr</th>\n",
       "      <th>rh</th>\n",
       "      <th>w10</th>\n",
       "      <th>t2max</th>\n",
       "      <th>hdd3</th>\n",
       "      <th>t2m4</th>\n",
       "    </tr>\n",
       "  </thead>\n",
       "  <tbody>\n",
       "    <tr>\n",
       "      <th>count</th>\n",
       "      <td>4017.000000</td>\n",
       "      <td>4017.000000</td>\n",
       "      <td>4017.000000</td>\n",
       "      <td>4017.000000</td>\n",
       "      <td>4017.000000</td>\n",
       "      <td>4017.000000</td>\n",
       "      <td>4017.000000</td>\n",
       "      <td>4017.000000</td>\n",
       "      <td>4017.000000</td>\n",
       "      <td>4017.000000</td>\n",
       "      <td>4017.000000</td>\n",
       "      <td>4.017000e+03</td>\n",
       "      <td>4017.000000</td>\n",
       "      <td>4017.000000</td>\n",
       "      <td>4017.000000</td>\n",
       "      <td>4017.000000</td>\n",
       "      <td>4017.000000</td>\n",
       "    </tr>\n",
       "    <tr>\n",
       "      <th>mean</th>\n",
       "      <td>525967.250925</td>\n",
       "      <td>0.285785</td>\n",
       "      <td>285.806126</td>\n",
       "      <td>289.724200</td>\n",
       "      <td>197.157525</td>\n",
       "      <td>0.189848</td>\n",
       "      <td>289.722730</td>\n",
       "      <td>0.189745</td>\n",
       "      <td>0.184264</td>\n",
       "      <td>3.101693</td>\n",
       "      <td>3.096542</td>\n",
       "      <td>2.522528e-05</td>\n",
       "      <td>91.618781</td>\n",
       "      <td>2.804531</td>\n",
       "      <td>294.500139</td>\n",
       "      <td>3.101844</td>\n",
       "      <td>289.724774</td>\n",
       "    </tr>\n",
       "    <tr>\n",
       "      <th>std</th>\n",
       "      <td>35876.353757</td>\n",
       "      <td>0.451844</td>\n",
       "      <td>4.212029</td>\n",
       "      <td>4.245361</td>\n",
       "      <td>71.015301</td>\n",
       "      <td>0.398038</td>\n",
       "      <td>4.346855</td>\n",
       "      <td>0.413376</td>\n",
       "      <td>0.420056</td>\n",
       "      <td>2.546572</td>\n",
       "      <td>2.745248</td>\n",
       "      <td>3.709308e-05</td>\n",
       "      <td>2.587436</td>\n",
       "      <td>0.840310</td>\n",
       "      <td>4.624795</td>\n",
       "      <td>2.573953</td>\n",
       "      <td>4.208375</td>\n",
       "    </tr>\n",
       "    <tr>\n",
       "      <th>min</th>\n",
       "      <td>400538.606752</td>\n",
       "      <td>0.000000</td>\n",
       "      <td>276.277117</td>\n",
       "      <td>281.298693</td>\n",
       "      <td>39.734460</td>\n",
       "      <td>-0.042803</td>\n",
       "      <td>280.520612</td>\n",
       "      <td>-0.042821</td>\n",
       "      <td>-0.012355</td>\n",
       "      <td>0.134577</td>\n",
       "      <td>-0.016514</td>\n",
       "      <td>-4.058145e-07</td>\n",
       "      <td>79.600396</td>\n",
       "      <td>0.825634</td>\n",
       "      <td>285.292867</td>\n",
       "      <td>0.128993</td>\n",
       "      <td>281.414124</td>\n",
       "    </tr>\n",
       "    <tr>\n",
       "      <th>25%</th>\n",
       "      <td>501759.349255</td>\n",
       "      <td>0.000000</td>\n",
       "      <td>282.190053</td>\n",
       "      <td>285.781736</td>\n",
       "      <td>135.074378</td>\n",
       "      <td>-0.032195</td>\n",
       "      <td>285.804765</td>\n",
       "      <td>-0.032244</td>\n",
       "      <td>-0.008771</td>\n",
       "      <td>0.775072</td>\n",
       "      <td>0.513534</td>\n",
       "      <td>4.824486e-06</td>\n",
       "      <td>90.104087</td>\n",
       "      <td>2.196789</td>\n",
       "      <td>290.393151</td>\n",
       "      <td>0.758488</td>\n",
       "      <td>285.785636</td>\n",
       "    </tr>\n",
       "    <tr>\n",
       "      <th>50%</th>\n",
       "      <td>525212.380264</td>\n",
       "      <td>0.000000</td>\n",
       "      <td>285.734462</td>\n",
       "      <td>289.822980</td>\n",
       "      <td>193.438305</td>\n",
       "      <td>-0.008278</td>\n",
       "      <td>289.782390</td>\n",
       "      <td>-0.008627</td>\n",
       "      <td>0.008417</td>\n",
       "      <td>2.332190</td>\n",
       "      <td>2.387629</td>\n",
       "      <td>1.231060e-05</td>\n",
       "      <td>91.788137</td>\n",
       "      <td>2.694688</td>\n",
       "      <td>294.536740</td>\n",
       "      <td>2.319597</td>\n",
       "      <td>289.845694</td>\n",
       "    </tr>\n",
       "    <tr>\n",
       "      <th>75%</th>\n",
       "      <td>549813.702059</td>\n",
       "      <td>1.000000</td>\n",
       "      <td>289.343846</td>\n",
       "      <td>293.404679</td>\n",
       "      <td>256.142540</td>\n",
       "      <td>0.251739</td>\n",
       "      <td>293.359136</td>\n",
       "      <td>0.240208</td>\n",
       "      <td>0.173711</td>\n",
       "      <td>5.366316</td>\n",
       "      <td>5.462850</td>\n",
       "      <td>3.056310e-05</td>\n",
       "      <td>93.476310</td>\n",
       "      <td>3.282778</td>\n",
       "      <td>298.100674</td>\n",
       "      <td>5.352796</td>\n",
       "      <td>293.421330</td>\n",
       "    </tr>\n",
       "    <tr>\n",
       "      <th>max</th>\n",
       "      <td>670934.427132</td>\n",
       "      <td>1.000000</td>\n",
       "      <td>296.988889</td>\n",
       "      <td>300.198910</td>\n",
       "      <td>369.723966</td>\n",
       "      <td>3.178568</td>\n",
       "      <td>301.473381</td>\n",
       "      <td>3.804402</td>\n",
       "      <td>4.333808</td>\n",
       "      <td>9.602082</td>\n",
       "      <td>10.699183</td>\n",
       "      <td>4.930011e-04</td>\n",
       "      <td>98.283851</td>\n",
       "      <td>6.057403</td>\n",
       "      <td>307.955008</td>\n",
       "      <td>9.717825</td>\n",
       "      <td>299.822762</td>\n",
       "    </tr>\n",
       "  </tbody>\n",
       "</table>\n",
       "</div>"
      ],
      "text/plain": [
       "              demand   is_weekend        t2min         t2m3     msdwswrf  \\\n",
       "count    4017.000000  4017.000000  4017.000000  4017.000000  4017.000000   \n",
       "mean   525967.250925     0.285785   285.806126   289.724200   197.157525   \n",
       "std     35876.353757     0.451844     4.212029     4.245361    71.015301   \n",
       "min    400538.606752     0.000000   276.277117   281.298693    39.734460   \n",
       "25%    501759.349255     0.000000   282.190053   285.781736   135.074378   \n",
       "50%    525212.380264     0.000000   285.734462   289.822980   193.438305   \n",
       "75%    549813.702059     1.000000   289.343846   293.404679   256.142540   \n",
       "max    670934.427132     1.000000   296.988889   300.198910   369.723966   \n",
       "\n",
       "              cdd4          t2m         cdd3          cdd         hdd4  \\\n",
       "count  4017.000000  4017.000000  4017.000000  4017.000000  4017.000000   \n",
       "mean      0.189848   289.722730     0.189745     0.184264     3.101693   \n",
       "std       0.398038     4.346855     0.413376     0.420056     2.546572   \n",
       "min      -0.042803   280.520612    -0.042821    -0.012355     0.134577   \n",
       "25%      -0.032195   285.804765    -0.032244    -0.008771     0.775072   \n",
       "50%      -0.008278   289.782390    -0.008627     0.008417     2.332190   \n",
       "75%       0.251739   293.359136     0.240208     0.173711     5.366316   \n",
       "max       3.178568   301.473381     3.804402     4.333808     9.602082   \n",
       "\n",
       "               hdd          mtpr           rh          w10        t2max  \\\n",
       "count  4017.000000  4.017000e+03  4017.000000  4017.000000  4017.000000   \n",
       "mean      3.096542  2.522528e-05    91.618781     2.804531   294.500139   \n",
       "std       2.745248  3.709308e-05     2.587436     0.840310     4.624795   \n",
       "min      -0.016514 -4.058145e-07    79.600396     0.825634   285.292867   \n",
       "25%       0.513534  4.824486e-06    90.104087     2.196789   290.393151   \n",
       "50%       2.387629  1.231060e-05    91.788137     2.694688   294.536740   \n",
       "75%       5.462850  3.056310e-05    93.476310     3.282778   298.100674   \n",
       "max      10.699183  4.930011e-04    98.283851     6.057403   307.955008   \n",
       "\n",
       "              hdd3         t2m4  \n",
       "count  4017.000000  4017.000000  \n",
       "mean      3.101844   289.724774  \n",
       "std       2.573953     4.208375  \n",
       "min       0.128993   281.414124  \n",
       "25%       0.758488   285.785636  \n",
       "50%       2.319597   289.845694  \n",
       "75%       5.352796   293.421330  \n",
       "max       9.717825   299.822762  "
      ]
     },
     "execution_count": 84,
     "metadata": {},
     "output_type": "execute_result"
    }
   ],
   "source": [
    "NEM_df.describe()"
   ]
  },
  {
   "cell_type": "markdown",
   "id": "82d24e77-7914-4aea-ae1a-057b59f1bc6c",
   "metadata": {},
   "source": [
    "# Split data into training and testing"
   ]
  },
  {
   "cell_type": "markdown",
   "id": "474c23f9-6f74-44d1-8ce6-56a78d1abaa0",
   "metadata": {},
   "source": [
    "Using this as a guide: https://towardsdatascience.com/random-forest-in-python-24d0893d51c0"
   ]
  },
  {
   "cell_type": "code",
   "execution_count": 85,
   "id": "66e284f7-70ea-448c-b848-5abd6a3f31e4",
   "metadata": {},
   "outputs": [],
   "source": [
    "from sklearn.model_selection import train_test_split"
   ]
  },
  {
   "cell_type": "code",
   "execution_count": 86,
   "id": "b53b10ef-f092-4e70-8b85-f559e1c82009",
   "metadata": {},
   "outputs": [],
   "source": [
    "def split(df, target_name, test_size, random_state):\n",
    "    \"\"\"\n",
    "    Apply train_test_split to dataframe\n",
    "    \n",
    "    df: pandas dataframe\n",
    "    target_name: column name of df to target\n",
    "    test_size: float, proportion of data to test\n",
    "    random_state: int\n",
    "    \"\"\"\n",
    "    y = np.array(df[target_name]) # target\n",
    "    X = np.array(df.drop(target_name, axis=1)) # predictors\n",
    "    return train_test_split(X, y, test_size=test_size, random_state=random_state)"
   ]
  },
  {
   "cell_type": "code",
   "execution_count": 87,
   "id": "0109baf7-3593-48aa-83fb-4aa241e33ae9",
   "metadata": {},
   "outputs": [],
   "source": [
    "# X: features/predictors\n",
    "# y: target/labels\n",
    "train_X, test_X, train_y, test_y = split(df, \"demand\", test_size=0.2, random_state=1)"
   ]
  },
  {
   "cell_type": "code",
   "execution_count": 88,
   "id": "9d7076a3-cddc-4afe-985e-6453cde1a123",
   "metadata": {},
   "outputs": [
    {
     "name": "stdout",
     "output_type": "stream",
     "text": [
      "Training Features Shape: (3213, 16)\n",
      "Training Labels Shape: (3213,)\n",
      "Testing Features Shape: (804, 16)\n",
      "Testing Labels Shape: (804,)\n"
     ]
    }
   ],
   "source": [
    "print('Training Features Shape:', train_X.shape)\n",
    "print('Training Labels Shape:', train_y.shape)\n",
    "print('Testing Features Shape:', test_X.shape)\n",
    "print('Testing Labels Shape:', test_y.shape)"
   ]
  },
  {
   "cell_type": "markdown",
   "id": "61947a40-5442-440c-bb2c-95c7427685f3",
   "metadata": {},
   "source": [
    "Baseline forecast of training sample average"
   ]
  },
  {
   "cell_type": "code",
   "execution_count": 89,
   "id": "94a28766-b16d-4de3-89e0-c939a17fac67",
   "metadata": {},
   "outputs": [],
   "source": [
    "# # Unrealistically stupid baseline of training-period averaged demand\n",
    "# ##(not accounting for season, day of week etc.)\n",
    "# baseline_preds = np.mean(test_labels)\n",
    "\n",
    "# # Baseline errors, and display average baseline error\n",
    "# baseline_errors = abs(baseline_preds - test_labels)\n",
    "# print('Average baseline error: ', round(np.mean(baseline_errors), 2), 'MW')"
   ]
  },
  {
   "cell_type": "markdown",
   "id": "e3dd2cb7-4c69-40c3-9e3f-505e603bd51d",
   "metadata": {},
   "source": [
    "# Train model and make predictions"
   ]
  },
  {
   "cell_type": "code",
   "execution_count": 90,
   "id": "d61248c6-f2f3-4321-8edb-b56bd591fc8e",
   "metadata": {},
   "outputs": [],
   "source": [
    "from sklearn.ensemble import RandomForestRegressor"
   ]
  },
  {
   "cell_type": "code",
   "execution_count": 101,
   "id": "c5b283c6-774a-4ec6-a5a6-96dfa961c995",
   "metadata": {},
   "outputs": [],
   "source": [
    "def predict_forest(train_y, train_X, test_X, random_state, n_estimators=100, n_jobs=None):\n",
    "    \"\"\"\n",
    "    Instantiate and fit a random forest model, return predictions.\n",
    "    \n",
    "    train_y: target for training set\n",
    "    train_X: predictors for training set\n",
    "    test_X: predictors for test set\n",
    "    random_state: number for replication\n",
    "    n_estimators: number of trees\n",
    "    n_jobs: number of jobs to run in parallel\n",
    "    \"\"\"\n",
    "    rf = RandomForestRegressor(n_estimators=n_estimators, random_state=random_state, n_jobs=n_jobs)\n",
    "    rf.fit(train_X, train_y)\n",
    "    return rf.predict(test_X)"
   ]
  },
  {
   "cell_type": "code",
   "execution_count": 112,
   "id": "d4b4f61e-a2ee-4976-a7ec-bb4d021f3326",
   "metadata": {},
   "outputs": [
    {
     "name": "stdout",
     "output_type": "stream",
     "text": [
      "CPU times: user 3.15 s, sys: 995 ms, total: 4.15 s\n",
      "Wall time: 2.55 s\n"
     ]
    }
   ],
   "source": [
    "%%time\n",
    "predictions = predict_forest(train_y, train_X, test_X, random_state=666, n_estimators=100, n_jobs=5)"
   ]
  },
  {
   "cell_type": "markdown",
   "id": "7ff5016d-d616-49ff-8e0e-a7891603edf9",
   "metadata": {},
   "source": [
    "# Performance scores"
   ]
  },
  {
   "cell_type": "code",
   "execution_count": 125,
   "id": "2d410ee3-49e2-412c-8a1c-2904debbda71",
   "metadata": {},
   "outputs": [],
   "source": [
    "import matplotlib.pyplot as plt"
   ]
  },
  {
   "cell_type": "code",
   "execution_count": 113,
   "id": "168e8f55-3c7b-40fd-aec4-d24b18937b3f",
   "metadata": {},
   "outputs": [],
   "source": [
    "from sklearn.metrics import r2_score, mean_absolute_error, mean_squared_error, mean_absolute_percentage_error, median_absolute_error"
   ]
  },
  {
   "cell_type": "code",
   "execution_count": 121,
   "id": "364d8e58-b114-4712-b08b-43b46326c43e",
   "metadata": {},
   "outputs": [],
   "source": [
    "def get_scores(y_true, y_pred, metrics):\n",
    "    \"\"\"\n",
    "    Compute scores for a variety of metrics.\n",
    "    \n",
    "    y_true: observations\n",
    "    y_predict: predictions\n",
    "    metrics: list of scores from sklearn.metrics\n",
    "    \"\"\"\n",
    "    scores = []\n",
    "    for metric in metrics:\n",
    "        scores.append(metric(y_true, y_pred))\n",
    "    return scores"
   ]
  },
  {
   "cell_type": "code",
   "execution_count": 127,
   "id": "23d54ec0-8edb-48be-a4d1-8800c66ce2c3",
   "metadata": {},
   "outputs": [],
   "source": [
    "metric_names = [\"R2\", \"MAE\", \"MSE\", \"MAPE\", \"MedAE\"]\n",
    "metrics = [r2_score, mean_absolute_error, mean_squared_error, mean_absolute_percentage_error, median_absolute_error]"
   ]
  },
  {
   "cell_type": "code",
   "execution_count": 123,
   "id": "fcaeacf5-b83c-4c12-9540-c50a1c30b223",
   "metadata": {},
   "outputs": [],
   "source": [
    "scores = get_scores(test_y, predictions, metrics)"
   ]
  },
  {
   "cell_type": "code",
   "execution_count": 131,
   "id": "25c2c668-6b2d-4437-8406-88cb5796fa6e",
   "metadata": {},
   "outputs": [],
   "source": [
    "# plt.bar(metric_names, scores)"
   ]
  },
  {
   "cell_type": "code",
   "execution_count": 130,
   "id": "eddb0c10-09d4-4e7d-8a9b-0e9e22e35e74",
   "metadata": {},
   "outputs": [
    {
     "data": {
      "text/plain": [
       "<matplotlib.collections.PathCollection at 0x149f7938faf0>"
      ]
     },
     "execution_count": 130,
     "metadata": {},
     "output_type": "execute_result"
    },
    {
     "data": {
      "image/png": "[encoded data removed]",
      "text/plain": [
       "<Figure size 640x480 with 1 Axes>"
      ]
     },
     "metadata": {},
     "output_type": "display_data"
    }
   ],
   "source": [
    "plt.scatter(predictions, test_y)"
   ]
  },
  {
   "cell_type": "code",
   "execution_count": null,
   "id": "bccfd85a-6f6f-4743-b29d-2a157e8de4d2",
   "metadata": {},
   "outputs": [],
   "source": []
  }
 ],
 "metadata": {
  "kernelspec": {
   "display_name": "Python (pangeo)",
   "language": "python",
   "name": "pangeo"
  },
  "language_info": {
   "codemirror_mode": {
    "name": "ipython",
    "version": 3
   },
   "file_extension": ".py",
   "mimetype": "text/x-python",
   "name": "python",
   "nbconvert_exporter": "python",
   "pygments_lexer": "ipython3",
   "version": "3.10.8"
  }
 },
 "nbformat": 4,
 "nbformat_minor": 5
}
