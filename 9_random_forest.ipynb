{
 "cells": [
  {
   "cell_type": "markdown",
   "id": "f96752f8-fdcd-4b54-9aca-016711c1af42",
   "metadata": {},
   "source": [
    "# Random forest model"
   ]
  },
  {
   "cell_type": "code",
   "execution_count": 1,
   "id": "f5538669-0e3c-461a-b756-5fac6bd96d12",
   "metadata": {},
   "outputs": [],
   "source": [
    "import os\n",
    "import xarray as xr\n",
    "import pandas as pd\n",
    "import numpy as np\n",
    "\n",
    "from sklearn.model_selection import train_test_split\n",
    "from sklearn.ensemble import RandomForestRegressor"
   ]
  },
  {
   "cell_type": "code",
   "execution_count": 2,
   "id": "839a36ce-2224-488a-a3fa-d397da9a1008",
   "metadata": {},
   "outputs": [],
   "source": [
    "path = \"/g/data/w42/dr6273/work/projects/Aus_energy/\""
   ]
  },
  {
   "cell_type": "markdown",
   "id": "666a87dc-d01e-4830-b2a0-c68459c55768",
   "metadata": {},
   "source": [
    "# Load predictors and predictands"
   ]
  },
  {
   "cell_type": "markdown",
   "id": "0332cf0f-d5d4-4ab4-a24c-d3f649de727c",
   "metadata": {},
   "source": [
    "Detrended energy demand (predicand)"
   ]
  },
  {
   "cell_type": "code",
   "execution_count": 3,
   "id": "04a895af-9b19-412e-9c42-9d2587fab170",
   "metadata": {},
   "outputs": [],
   "source": [
    "dem_da = xr.open_dataset(\n",
    "    path + \"/data/energy_demand/daily_demand_2010-2020_detrended.nc\"\n",
    ")[\"demand_dt\"]"
   ]
  },
  {
   "cell_type": "markdown",
   "id": "57543780-90ec-4f0f-a96a-a647c132fca8",
   "metadata": {},
   "source": [
    "Predictors. Load everything from relevant directory."
   ]
  },
  {
   "cell_type": "code",
   "execution_count": 4,
   "id": "110da383-d40a-4ba7-886c-2237b44a3506",
   "metadata": {},
   "outputs": [],
   "source": [
    "files = [path + \"demand_predictors/\" + i for i in os.listdir(path + \"demand_predictors/\")]"
   ]
  },
  {
   "cell_type": "code",
   "execution_count": 5,
   "id": "a9a9ec96-2668-419d-85e7-5d8ccb211132",
   "metadata": {},
   "outputs": [],
   "source": [
    "pred_ds = xr.open_mfdataset(files, combine=\"nested\", compat=\"override\").compute()"
   ]
  },
  {
   "cell_type": "code",
   "execution_count": 6,
   "id": "a14e31b1-e9a7-4b40-bc26-e2ff2d9fb8d1",
   "metadata": {},
   "outputs": [
    {
     "data": {
      "text/plain": [
       "Data variables:\n",
       "    t2min     (region, time) float64 nan 289.1 289.3 290.0 ... 281.9 287.8 287.9\n",
       "    t2m3      (region, time) float64 nan nan 293.0 293.7 ... 290.2 287.9 289.7\n",
       "    msdwswrf  (region, time) float64 nan 293.4 257.6 298.1 ... 281.5 249.9 299.6\n",
       "    cdd4      (region, time) float64 nan nan nan ... 0.221 0.221 -0.001519\n",
       "    t2m       (region, time) float64 292.7 292.8 293.6 ... 287.1 289.8 292.2\n",
       "    cdd3      (region, time) float64 nan nan 0.2243 ... -0.001518 -0.001519\n",
       "    cdd       (region, time) float64 0.2843 0.1455 ... 5.631e-05 5.632e-05\n",
       "    hdd4      (region, time) float64 nan nan nan 0.383 ... 2.467 2.565 2.572\n",
       "    hdd       (region, time) float64 1.053 0.5182 0.3264 ... 4.067 1.35 0.06106\n",
       "    mtpr      (region, time) float64 2.842e-05 4.244e-05 ... 1.614e-05 6.045e-06\n",
       "    rh        (region, time) float64 92.39 91.39 91.05 ... 90.65 93.94 92.18\n",
       "    w10       (region, time) float64 3.489 3.602 3.166 ... 1.758 3.059 3.369\n",
       "    t2max     (region, time) float64 nan 297.4 297.7 300.2 ... 291.1 293.3 297.2\n",
       "    hdd3      (region, time) float64 nan nan 0.5113 0.1891 ... 2.974 3.225 1.994\n",
       "    t2m4      (region, time) float64 nan nan nan 293.5 ... 290.4 290.1 289.0"
      ]
     },
     "execution_count": 6,
     "metadata": {},
     "output_type": "execute_result"
    }
   ],
   "source": [
    "pred_ds.data_vars"
   ]
  },
  {
   "cell_type": "markdown",
   "id": "24b0feb0-c5e8-4f2f-9d8d-0acd6bce8760",
   "metadata": {},
   "source": [
    "## Define some functions"
   ]
  },
  {
   "cell_type": "markdown",
   "id": "d3ddd8d6-110b-4857-8c47-fe622a772c2d",
   "metadata": {},
   "source": [
    "For a given region, get the data into a dataframe"
   ]
  },
  {
   "cell_type": "code",
   "execution_count": 7,
   "id": "5bcdde21-9c9f-4a08-b2c4-d1a92e73d02f",
   "metadata": {},
   "outputs": [],
   "source": [
    "def to_dataframe(target_da, predictors_ds, region):\n",
    "    \"\"\"\n",
    "    Convert xarray data to pandas dataframe.\n",
    "    \"\"\"\n",
    "    # Predictors to array\n",
    "    predictors_arr = predictors_ds.sel(region=region, time=target_da[\"time\"]).to_array(\"variable\")\n",
    "    # Data array of target and predictors\n",
    "    da = xr.concat([\n",
    "        predictors_arr,\n",
    "        target_da.sel(region=region).expand_dims({\"variable\": [\"demand\"]})\n",
    "    ], dim=\"variable\")\n",
    "    # Dataframe\n",
    "    df = pd.DataFrame(\n",
    "        da.transpose(),\n",
    "        columns=da[\"variable\"],\n",
    "        index=target_da[\"time\"]\n",
    "    )\n",
    "    return df"
   ]
  },
  {
   "cell_type": "markdown",
   "id": "095fe98d-713f-4d59-8923-e64a2d9e1c90",
   "metadata": {},
   "source": [
    "Set up a time column to either indicate:\n",
    "1. day of week\n",
    "2. weekend/weekday binary\n",
    "3. winter/summer/transition\n",
    "4. transition/(winter,summer) binary"
   ]
  },
  {
   "cell_type": "code",
   "execution_count": 8,
   "id": "ec4cd1d5-09bd-4dc7-b518-15e27b1d1978",
   "metadata": {},
   "outputs": [],
   "source": [
    "def add_time_column(df, method):\n",
    "    \"\"\"\n",
    "    Add a time column to df.\n",
    "    \n",
    "    df: dataframe to add to\n",
    "    method: str indicating which method to use. Currently 'is_weekend',\n",
    "            'month_sin', 'month_cos', 'month_int', 'season_int'\n",
    "    \"\"\"\n",
    "    if method == \"is_weekend\":\n",
    "        # Bool for weekend day or weekday\n",
    "        new_col = (df.index.weekday > 4).astype(\"int16\")\n",
    "    elif method == \"month_sin\":\n",
    "        new_col = np.sin((df.index.month - 1) * (2. * np.pi / 12))\n",
    "    elif method == \"month_cos\":\n",
    "        new_col = np.cos((df.index.month - 1) * (2. * np.pi / 12))\n",
    "    elif method == \"month_int\":\n",
    "        new_col = df.index.month\n",
    "    elif method == \"season_int\":\n",
    "        new_col = df.index.month % 12 // 3 + 1\n",
    "    else:\n",
    "        raise ValueError(\"Incorrect 'method'.\")\n",
    "    \n",
    "    df[method] = new_col\n",
    "    return df"
   ]
  },
  {
   "cell_type": "markdown",
   "id": "4869679f-498d-41a0-a4dd-bc50bcd6bed1",
   "metadata": {},
   "source": [
    "Split data into training and testing"
   ]
  },
  {
   "cell_type": "markdown",
   "id": "b73b5b11-458a-4891-b47e-486a42ecca91",
   "metadata": {},
   "source": [
    "Using this as a guide: https://towardsdatascience.com/random-forest-in-python-24d0893d51c0"
   ]
  },
  {
   "cell_type": "code",
   "execution_count": 9,
   "id": "b53b10ef-f092-4e70-8b85-f559e1c82009",
   "metadata": {},
   "outputs": [],
   "source": [
    "def split(df, target_name, test_size, random_state):\n",
    "    \"\"\"\n",
    "    Apply train_test_split to dataframe\n",
    "    \n",
    "    df: pandas dataframe\n",
    "    target_name: column name of df to target\n",
    "    test_size: float, proportion of data to test\n",
    "    random_state: int\n",
    "    \"\"\"\n",
    "    y = np.array(df[target_name]) # target\n",
    "    X = np.array(df.drop(target_name, axis=1)) # predictors\n",
    "    return train_test_split(X, y, test_size=test_size, random_state=random_state)"
   ]
  },
  {
   "cell_type": "markdown",
   "id": "2be55ccf-24cd-4bc3-9ee7-ae014c381b80",
   "metadata": {},
   "source": [
    "Train model and make predictions"
   ]
  },
  {
   "cell_type": "code",
   "execution_count": 10,
   "id": "c5b283c6-774a-4ec6-a5a6-96dfa961c995",
   "metadata": {},
   "outputs": [],
   "source": [
    "def predict_forest(train_y, train_X, test_X, random_state, n_estimators=100, n_jobs=None):\n",
    "    \"\"\"\n",
    "    Instantiate and fit a random forest model, return predictions.\n",
    "    \n",
    "    train_y: target for training set\n",
    "    train_X: predictors for training set\n",
    "    test_X: predictors for test set\n",
    "    random_state: number for replication\n",
    "    n_estimators: number of trees\n",
    "    n_jobs: number of jobs to run in parallel\n",
    "    \"\"\"\n",
    "    rf = RandomForestRegressor(n_estimators=n_estimators, random_state=random_state, n_jobs=n_jobs)\n",
    "    rf.fit(train_X, train_y)\n",
    "    return rf, rf.predict(test_X)"
   ]
  },
  {
   "cell_type": "markdown",
   "id": "7fef1414-a370-4d71-8c6e-596db610c466",
   "metadata": {},
   "source": [
    "## Apply to the data\n",
    "\n",
    "*Note:* I've tried various permutations of seasonal indices (months and seasons), but they are all of low variable importance. This is presumably because seasonal information is contained in temperature."
   ]
  },
  {
   "cell_type": "code",
   "execution_count": 11,
   "id": "c77a210f-d6fb-415e-96c6-33b66270cd88",
   "metadata": {},
   "outputs": [],
   "source": [
    "# time_cols = [\"is_weekend\", \"month_sin\", \"month_cos\"]\n",
    "# time_cols = [\"is_weekend\", \"month_int\"]\n",
    "# time_cols = [\"is_weekend\", \"season_int\"]\n",
    "time_cols = [\"is_weekend\"]\n",
    "\n",
    "region_dfs = {}\n",
    "for region in dem_da.region.values:\n",
    "    df = to_dataframe(dem_da, pred_ds, region)\n",
    "    for t in time_cols:\n",
    "        df = add_time_column(df, t)\n",
    "    new_cols = np.append(np.append(\"demand\", time_cols), df.columns[:-(len(time_cols) + 1)])\n",
    "    df = df[new_cols]\n",
    "    region_dfs[region] = df"
   ]
  },
  {
   "cell_type": "code",
   "execution_count": 12,
   "id": "517f380c-813e-4dd8-b91a-1e9f6af97f26",
   "metadata": {},
   "outputs": [
    {
     "data": {
      "text/html": [
       "<div>\n",
       "<style scoped>\n",
       "    .dataframe tbody tr th:only-of-type {\n",
       "        vertical-align: middle;\n",
       "    }\n",
       "\n",
       "    .dataframe tbody tr th {\n",
       "        vertical-align: top;\n",
       "    }\n",
       "\n",
       "    .dataframe thead th {\n",
       "        text-align: right;\n",
       "    }\n",
       "</style>\n",
       "<table border=\"1\" class=\"dataframe\">\n",
       "  <thead>\n",
       "    <tr style=\"text-align: right;\">\n",
       "      <th></th>\n",
       "      <th>demand</th>\n",
       "      <th>is_weekend</th>\n",
       "      <th>t2min</th>\n",
       "      <th>t2m3</th>\n",
       "      <th>msdwswrf</th>\n",
       "      <th>cdd4</th>\n",
       "      <th>t2m</th>\n",
       "      <th>cdd3</th>\n",
       "      <th>cdd</th>\n",
       "      <th>hdd4</th>\n",
       "      <th>hdd</th>\n",
       "      <th>mtpr</th>\n",
       "      <th>rh</th>\n",
       "      <th>w10</th>\n",
       "      <th>t2max</th>\n",
       "      <th>hdd3</th>\n",
       "      <th>t2m4</th>\n",
       "    </tr>\n",
       "  </thead>\n",
       "  <tbody>\n",
       "    <tr>\n",
       "      <th>2010-01-01</th>\n",
       "      <td>189098.854210</td>\n",
       "      <td>0</td>\n",
       "      <td>293.135916</td>\n",
       "      <td>295.652358</td>\n",
       "      <td>164.218843</td>\n",
       "      <td>0.230228</td>\n",
       "      <td>296.525003</td>\n",
       "      <td>0.236526</td>\n",
       "      <td>0.176162</td>\n",
       "      <td>0.173212</td>\n",
       "      <td>0.000324</td>\n",
       "      <td>0.000087</td>\n",
       "      <td>93.658535</td>\n",
       "      <td>3.132796</td>\n",
       "      <td>299.244528</td>\n",
       "      <td>0.173511</td>\n",
       "      <td>295.379525</td>\n",
       "    </tr>\n",
       "    <tr>\n",
       "      <th>2010-01-02</th>\n",
       "      <td>213642.465012</td>\n",
       "      <td>1</td>\n",
       "      <td>290.967947</td>\n",
       "      <td>295.889085</td>\n",
       "      <td>229.810077</td>\n",
       "      <td>0.199591</td>\n",
       "      <td>295.424110</td>\n",
       "      <td>0.179770</td>\n",
       "      <td>0.087857</td>\n",
       "      <td>0.174805</td>\n",
       "      <td>0.008797</td>\n",
       "      <td>0.000108</td>\n",
       "      <td>94.196278</td>\n",
       "      <td>2.557276</td>\n",
       "      <td>300.501642</td>\n",
       "      <td>0.173751</td>\n",
       "      <td>295.595364</td>\n",
       "    </tr>\n",
       "    <tr>\n",
       "      <th>2010-01-03</th>\n",
       "      <td>194617.495814</td>\n",
       "      <td>1</td>\n",
       "      <td>290.609908</td>\n",
       "      <td>294.763146</td>\n",
       "      <td>148.300158</td>\n",
       "      <td>0.134740</td>\n",
       "      <td>292.339987</td>\n",
       "      <td>0.136942</td>\n",
       "      <td>0.007749</td>\n",
       "      <td>0.220479</td>\n",
       "      <td>0.236494</td>\n",
       "      <td>0.000024</td>\n",
       "      <td>93.812825</td>\n",
       "      <td>2.931974</td>\n",
       "      <td>294.826772</td>\n",
       "      <td>0.236721</td>\n",
       "      <td>295.001880</td>\n",
       "    </tr>\n",
       "    <tr>\n",
       "      <th>2010-01-04</th>\n",
       "      <td>189128.506616</td>\n",
       "      <td>0</td>\n",
       "      <td>289.493653</td>\n",
       "      <td>293.841889</td>\n",
       "      <td>238.270861</td>\n",
       "      <td>0.115388</td>\n",
       "      <td>293.761230</td>\n",
       "      <td>0.046391</td>\n",
       "      <td>0.060270</td>\n",
       "      <td>0.223888</td>\n",
       "      <td>0.019122</td>\n",
       "      <td>0.000006</td>\n",
       "      <td>91.860632</td>\n",
       "      <td>2.919768</td>\n",
       "      <td>296.801895</td>\n",
       "      <td>0.241564</td>\n",
       "      <td>294.512735</td>\n",
       "    </tr>\n",
       "    <tr>\n",
       "      <th>2010-01-05</th>\n",
       "      <td>191152.737418</td>\n",
       "      <td>0</td>\n",
       "      <td>291.541431</td>\n",
       "      <td>294.200035</td>\n",
       "      <td>329.752634</td>\n",
       "      <td>0.115776</td>\n",
       "      <td>296.498553</td>\n",
       "      <td>0.124774</td>\n",
       "      <td>0.215896</td>\n",
       "      <td>0.223851</td>\n",
       "      <td>-0.000134</td>\n",
       "      <td>0.000003</td>\n",
       "      <td>91.115371</td>\n",
       "      <td>2.041179</td>\n",
       "      <td>300.815600</td>\n",
       "      <td>0.238905</td>\n",
       "      <td>294.506123</td>\n",
       "    </tr>\n",
       "  </tbody>\n",
       "</table>\n",
       "</div>"
      ],
      "text/plain": [
       "                   demand  is_weekend       t2min        t2m3    msdwswrf  \\\n",
       "2010-01-01  189098.854210           0  293.135916  295.652358  164.218843   \n",
       "2010-01-02  213642.465012           1  290.967947  295.889085  229.810077   \n",
       "2010-01-03  194617.495814           1  290.609908  294.763146  148.300158   \n",
       "2010-01-04  189128.506616           0  289.493653  293.841889  238.270861   \n",
       "2010-01-05  191152.737418           0  291.541431  294.200035  329.752634   \n",
       "\n",
       "                cdd4         t2m      cdd3       cdd      hdd4       hdd  \\\n",
       "2010-01-01  0.230228  296.525003  0.236526  0.176162  0.173212  0.000324   \n",
       "2010-01-02  0.199591  295.424110  0.179770  0.087857  0.174805  0.008797   \n",
       "2010-01-03  0.134740  292.339987  0.136942  0.007749  0.220479  0.236494   \n",
       "2010-01-04  0.115388  293.761230  0.046391  0.060270  0.223888  0.019122   \n",
       "2010-01-05  0.115776  296.498553  0.124774  0.215896  0.223851 -0.000134   \n",
       "\n",
       "                mtpr         rh       w10       t2max      hdd3        t2m4  \n",
       "2010-01-01  0.000087  93.658535  3.132796  299.244528  0.173511  295.379525  \n",
       "2010-01-02  0.000108  94.196278  2.557276  300.501642  0.173751  295.595364  \n",
       "2010-01-03  0.000024  93.812825  2.931974  294.826772  0.236721  295.001880  \n",
       "2010-01-04  0.000006  91.860632  2.919768  296.801895  0.241564  294.512735  \n",
       "2010-01-05  0.000003  91.115371  2.041179  300.815600  0.238905  294.506123  "
      ]
     },
     "execution_count": 12,
     "metadata": {},
     "output_type": "execute_result"
    }
   ],
   "source": [
    "region_dfs[\"NSW\"].head()"
   ]
  },
  {
   "cell_type": "code",
   "execution_count": 13,
   "id": "2a046f54-3a1c-438f-9863-62d685da4d1b",
   "metadata": {},
   "outputs": [],
   "source": [
    "# NEM_df.describe()"
   ]
  },
  {
   "cell_type": "markdown",
   "id": "03e31c9c-3ab9-43ed-8160-8719971e2ab1",
   "metadata": {},
   "source": [
    "### Random forest for all regions"
   ]
  },
  {
   "cell_type": "code",
   "execution_count": 14,
   "id": "5ff7fae9-73b8-4108-8c27-e7b580dbc859",
   "metadata": {},
   "outputs": [],
   "source": [
    "importance_df = pd.DataFrame(\n",
    "    columns=dem_da[\"region\"].values,\n",
    "    index=region_dfs[\"NEM\"].drop(\"demand\", axis=1).columns\n",
    ")\n",
    "importance_dict = {}\n",
    "for item in region_dfs.items():\n",
    "    region = item[0]\n",
    "    df = item[1]\n",
    "    predictors_list = df.drop(\"demand\", axis=1).columns\n",
    "    \n",
    "    train_X, test_X, train_y, test_y = split(\n",
    "        df,\n",
    "        \"demand\",\n",
    "        test_size=0.2,\n",
    "        random_state=1\n",
    "    )\n",
    "    rf, predictions = predict_forest(\n",
    "        train_y,\n",
    "        train_X,\n",
    "        test_X,\n",
    "        random_state=666,\n",
    "        n_estimators=100,\n",
    "        n_jobs=5\n",
    "    )\n",
    "    importance_df[region] = rf.feature_importances_\n",
    "    importances = rf.feature_importances_\n",
    "    importance_dict[region] = [(f, i) for f, i in zip(predictors_list, importances)]"
   ]
  },
  {
   "cell_type": "code",
   "execution_count": 15,
   "id": "aa7ae47a-2b71-48ab-bfad-afb1a8d4a570",
   "metadata": {},
   "outputs": [
    {
     "data": {
      "text/html": [
       "<style type=\"text/css\">\n",
       "#T_a7b30_row0_col0, #T_a7b30_row7_col4 {\n",
       "  background-color: #aacfe5;\n",
       "  color: #000000;\n",
       "}\n",
       "#T_a7b30_row0_col1, #T_a7b30_row5_col2 {\n",
       "  background-color: #ebf3fb;\n",
       "  color: #000000;\n",
       "}\n",
       "#T_a7b30_row0_col2, #T_a7b30_row4_col0 {\n",
       "  background-color: #eaf2fb;\n",
       "  color: #000000;\n",
       "}\n",
       "#T_a7b30_row0_col3, #T_a7b30_row4_col4, #T_a7b30_row6_col5, #T_a7b30_row10_col0, #T_a7b30_row10_col2, #T_a7b30_row14_col1 {\n",
       "  background-color: #f7fbff;\n",
       "  color: #000000;\n",
       "}\n",
       "#T_a7b30_row0_col4 {\n",
       "  background-color: #4b98ca;\n",
       "  color: #f1f1f1;\n",
       "}\n",
       "#T_a7b30_row0_col5 {\n",
       "  background-color: #083979;\n",
       "  color: #f1f1f1;\n",
       "}\n",
       "#T_a7b30_row1_col0, #T_a7b30_row9_col2 {\n",
       "  background-color: #e8f1fa;\n",
       "  color: #000000;\n",
       "}\n",
       "#T_a7b30_row1_col1 {\n",
       "  background-color: #cddff1;\n",
       "  color: #000000;\n",
       "}\n",
       "#T_a7b30_row1_col2, #T_a7b30_row12_col1, #T_a7b30_row13_col1 {\n",
       "  background-color: #e3eef8;\n",
       "  color: #000000;\n",
       "}\n",
       "#T_a7b30_row1_col3 {\n",
       "  background-color: #9fcae1;\n",
       "  color: #000000;\n",
       "}\n",
       "#T_a7b30_row1_col4, #T_a7b30_row8_col0, #T_a7b30_row12_col4 {\n",
       "  background-color: #d7e6f5;\n",
       "  color: #000000;\n",
       "}\n",
       "#T_a7b30_row1_col5 {\n",
       "  background-color: #d0e1f2;\n",
       "  color: #000000;\n",
       "}\n",
       "#T_a7b30_row2_col0 {\n",
       "  background-color: #c2d9ee;\n",
       "  color: #000000;\n",
       "}\n",
       "#T_a7b30_row2_col1, #T_a7b30_row2_col3, #T_a7b30_row5_col5, #T_a7b30_row13_col0, #T_a7b30_row13_col2, #T_a7b30_row13_col4 {\n",
       "  background-color: #08306b;\n",
       "  color: #f1f1f1;\n",
       "}\n",
       "#T_a7b30_row2_col2 {\n",
       "  background-color: #d6e5f4;\n",
       "  color: #000000;\n",
       "}\n",
       "#T_a7b30_row2_col4 {\n",
       "  background-color: #d2e3f3;\n",
       "  color: #000000;\n",
       "}\n",
       "#T_a7b30_row2_col5, #T_a7b30_row11_col5 {\n",
       "  background-color: #e0ecf8;\n",
       "  color: #000000;\n",
       "}\n",
       "#T_a7b30_row3_col0, #T_a7b30_row3_col5 {\n",
       "  background-color: #a4cce3;\n",
       "  color: #000000;\n",
       "}\n",
       "#T_a7b30_row3_col1, #T_a7b30_row9_col0, #T_a7b30_row12_col0, #T_a7b30_row14_col2 {\n",
       "  background-color: #deebf7;\n",
       "  color: #000000;\n",
       "}\n",
       "#T_a7b30_row3_col2, #T_a7b30_row11_col4 {\n",
       "  background-color: #c7dcef;\n",
       "  color: #000000;\n",
       "}\n",
       "#T_a7b30_row3_col3 {\n",
       "  background-color: #6fb0d7;\n",
       "  color: #f1f1f1;\n",
       "}\n",
       "#T_a7b30_row3_col4, #T_a7b30_row4_col3, #T_a7b30_row8_col3 {\n",
       "  background-color: #a5cde3;\n",
       "  color: #000000;\n",
       "}\n",
       "#T_a7b30_row4_col1, #T_a7b30_row15_col0 {\n",
       "  background-color: #dceaf6;\n",
       "  color: #000000;\n",
       "}\n",
       "#T_a7b30_row4_col2 {\n",
       "  background-color: #f1f7fd;\n",
       "  color: #000000;\n",
       "}\n",
       "#T_a7b30_row4_col5, #T_a7b30_row10_col1 {\n",
       "  background-color: #f0f6fd;\n",
       "  color: #000000;\n",
       "}\n",
       "#T_a7b30_row5_col0 {\n",
       "  background-color: #084488;\n",
       "  color: #f1f1f1;\n",
       "}\n",
       "#T_a7b30_row5_col1 {\n",
       "  background-color: #c4daee;\n",
       "  color: #000000;\n",
       "}\n",
       "#T_a7b30_row5_col3 {\n",
       "  background-color: #c7dbef;\n",
       "  color: #000000;\n",
       "}\n",
       "#T_a7b30_row5_col4 {\n",
       "  background-color: #3585bf;\n",
       "  color: #f1f1f1;\n",
       "}\n",
       "#T_a7b30_row6_col0, #T_a7b30_row14_col5 {\n",
       "  background-color: #dbe9f6;\n",
       "  color: #000000;\n",
       "}\n",
       "#T_a7b30_row6_col1 {\n",
       "  background-color: #eaf3fb;\n",
       "  color: #000000;\n",
       "}\n",
       "#T_a7b30_row6_col2, #T_a7b30_row8_col1, #T_a7b30_row8_col2, #T_a7b30_row9_col1, #T_a7b30_row10_col4, #T_a7b30_row15_col5 {\n",
       "  background-color: #eef5fc;\n",
       "  color: #000000;\n",
       "}\n",
       "#T_a7b30_row6_col3 {\n",
       "  background-color: #abd0e6;\n",
       "  color: #000000;\n",
       "}\n",
       "#T_a7b30_row6_col4 {\n",
       "  background-color: #f2f8fd;\n",
       "  color: #000000;\n",
       "}\n",
       "#T_a7b30_row7_col0 {\n",
       "  background-color: #a0cbe2;\n",
       "  color: #000000;\n",
       "}\n",
       "#T_a7b30_row7_col1, #T_a7b30_row9_col4 {\n",
       "  background-color: #e1edf8;\n",
       "  color: #000000;\n",
       "}\n",
       "#T_a7b30_row7_col2 {\n",
       "  background-color: #d9e7f5;\n",
       "  color: #000000;\n",
       "}\n",
       "#T_a7b30_row7_col3, #T_a7b30_row11_col1 {\n",
       "  background-color: #e6f0f9;\n",
       "  color: #000000;\n",
       "}\n",
       "#T_a7b30_row7_col5, #T_a7b30_row14_col4 {\n",
       "  background-color: #c9ddf0;\n",
       "  color: #000000;\n",
       "}\n",
       "#T_a7b30_row8_col4 {\n",
       "  background-color: #eff6fc;\n",
       "  color: #000000;\n",
       "}\n",
       "#T_a7b30_row8_col5 {\n",
       "  background-color: #ecf4fb;\n",
       "  color: #000000;\n",
       "}\n",
       "#T_a7b30_row9_col3 {\n",
       "  background-color: #b2d2e8;\n",
       "  color: #000000;\n",
       "}\n",
       "#T_a7b30_row9_col5 {\n",
       "  background-color: #9dcae1;\n",
       "  color: #000000;\n",
       "}\n",
       "#T_a7b30_row10_col3 {\n",
       "  background-color: #bfd8ed;\n",
       "  color: #000000;\n",
       "}\n",
       "#T_a7b30_row10_col5 {\n",
       "  background-color: #e7f1fa;\n",
       "  color: #000000;\n",
       "}\n",
       "#T_a7b30_row11_col0, #T_a7b30_row12_col2 {\n",
       "  background-color: #cde0f1;\n",
       "  color: #000000;\n",
       "}\n",
       "#T_a7b30_row11_col2 {\n",
       "  background-color: #e4eff9;\n",
       "  color: #000000;\n",
       "}\n",
       "#T_a7b30_row11_col3 {\n",
       "  background-color: #74b3d8;\n",
       "  color: #000000;\n",
       "}\n",
       "#T_a7b30_row12_col3 {\n",
       "  background-color: #57a0ce;\n",
       "  color: #f1f1f1;\n",
       "}\n",
       "#T_a7b30_row12_col5 {\n",
       "  background-color: #d9e8f5;\n",
       "  color: #000000;\n",
       "}\n",
       "#T_a7b30_row13_col3 {\n",
       "  background-color: #2676b8;\n",
       "  color: #f1f1f1;\n",
       "}\n",
       "#T_a7b30_row13_col5 {\n",
       "  background-color: #0a539e;\n",
       "  color: #f1f1f1;\n",
       "}\n",
       "#T_a7b30_row14_col0 {\n",
       "  background-color: #9cc9e1;\n",
       "  color: #000000;\n",
       "}\n",
       "#T_a7b30_row14_col3 {\n",
       "  background-color: #084285;\n",
       "  color: #f1f1f1;\n",
       "}\n",
       "#T_a7b30_row15_col1, #T_a7b30_row15_col4 {\n",
       "  background-color: #f4f9fe;\n",
       "  color: #000000;\n",
       "}\n",
       "#T_a7b30_row15_col2 {\n",
       "  background-color: #f2f7fd;\n",
       "  color: #000000;\n",
       "}\n",
       "#T_a7b30_row15_col3 {\n",
       "  background-color: #99c7e0;\n",
       "  color: #000000;\n",
       "}\n",
       "</style>\n",
       "<table id=\"T_a7b30\">\n",
       "  <thead>\n",
       "    <tr>\n",
       "      <th class=\"blank level0\" >&nbsp;</th>\n",
       "      <th id=\"T_a7b30_level0_col0\" class=\"col_heading level0 col0\" >NSW</th>\n",
       "      <th id=\"T_a7b30_level0_col1\" class=\"col_heading level0 col1\" >QLD</th>\n",
       "      <th id=\"T_a7b30_level0_col2\" class=\"col_heading level0 col2\" >SA</th>\n",
       "      <th id=\"T_a7b30_level0_col3\" class=\"col_heading level0 col3\" >TAS</th>\n",
       "      <th id=\"T_a7b30_level0_col4\" class=\"col_heading level0 col4\" >VIC</th>\n",
       "      <th id=\"T_a7b30_level0_col5\" class=\"col_heading level0 col5\" >NEM</th>\n",
       "    </tr>\n",
       "  </thead>\n",
       "  <tbody>\n",
       "    <tr>\n",
       "      <th id=\"T_a7b30_level0_row0\" class=\"row_heading level0 row0\" >is_weekend</th>\n",
       "      <td id=\"T_a7b30_row0_col0\" class=\"data row0 col0\" >0.066349</td>\n",
       "      <td id=\"T_a7b30_row0_col1\" class=\"data row0 col1\" >0.048905</td>\n",
       "      <td id=\"T_a7b30_row0_col2\" class=\"data row0 col2\" >0.045215</td>\n",
       "      <td id=\"T_a7b30_row0_col3\" class=\"data row0 col3\" >0.013197</td>\n",
       "      <td id=\"T_a7b30_row0_col4\" class=\"data row0 col4\" >0.099606</td>\n",
       "      <td id=\"T_a7b30_row0_col5\" class=\"data row0 col5\" >0.111474</td>\n",
       "    </tr>\n",
       "    <tr>\n",
       "      <th id=\"T_a7b30_level0_row1\" class=\"row_heading level0 row1\" >t2min</th>\n",
       "      <td id=\"T_a7b30_row1_col0\" class=\"data row1 col0\" >0.044736</td>\n",
       "      <td id=\"T_a7b30_row1_col1\" class=\"data row1 col1\" >0.072358</td>\n",
       "      <td id=\"T_a7b30_row1_col2\" class=\"data row1 col2\" >0.052218</td>\n",
       "      <td id=\"T_a7b30_row1_col3\" class=\"data row1 col3\" >0.055596</td>\n",
       "      <td id=\"T_a7b30_row1_col4\" class=\"data row1 col4\" >0.051324</td>\n",
       "      <td id=\"T_a7b30_row1_col5\" class=\"data row1 col5\" >0.055495</td>\n",
       "    </tr>\n",
       "    <tr>\n",
       "      <th id=\"T_a7b30_level0_row2\" class=\"row_heading level0 row2\" >t2m3</th>\n",
       "      <td id=\"T_a7b30_row2_col0\" class=\"data row2 col0\" >0.060198</td>\n",
       "      <td id=\"T_a7b30_row2_col1\" class=\"data row2 col1\" >0.191545</td>\n",
       "      <td id=\"T_a7b30_row2_col2\" class=\"data row2 col2\" >0.065513</td>\n",
       "      <td id=\"T_a7b30_row2_col3\" class=\"data row2 col3\" >0.127251</td>\n",
       "      <td id=\"T_a7b30_row2_col4\" class=\"data row2 col4\" >0.054247</td>\n",
       "      <td id=\"T_a7b30_row2_col5\" class=\"data row2 col5\" >0.049209</td>\n",
       "    </tr>\n",
       "    <tr>\n",
       "      <th id=\"T_a7b30_level0_row3\" class=\"row_heading level0 row3\" >msdwswrf</th>\n",
       "      <td id=\"T_a7b30_row3_col0\" class=\"data row3 col0\" >0.067948</td>\n",
       "      <td id=\"T_a7b30_row3_col1\" class=\"data row3 col1\" >0.058611</td>\n",
       "      <td id=\"T_a7b30_row3_col2\" class=\"data row3 col2\" >0.081070</td>\n",
       "      <td id=\"T_a7b30_row3_col3\" class=\"data row3 col3\" >0.069244</td>\n",
       "      <td id=\"T_a7b30_row3_col4\" class=\"data row3 col4\" >0.072653</td>\n",
       "      <td id=\"T_a7b30_row3_col5\" class=\"data row3 col5\" >0.066950</td>\n",
       "    </tr>\n",
       "    <tr>\n",
       "      <th id=\"T_a7b30_level0_row4\" class=\"row_heading level0 row4\" >cdd4</th>\n",
       "      <td id=\"T_a7b30_row4_col0\" class=\"data row4 col0\" >0.043952</td>\n",
       "      <td id=\"T_a7b30_row4_col1\" class=\"data row4 col1\" >0.059875</td>\n",
       "      <td id=\"T_a7b30_row4_col2\" class=\"data row4 col2\" >0.038165</td>\n",
       "      <td id=\"T_a7b30_row4_col3\" class=\"data row4 col3\" >0.053602</td>\n",
       "      <td id=\"T_a7b30_row4_col4\" class=\"data row4 col4\" >0.033365</td>\n",
       "      <td id=\"T_a7b30_row4_col5\" class=\"data row4 col5\" >0.043319</td>\n",
       "    </tr>\n",
       "    <tr>\n",
       "      <th id=\"T_a7b30_level0_row5\" class=\"row_heading level0 row5\" >t2m</th>\n",
       "      <td id=\"T_a7b30_row5_col0\" class=\"data row5 col0\" >0.114313</td>\n",
       "      <td id=\"T_a7b30_row5_col1\" class=\"data row5 col1\" >0.078527</td>\n",
       "      <td id=\"T_a7b30_row5_col2\" class=\"data row5 col2\" >0.043706</td>\n",
       "      <td id=\"T_a7b30_row5_col3\" class=\"data row5 col3\" >0.041429</td>\n",
       "      <td id=\"T_a7b30_row5_col4\" class=\"data row5 col4\" >0.108205</td>\n",
       "      <td id=\"T_a7b30_row5_col5\" class=\"data row5 col5\" >0.114234</td>\n",
       "    </tr>\n",
       "    <tr>\n",
       "      <th id=\"T_a7b30_level0_row6\" class=\"row_heading level0 row6\" >cdd3</th>\n",
       "      <td id=\"T_a7b30_row6_col0\" class=\"data row6 col0\" >0.050293</td>\n",
       "      <td id=\"T_a7b30_row6_col1\" class=\"data row6 col1\" >0.049390</td>\n",
       "      <td id=\"T_a7b30_row6_col2\" class=\"data row6 col2\" >0.040471</td>\n",
       "      <td id=\"T_a7b30_row6_col3\" class=\"data row6 col3\" >0.051266</td>\n",
       "      <td id=\"T_a7b30_row6_col4\" class=\"data row6 col4\" >0.036071</td>\n",
       "      <td id=\"T_a7b30_row6_col5\" class=\"data row6 col5\" >0.040681</td>\n",
       "    </tr>\n",
       "    <tr>\n",
       "      <th id=\"T_a7b30_level0_row7\" class=\"row_heading level0 row7\" >cdd</th>\n",
       "      <td id=\"T_a7b30_row7_col0\" class=\"data row7 col0\" >0.068678</td>\n",
       "      <td id=\"T_a7b30_row7_col1\" class=\"data row7 col1\" >0.056575</td>\n",
       "      <td id=\"T_a7b30_row7_col2\" class=\"data row7 col2\" >0.062507</td>\n",
       "      <td id=\"T_a7b30_row7_col3\" class=\"data row7 col3\" >0.023113</td>\n",
       "      <td id=\"T_a7b30_row7_col4\" class=\"data row7 col4\" >0.071156</td>\n",
       "      <td id=\"T_a7b30_row7_col5\" class=\"data row7 col5\" >0.058041</td>\n",
       "    </tr>\n",
       "    <tr>\n",
       "      <th id=\"T_a7b30_level0_row8\" class=\"row_heading level0 row8\" >hdd4</th>\n",
       "      <td id=\"T_a7b30_row8_col0\" class=\"data row8 col0\" >0.051743</td>\n",
       "      <td id=\"T_a7b30_row8_col1\" class=\"data row8 col1\" >0.047232</td>\n",
       "      <td id=\"T_a7b30_row8_col2\" class=\"data row8 col2\" >0.040280</td>\n",
       "      <td id=\"T_a7b30_row8_col3\" class=\"data row8 col3\" >0.053639</td>\n",
       "      <td id=\"T_a7b30_row8_col4\" class=\"data row8 col4\" >0.038003</td>\n",
       "      <td id=\"T_a7b30_row8_col5\" class=\"data row8 col5\" >0.044931</td>\n",
       "    </tr>\n",
       "    <tr>\n",
       "      <th id=\"T_a7b30_level0_row9\" class=\"row_heading level0 row9\" >hdd</th>\n",
       "      <td id=\"T_a7b30_row9_col0\" class=\"data row9 col0\" >0.048923</td>\n",
       "      <td id=\"T_a7b30_row9_col1\" class=\"data row9 col1\" >0.047048</td>\n",
       "      <td id=\"T_a7b30_row9_col2\" class=\"data row9 col2\" >0.046712</td>\n",
       "      <td id=\"T_a7b30_row9_col3\" class=\"data row9 col3\" >0.049012</td>\n",
       "      <td id=\"T_a7b30_row9_col4\" class=\"data row9 col4\" >0.045615</td>\n",
       "      <td id=\"T_a7b30_row9_col5\" class=\"data row9 col5\" >0.068358</td>\n",
       "    </tr>\n",
       "    <tr>\n",
       "      <th id=\"T_a7b30_level0_row10\" class=\"row_heading level0 row10\" >mtpr</th>\n",
       "      <td id=\"T_a7b30_row10_col0\" class=\"data row10 col0\" >0.038472</td>\n",
       "      <td id=\"T_a7b30_row10_col1\" class=\"data row10 col1\" >0.044953</td>\n",
       "      <td id=\"T_a7b30_row10_col2\" class=\"data row10 col2\" >0.031121</td>\n",
       "      <td id=\"T_a7b30_row10_col3\" class=\"data row10 col3\" >0.044143</td>\n",
       "      <td id=\"T_a7b30_row10_col4\" class=\"data row10 col4\" >0.038153</td>\n",
       "      <td id=\"T_a7b30_row10_col5\" class=\"data row10 col5\" >0.046640</td>\n",
       "    </tr>\n",
       "    <tr>\n",
       "      <th id=\"T_a7b30_level0_row11\" class=\"row_heading level0 row11\" >rh</th>\n",
       "      <td id=\"T_a7b30_row11_col0\" class=\"data row11 col0\" >0.055833</td>\n",
       "      <td id=\"T_a7b30_row11_col1\" class=\"data row11 col1\" >0.052724</td>\n",
       "      <td id=\"T_a7b30_row11_col2\" class=\"data row11 col2\" >0.050663</td>\n",
       "      <td id=\"T_a7b30_row11_col3\" class=\"data row11 col3\" >0.067930</td>\n",
       "      <td id=\"T_a7b30_row11_col4\" class=\"data row11 col4\" >0.060325</td>\n",
       "      <td id=\"T_a7b30_row11_col5\" class=\"data row11 col5\" >0.049251</td>\n",
       "    </tr>\n",
       "    <tr>\n",
       "      <th id=\"T_a7b30_level0_row12\" class=\"row_heading level0 row12\" >w10</th>\n",
       "      <td id=\"T_a7b30_row12_col0\" class=\"data row12 col0\" >0.048751</td>\n",
       "      <td id=\"T_a7b30_row12_col1\" class=\"data row12 col1\" >0.055121</td>\n",
       "      <td id=\"T_a7b30_row12_col2\" class=\"data row12 col2\" >0.074575</td>\n",
       "      <td id=\"T_a7b30_row12_col3\" class=\"data row12 col3\" >0.077100</td>\n",
       "      <td id=\"T_a7b30_row12_col4\" class=\"data row12 col4\" >0.051378</td>\n",
       "      <td id=\"T_a7b30_row12_col5\" class=\"data row12 col5\" >0.051715</td>\n",
       "    </tr>\n",
       "    <tr>\n",
       "      <th id=\"T_a7b30_level0_row13\" class=\"row_heading level0 row13\" >t2max</th>\n",
       "      <td id=\"T_a7b30_row13_col0\" class=\"data row13 col0\" >0.120590</td>\n",
       "      <td id=\"T_a7b30_row13_col1\" class=\"data row13 col1\" >0.055167</td>\n",
       "      <td id=\"T_a7b30_row13_col2\" class=\"data row13 col2\" >0.234119</td>\n",
       "      <td id=\"T_a7b30_row13_col3\" class=\"data row13 col3\" >0.096387</td>\n",
       "      <td id=\"T_a7b30_row13_col4\" class=\"data row13 col4\" >0.144673</td>\n",
       "      <td id=\"T_a7b30_row13_col5\" class=\"data row13 col5\" >0.104398</td>\n",
       "    </tr>\n",
       "    <tr>\n",
       "      <th id=\"T_a7b30_level0_row14\" class=\"row_heading level0 row14\" >hdd3</th>\n",
       "      <td id=\"T_a7b30_row14_col0\" class=\"data row14 col0\" >0.069635</td>\n",
       "      <td id=\"T_a7b30_row14_col1\" class=\"data row14 col1\" >0.039547</td>\n",
       "      <td id=\"T_a7b30_row14_col2\" class=\"data row14 col2\" >0.056957</td>\n",
       "      <td id=\"T_a7b30_row14_col3\" class=\"data row14 col3\" >0.119636</td>\n",
       "      <td id=\"T_a7b30_row14_col4\" class=\"data row14 col4\" >0.059715</td>\n",
       "      <td id=\"T_a7b30_row14_col5\" class=\"data row14 col5\" >0.051303</td>\n",
       "    </tr>\n",
       "    <tr>\n",
       "      <th id=\"T_a7b30_level0_row15\" class=\"row_heading level0 row15\" >t2m4</th>\n",
       "      <td id=\"T_a7b30_row15_col0\" class=\"data row15 col0\" >0.049584</td>\n",
       "      <td id=\"T_a7b30_row15_col1\" class=\"data row15 col1\" >0.042421</td>\n",
       "      <td id=\"T_a7b30_row15_col2\" class=\"data row15 col2\" >0.036709</td>\n",
       "      <td id=\"T_a7b30_row15_col3\" class=\"data row15 col3\" >0.057455</td>\n",
       "      <td id=\"T_a7b30_row15_col4\" class=\"data row15 col4\" >0.035511</td>\n",
       "      <td id=\"T_a7b30_row15_col5\" class=\"data row15 col5\" >0.044000</td>\n",
       "    </tr>\n",
       "  </tbody>\n",
       "</table>\n"
      ],
      "text/plain": [
       "<pandas.io.formats.style.Styler at 0x1502f90d97b0>"
      ]
     },
     "execution_count": 15,
     "metadata": {},
     "output_type": "execute_result"
    }
   ],
   "source": [
    "importance_df.style.background_gradient(cmap='Blues')"
   ]
  },
  {
   "cell_type": "code",
   "execution_count": 16,
   "id": "53ea0c2e-5077-4fcf-a60c-63ff6674e833",
   "metadata": {},
   "outputs": [
    {
     "data": {
      "text/plain": [
       "t2max         0.125889\n",
       "t2m3          0.091327\n",
       "t2m           0.083402\n",
       "msdwswrf      0.069413\n",
       "hdd3          0.066132\n",
       "is_weekend    0.064124\n",
       "w10           0.059773\n",
       "cdd           0.056678\n",
       "rh            0.056121\n",
       "t2min         0.055288\n",
       "hdd           0.050945\n",
       "hdd4          0.045971\n",
       "cdd4          0.045380\n",
       "cdd3          0.044695\n",
       "t2m4          0.044280\n",
       "mtpr          0.040580\n",
       "dtype: float64"
      ]
     },
     "execution_count": 16,
     "metadata": {},
     "output_type": "execute_result"
    }
   ],
   "source": [
    "importance_df.mean(axis=1).sort_values(ascending=False)"
   ]
  },
  {
   "cell_type": "markdown",
   "id": "3592fca8-db7b-470f-a154-52693c28bcc1",
   "metadata": {},
   "source": [
    "### Try drop-column"
   ]
  },
  {
   "cell_type": "code",
   "execution_count": 17,
   "id": "cdf6c589-4f83-4d16-8788-fe8d6fccf1f7",
   "metadata": {},
   "outputs": [],
   "source": [
    "from sklearn.base import clone"
   ]
  },
  {
   "cell_type": "code",
   "execution_count": 18,
   "id": "ff0a8638-141e-4830-94a6-43cc44b6cdbf",
   "metadata": {},
   "outputs": [],
   "source": [
    "def dropcol_importances(rf, X_train, y_train):\n",
    "    \"\"\" From https://explained.ai/rf-importance/index.html \"\"\"\n",
    "    rf_ = clone(rf)\n",
    "    rf_.random_state = 999\n",
    "    rf_.fit(X_train, y_train)\n",
    "    baseline = rf_.oob_score_\n",
    "    imp = []\n",
    "    for col in X_train.columns:\n",
    "        X = X_train.drop(col, axis=1)\n",
    "        rf_ = clone(rf)\n",
    "        rf_.random_state = 999\n",
    "        rf_.fit(X, y_train)\n",
    "        o = rf_.oob_score_\n",
    "        imp.append(baseline - o)\n",
    "    imp = np.array(imp)\n",
    "    I = pd.DataFrame(\n",
    "            data={'Feature':X_train.columns,\n",
    "                  'Importance':imp})\n",
    "    I = I.set_index('Feature')\n",
    "    I = I.sort_values('Importance', ascending=True)\n",
    "    return I"
   ]
  },
  {
   "cell_type": "code",
   "execution_count": 90,
   "id": "e0238b52-39e0-472f-88c1-753aab636f6a",
   "metadata": {},
   "outputs": [],
   "source": [
    "rf = RandomForestRegressor(n_estimators=100, random_state=666, n_jobs=5, oob_score=True)"
   ]
  },
  {
   "cell_type": "code",
   "execution_count": 91,
   "id": "e7eb1b9c-4ddb-4f0b-9d0b-0ee774a1f555",
   "metadata": {},
   "outputs": [
    {
     "data": {
      "text/html": [
       "<style>#sk-container-id-2 {color: black;background-color: white;}#sk-container-id-2 pre{padding: 0;}#sk-container-id-2 div.sk-toggleable {background-color: white;}#sk-container-id-2 label.sk-toggleable__label {cursor: pointer;display: block;width: 100%;margin-bottom: 0;padding: 0.3em;box-sizing: border-box;text-align: center;}#sk-container-id-2 label.sk-toggleable__label-arrow:before {content: \"▸\";float: left;margin-right: 0.25em;color: #696969;}#sk-container-id-2 label.sk-toggleable__label-arrow:hover:before {color: black;}#sk-container-id-2 div.sk-estimator:hover label.sk-toggleable__label-arrow:before {color: black;}#sk-container-id-2 div.sk-toggleable__content {max-height: 0;max-width: 0;overflow: hidden;text-align: left;background-color: #f0f8ff;}#sk-container-id-2 div.sk-toggleable__content pre {margin: 0.2em;color: black;border-radius: 0.25em;background-color: #f0f8ff;}#sk-container-id-2 input.sk-toggleable__control:checked~div.sk-toggleable__content {max-height: 200px;max-width: 100%;overflow: auto;}#sk-container-id-2 input.sk-toggleable__control:checked~label.sk-toggleable__label-arrow:before {content: \"▾\";}#sk-container-id-2 div.sk-estimator input.sk-toggleable__control:checked~label.sk-toggleable__label {background-color: #d4ebff;}#sk-container-id-2 div.sk-label input.sk-toggleable__control:checked~label.sk-toggleable__label {background-color: #d4ebff;}#sk-container-id-2 input.sk-hidden--visually {border: 0;clip: rect(1px 1px 1px 1px);clip: rect(1px, 1px, 1px, 1px);height: 1px;margin: -1px;overflow: hidden;padding: 0;position: absolute;width: 1px;}#sk-container-id-2 div.sk-estimator {font-family: monospace;background-color: #f0f8ff;border: 1px dotted black;border-radius: 0.25em;box-sizing: border-box;margin-bottom: 0.5em;}#sk-container-id-2 div.sk-estimator:hover {background-color: #d4ebff;}#sk-container-id-2 div.sk-parallel-item::after {content: \"\";width: 100%;border-bottom: 1px solid gray;flex-grow: 1;}#sk-container-id-2 div.sk-label:hover label.sk-toggleable__label {background-color: #d4ebff;}#sk-container-id-2 div.sk-serial::before {content: \"\";position: absolute;border-left: 1px solid gray;box-sizing: border-box;top: 0;bottom: 0;left: 50%;z-index: 0;}#sk-container-id-2 div.sk-serial {display: flex;flex-direction: column;align-items: center;background-color: white;padding-right: 0.2em;padding-left: 0.2em;position: relative;}#sk-container-id-2 div.sk-item {position: relative;z-index: 1;}#sk-container-id-2 div.sk-parallel {display: flex;align-items: stretch;justify-content: center;background-color: white;position: relative;}#sk-container-id-2 div.sk-item::before, #sk-container-id-2 div.sk-parallel-item::before {content: \"\";position: absolute;border-left: 1px solid gray;box-sizing: border-box;top: 0;bottom: 0;left: 50%;z-index: -1;}#sk-container-id-2 div.sk-parallel-item {display: flex;flex-direction: column;z-index: 1;position: relative;background-color: white;}#sk-container-id-2 div.sk-parallel-item:first-child::after {align-self: flex-end;width: 50%;}#sk-container-id-2 div.sk-parallel-item:last-child::after {align-self: flex-start;width: 50%;}#sk-container-id-2 div.sk-parallel-item:only-child::after {width: 0;}#sk-container-id-2 div.sk-dashed-wrapped {border: 1px dashed gray;margin: 0 0.4em 0.5em 0.4em;box-sizing: border-box;padding-bottom: 0.4em;background-color: white;}#sk-container-id-2 div.sk-label label {font-family: monospace;font-weight: bold;display: inline-block;line-height: 1.2em;}#sk-container-id-2 div.sk-label-container {text-align: center;}#sk-container-id-2 div.sk-container {/* jupyter's `normalize.less` sets `[hidden] { display: none; }` but bootstrap.min.css set `[hidden] { display: none !important; }` so we also need the `!important` here to be able to override the default hidden behavior on the sphinx rendered scikit-learn.org. See: https://github.com/scikit-learn/scikit-learn/issues/21755 */display: inline-block !important;position: relative;}#sk-container-id-2 div.sk-text-repr-fallback {display: none;}</style><div id=\"sk-container-id-2\" class=\"sk-top-container\"><div class=\"sk-text-repr-fallback\"><pre>RandomForestRegressor(n_jobs=5, oob_score=True, random_state=666)</pre><b>In a Jupyter environment, please rerun this cell to show the HTML representation or trust the notebook. <br />On GitHub, the HTML representation is unable to render, please try loading this page with nbviewer.org.</b></div><div class=\"sk-container\" hidden><div class=\"sk-item\"><div class=\"sk-estimator sk-toggleable\"><input class=\"sk-toggleable__control sk-hidden--visually\" id=\"sk-estimator-id-2\" type=\"checkbox\" checked><label for=\"sk-estimator-id-2\" class=\"sk-toggleable__label sk-toggleable__label-arrow\">RandomForestRegressor</label><div class=\"sk-toggleable__content\"><pre>RandomForestRegressor(n_jobs=5, oob_score=True, random_state=666)</pre></div></div></div></div></div>"
      ],
      "text/plain": [
       "RandomForestRegressor(n_jobs=5, oob_score=True, random_state=666)"
      ]
     },
     "execution_count": 91,
     "metadata": {},
     "output_type": "execute_result"
    }
   ],
   "source": [
    "rf.fit(train_X, train_y)"
   ]
  },
  {
   "cell_type": "code",
   "execution_count": 92,
   "id": "3f56406f-1d9d-4819-a993-464695683dd5",
   "metadata": {},
   "outputs": [],
   "source": [
    "df_train_X = pd.DataFrame(train_X, columns=predictors_list)"
   ]
  },
  {
   "cell_type": "code",
   "execution_count": 93,
   "id": "a2b13725-c411-4b6b-afcf-33f11d02891a",
   "metadata": {},
   "outputs": [],
   "source": [
    "I = dropcol_importances(rf, df_train_X, train_y)"
   ]
  },
  {
   "cell_type": "code",
   "execution_count": 23,
   "id": "d19a6a72-8637-4390-bd40-456a93c9d0f0",
   "metadata": {},
   "outputs": [
    {
     "data": {
      "text/html": [
       "<div>\n",
       "<style scoped>\n",
       "    .dataframe tbody tr th:only-of-type {\n",
       "        vertical-align: middle;\n",
       "    }\n",
       "\n",
       "    .dataframe tbody tr th {\n",
       "        vertical-align: top;\n",
       "    }\n",
       "\n",
       "    .dataframe thead th {\n",
       "        text-align: right;\n",
       "    }\n",
       "</style>\n",
       "<table border=\"1\" class=\"dataframe\">\n",
       "  <thead>\n",
       "    <tr style=\"text-align: right;\">\n",
       "      <th></th>\n",
       "      <th>Importance</th>\n",
       "    </tr>\n",
       "    <tr>\n",
       "      <th>Feature</th>\n",
       "      <th></th>\n",
       "    </tr>\n",
       "  </thead>\n",
       "  <tbody>\n",
       "    <tr>\n",
       "      <th>t2m</th>\n",
       "      <td>-0.007940</td>\n",
       "    </tr>\n",
       "    <tr>\n",
       "      <th>hdd3</th>\n",
       "      <td>-0.002733</td>\n",
       "    </tr>\n",
       "    <tr>\n",
       "      <th>w10</th>\n",
       "      <td>-0.002563</td>\n",
       "    </tr>\n",
       "    <tr>\n",
       "      <th>t2m4</th>\n",
       "      <td>-0.001557</td>\n",
       "    </tr>\n",
       "    <tr>\n",
       "      <th>mtpr</th>\n",
       "      <td>-0.000851</td>\n",
       "    </tr>\n",
       "    <tr>\n",
       "      <th>t2min</th>\n",
       "      <td>-0.000509</td>\n",
       "    </tr>\n",
       "    <tr>\n",
       "      <th>hdd</th>\n",
       "      <td>-0.000018</td>\n",
       "    </tr>\n",
       "    <tr>\n",
       "      <th>t2max</th>\n",
       "      <td>0.000317</td>\n",
       "    </tr>\n",
       "    <tr>\n",
       "      <th>t2m3</th>\n",
       "      <td>0.000777</td>\n",
       "    </tr>\n",
       "    <tr>\n",
       "      <th>rh</th>\n",
       "      <td>0.000915</td>\n",
       "    </tr>\n",
       "    <tr>\n",
       "      <th>cdd4</th>\n",
       "      <td>0.002175</td>\n",
       "    </tr>\n",
       "    <tr>\n",
       "      <th>cdd3</th>\n",
       "      <td>0.005621</td>\n",
       "    </tr>\n",
       "    <tr>\n",
       "      <th>hdd4</th>\n",
       "      <td>0.006673</td>\n",
       "    </tr>\n",
       "    <tr>\n",
       "      <th>cdd</th>\n",
       "      <td>0.011156</td>\n",
       "    </tr>\n",
       "    <tr>\n",
       "      <th>msdwswrf</th>\n",
       "      <td>0.013539</td>\n",
       "    </tr>\n",
       "    <tr>\n",
       "      <th>is_weekend</th>\n",
       "      <td>0.108007</td>\n",
       "    </tr>\n",
       "  </tbody>\n",
       "</table>\n",
       "</div>"
      ],
      "text/plain": [
       "            Importance\n",
       "Feature               \n",
       "t2m          -0.007940\n",
       "hdd3         -0.002733\n",
       "w10          -0.002563\n",
       "t2m4         -0.001557\n",
       "mtpr         -0.000851\n",
       "t2min        -0.000509\n",
       "hdd          -0.000018\n",
       "t2max         0.000317\n",
       "t2m3          0.000777\n",
       "rh            0.000915\n",
       "cdd4          0.002175\n",
       "cdd3          0.005621\n",
       "hdd4          0.006673\n",
       "cdd           0.011156\n",
       "msdwswrf      0.013539\n",
       "is_weekend    0.108007"
      ]
     },
     "execution_count": 23,
     "metadata": {},
     "output_type": "execute_result"
    }
   ],
   "source": [
    "I"
   ]
  },
  {
   "cell_type": "code",
   "execution_count": 24,
   "id": "db9ae87f-8ab2-4687-8473-103d2a533681",
   "metadata": {},
   "outputs": [],
   "source": [
    "df_train_X_2 = df_train_X.drop(\n",
    "    [\"t2m\", \"hdd3\", \"w10\", \"t2m4\", \"mtpr\", \"t2min\", \"hdd\"], axis=1)"
   ]
  },
  {
   "cell_type": "code",
   "execution_count": 25,
   "id": "7724946e-9d96-4096-af16-6d5c5a655b76",
   "metadata": {},
   "outputs": [],
   "source": [
    "I = dropcol_importances(rf, df_train_X_2, train_y)"
   ]
  },
  {
   "cell_type": "code",
   "execution_count": 26,
   "id": "bd4272c1-7b6b-434a-8ab5-4665e48d7cb6",
   "metadata": {},
   "outputs": [
    {
     "data": {
      "text/html": [
       "<div>\n",
       "<style scoped>\n",
       "    .dataframe tbody tr th:only-of-type {\n",
       "        vertical-align: middle;\n",
       "    }\n",
       "\n",
       "    .dataframe tbody tr th {\n",
       "        vertical-align: top;\n",
       "    }\n",
       "\n",
       "    .dataframe thead th {\n",
       "        text-align: right;\n",
       "    }\n",
       "</style>\n",
       "<table border=\"1\" class=\"dataframe\">\n",
       "  <thead>\n",
       "    <tr style=\"text-align: right;\">\n",
       "      <th></th>\n",
       "      <th>Importance</th>\n",
       "    </tr>\n",
       "    <tr>\n",
       "      <th>Feature</th>\n",
       "      <th></th>\n",
       "    </tr>\n",
       "  </thead>\n",
       "  <tbody>\n",
       "    <tr>\n",
       "      <th>cdd4</th>\n",
       "      <td>0.000373</td>\n",
       "    </tr>\n",
       "    <tr>\n",
       "      <th>cdd3</th>\n",
       "      <td>0.001803</td>\n",
       "    </tr>\n",
       "    <tr>\n",
       "      <th>rh</th>\n",
       "      <td>0.002817</td>\n",
       "    </tr>\n",
       "    <tr>\n",
       "      <th>t2m3</th>\n",
       "      <td>0.006874</td>\n",
       "    </tr>\n",
       "    <tr>\n",
       "      <th>msdwswrf</th>\n",
       "      <td>0.008794</td>\n",
       "    </tr>\n",
       "    <tr>\n",
       "      <th>cdd</th>\n",
       "      <td>0.011532</td>\n",
       "    </tr>\n",
       "    <tr>\n",
       "      <th>t2max</th>\n",
       "      <td>0.011768</td>\n",
       "    </tr>\n",
       "    <tr>\n",
       "      <th>hdd4</th>\n",
       "      <td>0.012521</td>\n",
       "    </tr>\n",
       "    <tr>\n",
       "      <th>is_weekend</th>\n",
       "      <td>0.109257</td>\n",
       "    </tr>\n",
       "  </tbody>\n",
       "</table>\n",
       "</div>"
      ],
      "text/plain": [
       "            Importance\n",
       "Feature               \n",
       "cdd4          0.000373\n",
       "cdd3          0.001803\n",
       "rh            0.002817\n",
       "t2m3          0.006874\n",
       "msdwswrf      0.008794\n",
       "cdd           0.011532\n",
       "t2max         0.011768\n",
       "hdd4          0.012521\n",
       "is_weekend    0.109257"
      ]
     },
     "execution_count": 26,
     "metadata": {},
     "output_type": "execute_result"
    }
   ],
   "source": [
    "I"
   ]
  },
  {
   "cell_type": "markdown",
   "id": "7ff5016d-d616-49ff-8e0e-a7891603edf9",
   "metadata": {},
   "source": [
    "# Performance scores"
   ]
  },
  {
   "cell_type": "code",
   "execution_count": 27,
   "id": "2d410ee3-49e2-412c-8a1c-2904debbda71",
   "metadata": {},
   "outputs": [],
   "source": [
    "import matplotlib.pyplot as plt"
   ]
  },
  {
   "cell_type": "code",
   "execution_count": 28,
   "id": "168e8f55-3c7b-40fd-aec4-d24b18937b3f",
   "metadata": {},
   "outputs": [],
   "source": [
    "from sklearn.metrics import r2_score, mean_absolute_error, mean_squared_error, mean_absolute_percentage_error, median_absolute_error"
   ]
  },
  {
   "cell_type": "code",
   "execution_count": 29,
   "id": "364d8e58-b114-4712-b08b-43b46326c43e",
   "metadata": {},
   "outputs": [],
   "source": [
    "def compute_scores(y_true, y_pred, metrics):\n",
    "    \"\"\"\n",
    "    Compute scores for a variety of metrics.\n",
    "    \n",
    "    y_true: observations\n",
    "    y_predict: predictions\n",
    "    metrics: list of scores from sklearn.metrics\n",
    "    \"\"\"\n",
    "    scores = []\n",
    "    for metric in metrics:\n",
    "        scores.append(metric(y_true, y_pred))\n",
    "    return scores"
   ]
  },
  {
   "cell_type": "code",
   "execution_count": 30,
   "id": "23d54ec0-8edb-48be-a4d1-8800c66ce2c3",
   "metadata": {},
   "outputs": [],
   "source": [
    "metric_names = [\"R2\", \"MAE\", \"MSE\", \"MAPE\", \"MedAE\"]\n",
    "metrics = [r2_score, mean_absolute_error, mean_squared_error, mean_absolute_percentage_error, median_absolute_error]"
   ]
  },
  {
   "cell_type": "code",
   "execution_count": 31,
   "id": "3132e59d-9462-4714-9bb9-0e5acab56834",
   "metadata": {},
   "outputs": [],
   "source": [
    "def get_scores(region, to_drop):\n",
    "    \"\"\"\n",
    "    Return scores of model trained with some predictors dropped.\n",
    "    \n",
    "    region: str\n",
    "    to_drop: list of predictors to drop\n",
    "    \"\"\"\n",
    "    df = region_dfs[region].drop(to_drop, axis=1)\n",
    "    predictors_list = df.drop(\"demand\", axis=1).columns\n",
    "\n",
    "    train_X, test_X, train_y, test_y = split(\n",
    "        df,\n",
    "        \"demand\",\n",
    "        test_size=0.2,\n",
    "        random_state=1\n",
    "    )\n",
    "    rf, predictions = predict_forest(\n",
    "        train_y,\n",
    "        train_X,\n",
    "        test_X,\n",
    "        random_state=666,\n",
    "        n_estimators=100,\n",
    "        n_jobs=5\n",
    "    )\n",
    "    scores = compute_scores(test_y, predictions, metrics)\n",
    "    return predictions, scores"
   ]
  },
  {
   "cell_type": "code",
   "execution_count": 32,
   "id": "022cada5-c4c5-4027-9ae3-fd5c51cf7322",
   "metadata": {},
   "outputs": [],
   "source": [
    "predictors = region_dfs[\"NEM\"].drop(\"demand\", axis=1).columns"
   ]
  },
  {
   "cell_type": "code",
   "execution_count": 94,
   "id": "b7662758-1a1f-43cb-9c9d-4451839ed803",
   "metadata": {},
   "outputs": [
    {
     "data": {
      "text/plain": [
       "Index(['t2m', 'hdd3', 'w10', 't2m4', 'mtpr', 't2min', 'hdd', 't2max', 't2m3',\n",
       "       'rh', 'cdd4', 'cdd3', 'hdd4', 'cdd', 'msdwswrf', 'is_weekend'],\n",
       "      dtype='object', name='Feature')"
      ]
     },
     "execution_count": 94,
     "metadata": {},
     "output_type": "execute_result"
    }
   ],
   "source": [
    "I.index"
   ]
  },
  {
   "cell_type": "code",
   "execution_count": 104,
   "id": "947df970-9885-47a1-9c37-d04844351b39",
   "metadata": {},
   "outputs": [],
   "source": [
    "sorted_importances = importance_df[\"NEM\"].sort_values().index\n",
    "to_drop = []\n",
    "for i in range(len(sorted_importances)):\n",
    "    to_drop.append(sorted_importances[i])\n",
    "    # to_drop.append(I.index[i])\n",
    "for i in range(len(sorted_importances)-1):\n",
    "    to_drop.append(sorted_importances[:i])\n",
    "    # to_drop.append(I.index[:i])"
   ]
  },
  {
   "cell_type": "code",
   "execution_count": 105,
   "id": "bac623a2-f85e-4693-b618-7a8aa5510950",
   "metadata": {},
   "outputs": [],
   "source": [
    "models = []\n",
    "for d in to_drop:\n",
    "    p, s = get_scores(\"NEM\", d)\n",
    "    models.append((p, s))"
   ]
  },
  {
   "cell_type": "code",
   "execution_count": 106,
   "id": "f99eb470-6a97-4719-b9cc-6ef81174a52a",
   "metadata": {},
   "outputs": [],
   "source": [
    "all_scores = [models[i][1] for i in range(len(models))]"
   ]
  },
  {
   "cell_type": "code",
   "execution_count": 89,
   "id": "aa97155a-32bb-42bf-9e3b-66aee1499c16",
   "metadata": {},
   "outputs": [
    {
     "data": {
      "image/png": "[encoded data removed]",
      "text/plain": [
       "<Figure size 600x600 with 5 Axes>"
      ]
     },
     "metadata": {},
     "output_type": "display_data"
    }
   ],
   "source": [
    "fig, ax = plt.subplots(len(metric_names), 1, figsize=(6,6))\n",
    "for i in range(len(metric_names)):\n",
    "    scores = [x[i] for x in all_scores]\n",
    "    if i == 0:\n",
    "        best_score = np.max(scores)\n",
    "    else:\n",
    "        best_score = np.min(scores)\n",
    "        \n",
    "    ax[i].scatter(range(len(scores)), scores)\n",
    "    ax[i].scatter(np.where(scores == best_score)[0][0], best_score)\n",
    "    \n",
    "    ax[i].set_ylabel(metric_names[i])\n",
    "plt.tight_layout()"
   ]
  },
  {
   "cell_type": "code",
   "execution_count": 107,
   "id": "2fe765af-4fae-4eae-bd82-aa85cb25c3a0",
   "metadata": {},
   "outputs": [
    {
     "name": "stdout",
     "output_type": "stream",
     "text": [
      "hdd3 cdd Index(['cdd3', 'cdd4', 't2m4', 'hdd4', 'mtpr', 't2m3', 'rh', 'hdd3', 'w10',\n",
      "       't2min'],\n",
      "      dtype='object')\n"
     ]
    }
   ],
   "source": [
    "print(to_drop[7], to_drop[10], to_drop[26])"
   ]
  },
  {
   "cell_type": "code",
   "execution_count": 116,
   "id": "62ae789d-8bc4-4688-a931-7ba703eef2c5",
   "metadata": {},
   "outputs": [
    {
     "data": {
      "text/plain": [
       "['is_weekend', 'msdwswrf', 't2m', 'cdd', 'hdd', 't2max']"
      ]
     },
     "execution_count": 116,
     "metadata": {},
     "output_type": "execute_result"
    }
   ],
   "source": [
    "[i for i in predictors if i not in to_drop[26]]"
   ]
  },
  {
   "cell_type": "code",
   "execution_count": 120,
   "id": "ad917beb-fa42-4610-8f2d-5d480214ca76",
   "metadata": {},
   "outputs": [],
   "source": [
    "def ts_scatter(ax0, ax1, pred, model_label):\n",
    "    \"\"\"\n",
    "    Time series and scatter plot of predictions against obs\n",
    "    \"\"\"\n",
    "    ax0.plot(test_y, label=\"Obs\")\n",
    "    ax0.plot(pred, label=model_label)\n",
    "    ax0.legend()\n",
    "    ax0.set_ylabel(\"Demand [MWh/day]\")\n",
    "\n",
    "    ax1.scatter(pred, test_y)\n",
    "    ax1.plot(np.arange(4.5e5, 6.5e5, 100), np.arange(4.5e5, 6.5e5, 100), color=\"k\", ls=\"--\")\n",
    "    ax1.set_xlabel(\"Predicted [MWh/day]\")\n",
    "    ax1.set_ylabel(\"Observed [MWh/day]\")"
   ]
  },
  {
   "cell_type": "code",
   "execution_count": 121,
   "id": "f251b31c-c8f2-4642-953c-1aacb3b9abbf",
   "metadata": {},
   "outputs": [
    {
     "data": {
      "image/png": "[encoded data removed]",
      "text/plain": [
       "<Figure size 900x600 with 6 Axes>"
      ]
     },
     "metadata": {},
     "output_type": "display_data"
    }
   ],
   "source": [
    "fig, ax = plt.subplots(3, 2, figsize=(9, 6))\n",
    "\n",
    "for i, (p, l) in enumerate(zip(\n",
    "    [models[7][0], models[10][0], models[26][0]],\n",
    "    [\"Model: drop hdd3\", \"Model: drop cdd\", \"Model: drop 6\"]\n",
    ")):\n",
    "    ts_scatter(ax[i,0], ax[i,1], p, l)\n",
    "plt.tight_layout()"
   ]
  },
  {
   "cell_type": "code",
   "execution_count": null,
   "id": "bcbc1293-4d4d-496e-9718-3d5c88bdad6c",
   "metadata": {},
   "outputs": [],
   "source": []
  }
 ],
 "metadata": {
  "kernelspec": {
   "display_name": "Python (pangeo)",
   "language": "python",
   "name": "pangeo"
  },
  "language_info": {
   "codemirror_mode": {
    "name": "ipython",
    "version": 3
   },
   "file_extension": ".py",
   "mimetype": "text/x-python",
   "name": "python",
   "nbconvert_exporter": "python",
   "pygments_lexer": "ipython3",
   "version": "3.10.8"
  }
 },
 "nbformat": 4,
 "nbformat_minor": 5
}
