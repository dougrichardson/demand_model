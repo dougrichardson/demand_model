{
 "cells": [
  {
   "cell_type": "markdown",
   "id": "015c790a-7622-4c89-ba36-5f31527401d9",
   "metadata": {},
   "source": [
    "# Format Europe energy demand"
   ]
  },
  {
   "cell_type": "markdown",
   "id": "315ca8ea-0808-457f-a187-2d216531222b",
   "metadata": {},
   "source": [
    "Data are hourly, country aggregates, from ENTSOE: https://www.entsoe.eu/data/power-stats/"
   ]
  },
  {
   "cell_type": "code",
   "execution_count": 1,
   "id": "b4ec2c57-345f-4909-a66d-35e94b7c1441",
   "metadata": {},
   "outputs": [],
   "source": [
    "import pandas as pd"
   ]
  },
  {
   "cell_type": "code",
   "execution_count": 2,
   "id": "02dc982c-e862-4934-8698-cc4579787069",
   "metadata": {},
   "outputs": [],
   "source": [
    "data_path = \"/g/data/w42/dr6273/work/data/ENTSOE/\""
   ]
  },
  {
   "cell_type": "code",
   "execution_count": 3,
   "id": "5e4d28d4-c3fa-4b2e-9291-1219f902abd4",
   "metadata": {
    "tags": []
   },
   "outputs": [],
   "source": [
    "hourly = pd.read_csv(\n",
    "    data_path+\"Monthly-hourly-load-values_2006-2015.csv\",\n",
    "    skiprows=3,\n",
    "    header=0,\n",
    "    parse_dates={'timestamp': ['Year','Month', \"Day\"]},\n",
    "    index_col=\"timestamp\",\n",
    "    # usecols=[\"Date\", \"Time\", \"NSW1\", \"QLD1\", \"SA1\", \"TAS1\", \"VIC1\"]\n",
    ")"
   ]
  },
  {
   "cell_type": "markdown",
   "id": "d16c8f12-adb3-4bec-addf-1a9a7b6e812b",
   "metadata": {},
   "source": [
    "### Important!\n",
    "\n",
    "Some countries don't have the full range of data. E.g. GB starts in 2010, IE in 2008. So, let's average across regions instead of sum."
   ]
  },
  {
   "cell_type": "markdown",
   "id": "34aef5d0-c601-43c6-b95d-c57ffd4787c9",
   "metadata": {},
   "source": [
    "Sum over hours"
   ]
  },
  {
   "cell_type": "code",
   "execution_count": 15,
   "id": "009c5ea1-22e1-419e-9ea1-3f2597ddd811",
   "metadata": {},
   "outputs": [],
   "source": [
    "daily = hourly[[\"Country\", \"Coverage ratio\"]]"
   ]
  },
  {
   "cell_type": "code",
   "execution_count": 16,
   "id": "cccfdbb6-268a-46d9-bee6-ee130f80af82",
   "metadata": {},
   "outputs": [
    {
     "name": "stderr",
     "output_type": "stream",
     "text": [
      "/jobfs/91215371.gadi-pbs/ipykernel_1843439/65306476.py:1: SettingWithCopyWarning: \n",
      "A value is trying to be set on a copy of a slice from a DataFrame.\n",
      "Try using .loc[row_indexer,col_indexer] = value instead\n",
      "\n",
      "See the caveats in the documentation: https://pandas.pydata.org/pandas-docs/stable/user_guide/indexing.html#returning-a-view-versus-a-copy\n",
      "  daily[\"Unscaled power (MWh/day)\"] = hourly.iloc[:,2:].sum(axis=1)\n"
     ]
    }
   ],
   "source": [
    "daily[\"Unscaled power (MWh/day)\"] = hourly.iloc[:,2:].sum(axis=1)"
   ]
  },
  {
   "cell_type": "markdown",
   "id": "baff6707-89bf-448a-8a53-10883f6cc5d2",
   "metadata": {},
   "source": [
    "According to the data, \"To get the real value, you need to scale them to 100% for coverage ratio less than 100.\""
   ]
  },
  {
   "cell_type": "code",
   "execution_count": 17,
   "id": "66af3bf3-2275-41d8-a406-ec0a835f511b",
   "metadata": {},
   "outputs": [],
   "source": [
    "def scale(ratio, value):\n",
    "    \"\"\"\n",
    "    Scale the value to 100% coverage\n",
    "    \n",
    "    ratio: coverage ration (%)\n",
    "    value: value to scale to 100\n",
    "    \"\"\"\n",
    "    return value / (ratio / 100) "
   ]
  },
  {
   "cell_type": "code",
   "execution_count": 18,
   "id": "b7e52b49-00cb-4b00-91ee-78c311163161",
   "metadata": {},
   "outputs": [
    {
     "name": "stderr",
     "output_type": "stream",
     "text": [
      "/jobfs/91215371.gadi-pbs/ipykernel_1843439/2149852256.py:1: SettingWithCopyWarning: \n",
      "A value is trying to be set on a copy of a slice from a DataFrame.\n",
      "Try using .loc[row_indexer,col_indexer] = value instead\n",
      "\n",
      "See the caveats in the documentation: https://pandas.pydata.org/pandas-docs/stable/user_guide/indexing.html#returning-a-view-versus-a-copy\n",
      "  daily[\"Power (MWh/day)\"] = daily.apply(\n"
     ]
    }
   ],
   "source": [
    "daily[\"Power (MWh/day)\"] = daily.apply(\n",
    "    lambda x : scale(x['Coverage ratio'], x[\"Unscaled power (MWh/day)\"]), axis=1\n",
    ")"
   ]
  },
  {
   "cell_type": "code",
   "execution_count": 19,
   "id": "1156755b-e050-4098-bac5-53c69e328f88",
   "metadata": {},
   "outputs": [],
   "source": [
    "daily = daily.drop(\"Unscaled power (MWh/day)\", axis=1)\n",
    "daily = daily.drop(\"Coverage ratio\", axis=1)"
   ]
  },
  {
   "cell_type": "markdown",
   "id": "ed24ddc9-b80a-4b85-9ba4-77ec426353dc",
   "metadata": {},
   "source": [
    "Only keep the following countries: Austria, Belgium, Denmark, France, Germany, Ireland, Italy, Luxembourg, the Netherlands, Norway, Portugal, Spain, Sweden, Switzerland and the UK."
   ]
  },
  {
   "cell_type": "code",
   "execution_count": 20,
   "id": "814b4ddb-13e5-4850-99c7-c9d0ad6dafc2",
   "metadata": {},
   "outputs": [
    {
     "data": {
      "text/plain": [
       "array(['AT', 'BA', 'BE', 'BG', 'CH', 'CS', 'CY', 'CZ', 'DE', 'DK', 'DK_W',\n",
       "       'EE', 'ES', 'FI', 'FR', 'GB', 'GR', 'HR', 'HU', 'IE', 'IS', 'IT',\n",
       "       'LT', 'LU', 'LV', 'ME', 'MK', 'NI', 'NL', 'NO', 'PL', 'PT', 'RO',\n",
       "       'RS', 'SE', 'SI', 'SK', 'UA_W'], dtype=object)"
      ]
     },
     "execution_count": 20,
     "metadata": {},
     "output_type": "execute_result"
    }
   ],
   "source": [
    "daily[\"Country\"].unique()"
   ]
  },
  {
   "cell_type": "code",
   "execution_count": 21,
   "id": "fa8f3aaa-5d7a-4b57-aba0-cb05006703d4",
   "metadata": {},
   "outputs": [
    {
     "data": {
      "text/plain": [
       "15"
      ]
     },
     "execution_count": 21,
     "metadata": {},
     "output_type": "execute_result"
    }
   ],
   "source": [
    "codes = [\"AT\", \"BE\", \"DK\", \"FR\", \"DE\", \"IE\", \"IT\", \"LU\", \"NL\", \"NO\", \"PT\", \"ES\", \"SE\", \"CH\", \"GB\"]\n",
    "len(codes)"
   ]
  },
  {
   "cell_type": "code",
   "execution_count": 22,
   "id": "4d9c2bb3-3309-4a12-b38a-09c7163226b0",
   "metadata": {},
   "outputs": [],
   "source": [
    "daily = daily.loc[daily[\"Country\"].isin(codes)]"
   ]
  },
  {
   "cell_type": "markdown",
   "id": "5c0b09f7-1840-4f44-8308-f0728df7d951",
   "metadata": {},
   "source": [
    "Average over all countries"
   ]
  },
  {
   "cell_type": "code",
   "execution_count": 23,
   "id": "3297443e-da72-46bf-a5d1-47fe4b3a395b",
   "metadata": {},
   "outputs": [
    {
     "name": "stderr",
     "output_type": "stream",
     "text": [
      "/jobfs/91215371.gadi-pbs/ipykernel_1843439/590818275.py:1: FutureWarning: The default value of numeric_only in DataFrameGroupBy.mean is deprecated. In a future version, numeric_only will default to False. Either specify numeric_only or select only columns which should be valid for the function.\n",
      "  daily = daily.groupby(daily.index).mean()\n"
     ]
    }
   ],
   "source": [
    "daily = daily.groupby(daily.index).mean()"
   ]
  },
  {
   "cell_type": "code",
   "execution_count": 24,
   "id": "0af363e3-8d58-4fb3-a3ed-c646be648500",
   "metadata": {},
   "outputs": [
    {
     "data": {
      "text/html": [
       "<div>\n",
       "<style scoped>\n",
       "    .dataframe tbody tr th:only-of-type {\n",
       "        vertical-align: middle;\n",
       "    }\n",
       "\n",
       "    .dataframe tbody tr th {\n",
       "        vertical-align: top;\n",
       "    }\n",
       "\n",
       "    .dataframe thead th {\n",
       "        text-align: right;\n",
       "    }\n",
       "</style>\n",
       "<table border=\"1\" class=\"dataframe\">\n",
       "  <thead>\n",
       "    <tr style=\"text-align: right;\">\n",
       "      <th></th>\n",
       "      <th>Power (MWh/day)</th>\n",
       "    </tr>\n",
       "    <tr>\n",
       "      <th>timestamp</th>\n",
       "      <th></th>\n",
       "    </tr>\n",
       "  </thead>\n",
       "  <tbody>\n",
       "    <tr>\n",
       "      <th>2006-01-01</th>\n",
       "      <td>455934.325181</td>\n",
       "    </tr>\n",
       "    <tr>\n",
       "      <th>2006-01-02</th>\n",
       "      <td>555819.017459</td>\n",
       "    </tr>\n",
       "    <tr>\n",
       "      <th>2006-01-03</th>\n",
       "      <td>593482.768290</td>\n",
       "    </tr>\n",
       "    <tr>\n",
       "      <th>2006-01-04</th>\n",
       "      <td>604355.591557</td>\n",
       "    </tr>\n",
       "    <tr>\n",
       "      <th>2006-01-05</th>\n",
       "      <td>612865.788839</td>\n",
       "    </tr>\n",
       "  </tbody>\n",
       "</table>\n",
       "</div>"
      ],
      "text/plain": [
       "            Power (MWh/day)\n",
       "timestamp                  \n",
       "2006-01-01    455934.325181\n",
       "2006-01-02    555819.017459\n",
       "2006-01-03    593482.768290\n",
       "2006-01-04    604355.591557\n",
       "2006-01-05    612865.788839"
      ]
     },
     "execution_count": 24,
     "metadata": {},
     "output_type": "execute_result"
    }
   ],
   "source": [
    "daily.head()"
   ]
  },
  {
   "cell_type": "code",
   "execution_count": 25,
   "id": "6b732ff9-169c-40f8-82e9-72be3ef71a4c",
   "metadata": {},
   "outputs": [
    {
     "data": {
      "text/plain": [
       "<AxesSubplot: xlabel='timestamp'>"
      ]
     },
     "execution_count": 25,
     "metadata": {},
     "output_type": "execute_result"
    },
    {
     "data": {
      "image/png": "[encoded data removed]",
      "text/plain": [
       "<Figure size 640x480 with 1 Axes>"
      ]
     },
     "metadata": {},
     "output_type": "display_data"
    }
   ],
   "source": [
    "daily.plot()"
   ]
  },
  {
   "cell_type": "code",
   "execution_count": 26,
   "id": "220887a8-27d8-4014-a397-be284337c26f",
   "metadata": {},
   "outputs": [],
   "source": [
    "daily.to_csv(\n",
    "    data_path+\"EU_daily_avg_demand_2006-2015.csv\"\n",
    ")"
   ]
  },
  {
   "cell_type": "code",
   "execution_count": null,
   "id": "4f145a57-4ae6-488d-b832-119535192084",
   "metadata": {},
   "outputs": [],
   "source": []
  }
 ],
 "metadata": {
  "kernelspec": {
   "display_name": "Python (pangeo)",
   "language": "python",
   "name": "pangeo"
  },
  "language_info": {
   "codemirror_mode": {
    "name": "ipython",
    "version": 3
   },
   "file_extension": ".py",
   "mimetype": "text/x-python",
   "name": "python",
   "nbconvert_exporter": "python",
   "pygments_lexer": "ipython3",
   "version": "3.10.8"
  }
 },
 "nbformat": 4,
 "nbformat_minor": 5
}
