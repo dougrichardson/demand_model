{
 "cells": [
  {
   "cell_type": "markdown",
   "id": "015c790a-7622-4c89-ba36-5f31527401d9",
   "metadata": {},
   "source": [
    "# Format Europe energy demand"
   ]
  },
  {
   "cell_type": "markdown",
   "id": "315ca8ea-0808-457f-a187-2d216531222b",
   "metadata": {},
   "source": [
    "Data are hourly, country aggregates, from ENTSOE: https://www.entsoe.eu/data/power-stats/"
   ]
  },
  {
   "cell_type": "code",
   "execution_count": 152,
   "id": "b4ec2c57-345f-4909-a66d-35e94b7c1441",
   "metadata": {},
   "outputs": [],
   "source": [
    "import pandas as pd\n",
    "import numpy as np"
   ]
  },
  {
   "cell_type": "code",
   "execution_count": 153,
   "id": "02dc982c-e862-4934-8698-cc4579787069",
   "metadata": {},
   "outputs": [],
   "source": [
    "data_path = \"/g/data/w42/dr6273/work/data/ENTSOE/\""
   ]
  },
  {
   "cell_type": "markdown",
   "id": "843d5c01-9025-4ef7-a7db-a6481c95cdeb",
   "metadata": {},
   "source": [
    "### 2006 - 2015 data"
   ]
  },
  {
   "cell_type": "code",
   "execution_count": 154,
   "id": "5e4d28d4-c3fa-4b2e-9291-1219f902abd4",
   "metadata": {
    "tags": []
   },
   "outputs": [],
   "source": [
    "hourly_06_15 = pd.read_csv(\n",
    "    data_path+\"Monthly-hourly-load-values_2006-2015.csv\",\n",
    "    skiprows=3,\n",
    "    header=0,\n",
    "    parse_dates={'timestamp': ['Year','Month', \"Day\"]},\n",
    "    index_col=\"timestamp\",\n",
    ")"
   ]
  },
  {
   "cell_type": "code",
   "execution_count": 155,
   "id": "541698d8-3d2a-4438-8d47-89e452afc693",
   "metadata": {},
   "outputs": [
    {
     "data": {
      "text/html": [
       "<div>\n",
       "<style scoped>\n",
       "    .dataframe tbody tr th:only-of-type {\n",
       "        vertical-align: middle;\n",
       "    }\n",
       "\n",
       "    .dataframe tbody tr th {\n",
       "        vertical-align: top;\n",
       "    }\n",
       "\n",
       "    .dataframe thead th {\n",
       "        text-align: right;\n",
       "    }\n",
       "</style>\n",
       "<table border=\"1\" class=\"dataframe\">\n",
       "  <thead>\n",
       "    <tr style=\"text-align: right;\">\n",
       "      <th></th>\n",
       "      <th>Country</th>\n",
       "      <th>Coverage ratio</th>\n",
       "      <th>0</th>\n",
       "      <th>1</th>\n",
       "      <th>2</th>\n",
       "      <th>3</th>\n",
       "      <th>4</th>\n",
       "      <th>5</th>\n",
       "      <th>6</th>\n",
       "      <th>7</th>\n",
       "      <th>...</th>\n",
       "      <th>14</th>\n",
       "      <th>15</th>\n",
       "      <th>16</th>\n",
       "      <th>17</th>\n",
       "      <th>18</th>\n",
       "      <th>19</th>\n",
       "      <th>20</th>\n",
       "      <th>21</th>\n",
       "      <th>22</th>\n",
       "      <th>23</th>\n",
       "    </tr>\n",
       "    <tr>\n",
       "      <th>timestamp</th>\n",
       "      <th></th>\n",
       "      <th></th>\n",
       "      <th></th>\n",
       "      <th></th>\n",
       "      <th></th>\n",
       "      <th></th>\n",
       "      <th></th>\n",
       "      <th></th>\n",
       "      <th></th>\n",
       "      <th></th>\n",
       "      <th></th>\n",
       "      <th></th>\n",
       "      <th></th>\n",
       "      <th></th>\n",
       "      <th></th>\n",
       "      <th></th>\n",
       "      <th></th>\n",
       "      <th></th>\n",
       "      <th></th>\n",
       "      <th></th>\n",
       "      <th></th>\n",
       "    </tr>\n",
       "  </thead>\n",
       "  <tbody>\n",
       "    <tr>\n",
       "      <th>2006-01-01</th>\n",
       "      <td>AT</td>\n",
       "      <td>100.0</td>\n",
       "      <td>6297.0</td>\n",
       "      <td>6005.0</td>\n",
       "      <td>5743.0</td>\n",
       "      <td>5397.0</td>\n",
       "      <td>5213.0</td>\n",
       "      <td>5190.0</td>\n",
       "      <td>4916.0</td>\n",
       "      <td>5158.0</td>\n",
       "      <td>...</td>\n",
       "      <td>6247.0</td>\n",
       "      <td>6231.0</td>\n",
       "      <td>6603.0</td>\n",
       "      <td>6979.0</td>\n",
       "      <td>7022.0</td>\n",
       "      <td>6930.0</td>\n",
       "      <td>6560.0</td>\n",
       "      <td>6170.0</td>\n",
       "      <td>6501.0</td>\n",
       "      <td>6168.0</td>\n",
       "    </tr>\n",
       "    <tr>\n",
       "      <th>2006-01-02</th>\n",
       "      <td>AT</td>\n",
       "      <td>100.0</td>\n",
       "      <td>5900.0</td>\n",
       "      <td>5643.0</td>\n",
       "      <td>5524.0</td>\n",
       "      <td>5372.0</td>\n",
       "      <td>5481.0</td>\n",
       "      <td>5941.0</td>\n",
       "      <td>6459.0</td>\n",
       "      <td>7352.0</td>\n",
       "      <td>...</td>\n",
       "      <td>8190.0</td>\n",
       "      <td>8168.0</td>\n",
       "      <td>8469.0</td>\n",
       "      <td>8735.0</td>\n",
       "      <td>8617.0</td>\n",
       "      <td>8218.0</td>\n",
       "      <td>7773.0</td>\n",
       "      <td>7247.0</td>\n",
       "      <td>7413.0</td>\n",
       "      <td>6926.0</td>\n",
       "    </tr>\n",
       "    <tr>\n",
       "      <th>2006-01-03</th>\n",
       "      <td>AT</td>\n",
       "      <td>100.0</td>\n",
       "      <td>6483.0</td>\n",
       "      <td>6192.0</td>\n",
       "      <td>5991.0</td>\n",
       "      <td>5773.0</td>\n",
       "      <td>5849.0</td>\n",
       "      <td>6252.0</td>\n",
       "      <td>6685.0</td>\n",
       "      <td>7480.0</td>\n",
       "      <td>...</td>\n",
       "      <td>8112.0</td>\n",
       "      <td>8055.0</td>\n",
       "      <td>8342.0</td>\n",
       "      <td>8670.0</td>\n",
       "      <td>8534.0</td>\n",
       "      <td>8203.0</td>\n",
       "      <td>7745.0</td>\n",
       "      <td>7214.0</td>\n",
       "      <td>7397.0</td>\n",
       "      <td>6981.0</td>\n",
       "    </tr>\n",
       "    <tr>\n",
       "      <th>2006-01-04</th>\n",
       "      <td>AT</td>\n",
       "      <td>100.0</td>\n",
       "      <td>6522.0</td>\n",
       "      <td>6217.0</td>\n",
       "      <td>6027.0</td>\n",
       "      <td>5802.0</td>\n",
       "      <td>5866.0</td>\n",
       "      <td>6289.0</td>\n",
       "      <td>6730.0</td>\n",
       "      <td>7554.0</td>\n",
       "      <td>...</td>\n",
       "      <td>8145.0</td>\n",
       "      <td>8081.0</td>\n",
       "      <td>8331.0</td>\n",
       "      <td>8470.0</td>\n",
       "      <td>8460.0</td>\n",
       "      <td>8185.0</td>\n",
       "      <td>7759.0</td>\n",
       "      <td>7242.0</td>\n",
       "      <td>7441.0</td>\n",
       "      <td>6981.0</td>\n",
       "    </tr>\n",
       "    <tr>\n",
       "      <th>2006-01-05</th>\n",
       "      <td>AT</td>\n",
       "      <td>100.0</td>\n",
       "      <td>6575.0</td>\n",
       "      <td>6237.0</td>\n",
       "      <td>6065.0</td>\n",
       "      <td>5841.0</td>\n",
       "      <td>5887.0</td>\n",
       "      <td>6283.0</td>\n",
       "      <td>6704.0</td>\n",
       "      <td>7491.0</td>\n",
       "      <td>...</td>\n",
       "      <td>8046.0</td>\n",
       "      <td>8042.0</td>\n",
       "      <td>8268.0</td>\n",
       "      <td>8361.0</td>\n",
       "      <td>8453.0</td>\n",
       "      <td>8114.0</td>\n",
       "      <td>7606.0</td>\n",
       "      <td>7139.0</td>\n",
       "      <td>7333.0</td>\n",
       "      <td>6888.0</td>\n",
       "    </tr>\n",
       "    <tr>\n",
       "      <th>...</th>\n",
       "      <td>...</td>\n",
       "      <td>...</td>\n",
       "      <td>...</td>\n",
       "      <td>...</td>\n",
       "      <td>...</td>\n",
       "      <td>...</td>\n",
       "      <td>...</td>\n",
       "      <td>...</td>\n",
       "      <td>...</td>\n",
       "      <td>...</td>\n",
       "      <td>...</td>\n",
       "      <td>...</td>\n",
       "      <td>...</td>\n",
       "      <td>...</td>\n",
       "      <td>...</td>\n",
       "      <td>...</td>\n",
       "      <td>...</td>\n",
       "      <td>...</td>\n",
       "      <td>...</td>\n",
       "      <td>...</td>\n",
       "      <td>...</td>\n",
       "    </tr>\n",
       "    <tr>\n",
       "      <th>2015-12-27</th>\n",
       "      <td>UA_W</td>\n",
       "      <td>100.0</td>\n",
       "      <td>534.0</td>\n",
       "      <td>523.0</td>\n",
       "      <td>511.0</td>\n",
       "      <td>524.0</td>\n",
       "      <td>537.0</td>\n",
       "      <td>566.0</td>\n",
       "      <td>612.0</td>\n",
       "      <td>662.0</td>\n",
       "      <td>...</td>\n",
       "      <td>669.0</td>\n",
       "      <td>719.0</td>\n",
       "      <td>783.0</td>\n",
       "      <td>779.0</td>\n",
       "      <td>771.0</td>\n",
       "      <td>726.0</td>\n",
       "      <td>721.0</td>\n",
       "      <td>663.0</td>\n",
       "      <td>582.0</td>\n",
       "      <td>547.0</td>\n",
       "    </tr>\n",
       "    <tr>\n",
       "      <th>2015-12-28</th>\n",
       "      <td>UA_W</td>\n",
       "      <td>100.0</td>\n",
       "      <td>510.0</td>\n",
       "      <td>521.0</td>\n",
       "      <td>519.0</td>\n",
       "      <td>529.0</td>\n",
       "      <td>551.0</td>\n",
       "      <td>637.0</td>\n",
       "      <td>744.0</td>\n",
       "      <td>803.0</td>\n",
       "      <td>...</td>\n",
       "      <td>805.0</td>\n",
       "      <td>851.0</td>\n",
       "      <td>885.0</td>\n",
       "      <td>875.0</td>\n",
       "      <td>868.0</td>\n",
       "      <td>834.0</td>\n",
       "      <td>782.0</td>\n",
       "      <td>724.0</td>\n",
       "      <td>642.0</td>\n",
       "      <td>601.0</td>\n",
       "    </tr>\n",
       "    <tr>\n",
       "      <th>2015-12-29</th>\n",
       "      <td>UA_W</td>\n",
       "      <td>100.0</td>\n",
       "      <td>550.0</td>\n",
       "      <td>535.0</td>\n",
       "      <td>538.0</td>\n",
       "      <td>545.0</td>\n",
       "      <td>597.0</td>\n",
       "      <td>685.0</td>\n",
       "      <td>762.0</td>\n",
       "      <td>813.0</td>\n",
       "      <td>...</td>\n",
       "      <td>797.0</td>\n",
       "      <td>850.0</td>\n",
       "      <td>905.0</td>\n",
       "      <td>889.0</td>\n",
       "      <td>878.0</td>\n",
       "      <td>847.0</td>\n",
       "      <td>828.0</td>\n",
       "      <td>763.0</td>\n",
       "      <td>692.0</td>\n",
       "      <td>635.0</td>\n",
       "    </tr>\n",
       "    <tr>\n",
       "      <th>2015-12-30</th>\n",
       "      <td>UA_W</td>\n",
       "      <td>100.0</td>\n",
       "      <td>584.0</td>\n",
       "      <td>596.0</td>\n",
       "      <td>586.0</td>\n",
       "      <td>538.0</td>\n",
       "      <td>621.0</td>\n",
       "      <td>690.0</td>\n",
       "      <td>771.0</td>\n",
       "      <td>875.0</td>\n",
       "      <td>...</td>\n",
       "      <td>852.0</td>\n",
       "      <td>907.0</td>\n",
       "      <td>957.0</td>\n",
       "      <td>923.0</td>\n",
       "      <td>907.0</td>\n",
       "      <td>893.0</td>\n",
       "      <td>830.0</td>\n",
       "      <td>807.0</td>\n",
       "      <td>719.0</td>\n",
       "      <td>649.0</td>\n",
       "    </tr>\n",
       "    <tr>\n",
       "      <th>2015-12-31</th>\n",
       "      <td>UA_W</td>\n",
       "      <td>100.0</td>\n",
       "      <td>630.0</td>\n",
       "      <td>616.0</td>\n",
       "      <td>614.0</td>\n",
       "      <td>593.0</td>\n",
       "      <td>646.0</td>\n",
       "      <td>704.0</td>\n",
       "      <td>791.0</td>\n",
       "      <td>864.0</td>\n",
       "      <td>...</td>\n",
       "      <td>858.0</td>\n",
       "      <td>916.0</td>\n",
       "      <td>1000.0</td>\n",
       "      <td>979.0</td>\n",
       "      <td>976.0</td>\n",
       "      <td>927.0</td>\n",
       "      <td>905.0</td>\n",
       "      <td>846.0</td>\n",
       "      <td>784.0</td>\n",
       "      <td>746.0</td>\n",
       "    </tr>\n",
       "  </tbody>\n",
       "</table>\n",
       "<p>116802 rows × 26 columns</p>\n",
       "</div>"
      ],
      "text/plain": [
       "           Country  Coverage ratio       0       1       2       3       4  \\\n",
       "timestamp                                                                    \n",
       "2006-01-01      AT           100.0  6297.0  6005.0  5743.0  5397.0  5213.0   \n",
       "2006-01-02      AT           100.0  5900.0  5643.0  5524.0  5372.0  5481.0   \n",
       "2006-01-03      AT           100.0  6483.0  6192.0  5991.0  5773.0  5849.0   \n",
       "2006-01-04      AT           100.0  6522.0  6217.0  6027.0  5802.0  5866.0   \n",
       "2006-01-05      AT           100.0  6575.0  6237.0  6065.0  5841.0  5887.0   \n",
       "...            ...             ...     ...     ...     ...     ...     ...   \n",
       "2015-12-27    UA_W           100.0   534.0   523.0   511.0   524.0   537.0   \n",
       "2015-12-28    UA_W           100.0   510.0   521.0   519.0   529.0   551.0   \n",
       "2015-12-29    UA_W           100.0   550.0   535.0   538.0   545.0   597.0   \n",
       "2015-12-30    UA_W           100.0   584.0   596.0   586.0   538.0   621.0   \n",
       "2015-12-31    UA_W           100.0   630.0   616.0   614.0   593.0   646.0   \n",
       "\n",
       "                 5       6       7  ...      14      15      16      17  \\\n",
       "timestamp                           ...                                   \n",
       "2006-01-01  5190.0  4916.0  5158.0  ...  6247.0  6231.0  6603.0  6979.0   \n",
       "2006-01-02  5941.0  6459.0  7352.0  ...  8190.0  8168.0  8469.0  8735.0   \n",
       "2006-01-03  6252.0  6685.0  7480.0  ...  8112.0  8055.0  8342.0  8670.0   \n",
       "2006-01-04  6289.0  6730.0  7554.0  ...  8145.0  8081.0  8331.0  8470.0   \n",
       "2006-01-05  6283.0  6704.0  7491.0  ...  8046.0  8042.0  8268.0  8361.0   \n",
       "...            ...     ...     ...  ...     ...     ...     ...     ...   \n",
       "2015-12-27   566.0   612.0   662.0  ...   669.0   719.0   783.0   779.0   \n",
       "2015-12-28   637.0   744.0   803.0  ...   805.0   851.0   885.0   875.0   \n",
       "2015-12-29   685.0   762.0   813.0  ...   797.0   850.0   905.0   889.0   \n",
       "2015-12-30   690.0   771.0   875.0  ...   852.0   907.0   957.0   923.0   \n",
       "2015-12-31   704.0   791.0   864.0  ...   858.0   916.0  1000.0   979.0   \n",
       "\n",
       "                18      19      20      21      22      23  \n",
       "timestamp                                                   \n",
       "2006-01-01  7022.0  6930.0  6560.0  6170.0  6501.0  6168.0  \n",
       "2006-01-02  8617.0  8218.0  7773.0  7247.0  7413.0  6926.0  \n",
       "2006-01-03  8534.0  8203.0  7745.0  7214.0  7397.0  6981.0  \n",
       "2006-01-04  8460.0  8185.0  7759.0  7242.0  7441.0  6981.0  \n",
       "2006-01-05  8453.0  8114.0  7606.0  7139.0  7333.0  6888.0  \n",
       "...            ...     ...     ...     ...     ...     ...  \n",
       "2015-12-27   771.0   726.0   721.0   663.0   582.0   547.0  \n",
       "2015-12-28   868.0   834.0   782.0   724.0   642.0   601.0  \n",
       "2015-12-29   878.0   847.0   828.0   763.0   692.0   635.0  \n",
       "2015-12-30   907.0   893.0   830.0   807.0   719.0   649.0  \n",
       "2015-12-31   976.0   927.0   905.0   846.0   784.0   746.0  \n",
       "\n",
       "[116802 rows x 26 columns]"
      ]
     },
     "execution_count": 155,
     "metadata": {},
     "output_type": "execute_result"
    }
   ],
   "source": [
    "hourly_06_15"
   ]
  },
  {
   "cell_type": "markdown",
   "id": "1ebcd3d6-15b8-4bf3-ba56-b8fc982527d8",
   "metadata": {},
   "source": [
    "### Important!\n",
    "\n",
    "Some countries don't have the full range of data. E.g. GB starts in 2010, IE in 2008. So, let's average across regions instead of sum."
   ]
  },
  {
   "cell_type": "markdown",
   "id": "ec19dab8-4e23-4c5c-9130-366725c6683d",
   "metadata": {},
   "source": [
    "Sum over hours"
   ]
  },
  {
   "cell_type": "code",
   "execution_count": 156,
   "id": "009c5ea1-22e1-419e-9ea1-3f2597ddd811",
   "metadata": {},
   "outputs": [],
   "source": [
    "daily_06_15 = hourly_06_15[[\"Country\", \"Coverage ratio\"]]"
   ]
  },
  {
   "cell_type": "code",
   "execution_count": 157,
   "id": "cccfdbb6-268a-46d9-bee6-ee130f80af82",
   "metadata": {},
   "outputs": [
    {
     "name": "stderr",
     "output_type": "stream",
     "text": [
      "/jobfs/94100169.gadi-pbs/ipykernel_1915945/3514301491.py:1: SettingWithCopyWarning: \n",
      "A value is trying to be set on a copy of a slice from a DataFrame.\n",
      "Try using .loc[row_indexer,col_indexer] = value instead\n",
      "\n",
      "See the caveats in the documentation: https://pandas.pydata.org/pandas-docs/stable/user_guide/indexing.html#returning-a-view-versus-a-copy\n",
      "  daily_06_15[\"Unscaled power (MWh/day)\"] = hourly_06_15.iloc[:,2:].sum(axis=1)\n"
     ]
    }
   ],
   "source": [
    "daily_06_15[\"Unscaled power (MWh/day)\"] = hourly_06_15.iloc[:,2:].sum(axis=1)"
   ]
  },
  {
   "cell_type": "markdown",
   "id": "57dd6784-dc7a-4db3-8401-536994d7d1e1",
   "metadata": {},
   "source": [
    "According to the data, \"To get the real value, you need to scale them to 100% for coverage ratio less than 100.\""
   ]
  },
  {
   "cell_type": "code",
   "execution_count": 158,
   "id": "66af3bf3-2275-41d8-a406-ec0a835f511b",
   "metadata": {},
   "outputs": [],
   "source": [
    "def scale(ratio, value):\n",
    "    \"\"\"\n",
    "    Scale the value to 100% coverage\n",
    "    \n",
    "    ratio: coverage ration (%)\n",
    "    value: value to scale to 100\n",
    "    \"\"\"\n",
    "    return value / (ratio / 100) "
   ]
  },
  {
   "cell_type": "code",
   "execution_count": 159,
   "id": "b7e52b49-00cb-4b00-91ee-78c311163161",
   "metadata": {},
   "outputs": [
    {
     "name": "stderr",
     "output_type": "stream",
     "text": [
      "/jobfs/94100169.gadi-pbs/ipykernel_1915945/1548445770.py:1: SettingWithCopyWarning: \n",
      "A value is trying to be set on a copy of a slice from a DataFrame.\n",
      "Try using .loc[row_indexer,col_indexer] = value instead\n",
      "\n",
      "See the caveats in the documentation: https://pandas.pydata.org/pandas-docs/stable/user_guide/indexing.html#returning-a-view-versus-a-copy\n",
      "  daily_06_15[\"Power (MWh/day)\"] = daily_06_15.apply(\n"
     ]
    }
   ],
   "source": [
    "daily_06_15[\"Power (MWh/day)\"] = daily_06_15.apply(\n",
    "    lambda x : scale(x['Coverage ratio'], x[\"Unscaled power (MWh/day)\"]), axis=1\n",
    ")"
   ]
  },
  {
   "cell_type": "code",
   "execution_count": 160,
   "id": "1156755b-e050-4098-bac5-53c69e328f88",
   "metadata": {},
   "outputs": [],
   "source": [
    "daily_06_15 = daily_06_15.drop(\"Unscaled power (MWh/day)\", axis=1)\n",
    "daily_06_15 = daily_06_15.drop(\"Coverage ratio\", axis=1)"
   ]
  },
  {
   "cell_type": "markdown",
   "id": "be2df0f4-da68-41b8-acbc-a445ac572621",
   "metadata": {},
   "source": [
    "Only keep the following countries: Austria, Belgium, Denmark, France, Germany, Ireland, Italy, Luxembourg, the Netherlands, Norway, Portugal, Spain, Sweden, Switzerland and the UK."
   ]
  },
  {
   "cell_type": "code",
   "execution_count": 161,
   "id": "814b4ddb-13e5-4850-99c7-c9d0ad6dafc2",
   "metadata": {},
   "outputs": [
    {
     "data": {
      "text/plain": [
       "array(['AT', 'BA', 'BE', 'BG', 'CH', 'CS', 'CY', 'CZ', 'DE', 'DK', 'DK_W',\n",
       "       'EE', 'ES', 'FI', 'FR', 'GB', 'GR', 'HR', 'HU', 'IE', 'IS', 'IT',\n",
       "       'LT', 'LU', 'LV', 'ME', 'MK', 'NI', 'NL', 'NO', 'PL', 'PT', 'RO',\n",
       "       'RS', 'SE', 'SI', 'SK', 'UA_W'], dtype=object)"
      ]
     },
     "execution_count": 161,
     "metadata": {},
     "output_type": "execute_result"
    }
   ],
   "source": [
    "daily_06_15[\"Country\"].unique()"
   ]
  },
  {
   "cell_type": "code",
   "execution_count": 162,
   "id": "fa8f3aaa-5d7a-4b57-aba0-cb05006703d4",
   "metadata": {},
   "outputs": [],
   "source": [
    "# codes = [\"AT\", \"BE\", \"DK\", \"FR\", \"DE\", \"IE\", \"IT\", \"LU\", \"NL\", \"NO\", \"PT\", \"ES\", \"SE\", \"CH\", \"GB\"]\n",
    "# len(codes)"
   ]
  },
  {
   "cell_type": "code",
   "execution_count": 163,
   "id": "4d9c2bb3-3309-4a12-b38a-09c7163226b0",
   "metadata": {},
   "outputs": [],
   "source": [
    "# daily = daily.loc[daily[\"Country\"].isin(codes)]"
   ]
  },
  {
   "cell_type": "markdown",
   "id": "92a84bce-9bfa-45b6-b56d-58cde9248062",
   "metadata": {},
   "source": [
    "Years available for each country"
   ]
  },
  {
   "cell_type": "code",
   "execution_count": 164,
   "id": "93c5cdeb-1650-46ba-baae-0fa448d1e555",
   "metadata": {},
   "outputs": [],
   "source": [
    "# set_2006 = [i for i in codes if i not in [\"DK\", \"GB\", \"IE\", \"NO\", \"SE\"]]\n",
    "# set_2006"
   ]
  },
  {
   "cell_type": "markdown",
   "id": "ca1a9605-ba3a-4f2f-a896-0622e3c88521",
   "metadata": {},
   "source": [
    "Average over all countries"
   ]
  },
  {
   "cell_type": "code",
   "execution_count": 165,
   "id": "3297443e-da72-46bf-a5d1-47fe4b3a395b",
   "metadata": {},
   "outputs": [],
   "source": [
    "# daily = daily.groupby(daily.index).mean(numeric_only=True)"
   ]
  },
  {
   "cell_type": "code",
   "execution_count": 166,
   "id": "76a88e71-76f8-44d1-920b-1832ebf75ff5",
   "metadata": {},
   "outputs": [],
   "source": [
    "# daily_2006_2015 = daily.loc[daily[\"Country\"].isin(set_2006)]\n",
    "# daily_2006_2015 = daily_2006_2015.groupby(daily_2006_2015.index).sum(numeric_only=True)"
   ]
  },
  {
   "cell_type": "code",
   "execution_count": 167,
   "id": "400e3b24-6290-4454-ae27-ff4d3af6e8f1",
   "metadata": {},
   "outputs": [],
   "source": [
    "# daily_2010_2015 = daily.loc[daily.index >= \"2010\"]\n",
    "# daily_2010_2015 = daily_2010_2015.groupby(daily_2010_2015.index).sum(numeric_only=True)"
   ]
  },
  {
   "cell_type": "code",
   "execution_count": 168,
   "id": "0af363e3-8d58-4fb3-a3ed-c646be648500",
   "metadata": {},
   "outputs": [],
   "source": [
    "# daily_2006_2015.head()"
   ]
  },
  {
   "cell_type": "code",
   "execution_count": 169,
   "id": "efbd1ac6-251f-4602-99dc-3508e0013c9d",
   "metadata": {},
   "outputs": [],
   "source": [
    "# daily_2010_2015.head()"
   ]
  },
  {
   "cell_type": "code",
   "execution_count": 170,
   "id": "6b732ff9-169c-40f8-82e9-72be3ef71a4c",
   "metadata": {},
   "outputs": [],
   "source": [
    "# daily_2006_2015.plot()"
   ]
  },
  {
   "cell_type": "code",
   "execution_count": 171,
   "id": "f19c66f3-c213-42f3-b9bd-ab2da594e405",
   "metadata": {},
   "outputs": [],
   "source": [
    "# daily_2010_2015.plot()"
   ]
  },
  {
   "cell_type": "code",
   "execution_count": 172,
   "id": "220887a8-27d8-4014-a397-be284337c26f",
   "metadata": {},
   "outputs": [],
   "source": [
    "# daily.to_csv(\n",
    "#     data_path+\"EU_daily_avg_demand_2006-2015.csv\"\n",
    "# )"
   ]
  },
  {
   "cell_type": "code",
   "execution_count": 173,
   "id": "4f145a57-4ae6-488d-b832-119535192084",
   "metadata": {},
   "outputs": [],
   "source": [
    "# daily_2006_2015.to_csv(\n",
    "#     data_path+\"EU_subset_daily_demand_2006-2015.csv\"\n",
    "# )"
   ]
  },
  {
   "cell_type": "code",
   "execution_count": 174,
   "id": "7a6760b9-472c-45c8-af40-bb10f62c91de",
   "metadata": {},
   "outputs": [],
   "source": [
    "# daily_2010_2015.to_csv(\n",
    "#     data_path+\"EU_daily_demand_2010-2015.csv\"\n",
    "# )"
   ]
  },
  {
   "cell_type": "markdown",
   "id": "5d9414be-f2d4-4fb9-abc0-daa5a491ceee",
   "metadata": {},
   "source": [
    "### 2016-19 data"
   ]
  },
  {
   "cell_type": "code",
   "execution_count": 175,
   "id": "97e490ef-8cc5-4542-8133-8cbb24652dbe",
   "metadata": {},
   "outputs": [],
   "source": [
    "def prep_15_18_data():\n",
    "    \"\"\"\n",
    "    Prepare the demand data for 2015-2017 and 2018-2019\n",
    "    \"\"\"\n",
    "    def _load(path):\n",
    "        df = pd.read_csv(path)\n",
    "        df = df.dropna()\n",
    "        df[\"timestamp\"] = df[\"DateShort\"] + df[\"TimeFrom\"]\n",
    "        df[\"timestamp\"] = pd.to_datetime(df[\"timestamp\"], format=\"%d/%m/%Y%H:%M\")\n",
    "        df = df.set_index(\"timestamp\")\n",
    "        df = df[[\"CountryCode\", \"Value_ScaleTo100\"]]\n",
    "        return df\n",
    "    \n",
    "    df_15_17 = _load(data_path+\"MHLV_data-2015-2017.csv\")\n",
    "    df_18_19 = _load(data_path+\"MHLV_data-2018-2019.csv\")\n",
    "    \n",
    "    df = pd.concat([df_15_17, df_18_19])\n",
    "    \n",
    "    df = df.groupby(\"CountryCode\").resample(\"D\").sum(numeric_only=True)\n",
    "    df = df.reset_index(level=\"CountryCode\")\n",
    "    df.columns = [\"Country\", \"Power (MWh/day)\"]\n",
    "    return df"
   ]
  },
  {
   "cell_type": "code",
   "execution_count": 176,
   "id": "0830f7ba-71ac-4122-878f-1f85f6a0914b",
   "metadata": {},
   "outputs": [],
   "source": [
    "df_15_18 = prep_15_18_data()"
   ]
  },
  {
   "cell_type": "code",
   "execution_count": 177,
   "id": "a1d92428-9c61-4cb9-9788-268b09af59b5",
   "metadata": {},
   "outputs": [
    {
     "data": {
      "text/html": [
       "<div>\n",
       "<style scoped>\n",
       "    .dataframe tbody tr th:only-of-type {\n",
       "        vertical-align: middle;\n",
       "    }\n",
       "\n",
       "    .dataframe tbody tr th {\n",
       "        vertical-align: top;\n",
       "    }\n",
       "\n",
       "    .dataframe thead th {\n",
       "        text-align: right;\n",
       "    }\n",
       "</style>\n",
       "<table border=\"1\" class=\"dataframe\">\n",
       "  <thead>\n",
       "    <tr style=\"text-align: right;\">\n",
       "      <th></th>\n",
       "      <th>Country</th>\n",
       "      <th>Power (MWh/day)</th>\n",
       "    </tr>\n",
       "    <tr>\n",
       "      <th>timestamp</th>\n",
       "      <th></th>\n",
       "      <th></th>\n",
       "    </tr>\n",
       "  </thead>\n",
       "  <tbody>\n",
       "    <tr>\n",
       "      <th>2016-12-31</th>\n",
       "      <td>AL</td>\n",
       "      <td>1000.00</td>\n",
       "    </tr>\n",
       "    <tr>\n",
       "      <th>2017-01-01</th>\n",
       "      <td>AL</td>\n",
       "      <td>22320.00</td>\n",
       "    </tr>\n",
       "    <tr>\n",
       "      <th>2017-01-02</th>\n",
       "      <td>AL</td>\n",
       "      <td>22100.00</td>\n",
       "    </tr>\n",
       "    <tr>\n",
       "      <th>2017-01-03</th>\n",
       "      <td>AL</td>\n",
       "      <td>23290.00</td>\n",
       "    </tr>\n",
       "    <tr>\n",
       "      <th>2017-01-04</th>\n",
       "      <td>AL</td>\n",
       "      <td>23980.00</td>\n",
       "    </tr>\n",
       "    <tr>\n",
       "      <th>...</th>\n",
       "      <td>...</td>\n",
       "      <td>...</td>\n",
       "    </tr>\n",
       "    <tr>\n",
       "      <th>2019-07-27</th>\n",
       "      <td>TR</td>\n",
       "      <td>882028.25</td>\n",
       "    </tr>\n",
       "    <tr>\n",
       "      <th>2019-07-28</th>\n",
       "      <td>TR</td>\n",
       "      <td>801862.89</td>\n",
       "    </tr>\n",
       "    <tr>\n",
       "      <th>2019-07-29</th>\n",
       "      <td>TR</td>\n",
       "      <td>935338.60</td>\n",
       "    </tr>\n",
       "    <tr>\n",
       "      <th>2019-07-30</th>\n",
       "      <td>TR</td>\n",
       "      <td>959569.46</td>\n",
       "    </tr>\n",
       "    <tr>\n",
       "      <th>2019-07-31</th>\n",
       "      <td>TR</td>\n",
       "      <td>853925.83</td>\n",
       "    </tr>\n",
       "  </tbody>\n",
       "</table>\n",
       "<p>46187 rows × 2 columns</p>\n",
       "</div>"
      ],
      "text/plain": [
       "           Country  Power (MWh/day)\n",
       "timestamp                          \n",
       "2016-12-31      AL          1000.00\n",
       "2017-01-01      AL         22320.00\n",
       "2017-01-02      AL         22100.00\n",
       "2017-01-03      AL         23290.00\n",
       "2017-01-04      AL         23980.00\n",
       "...            ...              ...\n",
       "2019-07-27      TR        882028.25\n",
       "2019-07-28      TR        801862.89\n",
       "2019-07-29      TR        935338.60\n",
       "2019-07-30      TR        959569.46\n",
       "2019-07-31      TR        853925.83\n",
       "\n",
       "[46187 rows x 2 columns]"
      ]
     },
     "execution_count": 177,
     "metadata": {},
     "output_type": "execute_result"
    }
   ],
   "source": [
    "df_15_18"
   ]
  },
  {
   "cell_type": "markdown",
   "id": "62478337-9943-4566-8e89-b999fbdb5384",
   "metadata": {},
   "source": [
    "### Concat these"
   ]
  },
  {
   "cell_type": "markdown",
   "id": "0dce181b-129d-454f-bd21-6b0b2587b445",
   "metadata": {},
   "source": [
    "Countries common to both time periods"
   ]
  },
  {
   "cell_type": "code",
   "execution_count": 178,
   "id": "b953f421-87b3-48cf-aa98-6ed54cffafb3",
   "metadata": {},
   "outputs": [],
   "source": [
    "common_countries = [i for i in np.unique(daily_06_15[\"Country\"]) if i in np.unique(df_15_18[\"Country\"])]"
   ]
  },
  {
   "cell_type": "code",
   "execution_count": 180,
   "id": "6d9ef9b1-1c21-46b4-9e86-d66efe86c8d6",
   "metadata": {},
   "outputs": [
    {
     "name": "stdout",
     "output_type": "stream",
     "text": [
      "['AT', 'BA', 'BE', 'BG', 'CH', 'CY', 'CZ', 'DE', 'DK', 'EE', 'ES', 'FI', 'FR', 'GB', 'GR', 'HR', 'HU', 'IE', 'IS', 'IT', 'LT', 'LU', 'LV', 'ME', 'MK', 'NL', 'NO', 'PL', 'PT', 'RO', 'RS', 'SE', 'SI', 'SK']\n"
     ]
    }
   ],
   "source": [
    "print(common_countries)"
   ]
  },
  {
   "cell_type": "markdown",
   "id": "28957d61-02a3-4cbf-8736-a200e18fa055",
   "metadata": {},
   "source": [
    "No restriction on starting year"
   ]
  },
  {
   "cell_type": "code",
   "execution_count": 181,
   "id": "5a8732fc-4e6e-4573-923e-e9e85fc8cf7a",
   "metadata": {},
   "outputs": [],
   "source": [
    "df_06_15 = daily_06_15.loc[daily_06_15[\"Country\"].isin(common_countries)]"
   ]
  },
  {
   "cell_type": "code",
   "execution_count": 182,
   "id": "2fdb6d83-d67f-459c-b25d-61f99d6de45d",
   "metadata": {},
   "outputs": [
    {
     "data": {
      "text/plain": [
       "Country\n",
       "AT    (2006-01-01 00:00:00, 2015-12-31 00:00:00)\n",
       "BA    (2006-01-01 00:00:00, 2015-12-31 00:00:00)\n",
       "BE    (2006-01-01 00:00:00, 2015-12-31 00:00:00)\n",
       "BG    (2006-01-01 00:00:00, 2015-12-31 00:00:00)\n",
       "CH    (2006-01-01 00:00:00, 2015-12-31 00:00:00)\n",
       "CY    (2010-01-01 00:00:00, 2015-12-31 00:00:00)\n",
       "CZ    (2006-01-01 00:00:00, 2015-12-31 00:00:00)\n",
       "DE    (2006-01-01 00:00:00, 2015-12-31 00:00:00)\n",
       "DK    (2010-01-01 00:00:00, 2015-12-31 00:00:00)\n",
       "EE    (2009-01-01 00:00:00, 2015-12-31 00:00:00)\n",
       "ES    (2006-01-01 00:00:00, 2015-12-31 00:00:00)\n",
       "FI    (2010-01-01 00:00:00, 2015-12-31 00:00:00)\n",
       "FR    (2006-01-01 00:00:00, 2015-12-31 00:00:00)\n",
       "GB    (2010-01-01 00:00:00, 2015-12-31 00:00:00)\n",
       "GR    (2006-01-01 00:00:00, 2015-12-31 00:00:00)\n",
       "HR    (2006-01-01 00:00:00, 2015-12-31 00:00:00)\n",
       "HU    (2006-01-01 00:00:00, 2015-12-31 00:00:00)\n",
       "IE    (2008-01-01 00:00:00, 2015-12-31 00:00:00)\n",
       "IS    (2008-01-01 00:00:00, 2015-12-31 00:00:00)\n",
       "IT    (2006-01-01 00:00:00, 2015-12-31 00:00:00)\n",
       "LT    (2010-01-01 00:00:00, 2015-12-31 00:00:00)\n",
       "LU    (2006-01-01 00:00:00, 2015-12-31 00:00:00)\n",
       "LV    (2010-01-01 00:00:00, 2015-12-31 00:00:00)\n",
       "ME    (2007-01-01 00:00:00, 2015-12-31 00:00:00)\n",
       "MK    (2006-01-01 00:00:00, 2015-12-31 00:00:00)\n",
       "NL    (2006-01-01 00:00:00, 2015-12-31 00:00:00)\n",
       "NO    (2010-01-01 00:00:00, 2015-12-31 00:00:00)\n",
       "PL    (2006-01-01 00:00:00, 2015-12-31 00:00:00)\n",
       "PT    (2006-01-01 00:00:00, 2015-12-31 00:00:00)\n",
       "RO    (2006-01-01 00:00:00, 2015-12-31 00:00:00)\n",
       "RS    (2007-01-01 00:00:00, 2015-12-31 00:00:00)\n",
       "SE    (2010-01-01 00:00:00, 2015-12-31 00:00:00)\n",
       "SI    (2006-01-01 00:00:00, 2015-12-31 00:00:00)\n",
       "SK    (2006-01-01 00:00:00, 2015-12-31 00:00:00)\n",
       "dtype: object"
      ]
     },
     "execution_count": 182,
     "metadata": {},
     "output_type": "execute_result"
    }
   ],
   "source": [
    "df_06_15.groupby(\"Country\").apply(lambda x: (x.index[0], x.index[-1]))"
   ]
  },
  {
   "cell_type": "markdown",
   "id": "218a1a0d-d885-4f32-bdf4-cc7291245192",
   "metadata": {},
   "source": [
    "But make sure to remove end of 2015 days from 2015-2019 data, and remove 2019 as some countries incomplete"
   ]
  },
  {
   "cell_type": "code",
   "execution_count": 183,
   "id": "5335211a-ecc1-4791-8edd-2da8ecdf2f91",
   "metadata": {},
   "outputs": [],
   "source": [
    "df_15_18 = df_15_18.loc[df_15_18[\"Country\"].isin(common_countries)]"
   ]
  },
  {
   "cell_type": "code",
   "execution_count": 184,
   "id": "ccc7e3a5-ad88-44f2-86fb-a717a3424bc7",
   "metadata": {},
   "outputs": [],
   "source": [
    "df_15_18 = df_15_18[\n",
    "    (df_15_18.index.year > 2015) &\n",
    "    (df_15_18.index.year < 2019)\n",
    "]"
   ]
  },
  {
   "cell_type": "code",
   "execution_count": 185,
   "id": "27b2dcb5-86e2-4f0c-98c3-114adc113b27",
   "metadata": {},
   "outputs": [
    {
     "data": {
      "text/plain": [
       "Country\n",
       "AT    (2016-01-01 00:00:00, 2018-12-31 00:00:00)\n",
       "BA    (2016-01-01 00:00:00, 2018-12-31 00:00:00)\n",
       "BE    (2016-01-01 00:00:00, 2018-12-31 00:00:00)\n",
       "BG    (2016-01-01 00:00:00, 2018-12-31 00:00:00)\n",
       "CH    (2016-01-01 00:00:00, 2018-12-31 00:00:00)\n",
       "CY    (2016-01-01 00:00:00, 2018-12-31 00:00:00)\n",
       "CZ    (2016-01-01 00:00:00, 2018-12-31 00:00:00)\n",
       "DE    (2016-01-01 00:00:00, 2018-12-31 00:00:00)\n",
       "DK    (2016-01-01 00:00:00, 2018-12-31 00:00:00)\n",
       "EE    (2016-01-01 00:00:00, 2018-12-31 00:00:00)\n",
       "ES    (2016-01-01 00:00:00, 2018-12-31 00:00:00)\n",
       "FI    (2016-01-01 00:00:00, 2018-12-31 00:00:00)\n",
       "FR    (2016-01-01 00:00:00, 2018-12-31 00:00:00)\n",
       "GB    (2016-01-01 00:00:00, 2018-12-31 00:00:00)\n",
       "GR    (2016-01-01 00:00:00, 2018-12-31 00:00:00)\n",
       "HR    (2016-01-01 00:00:00, 2018-12-31 00:00:00)\n",
       "HU    (2016-01-01 00:00:00, 2018-12-31 00:00:00)\n",
       "IE    (2016-01-01 00:00:00, 2018-12-31 00:00:00)\n",
       "IS    (2016-01-01 00:00:00, 2018-12-31 00:00:00)\n",
       "IT    (2016-01-01 00:00:00, 2018-12-31 00:00:00)\n",
       "LT    (2016-01-01 00:00:00, 2018-12-31 00:00:00)\n",
       "LU    (2016-01-01 00:00:00, 2018-12-31 00:00:00)\n",
       "LV    (2016-01-01 00:00:00, 2018-12-31 00:00:00)\n",
       "ME    (2016-01-01 00:00:00, 2018-12-31 00:00:00)\n",
       "MK    (2016-01-01 00:00:00, 2018-12-31 00:00:00)\n",
       "NL    (2016-01-01 00:00:00, 2018-12-31 00:00:00)\n",
       "NO    (2016-01-01 00:00:00, 2018-12-31 00:00:00)\n",
       "PL    (2016-01-01 00:00:00, 2018-12-31 00:00:00)\n",
       "PT    (2016-01-01 00:00:00, 2018-12-31 00:00:00)\n",
       "RO    (2016-01-01 00:00:00, 2018-12-31 00:00:00)\n",
       "RS    (2016-01-01 00:00:00, 2018-12-31 00:00:00)\n",
       "SE    (2016-01-01 00:00:00, 2018-12-31 00:00:00)\n",
       "SI    (2016-01-01 00:00:00, 2018-12-31 00:00:00)\n",
       "SK    (2016-01-01 00:00:00, 2018-12-31 00:00:00)\n",
       "dtype: object"
      ]
     },
     "execution_count": 185,
     "metadata": {},
     "output_type": "execute_result"
    }
   ],
   "source": [
    "df_15_18.groupby(\"Country\").apply(lambda x: (x.index[0], x.index[-1]))"
   ]
  },
  {
   "cell_type": "code",
   "execution_count": 186,
   "id": "0ebbf3b6-a9b1-4ea0-b4fc-4f5dc0351d9d",
   "metadata": {},
   "outputs": [
    {
     "data": {
      "text/html": [
       "<div>\n",
       "<style scoped>\n",
       "    .dataframe tbody tr th:only-of-type {\n",
       "        vertical-align: middle;\n",
       "    }\n",
       "\n",
       "    .dataframe tbody tr th {\n",
       "        vertical-align: top;\n",
       "    }\n",
       "\n",
       "    .dataframe thead th {\n",
       "        text-align: right;\n",
       "    }\n",
       "</style>\n",
       "<table border=\"1\" class=\"dataframe\">\n",
       "  <thead>\n",
       "    <tr style=\"text-align: right;\">\n",
       "      <th></th>\n",
       "      <th>Country</th>\n",
       "      <th>Power (MWh/day)</th>\n",
       "    </tr>\n",
       "    <tr>\n",
       "      <th>timestamp</th>\n",
       "      <th></th>\n",
       "      <th></th>\n",
       "    </tr>\n",
       "  </thead>\n",
       "  <tbody>\n",
       "    <tr>\n",
       "      <th>2006-01-01</th>\n",
       "      <td>AT</td>\n",
       "      <td>145451.00</td>\n",
       "    </tr>\n",
       "    <tr>\n",
       "      <th>2006-01-02</th>\n",
       "      <td>AT</td>\n",
       "      <td>176630.00</td>\n",
       "    </tr>\n",
       "    <tr>\n",
       "      <th>2006-01-03</th>\n",
       "      <td>AT</td>\n",
       "      <td>179083.00</td>\n",
       "    </tr>\n",
       "    <tr>\n",
       "      <th>2006-01-04</th>\n",
       "      <td>AT</td>\n",
       "      <td>179265.00</td>\n",
       "    </tr>\n",
       "    <tr>\n",
       "      <th>2006-01-05</th>\n",
       "      <td>AT</td>\n",
       "      <td>178663.00</td>\n",
       "    </tr>\n",
       "    <tr>\n",
       "      <th>...</th>\n",
       "      <td>...</td>\n",
       "      <td>...</td>\n",
       "    </tr>\n",
       "    <tr>\n",
       "      <th>2018-12-27</th>\n",
       "      <td>SK</td>\n",
       "      <td>74862.37</td>\n",
       "    </tr>\n",
       "    <tr>\n",
       "      <th>2018-12-28</th>\n",
       "      <td>SK</td>\n",
       "      <td>74492.39</td>\n",
       "    </tr>\n",
       "    <tr>\n",
       "      <th>2018-12-29</th>\n",
       "      <td>SK</td>\n",
       "      <td>73523.42</td>\n",
       "    </tr>\n",
       "    <tr>\n",
       "      <th>2018-12-30</th>\n",
       "      <td>SK</td>\n",
       "      <td>73486.09</td>\n",
       "    </tr>\n",
       "    <tr>\n",
       "      <th>2018-12-31</th>\n",
       "      <td>SK</td>\n",
       "      <td>73161.09</td>\n",
       "    </tr>\n",
       "  </tbody>\n",
       "</table>\n",
       "<p>145666 rows × 2 columns</p>\n",
       "</div>"
      ],
      "text/plain": [
       "           Country  Power (MWh/day)\n",
       "timestamp                          \n",
       "2006-01-01      AT        145451.00\n",
       "2006-01-02      AT        176630.00\n",
       "2006-01-03      AT        179083.00\n",
       "2006-01-04      AT        179265.00\n",
       "2006-01-05      AT        178663.00\n",
       "...            ...              ...\n",
       "2018-12-27      SK         74862.37\n",
       "2018-12-28      SK         74492.39\n",
       "2018-12-29      SK         73523.42\n",
       "2018-12-30      SK         73486.09\n",
       "2018-12-31      SK         73161.09\n",
       "\n",
       "[145666 rows x 2 columns]"
      ]
     },
     "execution_count": 186,
     "metadata": {},
     "output_type": "execute_result"
    }
   ],
   "source": [
    "pd.concat([\n",
    "    daily_06_15.loc[daily_06_15[\"Country\"].isin(common_countries)],\n",
    "    df_15_18.loc[df_15_18[\"Country\"].isin(common_countries)]\n",
    "])"
   ]
  },
  {
   "cell_type": "code",
   "execution_count": 187,
   "id": "972e62d8-8012-40d1-a75d-f6a93cea7c07",
   "metadata": {},
   "outputs": [],
   "source": [
    "df = pd.concat([df_06_15, df_15_18])"
   ]
  },
  {
   "cell_type": "code",
   "execution_count": 188,
   "id": "b397c7af-e1c1-4bd9-913f-239fd1f4d762",
   "metadata": {},
   "outputs": [],
   "source": [
    "df = df.groupby(\"Country\").resample(\"D\").sum(numeric_only=True).reset_index(level=\"Country\")"
   ]
  },
  {
   "cell_type": "code",
   "execution_count": 189,
   "id": "6ced5566-dace-41ad-846d-29562428ef8b",
   "metadata": {},
   "outputs": [
    {
     "data": {
      "text/html": [
       "<div>\n",
       "<style scoped>\n",
       "    .dataframe tbody tr th:only-of-type {\n",
       "        vertical-align: middle;\n",
       "    }\n",
       "\n",
       "    .dataframe tbody tr th {\n",
       "        vertical-align: top;\n",
       "    }\n",
       "\n",
       "    .dataframe thead th {\n",
       "        text-align: right;\n",
       "    }\n",
       "</style>\n",
       "<table border=\"1\" class=\"dataframe\">\n",
       "  <thead>\n",
       "    <tr style=\"text-align: right;\">\n",
       "      <th></th>\n",
       "      <th>Country</th>\n",
       "      <th>Power (MWh/day)</th>\n",
       "    </tr>\n",
       "    <tr>\n",
       "      <th>timestamp</th>\n",
       "      <th></th>\n",
       "      <th></th>\n",
       "    </tr>\n",
       "  </thead>\n",
       "  <tbody>\n",
       "    <tr>\n",
       "      <th>2006-01-01</th>\n",
       "      <td>AT</td>\n",
       "      <td>145451.00</td>\n",
       "    </tr>\n",
       "    <tr>\n",
       "      <th>2006-01-02</th>\n",
       "      <td>AT</td>\n",
       "      <td>176630.00</td>\n",
       "    </tr>\n",
       "    <tr>\n",
       "      <th>2006-01-03</th>\n",
       "      <td>AT</td>\n",
       "      <td>179083.00</td>\n",
       "    </tr>\n",
       "    <tr>\n",
       "      <th>2006-01-04</th>\n",
       "      <td>AT</td>\n",
       "      <td>179265.00</td>\n",
       "    </tr>\n",
       "    <tr>\n",
       "      <th>2006-01-05</th>\n",
       "      <td>AT</td>\n",
       "      <td>178663.00</td>\n",
       "    </tr>\n",
       "    <tr>\n",
       "      <th>...</th>\n",
       "      <td>...</td>\n",
       "      <td>...</td>\n",
       "    </tr>\n",
       "    <tr>\n",
       "      <th>2018-12-27</th>\n",
       "      <td>SK</td>\n",
       "      <td>74862.37</td>\n",
       "    </tr>\n",
       "    <tr>\n",
       "      <th>2018-12-28</th>\n",
       "      <td>SK</td>\n",
       "      <td>74492.39</td>\n",
       "    </tr>\n",
       "    <tr>\n",
       "      <th>2018-12-29</th>\n",
       "      <td>SK</td>\n",
       "      <td>73523.42</td>\n",
       "    </tr>\n",
       "    <tr>\n",
       "      <th>2018-12-30</th>\n",
       "      <td>SK</td>\n",
       "      <td>73486.09</td>\n",
       "    </tr>\n",
       "    <tr>\n",
       "      <th>2018-12-31</th>\n",
       "      <td>SK</td>\n",
       "      <td>73161.09</td>\n",
       "    </tr>\n",
       "  </tbody>\n",
       "</table>\n",
       "<p>146458 rows × 2 columns</p>\n",
       "</div>"
      ],
      "text/plain": [
       "           Country  Power (MWh/day)\n",
       "timestamp                          \n",
       "2006-01-01      AT        145451.00\n",
       "2006-01-02      AT        176630.00\n",
       "2006-01-03      AT        179083.00\n",
       "2006-01-04      AT        179265.00\n",
       "2006-01-05      AT        178663.00\n",
       "...            ...              ...\n",
       "2018-12-27      SK         74862.37\n",
       "2018-12-28      SK         74492.39\n",
       "2018-12-29      SK         73523.42\n",
       "2018-12-30      SK         73486.09\n",
       "2018-12-31      SK         73161.09\n",
       "\n",
       "[146458 rows x 2 columns]"
      ]
     },
     "execution_count": 189,
     "metadata": {},
     "output_type": "execute_result"
    }
   ],
   "source": [
    "df"
   ]
  },
  {
   "cell_type": "code",
   "execution_count": 190,
   "id": "f109c92a-bd93-4234-b8e9-de95b3c551a4",
   "metadata": {},
   "outputs": [],
   "source": [
    "df.to_csv(\n",
    "    data_path+\"ENTSOE_daily_demand_2006-2018.csv\"\n",
    ")"
   ]
  },
  {
   "cell_type": "code",
   "execution_count": null,
   "id": "31f69a3a-4530-4641-928d-0b58dc120cdc",
   "metadata": {},
   "outputs": [],
   "source": []
  }
 ],
 "metadata": {
  "kernelspec": {
   "display_name": "Python (ml_env)",
   "language": "python",
   "name": "pangeo"
  },
  "language_info": {
   "codemirror_mode": {
    "name": "ipython",
    "version": 3
   },
   "file_extension": ".py",
   "mimetype": "text/x-python",
   "name": "python",
   "nbconvert_exporter": "python",
   "pygments_lexer": "ipython3",
   "version": "3.10.8"
  }
 },
 "nbformat": 4,
 "nbformat_minor": 5
}
