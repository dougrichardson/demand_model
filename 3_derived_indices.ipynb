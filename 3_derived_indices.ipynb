{
 "cells": [
  {
   "cell_type": "markdown",
   "id": "ae9966b9-bd5f-4389-99e3-3f3d334bd2ea",
   "metadata": {},
   "source": [
    "# Derived indices for model predictors"
   ]
  },
  {
   "cell_type": "markdown",
   "id": "7a5a0548-2d21-46fd-ad3b-bdd5f974d92f",
   "metadata": {},
   "source": [
    "Along with some base variables processed in `2_hourly_to_daily.ipynb` (https://are.nci.org.au/node/gadi-cpu-bdw-0054.gadi.nci.org.au/45142/lab/tree/g/data/w42/dr6273/work/demand_model/2_hourly_to_daily.ipynb), here we compute additional predictors that use those variables."
   ]
  },
  {
   "cell_type": "markdown",
   "id": "635509f5-b2d2-4e18-a998-a1783b88baa9",
   "metadata": {},
   "source": [
    "What climate metrics might affect energy demand?"
   ]
  },
  {
   "cell_type": "markdown",
   "id": "5a789823-86ca-4ace-99f2-2db44968a49c",
   "metadata": {},
   "source": [
    "Bloomfield et al (2019) https://rmets.onlinelibrary.wiley.com/doi/10.1002/met.1858 :\n",
    "- Heating Degree Days (based on daily mean T) - Done\n",
    "- Cooling Degree Days (based on daily mean T) - Done"
   ]
  },
  {
   "cell_type": "markdown",
   "id": "69316318-9883-411e-b4ca-83289aa4818d",
   "metadata": {},
   "source": [
    "van der Wiel et al (2019) https://www.sciencedirect.com/science/article/pii/S1364032119302862#sec3 :\n",
    "- Daily mean temperature (two linear regimes combined) - Done."
   ]
  },
  {
   "cell_type": "markdown",
   "id": "8a5cff34-9ef0-4bb6-946a-3eb4dd72c10f",
   "metadata": {},
   "source": [
    "Kang & Reiner (2022) https://www.sciencedirect.com/science/article/pii/S014098832200189X :\n",
    "- This study is from Ireland\n",
    "- Number of sun hours - radiation as proxy, Done\n",
    "- Wind speed - Done\n",
    "- humidity - Done\n",
    "- Rainfall - Done"
   ]
  },
  {
   "cell_type": "markdown",
   "id": "c7af11c7-cda5-4765-b10d-3656e807b1f3",
   "metadata": {},
   "source": [
    "Me spitballing:\n",
    "- Maximum daily T - Done\n",
    "- Minimum daily T - Done\n",
    "- Humidity (daily average and/or overnight?) - daily avg only Done\n",
    "- Heatwaves (e.g. EHF or even just 3-day T?)"
   ]
  },
  {
   "cell_type": "markdown",
   "id": "c8189ad1-ed89-4ad7-9ad2-d071b719804a",
   "metadata": {},
   "source": [
    "Also useful read: https://www.energycouncil.com.au/media/mejc2mfz/extreme-weather-and-electricity-supply.pdf\n",
    "- Heatwaves in multiple states (might not affect demand though, just ability to supply)\n",
    "- Demand peaks in 3rd and 4th day of a heatwave (so 4-day T?)\n",
    "- Cloud cover (affects demand on grid by reducing rooftop solar's ability to smooth the peaks) - radiation as proxy, Done"
   ]
  },
  {
   "cell_type": "markdown",
   "id": "2234608f-ac8e-4a75-9e43-f9b05cc27129",
   "metadata": {},
   "source": [
    "Could also consider:\n",
    "- weighting the selected metrics by population (we eventually want state and national figures)\n",
    "- Detrending everything, including demand."
   ]
  },
  {
   "cell_type": "code",
   "execution_count": 1,
   "id": "19680ff7-5eb2-4989-b8fa-713399585b3f",
   "metadata": {},
   "outputs": [],
   "source": [
    "from dask.distributed import Client,LocalCluster\n",
    "from dask_jobqueue import PBSCluster\n",
    "\n",
    "import bottleneck"
   ]
  },
  {
   "cell_type": "code",
   "execution_count": 67,
   "id": "7bf877e6-825b-44bd-b408-78ac612e8473",
   "metadata": {},
   "outputs": [],
   "source": [
    "client.close()\n",
    "cluster.close()"
   ]
  },
  {
   "cell_type": "code",
   "execution_count": 68,
   "id": "76d23f9e-dad1-4fd6-8e50-718f0e69a54e",
   "metadata": {},
   "outputs": [
    {
     "name": "stderr",
     "output_type": "stream",
     "text": [
      "/g/data/w42/dr6273/apps/conda/envs/pangeo/lib/python3.10/site-packages/distributed/node.py:182: UserWarning: Port 8787 is already in use.\n",
      "Perhaps you already have a cluster running?\n",
      "Hosting the HTTP server on port 43455 instead\n",
      "  warnings.warn(\n"
     ]
    }
   ],
   "source": [
    "# One node on Gadi has 48 cores - try and use up a full node before going to multiple nodes (jobs)\n",
    "\n",
    "walltime = \"04:00:00\"\n",
    "cores = 24\n",
    "memory = str(4 * cores) + \"GB\"\n",
    "\n",
    "cluster = PBSCluster(walltime=str(walltime), cores=cores, memory=str(memory), processes=cores,\n",
    "                                          \n",
    "                     job_extra_directives=[\"-q normal\",\n",
    "                                           \"-P w42\",\n",
    "                                           \"-l ncpus=\"+str(cores),\n",
    "                                           \"-l mem=\"+str(memory),\n",
    "                                           \"-l storage=gdata/w42+gdata/rt52\"],\n",
    "                     local_directory=\"$TMPDIR\",\n",
    "                     job_directives_skip=[\"select\"])"
   ]
  },
  {
   "cell_type": "code",
   "execution_count": 69,
   "id": "051a0c91-3395-4d56-ba4e-9c1f686cd031",
   "metadata": {},
   "outputs": [],
   "source": [
    "cluster.scale(jobs=1)\n",
    "client = Client(cluster)"
   ]
  },
  {
   "cell_type": "code",
   "execution_count": 4,
   "id": "62f69630-f688-4422-892e-0c3a56016809",
   "metadata": {},
   "outputs": [
    {
     "data": {
      "text/html": [
       "<div>\n",
       "    <div style=\"width: 24px; height: 24px; background-color: #e1e1e1; border: 3px solid #9D9D9D; border-radius: 5px; position: absolute;\"> </div>\n",
       "    <div style=\"margin-left: 48px;\">\n",
       "        <h3 style=\"margin-bottom: 0px;\">Client</h3>\n",
       "        <p style=\"color: #9D9D9D; margin-bottom: 0px;\">Client-4f53d6b1-2061-11ee-b3d4-00000768fe80</p>\n",
       "        <table style=\"width: 100%; text-align: left;\">\n",
       "\n",
       "        <tr>\n",
       "        \n",
       "            <td style=\"text-align: left;\"><strong>Connection method:</strong> Cluster object</td>\n",
       "            <td style=\"text-align: left;\"><strong>Cluster type:</strong> dask_jobqueue.PBSCluster</td>\n",
       "        \n",
       "        </tr>\n",
       "\n",
       "        \n",
       "            <tr>\n",
       "                <td style=\"text-align: left;\">\n",
       "                    <strong>Dashboard: </strong> <a href=\"/proxy/36097/status\" target=\"_blank\">/proxy/36097/status</a>\n",
       "                </td>\n",
       "                <td style=\"text-align: left;\"></td>\n",
       "            </tr>\n",
       "        \n",
       "\n",
       "        </table>\n",
       "\n",
       "        \n",
       "            <button style=\"margin-bottom: 12px;\" data-commandlinker-command=\"dask:populate-and-launch-layout\" data-commandlinker-args='{\"url\": \"/proxy/36097/status\" }'>\n",
       "                Launch dashboard in JupyterLab\n",
       "            </button>\n",
       "        \n",
       "\n",
       "        \n",
       "            <details>\n",
       "            <summary style=\"margin-bottom: 20px;\"><h3 style=\"display: inline;\">Cluster Info</h3></summary>\n",
       "            <div class=\"jp-RenderedHTMLCommon jp-RenderedHTML jp-mod-trusted jp-OutputArea-output\">\n",
       "    <div style=\"width: 24px; height: 24px; background-color: #e1e1e1; border: 3px solid #9D9D9D; border-radius: 5px; position: absolute;\">\n",
       "    </div>\n",
       "    <div style=\"margin-left: 48px;\">\n",
       "        <h3 style=\"margin-bottom: 0px; margin-top: 0px;\">PBSCluster</h3>\n",
       "        <p style=\"color: #9D9D9D; margin-bottom: 0px;\">a0d4f182</p>\n",
       "        <table style=\"width: 100%; text-align: left;\">\n",
       "            <tr>\n",
       "                <td style=\"text-align: left;\">\n",
       "                    <strong>Dashboard:</strong> <a href=\"/proxy/36097/status\" target=\"_blank\">/proxy/36097/status</a>\n",
       "                </td>\n",
       "                <td style=\"text-align: left;\">\n",
       "                    <strong>Workers:</strong> 0\n",
       "                </td>\n",
       "            </tr>\n",
       "            <tr>\n",
       "                <td style=\"text-align: left;\">\n",
       "                    <strong>Total threads:</strong> 0\n",
       "                </td>\n",
       "                <td style=\"text-align: left;\">\n",
       "                    <strong>Total memory:</strong> 0 B\n",
       "                </td>\n",
       "            </tr>\n",
       "            \n",
       "        </table>\n",
       "\n",
       "        <details>\n",
       "            <summary style=\"margin-bottom: 20px;\">\n",
       "                <h3 style=\"display: inline;\">Scheduler Info</h3>\n",
       "            </summary>\n",
       "\n",
       "            <div style=\"\">\n",
       "    <div>\n",
       "        <div style=\"width: 24px; height: 24px; background-color: #FFF7E5; border: 3px solid #FF6132; border-radius: 5px; position: absolute;\"> </div>\n",
       "        <div style=\"margin-left: 48px;\">\n",
       "            <h3 style=\"margin-bottom: 0px;\">Scheduler</h3>\n",
       "            <p style=\"color: #9D9D9D; margin-bottom: 0px;\">Scheduler-f7a6dc8c-e9ad-4d33-8d7a-c20896ad2263</p>\n",
       "            <table style=\"width: 100%; text-align: left;\">\n",
       "                <tr>\n",
       "                    <td style=\"text-align: left;\">\n",
       "                        <strong>Comm:</strong> tcp://10.6.121.38:37249\n",
       "                    </td>\n",
       "                    <td style=\"text-align: left;\">\n",
       "                        <strong>Workers:</strong> 0\n",
       "                    </td>\n",
       "                </tr>\n",
       "                <tr>\n",
       "                    <td style=\"text-align: left;\">\n",
       "                        <strong>Dashboard:</strong> <a href=\"/proxy/36097/status\" target=\"_blank\">/proxy/36097/status</a>\n",
       "                    </td>\n",
       "                    <td style=\"text-align: left;\">\n",
       "                        <strong>Total threads:</strong> 0\n",
       "                    </td>\n",
       "                </tr>\n",
       "                <tr>\n",
       "                    <td style=\"text-align: left;\">\n",
       "                        <strong>Started:</strong> Just now\n",
       "                    </td>\n",
       "                    <td style=\"text-align: left;\">\n",
       "                        <strong>Total memory:</strong> 0 B\n",
       "                    </td>\n",
       "                </tr>\n",
       "            </table>\n",
       "        </div>\n",
       "    </div>\n",
       "\n",
       "    <details style=\"margin-left: 48px;\">\n",
       "        <summary style=\"margin-bottom: 20px;\">\n",
       "            <h3 style=\"display: inline;\">Workers</h3>\n",
       "        </summary>\n",
       "\n",
       "        \n",
       "\n",
       "    </details>\n",
       "</div>\n",
       "\n",
       "        </details>\n",
       "    </div>\n",
       "</div>\n",
       "            </details>\n",
       "        \n",
       "\n",
       "    </div>\n",
       "</div>"
      ],
      "text/plain": [
       "<Client: 'tcp://10.6.121.38:37249' processes=0 threads=0, memory=0 B>"
      ]
     },
     "execution_count": 4,
     "metadata": {},
     "output_type": "execute_result"
    }
   ],
   "source": [
    "client"
   ]
  },
  {
   "cell_type": "code",
   "execution_count": 5,
   "id": "40a15913-1b05-40db-989c-aa5e2ec96c90",
   "metadata": {},
   "outputs": [],
   "source": [
    "import xarray as xr\n",
    "import numpy as np"
   ]
  },
  {
   "cell_type": "code",
   "execution_count": 6,
   "id": "1477ae0b-edb7-498c-ab87-c2b1ff36f7e9",
   "metadata": {},
   "outputs": [
    {
     "name": "stdout",
     "output_type": "stream",
     "text": [
      "/g/data/w42/dr6273/work/demand_model\n"
     ]
    }
   ],
   "source": [
    "%cd /g/data/w42/dr6273/work/demand_model//\n",
    "\n",
    "import functions as fn"
   ]
  },
  {
   "cell_type": "code",
   "execution_count": 7,
   "id": "7042723b-a1ab-42e9-aa64-1138315bacb1",
   "metadata": {},
   "outputs": [],
   "source": [
    "era_path = \"/g/data/w42/dr6273/work/data/era5/\""
   ]
  },
  {
   "cell_type": "code",
   "execution_count": 8,
   "id": "0bdf75d1-d21a-4138-a495-2541f33cb583",
   "metadata": {},
   "outputs": [],
   "source": [
    "years = range(1959, 2023)"
   ]
  },
  {
   "cell_type": "markdown",
   "id": "18ae998b-ae03-425b-b93c-420d1b896004",
   "metadata": {},
   "source": [
    "# We need to detrend temperature first"
   ]
  },
  {
   "cell_type": "markdown",
   "id": "e4a47dfb-a690-4603-9dc2-219be59053ff",
   "metadata": {},
   "source": [
    "Need to do some intermediate steps as this is a big operation.\n",
    "\n",
    "1. Open daily netcdf files, then write to zarr with a single time chunk\n",
    "2. Open this zarr store and detrend, then write to a new zarr store"
   ]
  },
  {
   "cell_type": "code",
   "execution_count": 101,
   "id": "637436aa-3088-407b-a171-c1f369192921",
   "metadata": {
    "tags": []
   },
   "outputs": [],
   "source": [
    "# Need to chunk when we open these files!\n",
    "T = xr.open_mfdataset(era_path+\"2t/daily/*.nc\", chunks={\"time\": 50, \"latitude\": 200, \"longitude\": 500})"
   ]
  },
  {
   "cell_type": "code",
   "execution_count": 102,
   "id": "f4792187-2de2-4c6d-b6a5-a48e126646ac",
   "metadata": {},
   "outputs": [],
   "source": [
    "T = T - 273.15"
   ]
  },
  {
   "cell_type": "code",
   "execution_count": 103,
   "id": "9bfdf02a-dc40-4031-908c-3786b6ce8670",
   "metadata": {},
   "outputs": [
    {
     "data": {
      "text/plain": [
       "90.41259867325425"
      ]
     },
     "execution_count": 103,
     "metadata": {},
     "output_type": "execute_result"
    }
   ],
   "source": [
    "T.nbytes / 1024 ** 3"
   ]
  },
  {
   "cell_type": "code",
   "execution_count": 34,
   "id": "ce84e7a2-7c4a-45f1-9449-176081e444ea",
   "metadata": {},
   "outputs": [
    {
     "data": {
      "text/plain": [
       "<xarray.backends.zarr.ZarrStore at 0x14816d30d3f0>"
      ]
     },
     "execution_count": 34,
     "metadata": {},
     "output_type": "execute_result"
    }
   ],
   "source": [
    "T.to_zarr(\n",
    "    \"/scratch/w42/dr6273/tmp/2t_era5_daily_1959-2022.zarr\",\n",
    "    mode=\"w\",\n",
    "    consolidated=True\n",
    ")"
   ]
  },
  {
   "cell_type": "markdown",
   "id": "7960ee19-4b55-4d76-8ed4-7701a3d7262a",
   "metadata": {},
   "source": [
    "## Let's try processing a subregion at a time, and appending"
   ]
  },
  {
   "cell_type": "code",
   "execution_count": 70,
   "id": "89fee29a-0c92-4b59-9fb0-f3d8ed6b0bb0",
   "metadata": {},
   "outputs": [],
   "source": [
    "T = xr.open_zarr(\n",
    "    \"/scratch/w42/dr6273/tmp/2t_era5_daily_1959-2022.zarr\",\n",
    "    consolidated=True,\n",
    ")"
   ]
  },
  {
   "cell_type": "code",
   "execution_count": null,
   "id": "d8fc0cb7-8787-4e33-a88c-37eaa27a3bac",
   "metadata": {},
   "outputs": [],
   "source": [
    "for i in range(len(T[\"latitude\"].values)):\n",
    "    lat = T[\"latitude\"].values[i]\n",
    "    T_ = T.isel(latitude=i)\n",
    "    \n",
    "    # detrended = data - fit + mean\n",
    "    Tmean = T_[\"t2m\"].mean(\"time\")\n",
    "    Tfit = fn.detrend_dim(T_[\"t2m\"], \"time\")\n",
    "    Tdt = Tfit + Tmean\n",
    "    \n",
    "    Tdt = Tdt.to_dataset(name=\"t2m\")\n",
    "    Tdt = Tdt.expand_dims({\"latitude\": [lat]})\n",
    "    Tdt = Tdt.chunk({\"time\": -1, \"longitude\": -1})\n",
    "    \n",
    "    if i == 0:\n",
    "        Tdt.to_zarr(\n",
    "            \"/scratch/w42/dr6273/tmp/2t_detrended_era5_daily_1959-2022_by_lat.zarr\",\n",
    "            mode=\"w\",\n",
    "            consolidated=True\n",
    "        )\n",
    "    else:\n",
    "        Tdt.to_zarr(\n",
    "            \"/scratch/w42/dr6273/tmp/2t_detrended_era5_daily_1959-2022_by_lat.zarr\",\n",
    "            mode=\"a\",\n",
    "            append_dim=\"latitude\",\n",
    "            consolidated=True\n",
    "        )"
   ]
  },
  {
   "cell_type": "code",
   "execution_count": 59,
   "id": "7f94f37a-ce2a-4c51-8726-703f7bff9d17",
   "metadata": {
    "tags": []
   },
   "outputs": [],
   "source": [
    "test = xr.open_zarr(\n",
    "            \"/scratch/w42/dr6273/tmp/2t_detrended_era5_daily_1959-2022_by_lat.zarr\",\n",
    "            consolidated=True\n",
    "        )"
   ]
  },
  {
   "cell_type": "code",
   "execution_count": 66,
   "id": "5a6d914f-9a12-45b1-ae22-e75c7d8b8716",
   "metadata": {},
   "outputs": [
    {
     "data": {
      "text/plain": [
       "[<matplotlib.lines.Line2D at 0x1465f919e500>]"
      ]
     },
     "execution_count": 66,
     "metadata": {},
     "output_type": "execute_result"
    },
    {
     "data": {
      "image/png": "[encoded data removed]",
      "text/plain": [
       "<Figure size 640x480 with 1 Axes>"
      ]
     },
     "metadata": {},
     "output_type": "display_data"
    }
   ],
   "source": [
    "T.isel(latitude=0, longitude=0, time=range(1000)).t2m.plot()\n",
    "test.isel(latitude=0, longitude=0, time=range(1000)).t2m.plot()"
   ]
  },
  {
   "cell_type": "markdown",
   "id": "8608ac76-b781-4265-8fa4-7ba9c34f6a9f",
   "metadata": {},
   "source": [
    "# Cooling degree day\n",
    "\n",
    "Difference between daily average temperature and a comfort-level temperature of 24 degrees C, if the daily average temperature is above 24C.\n",
    "\n",
    "http://www.bom.gov.au/climate/maps/averages/degree-days/#:~:text=The%20heating%20degree%20days%20or,24%20degrees%20Celsius%20for%20cooling."
   ]
  },
  {
   "cell_type": "code",
   "execution_count": 21,
   "id": "620a9eb9-3efe-4d21-bad8-f890a5d56abd",
   "metadata": {},
   "outputs": [],
   "source": [
    "def calc_cdd(T, comfort=24):\n",
    "    \"\"\"\n",
    "    Cooling Degree Day.\n",
    "    \n",
    "    T: array of daily average temperature in degrees Celsius.\n",
    "    \"\"\"\n",
    "    return (T - comfort).where(T > comfort, 0)"
   ]
  },
  {
   "cell_type": "code",
   "execution_count": 22,
   "id": "b9a65d98-bbc3-4c90-a9dd-84ee7e3f9866",
   "metadata": {},
   "outputs": [],
   "source": [
    "cdd = calc_cdd(Tdt)"
   ]
  },
  {
   "cell_type": "code",
   "execution_count": 23,
   "id": "ed594c78-ce6d-4f47-b03c-51309562ff4c",
   "metadata": {},
   "outputs": [],
   "source": [
    "cdd = cdd.rename({\"t2m\": \"cdd\"})"
   ]
  },
  {
   "cell_type": "code",
   "execution_count": 24,
   "id": "1993e241-3126-4db2-8e08-e3fbeeeb7886",
   "metadata": {},
   "outputs": [],
   "source": [
    "# Need to chunk again so that we have uniform chunk sizes\n",
    "cdd = cdd.chunk({\"time\": \"200MB\"})"
   ]
  },
  {
   "cell_type": "code",
   "execution_count": 25,
   "id": "baafd917-d899-4885-80ed-19f0b0d0bf8a",
   "metadata": {},
   "outputs": [
    {
     "ename": "KilledWorker",
     "evalue": "Attempted to run task ('array-8ea378c79563e7a40198e020e5ba425c', 0, 0) on 3 different workers, but all those workers died while running it. The last worker that attempt to run the task was tcp://10.6.77.33:35419. Inspecting worker logs is often a good next step to diagnose what went wrong. For more information see https://distributed.dask.org/en/stable/killed.html.",
     "output_type": "error",
     "traceback": [
      "\u001b[0;31m---------------------------------------------------------------------------\u001b[0m",
      "\u001b[0;31mKilledWorker\u001b[0m                              Traceback (most recent call last)",
      "Cell \u001b[0;32mIn[25], line 1\u001b[0m\n\u001b[0;32m----> 1\u001b[0m \u001b[43mcdd\u001b[49m\u001b[38;5;241;43m.\u001b[39;49m\u001b[43mto_zarr\u001b[49m\u001b[43m(\u001b[49m\n\u001b[1;32m      2\u001b[0m \u001b[43m    \u001b[49m\u001b[43mera_path\u001b[49m\u001b[43m \u001b[49m\u001b[38;5;241;43m+\u001b[39;49m\u001b[43m \u001b[49m\u001b[38;5;124;43m\"\u001b[39;49m\u001b[38;5;124;43m/derived/cdd_24_era5_daily_1959-2022.zarr\u001b[39;49m\u001b[38;5;124;43m\"\u001b[39;49m\u001b[43m,\u001b[49m\n\u001b[1;32m      3\u001b[0m \u001b[43m    \u001b[49m\u001b[43mmode\u001b[49m\u001b[38;5;241;43m=\u001b[39;49m\u001b[38;5;124;43m\"\u001b[39;49m\u001b[38;5;124;43mw\u001b[39;49m\u001b[38;5;124;43m\"\u001b[39;49m\u001b[43m,\u001b[49m\n\u001b[1;32m      4\u001b[0m \u001b[43m    \u001b[49m\u001b[43mconsolidated\u001b[49m\u001b[38;5;241;43m=\u001b[39;49m\u001b[38;5;28;43;01mTrue\u001b[39;49;00m\n\u001b[1;32m      5\u001b[0m \u001b[43m)\u001b[49m\n",
      "File \u001b[0;32m/g/data/w42/dr6273/apps/conda/envs/pangeo/lib/python3.10/site-packages/xarray/core/dataset.py:2091\u001b[0m, in \u001b[0;36mDataset.to_zarr\u001b[0;34m(self, store, chunk_store, mode, synchronizer, group, encoding, compute, consolidated, append_dim, region, safe_chunks, storage_options, zarr_version)\u001b[0m\n\u001b[1;32m   1974\u001b[0m \u001b[38;5;250m\u001b[39m\u001b[38;5;124;03m\"\"\"Write dataset contents to a zarr group.\u001b[39;00m\n\u001b[1;32m   1975\u001b[0m \n\u001b[1;32m   1976\u001b[0m \u001b[38;5;124;03mZarr chunks are determined in the following way:\u001b[39;00m\n\u001b[0;32m   (...)\u001b[0m\n\u001b[1;32m   2087\u001b[0m \u001b[38;5;124;03m    The I/O user guide, with more details and examples.\u001b[39;00m\n\u001b[1;32m   2088\u001b[0m \u001b[38;5;124;03m\"\"\"\u001b[39;00m\n\u001b[1;32m   2089\u001b[0m \u001b[38;5;28;01mfrom\u001b[39;00m \u001b[38;5;21;01m.\u001b[39;00m\u001b[38;5;21;01m.\u001b[39;00m\u001b[38;5;21;01mbackends\u001b[39;00m\u001b[38;5;21;01m.\u001b[39;00m\u001b[38;5;21;01mapi\u001b[39;00m \u001b[38;5;28;01mimport\u001b[39;00m to_zarr\n\u001b[0;32m-> 2091\u001b[0m \u001b[38;5;28;01mreturn\u001b[39;00m \u001b[43mto_zarr\u001b[49m\u001b[43m(\u001b[49m\u001b[43m  \u001b[49m\u001b[38;5;66;43;03m# type: ignore\u001b[39;49;00m\n\u001b[1;32m   2092\u001b[0m \u001b[43m    \u001b[49m\u001b[38;5;28;43mself\u001b[39;49m\u001b[43m,\u001b[49m\n\u001b[1;32m   2093\u001b[0m \u001b[43m    \u001b[49m\u001b[43mstore\u001b[49m\u001b[38;5;241;43m=\u001b[39;49m\u001b[43mstore\u001b[49m\u001b[43m,\u001b[49m\n\u001b[1;32m   2094\u001b[0m \u001b[43m    \u001b[49m\u001b[43mchunk_store\u001b[49m\u001b[38;5;241;43m=\u001b[39;49m\u001b[43mchunk_store\u001b[49m\u001b[43m,\u001b[49m\n\u001b[1;32m   2095\u001b[0m \u001b[43m    \u001b[49m\u001b[43mstorage_options\u001b[49m\u001b[38;5;241;43m=\u001b[39;49m\u001b[43mstorage_options\u001b[49m\u001b[43m,\u001b[49m\n\u001b[1;32m   2096\u001b[0m \u001b[43m    \u001b[49m\u001b[43mmode\u001b[49m\u001b[38;5;241;43m=\u001b[39;49m\u001b[43mmode\u001b[49m\u001b[43m,\u001b[49m\n\u001b[1;32m   2097\u001b[0m \u001b[43m    \u001b[49m\u001b[43msynchronizer\u001b[49m\u001b[38;5;241;43m=\u001b[39;49m\u001b[43msynchronizer\u001b[49m\u001b[43m,\u001b[49m\n\u001b[1;32m   2098\u001b[0m \u001b[43m    \u001b[49m\u001b[43mgroup\u001b[49m\u001b[38;5;241;43m=\u001b[39;49m\u001b[43mgroup\u001b[49m\u001b[43m,\u001b[49m\n\u001b[1;32m   2099\u001b[0m \u001b[43m    \u001b[49m\u001b[43mencoding\u001b[49m\u001b[38;5;241;43m=\u001b[39;49m\u001b[43mencoding\u001b[49m\u001b[43m,\u001b[49m\n\u001b[1;32m   2100\u001b[0m \u001b[43m    \u001b[49m\u001b[43mcompute\u001b[49m\u001b[38;5;241;43m=\u001b[39;49m\u001b[43mcompute\u001b[49m\u001b[43m,\u001b[49m\n\u001b[1;32m   2101\u001b[0m \u001b[43m    \u001b[49m\u001b[43mconsolidated\u001b[49m\u001b[38;5;241;43m=\u001b[39;49m\u001b[43mconsolidated\u001b[49m\u001b[43m,\u001b[49m\n\u001b[1;32m   2102\u001b[0m \u001b[43m    \u001b[49m\u001b[43mappend_dim\u001b[49m\u001b[38;5;241;43m=\u001b[39;49m\u001b[43mappend_dim\u001b[49m\u001b[43m,\u001b[49m\n\u001b[1;32m   2103\u001b[0m \u001b[43m    \u001b[49m\u001b[43mregion\u001b[49m\u001b[38;5;241;43m=\u001b[39;49m\u001b[43mregion\u001b[49m\u001b[43m,\u001b[49m\n\u001b[1;32m   2104\u001b[0m \u001b[43m    \u001b[49m\u001b[43msafe_chunks\u001b[49m\u001b[38;5;241;43m=\u001b[39;49m\u001b[43msafe_chunks\u001b[49m\u001b[43m,\u001b[49m\n\u001b[1;32m   2105\u001b[0m \u001b[43m    \u001b[49m\u001b[43mzarr_version\u001b[49m\u001b[38;5;241;43m=\u001b[39;49m\u001b[43mzarr_version\u001b[49m\u001b[43m,\u001b[49m\n\u001b[1;32m   2106\u001b[0m \u001b[43m\u001b[49m\u001b[43m)\u001b[49m\n",
      "File \u001b[0;32m/g/data/w42/dr6273/apps/conda/envs/pangeo/lib/python3.10/site-packages/xarray/backends/api.py:1670\u001b[0m, in \u001b[0;36mto_zarr\u001b[0;34m(dataset, store, chunk_store, mode, synchronizer, group, encoding, compute, consolidated, append_dim, region, safe_chunks, storage_options, zarr_version)\u001b[0m\n\u001b[1;32m   1668\u001b[0m \u001b[38;5;66;03m# TODO: figure out how to properly handle unlimited_dims\u001b[39;00m\n\u001b[1;32m   1669\u001b[0m dump_to_store(dataset, zstore, writer, encoding\u001b[38;5;241m=\u001b[39mencoding)\n\u001b[0;32m-> 1670\u001b[0m writes \u001b[38;5;241m=\u001b[39m \u001b[43mwriter\u001b[49m\u001b[38;5;241;43m.\u001b[39;49m\u001b[43msync\u001b[49m\u001b[43m(\u001b[49m\u001b[43mcompute\u001b[49m\u001b[38;5;241;43m=\u001b[39;49m\u001b[43mcompute\u001b[49m\u001b[43m)\u001b[49m\n\u001b[1;32m   1672\u001b[0m \u001b[38;5;28;01mif\u001b[39;00m compute:\n\u001b[1;32m   1673\u001b[0m     _finalize_store(writes, zstore)\n",
      "File \u001b[0;32m/g/data/w42/dr6273/apps/conda/envs/pangeo/lib/python3.10/site-packages/xarray/backends/common.py:171\u001b[0m, in \u001b[0;36mArrayWriter.sync\u001b[0;34m(self, compute)\u001b[0m\n\u001b[1;32m    165\u001b[0m \u001b[38;5;28;01mimport\u001b[39;00m \u001b[38;5;21;01mdask\u001b[39;00m\u001b[38;5;21;01m.\u001b[39;00m\u001b[38;5;21;01marray\u001b[39;00m \u001b[38;5;28;01mas\u001b[39;00m \u001b[38;5;21;01mda\u001b[39;00m\n\u001b[1;32m    167\u001b[0m \u001b[38;5;66;03m# TODO: consider wrapping targets with dask.delayed, if this makes\u001b[39;00m\n\u001b[1;32m    168\u001b[0m \u001b[38;5;66;03m# for any discernible difference in perforance, e.g.,\u001b[39;00m\n\u001b[1;32m    169\u001b[0m \u001b[38;5;66;03m# targets = [dask.delayed(t) for t in self.targets]\u001b[39;00m\n\u001b[0;32m--> 171\u001b[0m delayed_store \u001b[38;5;241m=\u001b[39m \u001b[43mda\u001b[49m\u001b[38;5;241;43m.\u001b[39;49m\u001b[43mstore\u001b[49m\u001b[43m(\u001b[49m\n\u001b[1;32m    172\u001b[0m \u001b[43m    \u001b[49m\u001b[38;5;28;43mself\u001b[39;49m\u001b[38;5;241;43m.\u001b[39;49m\u001b[43msources\u001b[49m\u001b[43m,\u001b[49m\n\u001b[1;32m    173\u001b[0m \u001b[43m    \u001b[49m\u001b[38;5;28;43mself\u001b[39;49m\u001b[38;5;241;43m.\u001b[39;49m\u001b[43mtargets\u001b[49m\u001b[43m,\u001b[49m\n\u001b[1;32m    174\u001b[0m \u001b[43m    \u001b[49m\u001b[43mlock\u001b[49m\u001b[38;5;241;43m=\u001b[39;49m\u001b[38;5;28;43mself\u001b[39;49m\u001b[38;5;241;43m.\u001b[39;49m\u001b[43mlock\u001b[49m\u001b[43m,\u001b[49m\n\u001b[1;32m    175\u001b[0m \u001b[43m    \u001b[49m\u001b[43mcompute\u001b[49m\u001b[38;5;241;43m=\u001b[39;49m\u001b[43mcompute\u001b[49m\u001b[43m,\u001b[49m\n\u001b[1;32m    176\u001b[0m \u001b[43m    \u001b[49m\u001b[43mflush\u001b[49m\u001b[38;5;241;43m=\u001b[39;49m\u001b[38;5;28;43;01mTrue\u001b[39;49;00m\u001b[43m,\u001b[49m\n\u001b[1;32m    177\u001b[0m \u001b[43m    \u001b[49m\u001b[43mregions\u001b[49m\u001b[38;5;241;43m=\u001b[39;49m\u001b[38;5;28;43mself\u001b[39;49m\u001b[38;5;241;43m.\u001b[39;49m\u001b[43mregions\u001b[49m\u001b[43m,\u001b[49m\n\u001b[1;32m    178\u001b[0m \u001b[43m\u001b[49m\u001b[43m)\u001b[49m\n\u001b[1;32m    179\u001b[0m \u001b[38;5;28mself\u001b[39m\u001b[38;5;241m.\u001b[39msources \u001b[38;5;241m=\u001b[39m []\n\u001b[1;32m    180\u001b[0m \u001b[38;5;28mself\u001b[39m\u001b[38;5;241m.\u001b[39mtargets \u001b[38;5;241m=\u001b[39m []\n",
      "File \u001b[0;32m/g/data/w42/dr6273/apps/conda/envs/pangeo/lib/python3.10/site-packages/dask/array/core.py:1236\u001b[0m, in \u001b[0;36mstore\u001b[0;34m(***failed resolving arguments***)\u001b[0m\n\u001b[1;32m   1234\u001b[0m \u001b[38;5;28;01melif\u001b[39;00m compute:\n\u001b[1;32m   1235\u001b[0m     store_dsk \u001b[38;5;241m=\u001b[39m HighLevelGraph(layers, dependencies)\n\u001b[0;32m-> 1236\u001b[0m     \u001b[43mcompute_as_if_collection\u001b[49m\u001b[43m(\u001b[49m\u001b[43mArray\u001b[49m\u001b[43m,\u001b[49m\u001b[43m \u001b[49m\u001b[43mstore_dsk\u001b[49m\u001b[43m,\u001b[49m\u001b[43m \u001b[49m\u001b[43mmap_keys\u001b[49m\u001b[43m,\u001b[49m\u001b[43m \u001b[49m\u001b[38;5;241;43m*\u001b[39;49m\u001b[38;5;241;43m*\u001b[39;49m\u001b[43mkwargs\u001b[49m\u001b[43m)\u001b[49m\n\u001b[1;32m   1237\u001b[0m     \u001b[38;5;28;01mreturn\u001b[39;00m \u001b[38;5;28;01mNone\u001b[39;00m\n\u001b[1;32m   1239\u001b[0m \u001b[38;5;28;01melse\u001b[39;00m:\n",
      "File \u001b[0;32m/g/data/w42/dr6273/apps/conda/envs/pangeo/lib/python3.10/site-packages/dask/base.py:342\u001b[0m, in \u001b[0;36mcompute_as_if_collection\u001b[0;34m(cls, dsk, keys, scheduler, get, **kwargs)\u001b[0m\n\u001b[1;32m    340\u001b[0m schedule \u001b[38;5;241m=\u001b[39m get_scheduler(scheduler\u001b[38;5;241m=\u001b[39mscheduler, \u001b[38;5;28mcls\u001b[39m\u001b[38;5;241m=\u001b[39m\u001b[38;5;28mcls\u001b[39m, get\u001b[38;5;241m=\u001b[39mget)\n\u001b[1;32m    341\u001b[0m dsk2 \u001b[38;5;241m=\u001b[39m optimization_function(\u001b[38;5;28mcls\u001b[39m)(dsk, keys, \u001b[38;5;241m*\u001b[39m\u001b[38;5;241m*\u001b[39mkwargs)\n\u001b[0;32m--> 342\u001b[0m \u001b[38;5;28;01mreturn\u001b[39;00m \u001b[43mschedule\u001b[49m\u001b[43m(\u001b[49m\u001b[43mdsk2\u001b[49m\u001b[43m,\u001b[49m\u001b[43m \u001b[49m\u001b[43mkeys\u001b[49m\u001b[43m,\u001b[49m\u001b[43m \u001b[49m\u001b[38;5;241;43m*\u001b[39;49m\u001b[38;5;241;43m*\u001b[39;49m\u001b[43mkwargs\u001b[49m\u001b[43m)\u001b[49m\n",
      "File \u001b[0;32m/g/data/w42/dr6273/apps/conda/envs/pangeo/lib/python3.10/site-packages/distributed/client.py:3125\u001b[0m, in \u001b[0;36mClient.get\u001b[0;34m(self, dsk, keys, workers, allow_other_workers, resources, sync, asynchronous, direct, retries, priority, fifo_timeout, actors, **kwargs)\u001b[0m\n\u001b[1;32m   3123\u001b[0m         should_rejoin \u001b[38;5;241m=\u001b[39m \u001b[38;5;28;01mFalse\u001b[39;00m\n\u001b[1;32m   3124\u001b[0m \u001b[38;5;28;01mtry\u001b[39;00m:\n\u001b[0;32m-> 3125\u001b[0m     results \u001b[38;5;241m=\u001b[39m \u001b[38;5;28;43mself\u001b[39;49m\u001b[38;5;241;43m.\u001b[39;49m\u001b[43mgather\u001b[49m\u001b[43m(\u001b[49m\u001b[43mpacked\u001b[49m\u001b[43m,\u001b[49m\u001b[43m \u001b[49m\u001b[43masynchronous\u001b[49m\u001b[38;5;241;43m=\u001b[39;49m\u001b[43masynchronous\u001b[49m\u001b[43m,\u001b[49m\u001b[43m \u001b[49m\u001b[43mdirect\u001b[49m\u001b[38;5;241;43m=\u001b[39;49m\u001b[43mdirect\u001b[49m\u001b[43m)\u001b[49m\n\u001b[1;32m   3126\u001b[0m \u001b[38;5;28;01mfinally\u001b[39;00m:\n\u001b[1;32m   3127\u001b[0m     \u001b[38;5;28;01mfor\u001b[39;00m f \u001b[38;5;129;01min\u001b[39;00m futures\u001b[38;5;241m.\u001b[39mvalues():\n",
      "File \u001b[0;32m/g/data/w42/dr6273/apps/conda/envs/pangeo/lib/python3.10/site-packages/distributed/client.py:2294\u001b[0m, in \u001b[0;36mClient.gather\u001b[0;34m(self, futures, errors, direct, asynchronous)\u001b[0m\n\u001b[1;32m   2292\u001b[0m \u001b[38;5;28;01melse\u001b[39;00m:\n\u001b[1;32m   2293\u001b[0m     local_worker \u001b[38;5;241m=\u001b[39m \u001b[38;5;28;01mNone\u001b[39;00m\n\u001b[0;32m-> 2294\u001b[0m \u001b[38;5;28;01mreturn\u001b[39;00m \u001b[38;5;28;43mself\u001b[39;49m\u001b[38;5;241;43m.\u001b[39;49m\u001b[43msync\u001b[49m\u001b[43m(\u001b[49m\n\u001b[1;32m   2295\u001b[0m \u001b[43m    \u001b[49m\u001b[38;5;28;43mself\u001b[39;49m\u001b[38;5;241;43m.\u001b[39;49m\u001b[43m_gather\u001b[49m\u001b[43m,\u001b[49m\n\u001b[1;32m   2296\u001b[0m \u001b[43m    \u001b[49m\u001b[43mfutures\u001b[49m\u001b[43m,\u001b[49m\n\u001b[1;32m   2297\u001b[0m \u001b[43m    \u001b[49m\u001b[43merrors\u001b[49m\u001b[38;5;241;43m=\u001b[39;49m\u001b[43merrors\u001b[49m\u001b[43m,\u001b[49m\n\u001b[1;32m   2298\u001b[0m \u001b[43m    \u001b[49m\u001b[43mdirect\u001b[49m\u001b[38;5;241;43m=\u001b[39;49m\u001b[43mdirect\u001b[49m\u001b[43m,\u001b[49m\n\u001b[1;32m   2299\u001b[0m \u001b[43m    \u001b[49m\u001b[43mlocal_worker\u001b[49m\u001b[38;5;241;43m=\u001b[39;49m\u001b[43mlocal_worker\u001b[49m\u001b[43m,\u001b[49m\n\u001b[1;32m   2300\u001b[0m \u001b[43m    \u001b[49m\u001b[43masynchronous\u001b[49m\u001b[38;5;241;43m=\u001b[39;49m\u001b[43masynchronous\u001b[49m\u001b[43m,\u001b[49m\n\u001b[1;32m   2301\u001b[0m \u001b[43m\u001b[49m\u001b[43m)\u001b[49m\n",
      "File \u001b[0;32m/g/data/w42/dr6273/apps/conda/envs/pangeo/lib/python3.10/site-packages/distributed/utils.py:339\u001b[0m, in \u001b[0;36mSyncMethodMixin.sync\u001b[0;34m(self, func, asynchronous, callback_timeout, *args, **kwargs)\u001b[0m\n\u001b[1;32m    337\u001b[0m     \u001b[38;5;28;01mreturn\u001b[39;00m future\n\u001b[1;32m    338\u001b[0m \u001b[38;5;28;01melse\u001b[39;00m:\n\u001b[0;32m--> 339\u001b[0m     \u001b[38;5;28;01mreturn\u001b[39;00m \u001b[43msync\u001b[49m\u001b[43m(\u001b[49m\n\u001b[1;32m    340\u001b[0m \u001b[43m        \u001b[49m\u001b[38;5;28;43mself\u001b[39;49m\u001b[38;5;241;43m.\u001b[39;49m\u001b[43mloop\u001b[49m\u001b[43m,\u001b[49m\u001b[43m \u001b[49m\u001b[43mfunc\u001b[49m\u001b[43m,\u001b[49m\u001b[43m \u001b[49m\u001b[38;5;241;43m*\u001b[39;49m\u001b[43margs\u001b[49m\u001b[43m,\u001b[49m\u001b[43m \u001b[49m\u001b[43mcallback_timeout\u001b[49m\u001b[38;5;241;43m=\u001b[39;49m\u001b[43mcallback_timeout\u001b[49m\u001b[43m,\u001b[49m\u001b[43m \u001b[49m\u001b[38;5;241;43m*\u001b[39;49m\u001b[38;5;241;43m*\u001b[39;49m\u001b[43mkwargs\u001b[49m\n\u001b[1;32m    341\u001b[0m \u001b[43m    \u001b[49m\u001b[43m)\u001b[49m\n",
      "File \u001b[0;32m/g/data/w42/dr6273/apps/conda/envs/pangeo/lib/python3.10/site-packages/distributed/utils.py:406\u001b[0m, in \u001b[0;36msync\u001b[0;34m(loop, func, callback_timeout, *args, **kwargs)\u001b[0m\n\u001b[1;32m    404\u001b[0m \u001b[38;5;28;01mif\u001b[39;00m error:\n\u001b[1;32m    405\u001b[0m     typ, exc, tb \u001b[38;5;241m=\u001b[39m error\n\u001b[0;32m--> 406\u001b[0m     \u001b[38;5;28;01mraise\u001b[39;00m exc\u001b[38;5;241m.\u001b[39mwith_traceback(tb)\n\u001b[1;32m    407\u001b[0m \u001b[38;5;28;01melse\u001b[39;00m:\n\u001b[1;32m    408\u001b[0m     \u001b[38;5;28;01mreturn\u001b[39;00m result\n",
      "File \u001b[0;32m/g/data/w42/dr6273/apps/conda/envs/pangeo/lib/python3.10/site-packages/distributed/utils.py:379\u001b[0m, in \u001b[0;36msync.<locals>.f\u001b[0;34m()\u001b[0m\n\u001b[1;32m    377\u001b[0m         future \u001b[38;5;241m=\u001b[39m asyncio\u001b[38;5;241m.\u001b[39mwait_for(future, callback_timeout)\n\u001b[1;32m    378\u001b[0m     future \u001b[38;5;241m=\u001b[39m asyncio\u001b[38;5;241m.\u001b[39mensure_future(future)\n\u001b[0;32m--> 379\u001b[0m     result \u001b[38;5;241m=\u001b[39m \u001b[38;5;28;01myield\u001b[39;00m future\n\u001b[1;32m    380\u001b[0m \u001b[38;5;28;01mexcept\u001b[39;00m \u001b[38;5;167;01mException\u001b[39;00m:\n\u001b[1;32m    381\u001b[0m     error \u001b[38;5;241m=\u001b[39m sys\u001b[38;5;241m.\u001b[39mexc_info()\n",
      "File \u001b[0;32m/g/data/w42/dr6273/apps/conda/envs/pangeo/lib/python3.10/site-packages/tornado/gen.py:769\u001b[0m, in \u001b[0;36mRunner.run\u001b[0;34m(self)\u001b[0m\n\u001b[1;32m    766\u001b[0m exc_info \u001b[38;5;241m=\u001b[39m \u001b[38;5;28;01mNone\u001b[39;00m\n\u001b[1;32m    768\u001b[0m \u001b[38;5;28;01mtry\u001b[39;00m:\n\u001b[0;32m--> 769\u001b[0m     value \u001b[38;5;241m=\u001b[39m \u001b[43mfuture\u001b[49m\u001b[38;5;241;43m.\u001b[39;49m\u001b[43mresult\u001b[49m\u001b[43m(\u001b[49m\u001b[43m)\u001b[49m\n\u001b[1;32m    770\u001b[0m \u001b[38;5;28;01mexcept\u001b[39;00m \u001b[38;5;167;01mException\u001b[39;00m:\n\u001b[1;32m    771\u001b[0m     exc_info \u001b[38;5;241m=\u001b[39m sys\u001b[38;5;241m.\u001b[39mexc_info()\n",
      "File \u001b[0;32m/g/data/w42/dr6273/apps/conda/envs/pangeo/lib/python3.10/site-packages/distributed/client.py:2157\u001b[0m, in \u001b[0;36mClient._gather\u001b[0;34m(self, futures, errors, direct, local_worker)\u001b[0m\n\u001b[1;32m   2155\u001b[0m         exc \u001b[38;5;241m=\u001b[39m CancelledError(key)\n\u001b[1;32m   2156\u001b[0m     \u001b[38;5;28;01melse\u001b[39;00m:\n\u001b[0;32m-> 2157\u001b[0m         \u001b[38;5;28;01mraise\u001b[39;00m exception\u001b[38;5;241m.\u001b[39mwith_traceback(traceback)\n\u001b[1;32m   2158\u001b[0m     \u001b[38;5;28;01mraise\u001b[39;00m exc\n\u001b[1;32m   2159\u001b[0m \u001b[38;5;28;01mif\u001b[39;00m errors \u001b[38;5;241m==\u001b[39m \u001b[38;5;124m\"\u001b[39m\u001b[38;5;124mskip\u001b[39m\u001b[38;5;124m\"\u001b[39m:\n",
      "\u001b[0;31mKilledWorker\u001b[0m: Attempted to run task ('array-8ea378c79563e7a40198e020e5ba425c', 0, 0) on 3 different workers, but all those workers died while running it. The last worker that attempt to run the task was tcp://10.6.77.33:35419. Inspecting worker logs is often a good next step to diagnose what went wrong. For more information see https://distributed.dask.org/en/stable/killed.html."
     ]
    }
   ],
   "source": [
    "cdd.to_zarr(\n",
    "    era_path + \"/derived/cdd_24_era5_daily_1959-2022.zarr\",\n",
    "    mode=\"w\",\n",
    "    consolidated=True\n",
    ")"
   ]
  },
  {
   "cell_type": "markdown",
   "id": "c62d1a95-0607-4d85-91ba-c8e98dc656f1",
   "metadata": {},
   "source": [
    "# Heating degree day\n",
    "\n",
    "Difference between daily average temperature and a comfort-level temperature of 18 degrees C, if the daily average temperature is below 24C.\n",
    "\n",
    "http://www.bom.gov.au/climate/maps/averages/degree-days/#:~:text=The%20heating%20degree%20days%20or,24%20degrees%20Celsius%20for%20cooling."
   ]
  },
  {
   "cell_type": "code",
   "execution_count": 14,
   "id": "56406fbd-bc60-4061-8caf-a36f14165e4e",
   "metadata": {},
   "outputs": [],
   "source": [
    "def calc_hdd(T, comfort=18):\n",
    "    \"\"\"\n",
    "    Heating Degree Day.\n",
    "    \n",
    "    T: array of daily average temperature in degrees Celsius.\n",
    "    \"\"\"\n",
    "    return (comfort - T).where(T < comfort, 0)"
   ]
  },
  {
   "cell_type": "code",
   "execution_count": 15,
   "id": "aa80247f-0fe3-44d0-a91c-28389f1bf9e8",
   "metadata": {},
   "outputs": [],
   "source": [
    "hdd = calc_hdd(Tdt)"
   ]
  },
  {
   "cell_type": "code",
   "execution_count": 16,
   "id": "90001375-1c9a-4a0e-b41a-4d33b11d0a52",
   "metadata": {},
   "outputs": [],
   "source": [
    "hdd = hdd.rename({\"t2m\": \"hdd\"})"
   ]
  },
  {
   "cell_type": "code",
   "execution_count": 18,
   "id": "ec64ec54-2536-48cb-a68c-d8597c773a26",
   "metadata": {},
   "outputs": [
    {
     "data": {
      "text/plain": [
       "array(18809831208)"
      ]
     },
     "execution_count": 18,
     "metadata": {},
     "output_type": "execute_result"
    }
   ],
   "source": [
    "cdd[\"cdd\"].where(cdd[\"cdd\"] == 0).count().values"
   ]
  },
  {
   "cell_type": "code",
   "execution_count": 19,
   "id": "4cae6d3f-8f1e-4f2e-8348-13543c1a00cb",
   "metadata": {},
   "outputs": [
    {
     "data": {
      "text/plain": [
       "array(8860016547)"
      ]
     },
     "execution_count": 19,
     "metadata": {},
     "output_type": "execute_result"
    }
   ],
   "source": [
    "hdd[\"hdd\"].where(hdd[\"hdd\"] == 0).count().values"
   ]
  },
  {
   "cell_type": "code",
   "execution_count": 59,
   "id": "32d91c01-5217-4b75-9388-a44acf7f1199",
   "metadata": {},
   "outputs": [],
   "source": [
    "# Need to chunk again so that we have uniform chunk sizes\n",
    "hdd = hdd.chunk({\"time\": \"200MB\"})"
   ]
  },
  {
   "cell_type": "code",
   "execution_count": 60,
   "id": "f1f8ab61-4fbe-4d7b-ad61-6b956935dd07",
   "metadata": {},
   "outputs": [
    {
     "data": {
      "text/plain": [
       "<xarray.backends.zarr.ZarrStore at 0x152743563ed0>"
      ]
     },
     "execution_count": 60,
     "metadata": {},
     "output_type": "execute_result"
    }
   ],
   "source": [
    "hdd.to_zarr(\n",
    "    era_path + \"derived/hdd_18_era5_daily_1959-2022.zarr\",\n",
    "    mode=\"w\",\n",
    "    consolidated=True\n",
    ")"
   ]
  },
  {
   "cell_type": "markdown",
   "id": "079df909-cc6d-4bae-a8ea-f53b7d1567c7",
   "metadata": {},
   "source": [
    "# 3- and 4-day rolling CDD, HDD and T"
   ]
  },
  {
   "cell_type": "markdown",
   "id": "e99d5bf5-21aa-4138-bd47-4ecd65f7b8d9",
   "metadata": {},
   "source": [
    "### AUS ONLY!\n",
    "\n",
    "I can't figure out how to apply `rolling` operations on global data without killing workers, so let's do it by region for now."
   ]
  },
  {
   "cell_type": "code",
   "execution_count": 17,
   "id": "d0126b15-f7a0-42b5-a5dd-815b9d0be7ac",
   "metadata": {},
   "outputs": [],
   "source": [
    "def region_roll_and_write(ds, region_coords, da_name, k):\n",
    "    \"\"\"\n",
    "    Compute rolling mean of a region subset of ds and write to zarr store.\n",
    "    \n",
    "    ds: dataset to process\n",
    "    region_coords: dict, with 'name': str,'latitude': slice and 'longitude'\" slice\n",
    "    da_name: str, first part of zarr store name to read\n",
    "             i.e. <da_name>_era5_daily_1959-2022.zarr\n",
    "    k: int, window length for rolling\n",
    "    \"\"\"\n",
    "    ds = ds.sel({\n",
    "        \"longitude\": region_coords[\"longitude\"],\n",
    "        \"latitude\": region_coords[\"latitude\"]\n",
    "    })\n",
    "    ds_roll = ds.rolling(time=k).mean()\n",
    "    ds_roll = ds_roll.chunk({\"time\": \"200MB\"})\n",
    "    ds_roll.to_zarr(\n",
    "        era_path + \"derived/\"+da_name+\"_\"+region_coords[\"name\"]+\"_rollmean\"+str(k)+\"_era5_daily_1959-2022.zarr\",\n",
    "        mode=\"w\",\n",
    "        consolidated=True\n",
    "    )"
   ]
  },
  {
   "cell_type": "code",
   "execution_count": 15,
   "id": "83367817-9bc2-4a4e-9f24-ab6e180441e9",
   "metadata": {},
   "outputs": [],
   "source": [
    "aus_coords = {\n",
    "    \"name\": \"Aus\",\n",
    "    \"longitude\": slice(110, 155),\n",
    "    \"latitude\": slice(-10, -45)\n",
    "}"
   ]
  },
  {
   "cell_type": "markdown",
   "id": "2537b48d-b87a-4fd6-a314-c8ccfb3f6f37",
   "metadata": {},
   "source": [
    "HDD and CDD"
   ]
  },
  {
   "cell_type": "code",
   "execution_count": 16,
   "id": "da2269d8-d83c-47b5-afcd-9bd3cedaf774",
   "metadata": {},
   "outputs": [],
   "source": [
    "for name in [\"hdd_18\", \"cdd_24\"]:\n",
    "    for k in [3, 4]:\n",
    "        ds = xr.open_zarr(\n",
    "            era_path + \"derived/\"+name+\"_era5_daily_1959-2022.zarr\",\n",
    "            consolidated=True\n",
    "        )\n",
    "        region_roll_and_write(ds, aus_coords, name, k)"
   ]
  },
  {
   "cell_type": "markdown",
   "id": "355fab19-eaa0-446d-8770-ee7f0b25a1b1",
   "metadata": {},
   "source": [
    "Temperature"
   ]
  },
  {
   "cell_type": "code",
   "execution_count": 18,
   "id": "3f853827-ffe0-417e-a3cc-082d065f489e",
   "metadata": {},
   "outputs": [],
   "source": [
    "for k in [3, 4]:\n",
    "    ds = xr.open_mfdataset(era_path+\"2t/daily/*.nc\", chunks={\"time\": \"200MB\"})\n",
    "    region_roll_and_write(ds, aus_coords, \"2t\", k)"
   ]
  },
  {
   "cell_type": "markdown",
   "id": "6517976b-966e-4a38-bba3-3101ef42d5f2",
   "metadata": {},
   "source": [
    "# Close cluster"
   ]
  },
  {
   "cell_type": "code",
   "execution_count": 24,
   "id": "7988e521-4fbb-46f0-a58e-10692d194b61",
   "metadata": {},
   "outputs": [],
   "source": [
    "client.close()\n",
    "cluster.close()"
   ]
  },
  {
   "cell_type": "code",
   "execution_count": null,
   "id": "efe8ff9c-9753-48b6-8517-432eead7a316",
   "metadata": {},
   "outputs": [],
   "source": []
  }
 ],
 "metadata": {
  "kernelspec": {
   "display_name": "Python (pangeo)",
   "language": "python",
   "name": "pangeo"
  },
  "language_info": {
   "codemirror_mode": {
    "name": "ipython",
    "version": 3
   },
   "file_extension": ".py",
   "mimetype": "text/x-python",
   "name": "python",
   "nbconvert_exporter": "python",
   "pygments_lexer": "ipython3",
   "version": "3.10.8"
  }
 },
 "nbformat": 4,
 "nbformat_minor": 5
}
