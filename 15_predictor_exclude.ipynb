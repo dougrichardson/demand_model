{
 "cells": [
  {
   "cell_type": "markdown",
   "id": "5a88b1e8-1c4b-420e-a991-23ffd39e47ad",
   "metadata": {},
   "source": [
    "# Get dates for which predictors in test set are outside domain of training set"
   ]
  },
  {
   "cell_type": "code",
   "execution_count": 132,
   "id": "be054d8e-2e71-4a1d-a299-6415dbdcbd15",
   "metadata": {},
   "outputs": [],
   "source": [
    "import xarray as xr\n",
    "import numpy as np\n",
    "import pandas as pd"
   ]
  },
  {
   "cell_type": "code",
   "execution_count": 2,
   "id": "960f721a-0def-4c13-85d7-1e9f1e6932d2",
   "metadata": {},
   "outputs": [
    {
     "name": "stdout",
     "output_type": "stream",
     "text": [
      "/g/data/w42/dr6273/work/demand_model\n"
     ]
    }
   ],
   "source": [
    "%cd /g/data/w42/dr6273/work/demand_model/\n",
    "\n",
    "import functions as fn"
   ]
  },
  {
   "cell_type": "code",
   "execution_count": 3,
   "id": "26448515-412a-48a7-8835-b590c291b95d",
   "metadata": {},
   "outputs": [],
   "source": [
    "%load_ext autoreload\n",
    "%autoreload 2"
   ]
  },
  {
   "cell_type": "markdown",
   "id": "1c58abf3-4c0a-47e5-a77d-7965f85f1a22",
   "metadata": {},
   "source": [
    "### Set global variables"
   ]
  },
  {
   "cell_type": "code",
   "execution_count": 38,
   "id": "cb452c7c-9cba-456b-9447-e9ec4d04b24e",
   "metadata": {},
   "outputs": [],
   "source": [
    "RESULTS_PATH = \"/g/data/w42/dr6273/work/projects/Aus_energy/model_results/\""
   ]
  },
  {
   "cell_type": "code",
   "execution_count": 39,
   "id": "320da562-9164-4a9c-9c69-9ca257c96bc8",
   "metadata": {},
   "outputs": [],
   "source": [
    "MARKET = \"NEM\" # \"NEM\" or \"EU\""
   ]
  },
  {
   "cell_type": "code",
   "execution_count": 40,
   "id": "0b94b6c2-f049-4ce3-ba6a-575bcf6fdb9f",
   "metadata": {},
   "outputs": [],
   "source": [
    "REMOVE_WEEKEND = True"
   ]
  },
  {
   "cell_type": "code",
   "execution_count": 41,
   "id": "bdd8357e-04a2-4df9-8a60-db143b5fbd45",
   "metadata": {},
   "outputs": [],
   "source": [
    "REMOVE_XMAS = True"
   ]
  },
  {
   "cell_type": "code",
   "execution_count": 42,
   "id": "fb89ccfb-bd3f-4eb6-bd8e-9f1b0a5e6b5f",
   "metadata": {},
   "outputs": [],
   "source": [
    "REMOVE_MONTH = 0 # integer: [1, 12]"
   ]
  },
  {
   "cell_type": "code",
   "execution_count": 43,
   "id": "b0d86628-2694-4543-a9af-916b1cca9005",
   "metadata": {},
   "outputs": [],
   "source": [
    "MASK_NAME = \"pop_dens_mask\""
   ]
  },
  {
   "cell_type": "code",
   "execution_count": 44,
   "id": "7b0ece9b-148f-430a-b546-6de800f191bd",
   "metadata": {},
   "outputs": [],
   "source": [
    "FIRST_TRAIN_YEAR = 2010\n",
    "LAST_TRAIN_YEAR = 2019"
   ]
  },
  {
   "cell_type": "code",
   "execution_count": 45,
   "id": "feab51a0-4261-4a48-9d4f-da9783961bb4",
   "metadata": {},
   "outputs": [],
   "source": [
    "FIRST_TEST_YEAR = 1959\n",
    "LAST_TEST_YEAR = 2022"
   ]
  },
  {
   "cell_type": "code",
   "execution_count": 46,
   "id": "2f2eff62-38fc-47a6-9851-adaf2bc0205b",
   "metadata": {},
   "outputs": [],
   "source": [
    "N_FEATURES = \"parsimonious\""
   ]
  },
  {
   "cell_type": "code",
   "execution_count": 47,
   "id": "826f8fc9-5be5-45a9-9fc4-3e86cd7667d1",
   "metadata": {},
   "outputs": [],
   "source": [
    "DETREND = False"
   ]
  },
  {
   "cell_type": "code",
   "execution_count": 94,
   "id": "e029f07b-1b58-44c7-ae6b-0284041dbc48",
   "metadata": {},
   "outputs": [],
   "source": [
    "regions = [\"NEM\", \"QLD\", \"NSW\", \"VIC\", \"SA\", \"TAS\"]"
   ]
  },
  {
   "cell_type": "markdown",
   "id": "bbb2f4ee-9df8-4a38-9f45-8de7f198e43e",
   "metadata": {},
   "source": [
    "### Load model data"
   ]
  },
  {
   "cell_type": "code",
   "execution_count": 95,
   "id": "185d7d9b-e5dc-47e3-a438-8d995e2a1719",
   "metadata": {},
   "outputs": [],
   "source": [
    "predictions = fn.read_results(\n",
    "    \"extrapolated\", MARKET, regions, MASK_NAME,\n",
    "    FIRST_TRAIN_YEAR, LAST_TRAIN_YEAR, FIRST_TEST_YEAR, LAST_TEST_YEAR,\n",
    "    REMOVE_WEEKEND, REMOVE_XMAS, REMOVE_MONTH, N_FEATURES, RESULTS_PATH,\n",
    "    DETREND\n",
    ")"
   ]
  },
  {
   "cell_type": "markdown",
   "id": "f3cc6c6f-7773-41b9-90d3-a3a7ba7d12bd",
   "metadata": {},
   "source": [
    "### Exclude out-of-range days"
   ]
  },
  {
   "cell_type": "code",
   "execution_count": 149,
   "id": "01169770-6f12-4f4a-9b29-6cbedfb5fb52",
   "metadata": {},
   "outputs": [],
   "source": [
    "excluded = {}\n",
    "excluded_binary = {} # series of zeros (no NaNs) and ones (NaNs)\n",
    "for r in predictions.keys():\n",
    "    cols = predictions[r].columns\n",
    "    exc = pd.DataFrame(index=predictions[r].index, columns=cols)\n",
    "    \n",
    "    for col in cols:\n",
    "        s = predictions[r][col]\n",
    "        s_min = s.loc[str(FIRST_TRAIN_YEAR) : str(LAST_TRAIN_YEAR+1)].min()\n",
    "        s_max = s.loc[str(FIRST_TRAIN_YEAR) : str(LAST_TRAIN_YEAR+1)].max()\n",
    "        exc[col] = s.where(\n",
    "                        (s >= s_min) &\n",
    "                        (s <= s_max)\n",
    "                    )\n",
    "    excluded[r] = exc\n",
    "    \n",
    "    exc_b = exc.isna().sum(axis=1)\n",
    "    excluded_binary[r] = exc_b.where(exc_b == 0, other=1)"
   ]
  },
  {
   "cell_type": "code",
   "execution_count": 130,
   "id": "a6fa335a-2005-4c33-9444-e2c34d353e3b",
   "metadata": {},
   "outputs": [],
   "source": [
    "def pc_excluded(df):\n",
    "    \"\"\"\n",
    "    Return percentage of rows in df with at least one NaN\n",
    "    \"\"\"\n",
    "    row_has_nan = df.isna().sum(axis=1) # rows of zero if no NaNs in columns\n",
    "    total_row_nan = row_has_nan.where(row_has_nan == 0).isna().sum() # number of rows with NaNs\n",
    "    return (total_row_nan / len(df)) * 100 # percentage of rows with NaNs"
   ]
  },
  {
   "cell_type": "code",
   "execution_count": 136,
   "id": "5b0fbc17-4063-45c8-882c-1063a0a839e6",
   "metadata": {},
   "outputs": [
    {
     "name": "stdout",
     "output_type": "stream",
     "text": [
      "NEM 0.67%\n",
      "QLD 0.58%\n",
      "NSW 0.36%\n",
      "VIC 0.41%\n",
      "SA 0.24%\n",
      "TAS 0.34%\n"
     ]
    }
   ],
   "source": [
    "for r in excluded.keys():\n",
    "    pc = pc_excluded(excluded[r])\n",
    "    print(r, str(np.round(pc, 2)) + \"%\")"
   ]
  },
  {
   "cell_type": "markdown",
   "id": "7b519ae5-75cd-436c-bf74-67b69c998194",
   "metadata": {},
   "source": [
    "### Write binary series to file"
   ]
  },
  {
   "cell_type": "code",
   "execution_count": 157,
   "id": "654cb4fc-8b81-49b6-92ed-9b1b69a6f620",
   "metadata": {},
   "outputs": [],
   "source": [
    "for r, df in zip(excluded_binary.keys(), excluded_binary.values()):\n",
    "    filename = fn.get_filename(\n",
    "        \"predictors_excluded\", MARKET, r, MASK_NAME,\n",
    "        FIRST_TRAIN_YEAR, LAST_TRAIN_YEAR, \"1959\", \"2022\",\n",
    "        REMOVE_WEEKEND, REMOVE_XMAS, REMOVE_MONTH, N_FEATURES\n",
    "    )\n",
    "    if DETREND:\n",
    "        filename = filename + \"_detrended\"\n",
    "    df.to_csv(\n",
    "        RESULTS_PATH + \"/predictors_excluded/random_forest/\" + filename + \".csv\",\n",
    "    )"
   ]
  }
 ],
 "metadata": {
  "kernelspec": {
   "display_name": "Python (pangeo_ML)",
   "language": "python",
   "name": "pangeo_ml"
  },
  "language_info": {
   "codemirror_mode": {
    "name": "ipython",
    "version": 3
   },
   "file_extension": ".py",
   "mimetype": "text/x-python",
   "name": "python",
   "nbconvert_exporter": "python",
   "pygments_lexer": "ipython3",
   "version": "3.10.8"
  }
 },
 "nbformat": 4,
 "nbformat_minor": 5
}
