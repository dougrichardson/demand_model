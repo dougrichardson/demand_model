{
 "cells": [
  {
   "cell_type": "markdown",
   "id": "7ca7eab1-334a-400c-8f50-70eb48d45296",
   "metadata": {},
   "source": [
    "# Write ERA5 demand predictions"
   ]
  },
  {
   "cell_type": "code",
   "execution_count": 1,
   "id": "3b4056c3-c92b-4d90-9b47-a23182be0776",
   "metadata": {},
   "outputs": [],
   "source": [
    "import xarray as xr\n",
    "import pandas as pd\n",
    "import numpy as np\n",
    "\n",
    "from sklearn.ensemble import ExtraTreesRegressor"
   ]
  },
  {
   "cell_type": "code",
   "execution_count": 2,
   "id": "bb88b1e8-eae2-405b-98f2-e78be4bb1d56",
   "metadata": {},
   "outputs": [
    {
     "name": "stdout",
     "output_type": "stream",
     "text": [
      "/g/data/w42/dr6273/work/demand_model\n"
     ]
    }
   ],
   "source": [
    "%cd /g/data/w42/dr6273/work/demand_model/\n",
    "\n",
    "import functions as fn"
   ]
  },
  {
   "cell_type": "code",
   "execution_count": 3,
   "id": "99695b52-b66a-469e-bb05-b531e3327b9f",
   "metadata": {},
   "outputs": [],
   "source": [
    "%load_ext autoreload\n",
    "%autoreload 2"
   ]
  },
  {
   "cell_type": "markdown",
   "id": "dae90325-7619-4cb5-bd8c-4107a32cba1b",
   "metadata": {},
   "source": [
    "### Set global variables"
   ]
  },
  {
   "cell_type": "code",
   "execution_count": 4,
   "id": "cb452c7c-9cba-456b-9447-e9ec4d04b24e",
   "metadata": {},
   "outputs": [],
   "source": [
    "RESULTS_PATH = \"/g/data/w42/dr6273/work/projects/Aus_energy/model_results/\""
   ]
  },
  {
   "cell_type": "code",
   "execution_count": 5,
   "id": "320da562-9164-4a9c-9c69-9ca257c96bc8",
   "metadata": {},
   "outputs": [],
   "source": [
    "MARKET = \"NEM\" # \"NEM\" or \"EU\""
   ]
  },
  {
   "cell_type": "code",
   "execution_count": 6,
   "id": "0b94b6c2-f049-4ce3-ba6a-575bcf6fdb9f",
   "metadata": {},
   "outputs": [],
   "source": [
    "REMOVE_WEEKEND = True"
   ]
  },
  {
   "cell_type": "code",
   "execution_count": 7,
   "id": "bdd8357e-04a2-4df9-8a60-db143b5fbd45",
   "metadata": {},
   "outputs": [],
   "source": [
    "REMOVE_XMAS = True"
   ]
  },
  {
   "cell_type": "code",
   "execution_count": 8,
   "id": "fb89ccfb-bd3f-4eb6-bd8e-9f1b0a5e6b5f",
   "metadata": {},
   "outputs": [],
   "source": [
    "REMOVE_MONTH = 0 # integer: [1, 12]"
   ]
  },
  {
   "cell_type": "code",
   "execution_count": 9,
   "id": "b0d86628-2694-4543-a9af-916b1cca9005",
   "metadata": {},
   "outputs": [],
   "source": [
    "MASK_NAME = \"pop_dens_mask\""
   ]
  },
  {
   "cell_type": "code",
   "execution_count": 10,
   "id": "8d2e42a8-241e-4fed-a66e-233638a5ac08",
   "metadata": {},
   "outputs": [],
   "source": [
    "TIME_COLUMNS = []"
   ]
  },
  {
   "cell_type": "code",
   "execution_count": 11,
   "id": "7b0ece9b-148f-430a-b546-6de800f191bd",
   "metadata": {},
   "outputs": [],
   "source": [
    "FIRST_TRAIN_YEAR = 2010\n",
    "LAST_TRAIN_YEAR = 2016"
   ]
  },
  {
   "cell_type": "code",
   "execution_count": 12,
   "id": "feab51a0-4261-4a48-9d4f-da9783961bb4",
   "metadata": {},
   "outputs": [],
   "source": [
    "FIRST_TEST_YEAR = 2017\n",
    "LAST_TEST_YEAR = 2019"
   ]
  },
  {
   "cell_type": "code",
   "execution_count": 13,
   "id": "2f2eff62-38fc-47a6-9851-adaf2bc0205b",
   "metadata": {},
   "outputs": [],
   "source": [
    "N_FEATURES = \"parsimonious\""
   ]
  },
  {
   "cell_type": "code",
   "execution_count": 14,
   "id": "4f5c6d80-915f-42f6-b04b-f5680f6e02e9",
   "metadata": {},
   "outputs": [],
   "source": [
    "DETREND = True"
   ]
  },
  {
   "cell_type": "code",
   "execution_count": 15,
   "id": "e029f07b-1b58-44c7-ae6b-0284041dbc48",
   "metadata": {},
   "outputs": [],
   "source": [
    "regions = [\"NEM\", \"QLD\", \"NSW\", \"VIC\", \"SA\", \"TAS\"]"
   ]
  },
  {
   "cell_type": "markdown",
   "id": "24462422-0742-4a06-a17b-3eb427aed883",
   "metadata": {},
   "source": [
    "### Load features and hyperparameters"
   ]
  },
  {
   "cell_type": "code",
   "execution_count": 16,
   "id": "185d7d9b-e5dc-47e3-a438-8d995e2a1719",
   "metadata": {},
   "outputs": [],
   "source": [
    "features = fn.read_results(\n",
    "    \"feature_selection\", MARKET, regions, MASK_NAME,\n",
    "    FIRST_TRAIN_YEAR, LAST_TRAIN_YEAR, FIRST_TEST_YEAR, LAST_TEST_YEAR,\n",
    "    REMOVE_WEEKEND, REMOVE_XMAS, REMOVE_MONTH, N_FEATURES, RESULTS_PATH\n",
    ")"
   ]
  },
  {
   "cell_type": "code",
   "execution_count": 17,
   "id": "f5fd4f62-8c24-4fa6-8905-e0318ef93bb0",
   "metadata": {},
   "outputs": [],
   "source": [
    "hyps = fn.read_results(\n",
    "    \"hyperparameters\", MARKET, regions, MASK_NAME,\n",
    "    FIRST_TRAIN_YEAR, LAST_TRAIN_YEAR, FIRST_TEST_YEAR, LAST_TEST_YEAR,\n",
    "    REMOVE_WEEKEND, REMOVE_XMAS, REMOVE_MONTH, N_FEATURES, RESULTS_PATH\n",
    ")"
   ]
  },
  {
   "cell_type": "markdown",
   "id": "802d83b3-6e97-4726-a35d-c12cc720e6e2",
   "metadata": {},
   "source": [
    "### Fit model"
   ]
  },
  {
   "cell_type": "code",
   "execution_count": 18,
   "id": "b476c9c7-6c03-4020-8548-92271e0b9a7a",
   "metadata": {},
   "outputs": [],
   "source": [
    "dem_da = xr.open_dataset(\"/g/data/w42/dr6273/work/projects/Aus_energy/data/energy_demand/daily_demand_2010-2020_stl.nc\")[\"demand_stl\"]"
   ]
  },
  {
   "cell_type": "code",
   "execution_count": 19,
   "id": "143cd30b-39d7-45a0-9e23-c460110f4d46",
   "metadata": {},
   "outputs": [],
   "source": [
    "# Prepare predictors\n",
    "files = fn.get_predictor_files(MARKET, MASK_NAME, detrended=DETREND)\n",
    "pred_ds = xr.open_mfdataset(files, combine=\"nested\", compat=\"override\")"
   ]
  },
  {
   "cell_type": "code",
   "execution_count": 20,
   "id": "1cfe840e-3556-4ee3-b4f0-19eba8fc4678",
   "metadata": {},
   "outputs": [
    {
     "name": "stdout",
     "output_type": "stream",
     "text": [
      "['t2max', 'msdwswrf', 't2m', 'w10', 'cdd', 't2m3']\n",
      "['t2max', 'msdwswrf', 't2m', 'q', 'w10', 'cdd', 't2m4']\n",
      "['t2max', 'msdwswrf', 't2m', 'mtpr', 'w10', 't2m4', 't2m3']\n",
      "['t2max', 'msdwswrf', 't2m', 'w10', 't2m4', 't2m3']\n",
      "['t2max', 'msdwswrf', 't2m', 'q', 'w10', 't2m4', 't2m3']\n",
      "['t2m', 'w10', 'rh', 't2m3']\n"
     ]
    }
   ],
   "source": [
    "# Prepare dataframe for machine learning\n",
    "region_dfs = {}\n",
    "for r in regions:\n",
    "    cal = fn.get_calendar(MARKET, r)\n",
    "    demand = fn.remove_time(dem_da, True, True, 0, cal)\n",
    "    pred = fn.remove_time(pred_ds, True, True, 0, cal)\n",
    "    df = fn.to_dataframe(demand, pred, r)\n",
    "    \n",
    "    selected_preds = fn.parse_features(fn.sel_model(features[r])[\"feature_names\"])[:]\n",
    "    print(selected_preds[::-1])\n",
    "    df = df[[\"demand\"] + selected_preds[::-1]]\n",
    "    region_dfs[r] = df"
   ]
  },
  {
   "cell_type": "code",
   "execution_count": 23,
   "id": "c5371adc-150f-4b51-a38c-ecac54b70fa6",
   "metadata": {},
   "outputs": [],
   "source": [
    "region_dfs[\"QLD\"].to_csv(\n",
    "        \"/g/data/w42/dr6273/work/projects/Aus_energy/for_SH/demand_QLD_2010-19.csv\",\n",
    "    )"
   ]
  },
  {
   "cell_type": "code",
   "execution_count": 25,
   "id": "0d8dd4e5-982f-4360-a2bc-34cd6e6f6ed2",
   "metadata": {},
   "outputs": [],
   "source": [
    "v = region_dfs[\"QLD\"].columns[1:]"
   ]
  },
  {
   "cell_type": "code",
   "execution_count": 34,
   "id": "c6af2ac9-d6ca-41f7-aaa0-bf5f0dec6469",
   "metadata": {},
   "outputs": [
    {
     "data": {
      "text/plain": [
       "array([1.7287239 , 2.74495982, 1.70599203, ..., 4.00592282, 3.59753111,\n",
       "       3.29838911])"
      ]
     },
     "execution_count": 34,
     "metadata": {},
     "output_type": "execute_result"
    }
   ],
   "source": [
    "pred_ds[v].sel(region=\"QLD\")[\"w10\"].values"
   ]
  },
  {
   "cell_type": "code",
   "execution_count": 37,
   "id": "61c97796-a26a-4758-a99a-45f184584d6a",
   "metadata": {},
   "outputs": [
    {
     "data": {
      "text/html": [
       "<div>\n",
       "<style scoped>\n",
       "    .dataframe tbody tr th:only-of-type {\n",
       "        vertical-align: middle;\n",
       "    }\n",
       "\n",
       "    .dataframe tbody tr th {\n",
       "        vertical-align: top;\n",
       "    }\n",
       "\n",
       "    .dataframe thead th {\n",
       "        text-align: right;\n",
       "    }\n",
       "</style>\n",
       "<table border=\"1\" class=\"dataframe\">\n",
       "  <thead>\n",
       "    <tr style=\"text-align: right;\">\n",
       "      <th></th>\n",
       "      <th>t2max</th>\n",
       "      <th>msdwswrf</th>\n",
       "      <th>t2m</th>\n",
       "      <th>q</th>\n",
       "      <th>w10</th>\n",
       "      <th>cdd</th>\n",
       "      <th>t2m4</th>\n",
       "    </tr>\n",
       "    <tr>\n",
       "      <th>time</th>\n",
       "      <th></th>\n",
       "      <th></th>\n",
       "      <th></th>\n",
       "      <th></th>\n",
       "      <th></th>\n",
       "      <th></th>\n",
       "      <th></th>\n",
       "    </tr>\n",
       "  </thead>\n",
       "  <tbody>\n",
       "    <tr>\n",
       "      <th>1959-01-01</th>\n",
       "      <td>NaN</td>\n",
       "      <td>292.675873</td>\n",
       "      <td>298.218779</td>\n",
       "      <td>14.978152</td>\n",
       "      <td>1.728724</td>\n",
       "      <td>0.735046</td>\n",
       "      <td>NaN</td>\n",
       "    </tr>\n",
       "    <tr>\n",
       "      <th>1959-01-02</th>\n",
       "      <td>301.840051</td>\n",
       "      <td>212.884482</td>\n",
       "      <td>296.801772</td>\n",
       "      <td>15.334353</td>\n",
       "      <td>2.744960</td>\n",
       "      <td>0.423551</td>\n",
       "      <td>NaN</td>\n",
       "    </tr>\n",
       "    <tr>\n",
       "      <th>1959-01-03</th>\n",
       "      <td>298.421748</td>\n",
       "      <td>181.831231</td>\n",
       "      <td>295.600398</td>\n",
       "      <td>14.884802</td>\n",
       "      <td>1.705992</td>\n",
       "      <td>0.393636</td>\n",
       "      <td>NaN</td>\n",
       "    </tr>\n",
       "    <tr>\n",
       "      <th>1959-01-04</th>\n",
       "      <td>302.375259</td>\n",
       "      <td>303.834739</td>\n",
       "      <td>296.689620</td>\n",
       "      <td>14.142507</td>\n",
       "      <td>0.616126</td>\n",
       "      <td>0.615129</td>\n",
       "      <td>296.827806</td>\n",
       "    </tr>\n",
       "    <tr>\n",
       "      <th>1959-01-05</th>\n",
       "      <td>303.886801</td>\n",
       "      <td>316.353570</td>\n",
       "      <td>298.724972</td>\n",
       "      <td>14.662342</td>\n",
       "      <td>1.621658</td>\n",
       "      <td>1.297326</td>\n",
       "      <td>296.954352</td>\n",
       "    </tr>\n",
       "    <tr>\n",
       "      <th>...</th>\n",
       "      <td>...</td>\n",
       "      <td>...</td>\n",
       "      <td>...</td>\n",
       "      <td>...</td>\n",
       "      <td>...</td>\n",
       "      <td>...</td>\n",
       "      <td>...</td>\n",
       "    </tr>\n",
       "    <tr>\n",
       "      <th>2022-12-27</th>\n",
       "      <td>298.324602</td>\n",
       "      <td>262.989052</td>\n",
       "      <td>295.416537</td>\n",
       "      <td>12.215562</td>\n",
       "      <td>4.001738</td>\n",
       "      <td>0.183803</td>\n",
       "      <td>295.876541</td>\n",
       "    </tr>\n",
       "    <tr>\n",
       "      <th>2022-12-28</th>\n",
       "      <td>298.237416</td>\n",
       "      <td>273.667103</td>\n",
       "      <td>295.445376</td>\n",
       "      <td>12.259319</td>\n",
       "      <td>2.882962</td>\n",
       "      <td>0.245857</td>\n",
       "      <td>295.805191</td>\n",
       "    </tr>\n",
       "    <tr>\n",
       "      <th>2022-12-29</th>\n",
       "      <td>299.607831</td>\n",
       "      <td>213.382467</td>\n",
       "      <td>296.790060</td>\n",
       "      <td>13.750696</td>\n",
       "      <td>4.005923</td>\n",
       "      <td>0.395849</td>\n",
       "      <td>295.922065</td>\n",
       "    </tr>\n",
       "    <tr>\n",
       "      <th>2022-12-30</th>\n",
       "      <td>298.230718</td>\n",
       "      <td>167.622519</td>\n",
       "      <td>296.221529</td>\n",
       "      <td>14.319748</td>\n",
       "      <td>3.597531</td>\n",
       "      <td>0.492517</td>\n",
       "      <td>295.968212</td>\n",
       "    </tr>\n",
       "    <tr>\n",
       "      <th>2022-12-31</th>\n",
       "      <td>299.189430</td>\n",
       "      <td>247.247299</td>\n",
       "      <td>296.477342</td>\n",
       "      <td>13.536813</td>\n",
       "      <td>3.298389</td>\n",
       "      <td>0.430172</td>\n",
       "      <td>296.233401</td>\n",
       "    </tr>\n",
       "  </tbody>\n",
       "</table>\n",
       "<p>23376 rows × 7 columns</p>\n",
       "</div>"
      ],
      "text/plain": [
       "                 t2max    msdwswrf         t2m          q       w10       cdd  \\\n",
       "time                                                                            \n",
       "1959-01-01         NaN  292.675873  298.218779  14.978152  1.728724  0.735046   \n",
       "1959-01-02  301.840051  212.884482  296.801772  15.334353  2.744960  0.423551   \n",
       "1959-01-03  298.421748  181.831231  295.600398  14.884802  1.705992  0.393636   \n",
       "1959-01-04  302.375259  303.834739  296.689620  14.142507  0.616126  0.615129   \n",
       "1959-01-05  303.886801  316.353570  298.724972  14.662342  1.621658  1.297326   \n",
       "...                ...         ...         ...        ...       ...       ...   \n",
       "2022-12-27  298.324602  262.989052  295.416537  12.215562  4.001738  0.183803   \n",
       "2022-12-28  298.237416  273.667103  295.445376  12.259319  2.882962  0.245857   \n",
       "2022-12-29  299.607831  213.382467  296.790060  13.750696  4.005923  0.395849   \n",
       "2022-12-30  298.230718  167.622519  296.221529  14.319748  3.597531  0.492517   \n",
       "2022-12-31  299.189430  247.247299  296.477342  13.536813  3.298389  0.430172   \n",
       "\n",
       "                  t2m4  \n",
       "time                    \n",
       "1959-01-01         NaN  \n",
       "1959-01-02         NaN  \n",
       "1959-01-03         NaN  \n",
       "1959-01-04  296.827806  \n",
       "1959-01-05  296.954352  \n",
       "...                ...  \n",
       "2022-12-27  295.876541  \n",
       "2022-12-28  295.805191  \n",
       "2022-12-29  295.922065  \n",
       "2022-12-30  295.968212  \n",
       "2022-12-31  296.233401  \n",
       "\n",
       "[23376 rows x 7 columns]"
      ]
     },
     "execution_count": 37,
     "metadata": {},
     "output_type": "execute_result"
    }
   ],
   "source": [
    "qld_pred = pred_ds[v].sel(region=\"QLD\").to_dataframe().drop(\"region\", axis=1)\n",
    "qld_pred"
   ]
  },
  {
   "cell_type": "code",
   "execution_count": 38,
   "id": "c0851282-bfd2-4352-8ab6-b63940bf2d3c",
   "metadata": {},
   "outputs": [],
   "source": [
    "qld_pred.to_csv(\n",
    "        \"/g/data/w42/dr6273/work/projects/Aus_energy/for_SH/predictors_QLD_1959-2022.csv\",\n",
    "    )"
   ]
  },
  {
   "cell_type": "code",
   "execution_count": 21,
   "id": "50fce1df-93e7-4626-97ae-9cffa498c3d5",
   "metadata": {},
   "outputs": [],
   "source": [
    "models = {}\n",
    "\n",
    "for r in regions:\n",
    "    cal = fn.get_calendar(MARKET, r)\n",
    "    dem = fn.remove_time(dem_da, True, True, 0, cal)\n",
    "    test_len = dem.sel(time=slice(str(FIRST_TEST_YEAR), str(LAST_TEST_YEAR))).time.values.shape[0]\n",
    "    \n",
    "    train_X, test_X, train_y, test_y = fn.split(\n",
    "        fn.sel_train_test(region_dfs[r], FIRST_TRAIN_YEAR, LAST_TEST_YEAR),\n",
    "        \"demand\",\n",
    "        test_size=test_len,\n",
    "        random_state=0,\n",
    "        shuffle=False\n",
    "    )\n",
    "    \n",
    "    # Finalise model\n",
    "    rf = ExtraTreesRegressor(\n",
    "        n_estimators=int(hyps[r].loc[\"n_estimators\"].values),\n",
    "        min_samples_leaf=int(hyps[r].loc[\"min_samples_leaf\"].values),\n",
    "        max_depth=int(hyps[r].loc[\"max_depth\"].values),\n",
    "        max_leaf_nodes=int(hyps[r].loc[\"max_leaf_nodes\"].values),\n",
    "        random_state=0,\n",
    "    )\n",
    "    \n",
    "    models[r], _ = fn.predict_forest(train_y, train_X, train_X, rf)"
   ]
  },
  {
   "cell_type": "markdown",
   "id": "7fb9d571-b74b-4087-99b9-d36bfba0e7b3",
   "metadata": {},
   "source": [
    "### Predict and write"
   ]
  },
  {
   "cell_type": "code",
   "execution_count": 22,
   "id": "04a0006b-1824-4f16-8ae8-eb8e4ee12ff2",
   "metadata": {},
   "outputs": [
    {
     "name": "stdout",
     "output_type": "stream",
     "text": [
      "['t2max', 'msdwswrf', 't2m', 'w10', 'cdd', 't2m3']\n",
      "['t2max', 'msdwswrf', 't2m', 'q', 'w10', 'cdd', 't2m4']\n",
      "['t2max', 'msdwswrf', 't2m', 'mtpr', 'w10', 't2m4', 't2m3']\n",
      "['t2max', 'msdwswrf', 't2m', 'w10', 't2m4', 't2m3']\n",
      "['t2max', 'msdwswrf', 't2m', 'q', 'w10', 't2m4', 't2m3']\n",
      "['t2m', 'w10', 'rh', 't2m3']\n"
     ]
    }
   ],
   "source": [
    "# Prepare dataframe for machine learning\n",
    "predictions = {}\n",
    "\n",
    "for r in regions:\n",
    "    pred_arr = pred_ds.sel(region=r).to_array(\"variable\")\n",
    "    df = pd.DataFrame(\n",
    "        pred_arr.transpose(),\n",
    "        columns=pred_arr[\"variable\"],\n",
    "        index=pred_arr[\"time\"]\n",
    "    )\n",
    "    selected_preds = fn.parse_features(fn.sel_model(features[r])[\"feature_names\"])[:]\n",
    "    print(selected_preds[::-1])\n",
    "    df = df[selected_preds[::-1]]\n",
    "    \n",
    "    df = df.dropna()\n",
    "    \n",
    "    model = models[r]\n",
    "    df[\"prediction\"] = model.predict(np.array(df))\n",
    "    predictions[r] = df\n",
    "    \n",
    "    filename = fn.get_filename(\n",
    "        \"extrapolated\", MARKET, r, MASK_NAME,\n",
    "        FIRST_TRAIN_YEAR, LAST_TRAIN_YEAR, \"1959\", \"2022\",\n",
    "        REMOVE_WEEKEND, REMOVE_XMAS, REMOVE_MONTH, N_FEATURES\n",
    "    )\n",
    "    if DETREND:\n",
    "        filename = filename + \"_detrended\"\n",
    "    df.to_csv(\n",
    "        RESULTS_PATH + \"/extrapolated/random_forest/\" + filename + \".csv\",\n",
    "    )"
   ]
  },
  {
   "cell_type": "code",
   "execution_count": null,
   "id": "7c60bee0-5099-483c-90db-7f8018dd8070",
   "metadata": {},
   "outputs": [],
   "source": []
  }
 ],
 "metadata": {
  "kernelspec": {
   "display_name": "Python (pangeo_ML)",
   "language": "python",
   "name": "pangeo_ml"
  },
  "language_info": {
   "codemirror_mode": {
    "name": "ipython",
    "version": 3
   },
   "file_extension": ".py",
   "mimetype": "text/x-python",
   "name": "python",
   "nbconvert_exporter": "python",
   "pygments_lexer": "ipython3",
   "version": "3.10.8"
  }
 },
 "nbformat": 4,
 "nbformat_minor": 5
}
