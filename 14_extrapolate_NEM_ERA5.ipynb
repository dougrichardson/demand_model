{
 "cells": [
  {
   "cell_type": "markdown",
   "id": "7ca7eab1-334a-400c-8f50-70eb48d45296",
   "metadata": {},
   "source": [
    "# Write ERA5 demand predictions"
   ]
  },
  {
   "cell_type": "code",
   "execution_count": 1,
   "id": "3b4056c3-c92b-4d90-9b47-a23182be0776",
   "metadata": {},
   "outputs": [],
   "source": [
    "import xarray as xr\n",
    "import pandas as pd\n",
    "import numpy as np\n",
    "\n",
    "from sklearn.ensemble import ExtraTreesRegressor"
   ]
  },
  {
   "cell_type": "code",
   "execution_count": 2,
   "id": "bb88b1e8-eae2-405b-98f2-e78be4bb1d56",
   "metadata": {},
   "outputs": [
    {
     "name": "stdout",
     "output_type": "stream",
     "text": [
      "/g/data/w42/dr6273/work/demand_model\n"
     ]
    }
   ],
   "source": [
    "%cd /g/data/w42/dr6273/work/demand_model/\n",
    "\n",
    "import functions as fn"
   ]
  },
  {
   "cell_type": "code",
   "execution_count": 3,
   "id": "99695b52-b66a-469e-bb05-b531e3327b9f",
   "metadata": {},
   "outputs": [],
   "source": [
    "%load_ext autoreload\n",
    "%autoreload 2"
   ]
  },
  {
   "cell_type": "markdown",
   "id": "dae90325-7619-4cb5-bd8c-4107a32cba1b",
   "metadata": {},
   "source": [
    "### Set global variables"
   ]
  },
  {
   "cell_type": "code",
   "execution_count": 4,
   "id": "cb452c7c-9cba-456b-9447-e9ec4d04b24e",
   "metadata": {},
   "outputs": [],
   "source": [
    "RESULTS_PATH = \"/g/data/w42/dr6273/work/projects/Aus_energy/model_results/\""
   ]
  },
  {
   "cell_type": "code",
   "execution_count": 5,
   "id": "320da562-9164-4a9c-9c69-9ca257c96bc8",
   "metadata": {},
   "outputs": [],
   "source": [
    "MARKET = \"NEM\" # \"NEM\" or \"EU\""
   ]
  },
  {
   "cell_type": "code",
   "execution_count": 6,
   "id": "0b94b6c2-f049-4ce3-ba6a-575bcf6fdb9f",
   "metadata": {},
   "outputs": [],
   "source": [
    "REMOVE_WEEKEND = True"
   ]
  },
  {
   "cell_type": "code",
   "execution_count": 7,
   "id": "bdd8357e-04a2-4df9-8a60-db143b5fbd45",
   "metadata": {},
   "outputs": [],
   "source": [
    "REMOVE_XMAS = True"
   ]
  },
  {
   "cell_type": "code",
   "execution_count": 8,
   "id": "fb89ccfb-bd3f-4eb6-bd8e-9f1b0a5e6b5f",
   "metadata": {},
   "outputs": [],
   "source": [
    "REMOVE_MONTH = 0 # integer: [1, 12]"
   ]
  },
  {
   "cell_type": "code",
   "execution_count": 9,
   "id": "b0d86628-2694-4543-a9af-916b1cca9005",
   "metadata": {},
   "outputs": [],
   "source": [
    "MASK_NAME = \"pop_dens_mask\""
   ]
  },
  {
   "cell_type": "code",
   "execution_count": 10,
   "id": "8d2e42a8-241e-4fed-a66e-233638a5ac08",
   "metadata": {},
   "outputs": [],
   "source": [
    "TIME_COLUMNS = []"
   ]
  },
  {
   "cell_type": "code",
   "execution_count": 11,
   "id": "7b0ece9b-148f-430a-b546-6de800f191bd",
   "metadata": {},
   "outputs": [],
   "source": [
    "FIRST_TRAIN_YEAR = 2010\n",
    "LAST_TRAIN_YEAR = 2019"
   ]
  },
  {
   "cell_type": "code",
   "execution_count": 12,
   "id": "feab51a0-4261-4a48-9d4f-da9783961bb4",
   "metadata": {},
   "outputs": [],
   "source": [
    "FIRST_TEST_YEAR = 2020\n",
    "LAST_TEST_YEAR = 2020"
   ]
  },
  {
   "cell_type": "code",
   "execution_count": 13,
   "id": "2f2eff62-38fc-47a6-9851-adaf2bc0205b",
   "metadata": {},
   "outputs": [],
   "source": [
    "N_FEATURES = \"parsimonious\""
   ]
  },
  {
   "cell_type": "code",
   "execution_count": 14,
   "id": "4f5c6d80-915f-42f6-b04b-f5680f6e02e9",
   "metadata": {},
   "outputs": [],
   "source": [
    "DETREND = True"
   ]
  },
  {
   "cell_type": "code",
   "execution_count": 15,
   "id": "e029f07b-1b58-44c7-ae6b-0284041dbc48",
   "metadata": {},
   "outputs": [],
   "source": [
    "regions = [\"NEM\", \"QLD\", \"NSW\", \"VIC\", \"SA\", \"TAS\"]"
   ]
  },
  {
   "cell_type": "markdown",
   "id": "24462422-0742-4a06-a17b-3eb427aed883",
   "metadata": {},
   "source": [
    "### Load features and hyperparameters"
   ]
  },
  {
   "cell_type": "code",
   "execution_count": 16,
   "id": "185d7d9b-e5dc-47e3-a438-8d995e2a1719",
   "metadata": {},
   "outputs": [],
   "source": [
    "features = fn.read_results(\n",
    "    \"feature_selection\", MARKET, regions, MASK_NAME,\n",
    "    FIRST_TRAIN_YEAR, LAST_TRAIN_YEAR, FIRST_TEST_YEAR, LAST_TEST_YEAR,\n",
    "    REMOVE_WEEKEND, REMOVE_XMAS, REMOVE_MONTH, N_FEATURES, RESULTS_PATH\n",
    ")"
   ]
  },
  {
   "cell_type": "code",
   "execution_count": 17,
   "id": "f5fd4f62-8c24-4fa6-8905-e0318ef93bb0",
   "metadata": {},
   "outputs": [],
   "source": [
    "hyps = fn.read_results(\n",
    "    \"hyperparameters\", MARKET, regions, MASK_NAME,\n",
    "    FIRST_TRAIN_YEAR, LAST_TRAIN_YEAR, FIRST_TEST_YEAR, LAST_TEST_YEAR,\n",
    "    REMOVE_WEEKEND, REMOVE_XMAS, REMOVE_MONTH, N_FEATURES, RESULTS_PATH\n",
    ")"
   ]
  },
  {
   "cell_type": "markdown",
   "id": "802d83b3-6e97-4726-a35d-c12cc720e6e2",
   "metadata": {},
   "source": [
    "### Fit model"
   ]
  },
  {
   "cell_type": "code",
   "execution_count": 18,
   "id": "b476c9c7-6c03-4020-8548-92271e0b9a7a",
   "metadata": {},
   "outputs": [],
   "source": [
    "dem_da = xr.open_dataset(\"/g/data/w42/dr6273/work/projects/Aus_energy/data/energy_demand/daily_demand_2010-2020_stl.nc\")[\"demand_stl\"]"
   ]
  },
  {
   "cell_type": "code",
   "execution_count": 19,
   "id": "e09f1e81-1ddf-4bbd-9d07-27109cd0e59b",
   "metadata": {},
   "outputs": [],
   "source": [
    "# da_list = []\n",
    "# for r in regions:\n",
    "#      da_list.append(dem_da.sel(region=r).expand_dims({\"region\": [r]}))\n",
    "# demand = xr.concat(da_list, \"region\")"
   ]
  },
  {
   "cell_type": "code",
   "execution_count": 20,
   "id": "143cd30b-39d7-45a0-9e23-c460110f4d46",
   "metadata": {},
   "outputs": [],
   "source": [
    "# Prepare predictors\n",
    "files = fn.get_predictor_files(MARKET, MASK_NAME, detrended=DETREND)\n",
    "pred_ds = xr.open_mfdataset(files, combine=\"nested\", compat=\"override\")"
   ]
  },
  {
   "cell_type": "code",
   "execution_count": 21,
   "id": "1cfe840e-3556-4ee3-b4f0-19eba8fc4678",
   "metadata": {},
   "outputs": [
    {
     "name": "stdout",
     "output_type": "stream",
     "text": [
      "['t2max', 'msdwswrf', 't2m', 'hdd', 'w10', 'cdd', 't2m4', 't2m3']\n",
      "['t2max', 'msdwswrf', 'cdd4', 'q', 'hdd3', 'cdd', 't2min', 't2m4']\n",
      "['t2max', 'msdwswrf', 't2m', 'hdd', 'q', 'w10', 't2m4', 't2m3']\n",
      "['t2max', 'msdwswrf', 't2m', 'q', 'w10', 't2m4', 't2m3']\n",
      "['t2max', 'msdwswrf', 't2m', 'cdd4', 'q', 'w10', 't2m3']\n",
      "['msdwswrf', 't2m', 'w10', 'rh', 't2m3']\n"
     ]
    }
   ],
   "source": [
    "# Prepare dataframe for machine learning\n",
    "region_dfs = {}\n",
    "for r in regions:\n",
    "    cal = fn.get_calendar(MARKET, r)\n",
    "    demand = fn.remove_time(dem_da, True, True, 0, cal)\n",
    "    pred = fn.remove_time(pred_ds, True, True, 0, cal)\n",
    "    df = fn.to_dataframe(demand, pred, r)\n",
    "    \n",
    "    selected_preds = fn.parse_features(fn.sel_model(features[r])[\"feature_names\"])[:]\n",
    "    print(selected_preds[::-1])\n",
    "    df = df[[\"demand\"] + selected_preds[::-1]]\n",
    "    region_dfs[r] = df"
   ]
  },
  {
   "cell_type": "code",
   "execution_count": 22,
   "id": "50fce1df-93e7-4626-97ae-9cffa498c3d5",
   "metadata": {},
   "outputs": [],
   "source": [
    "models = {}\n",
    "\n",
    "for r in regions:\n",
    "    cal = fn.get_calendar(MARKET, r)\n",
    "    dem = fn.remove_time(dem_da, True, True, 0, cal)\n",
    "    test_len = dem.sel(time=slice(str(FIRST_TEST_YEAR), str(LAST_TEST_YEAR))).time.values.shape[0]\n",
    "    \n",
    "    train_X, test_X, train_y, test_y = fn.split(\n",
    "        fn.sel_train_test(region_dfs[r], FIRST_TRAIN_YEAR, LAST_TEST_YEAR),\n",
    "        \"demand\",\n",
    "        test_size=test_len,\n",
    "        random_state=0,\n",
    "        shuffle=False\n",
    "    )\n",
    "    \n",
    "    # Finalise model\n",
    "    rf = ExtraTreesRegressor(\n",
    "        n_estimators=int(hyps[r].loc[\"n_estimators\"].values),\n",
    "        min_samples_leaf=int(hyps[r].loc[\"min_samples_leaf\"].values),\n",
    "        max_depth=int(hyps[r].loc[\"max_depth\"].values),\n",
    "        max_leaf_nodes=int(hyps[r].loc[\"max_leaf_nodes\"].values),\n",
    "        random_state=0,\n",
    "    )\n",
    "    \n",
    "    models[r], _ = fn.predict_forest(train_y, train_X, train_X, rf)"
   ]
  },
  {
   "cell_type": "markdown",
   "id": "7fb9d571-b74b-4087-99b9-d36bfba0e7b3",
   "metadata": {},
   "source": [
    "### Predict and write"
   ]
  },
  {
   "cell_type": "code",
   "execution_count": 23,
   "id": "04a0006b-1824-4f16-8ae8-eb8e4ee12ff2",
   "metadata": {},
   "outputs": [
    {
     "name": "stdout",
     "output_type": "stream",
     "text": [
      "['t2max', 'msdwswrf', 't2m', 'hdd', 'w10', 'cdd', 't2m4', 't2m3']\n",
      "['t2max', 'msdwswrf', 'cdd4', 'q', 'hdd3', 'cdd', 't2min', 't2m4']\n",
      "['t2max', 'msdwswrf', 't2m', 'hdd', 'q', 'w10', 't2m4', 't2m3']\n",
      "['t2max', 'msdwswrf', 't2m', 'q', 'w10', 't2m4', 't2m3']\n",
      "['t2max', 'msdwswrf', 't2m', 'cdd4', 'q', 'w10', 't2m3']\n",
      "['msdwswrf', 't2m', 'w10', 'rh', 't2m3']\n"
     ]
    }
   ],
   "source": [
    "# Prepare dataframe for machine learning\n",
    "predictions = {}\n",
    "\n",
    "for r in regions:\n",
    "    pred_arr = pred_ds.sel(region=r).to_array(\"variable\")\n",
    "    df = pd.DataFrame(\n",
    "        pred_arr.transpose(),\n",
    "        columns=pred_arr[\"variable\"],\n",
    "        index=pred_arr[\"time\"]\n",
    "    )\n",
    "    selected_preds = fn.parse_features(fn.sel_model(features[r])[\"feature_names\"])[:]\n",
    "    print(selected_preds[::-1])\n",
    "    df = df[selected_preds[::-1]]\n",
    "    \n",
    "    df = df.dropna()\n",
    "    \n",
    "    model = models[r]\n",
    "    df[\"prediction\"] = model.predict(np.array(df))\n",
    "    predictions[r] = df\n",
    "    \n",
    "    filename = fn.get_filename(\n",
    "        \"extrapolated\", MARKET, r, MASK_NAME,\n",
    "        FIRST_TRAIN_YEAR, LAST_TRAIN_YEAR, \"1959\", \"2022\",\n",
    "        REMOVE_WEEKEND, REMOVE_XMAS, REMOVE_MONTH, N_FEATURES\n",
    "    )\n",
    "    if DETREND:\n",
    "        filename = filename + \"_detrended\"\n",
    "    df.to_csv(\n",
    "        RESULTS_PATH + \"/extrapolated/random_forest/\" + filename + \".csv\",\n",
    "    )"
   ]
  },
  {
   "cell_type": "code",
   "execution_count": null,
   "id": "393497c1-c888-4349-bb53-b67c08f5c6fb",
   "metadata": {},
   "outputs": [],
   "source": []
  }
 ],
 "metadata": {
  "kernelspec": {
   "display_name": "Python (pangeo_ML)",
   "language": "python",
   "name": "pangeo_ml"
  },
  "language_info": {
   "codemirror_mode": {
    "name": "ipython",
    "version": 3
   },
   "file_extension": ".py",
   "mimetype": "text/x-python",
   "name": "python",
   "nbconvert_exporter": "python",
   "pygments_lexer": "ipython3",
   "version": "3.10.8"
  }
 },
 "nbformat": 4,
 "nbformat_minor": 5
}
