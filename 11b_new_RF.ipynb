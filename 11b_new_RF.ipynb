{
 "cells": [
  {
   "cell_type": "markdown",
   "id": "f96752f8-fdcd-4b54-9aca-016711c1af42",
   "metadata": {},
   "source": [
    "# Random forest"
   ]
  },
  {
   "cell_type": "code",
   "execution_count": 53,
   "id": "f5538669-0e3c-461a-b756-5fac6bd96d12",
   "metadata": {},
   "outputs": [],
   "source": [
    "import os\n",
    "import xarray as xr\n",
    "import pandas as pd\n",
    "import numpy as np\n",
    "\n",
    "from sklearn.ensemble import RandomForestRegressor\n",
    "from sklearn.model_selection import train_test_split\n",
    "from sklearn.model_selection import RandomizedSearchCV\n",
    "from sklearn.model_selection import LeaveOneGroupOut\n",
    "from sklearn.feature_selection import SequentialFeatureSelector\n",
    "from sklearn.metrics import r2_score, mean_absolute_error, mean_squared_error, mean_absolute_percentage_error, median_absolute_error\n",
    "from sklearn.inspection import permutation_importance\n",
    "\n",
    "from scipy.stats import pearsonr, randint, uniform\n",
    "from scipy.spatial.distance import correlation\n",
    "\n",
    "import matplotlib.pyplot as plt"
   ]
  },
  {
   "cell_type": "code",
   "execution_count": 2,
   "id": "839a36ce-2224-488a-a3fa-d397da9a1008",
   "metadata": {},
   "outputs": [],
   "source": [
    "path = \"/g/data/w42/dr6273/work/projects/Aus_energy/\""
   ]
  },
  {
   "cell_type": "markdown",
   "id": "666a87dc-d01e-4830-b2a0-c68459c55768",
   "metadata": {},
   "source": [
    "# Load predictors and predictands"
   ]
  },
  {
   "cell_type": "markdown",
   "id": "0332cf0f-d5d4-4ab4-a24c-d3f649de727c",
   "metadata": {},
   "source": [
    "Detrended energy demand (predicand)"
   ]
  },
  {
   "cell_type": "code",
   "execution_count": 3,
   "id": "04a895af-9b19-412e-9c42-9d2587fab170",
   "metadata": {},
   "outputs": [],
   "source": [
    "dem_da = xr.open_dataset(\n",
    "    path + \"/data/energy_demand/daily_demand_2010-2020_stl.nc\"\n",
    ")[\"demand_stl\"]"
   ]
  },
  {
   "cell_type": "markdown",
   "id": "57543780-90ec-4f0f-a96a-a647c132fca8",
   "metadata": {},
   "source": [
    "Predictors. Load everything from relevant directory."
   ]
  },
  {
   "cell_type": "code",
   "execution_count": 4,
   "id": "110da383-d40a-4ba7-886c-2237b44a3506",
   "metadata": {},
   "outputs": [],
   "source": [
    "files = [path + \"demand_predictors/\" + i for i in os.listdir(path + \"demand_predictors/\")]"
   ]
  },
  {
   "cell_type": "code",
   "execution_count": 73,
   "id": "a9a9ec96-2668-419d-85e7-5d8ccb211132",
   "metadata": {},
   "outputs": [],
   "source": [
    "pred_ds = xr.open_mfdataset(files, combine=\"nested\", compat=\"override\").compute()"
   ]
  },
  {
   "cell_type": "code",
   "execution_count": 74,
   "id": "a14e31b1-e9a7-4b40-bc26-e2ff2d9fb8d1",
   "metadata": {},
   "outputs": [
    {
     "data": {
      "text/plain": [
       "Data variables:\n",
       "    msdwswrf  (region, time) float64 307.1 284.8 286.2 ... 287.8 227.2 297.5\n",
       "    hdd       (region, time) float64 0.6528 0.5974 0.6455 ... 4.369 2.011 0.4213\n",
       "    mtpr      (region, time) float64 2.842e-05 4.244e-05 ... 1.614e-05 6.045e-06\n",
       "    q         (region, time) float64 10.45 10.46 10.05 ... 6.65 9.337 10.11\n",
       "    hdd3      (region, time) float64 nan nan 0.7969 0.657 ... 2.98 3.604 2.16\n",
       "    t2m4      (region, time) float64 nan nan nan 299.3 ... 289.8 289.3 288.2\n",
       "    w10       (region, time) float64 3.489 3.602 3.166 ... 1.758 3.059 3.369\n",
       "    t2m       (region, time) float64 294.9 294.4 294.8 ... 286.7 289.1 291.1\n",
       "    t2min     (region, time) float64 nan 293.3 293.8 294.0 ... 282.5 287.1 287.3\n",
       "    rh        (region, time) float64 72.35 69.38 69.15 ... 65.67 76.73 71.14\n",
       "    t2max     (region, time) float64 nan 304.6 305.0 306.3 ... 290.4 292.4 295.5\n",
       "    cdd4      (region, time) float64 nan nan nan ... 0.08498 0.08498 0.000234\n",
       "    t2m3      (region, time) float64 nan nan 294.7 295.1 ... 289.5 287.4 289.0\n",
       "    cdd3      (region, time) float64 nan nan 1.888 ... 0.0002441 0.0002441\n",
       "    hdd4      (region, time) float64 nan nan nan 0.6283 ... 2.43 2.831 2.946\n",
       "    cdd       (region, time) float64 1.29 0.9346 1.329 ... 0.0002397 0.0002397"
      ]
     },
     "execution_count": 74,
     "metadata": {},
     "output_type": "execute_result"
    }
   ],
   "source": [
    "pred_ds.data_vars"
   ]
  },
  {
   "cell_type": "markdown",
   "id": "a35c4a9d-b465-43bc-88af-eece69847b9b",
   "metadata": {},
   "source": [
    "### Just work with two predictors for now"
   ]
  },
  {
   "cell_type": "code",
   "execution_count": 75,
   "id": "17d381b0-06a4-4194-9866-5fc1a8afee22",
   "metadata": {},
   "outputs": [],
   "source": [
    "# pred_ds = pred_ds[[\"t2m\", \"t2max\"]]"
   ]
  },
  {
   "cell_type": "markdown",
   "id": "24b0feb0-c5e8-4f2f-9d8d-0acd6bce8760",
   "metadata": {},
   "source": [
    "## Prepare data"
   ]
  },
  {
   "cell_type": "markdown",
   "id": "d3ddd8d6-110b-4857-8c47-fe622a772c2d",
   "metadata": {},
   "source": [
    "For a given region, get the data into a dataframe"
   ]
  },
  {
   "cell_type": "code",
   "execution_count": 76,
   "id": "5bcdde21-9c9f-4a08-b2c4-d1a92e73d02f",
   "metadata": {},
   "outputs": [],
   "source": [
    "def to_dataframe(target_da, predictors_ds, region):\n",
    "    \"\"\"\n",
    "    Convert xarray data to pandas dataframe.\n",
    "    \"\"\"\n",
    "    # Predictors to array\n",
    "    predictors_arr = predictors_ds.sel(region=region, time=target_da[\"time\"]).to_array(\"variable\")\n",
    "    \n",
    "    # Data array of target and predictors\n",
    "    da = xr.concat([\n",
    "        predictors_arr,\n",
    "        target_da.sel(region=region).expand_dims({\"variable\": [\"demand\"]})\n",
    "    ],\n",
    "        dim=\"variable\"\n",
    "    )\n",
    "    \n",
    "    # Dataframe\n",
    "    df = pd.DataFrame(\n",
    "        da.transpose(),\n",
    "        columns=da[\"variable\"],\n",
    "        index=target_da[\"time\"]\n",
    "    )\n",
    "    \n",
    "    return df"
   ]
  },
  {
   "cell_type": "markdown",
   "id": "095fe98d-713f-4d59-8923-e64a2d9e1c90",
   "metadata": {},
   "source": [
    "Set up a time column to either indicate:\n",
    "1. day of week\n",
    "2. weekend/weekday binary\n",
    "3. winter/summer/transition\n",
    "4. transition/(winter,summer) binary"
   ]
  },
  {
   "cell_type": "code",
   "execution_count": 77,
   "id": "ec4cd1d5-09bd-4dc7-b518-15e27b1d1978",
   "metadata": {},
   "outputs": [],
   "source": [
    "def add_time_column(df, method):\n",
    "    \"\"\"\n",
    "    Add a time column to df.\n",
    "    \n",
    "    df: dataframe to add to\n",
    "    method: str indicating which method to use. Currently 'is_weekend',\n",
    "            'month_sin', 'month_cos', 'month_int', 'season_int'\n",
    "    \"\"\"\n",
    "    if method == \"is_weekend\":\n",
    "        # Bool for weekend day or weekday\n",
    "        new_col = (df.index.weekday > 4).astype(\"int16\")\n",
    "    elif method == \"is_transition\":\n",
    "        new_col = df.index.month.isin([3, 4, 5, 9, 10, 11])\n",
    "    elif method == \"month_sin\":\n",
    "        new_col = np.sin((df.index.month - 1) * (2. * np.pi / 12))\n",
    "    elif method == \"month_cos\":\n",
    "        new_col = np.cos((df.index.month - 1) * (2. * np.pi / 12))\n",
    "    elif method == \"month_int\":\n",
    "        new_col = df.index.month\n",
    "    elif method == \"season_int\":\n",
    "        new_col = df.index.month % 12 // 3 + 1\n",
    "    else:\n",
    "        raise ValueError(\"Incorrect 'method'.\")\n",
    "    \n",
    "    df[method] = new_col\n",
    "    return df"
   ]
  },
  {
   "cell_type": "markdown",
   "id": "e69be7cf-298f-495f-8a19-dde717560465",
   "metadata": {},
   "source": [
    "*Note:* I've tried various permutations of seasonal indices (months and seasons), but they are all of low variable importance. This is presumably because seasonal information is contained in temperature."
   ]
  },
  {
   "cell_type": "code",
   "execution_count": 78,
   "id": "c77a210f-d6fb-415e-96c6-33b66270cd88",
   "metadata": {},
   "outputs": [],
   "source": [
    "# time_cols = [\"is_weekend\", \"month_sin\", \"month_cos\"]\n",
    "# time_cols = [\"is_weekend\", \"month_int\"]\n",
    "# time_cols = [\"is_weekend\", \"season_int\"]\n",
    "# time_cols = [\"is_weekend\", \"is_transition\"]\n",
    "time_cols = [\"is_weekend\"]\n",
    "\n",
    "region_dfs = {}\n",
    "for region in dem_da.region.values:\n",
    "    df = to_dataframe(dem_da, pred_ds, region)\n",
    "    for t in time_cols:\n",
    "        df = add_time_column(df, t)\n",
    "    new_cols = np.append(np.append(\"demand\", time_cols), df.columns[:-(len(time_cols) + 1)])\n",
    "    df = df[new_cols]\n",
    "    region_dfs[region] = df"
   ]
  },
  {
   "cell_type": "code",
   "execution_count": 79,
   "id": "881bae2a-2fa4-4f1d-b60d-281eb45b4577",
   "metadata": {},
   "outputs": [
    {
     "data": {
      "text/html": [
       "<div>\n",
       "<style scoped>\n",
       "    .dataframe tbody tr th:only-of-type {\n",
       "        vertical-align: middle;\n",
       "    }\n",
       "\n",
       "    .dataframe tbody tr th {\n",
       "        vertical-align: top;\n",
       "    }\n",
       "\n",
       "    .dataframe thead th {\n",
       "        text-align: right;\n",
       "    }\n",
       "</style>\n",
       "<table border=\"1\" class=\"dataframe\">\n",
       "  <thead>\n",
       "    <tr style=\"text-align: right;\">\n",
       "      <th></th>\n",
       "      <th>demand</th>\n",
       "      <th>is_weekend</th>\n",
       "      <th>msdwswrf</th>\n",
       "      <th>hdd</th>\n",
       "      <th>mtpr</th>\n",
       "      <th>q</th>\n",
       "      <th>hdd3</th>\n",
       "      <th>t2m4</th>\n",
       "      <th>w10</th>\n",
       "      <th>t2m</th>\n",
       "      <th>t2min</th>\n",
       "      <th>rh</th>\n",
       "      <th>t2max</th>\n",
       "      <th>cdd4</th>\n",
       "      <th>t2m3</th>\n",
       "      <th>cdd3</th>\n",
       "      <th>hdd4</th>\n",
       "      <th>cdd</th>\n",
       "    </tr>\n",
       "  </thead>\n",
       "  <tbody>\n",
       "    <tr>\n",
       "      <th>2010-01-01</th>\n",
       "      <td>-41100.149287</td>\n",
       "      <td>0</td>\n",
       "      <td>201.443723</td>\n",
       "      <td>0.118780</td>\n",
       "      <td>0.000080</td>\n",
       "      <td>13.244343</td>\n",
       "      <td>0.061323</td>\n",
       "      <td>299.656013</td>\n",
       "      <td>2.851172</td>\n",
       "      <td>295.592025</td>\n",
       "      <td>293.489085</td>\n",
       "      <td>77.791976</td>\n",
       "      <td>303.550399</td>\n",
       "      <td>3.201385</td>\n",
       "      <td>297.144259</td>\n",
       "      <td>1.835807</td>\n",
       "      <td>0.045622</td>\n",
       "      <td>0.679239</td>\n",
       "    </tr>\n",
       "    <tr>\n",
       "      <th>2010-01-02</th>\n",
       "      <td>19560.909302</td>\n",
       "      <td>1</td>\n",
       "      <td>249.026949</td>\n",
       "      <td>0.645959</td>\n",
       "      <td>0.000049</td>\n",
       "      <td>11.565844</td>\n",
       "      <td>0.350267</td>\n",
       "      <td>298.824586</td>\n",
       "      <td>3.420816</td>\n",
       "      <td>294.383226</td>\n",
       "      <td>291.833230</td>\n",
       "      <td>71.327385</td>\n",
       "      <td>302.166075</td>\n",
       "      <td>2.678200</td>\n",
       "      <td>295.785979</td>\n",
       "      <td>1.268047</td>\n",
       "      <td>0.201982</td>\n",
       "      <td>0.806275</td>\n",
       "    </tr>\n",
       "    <tr>\n",
       "      <th>2010-01-03</th>\n",
       "      <td>-6000.400994</td>\n",
       "      <td>1</td>\n",
       "      <td>291.995451</td>\n",
       "      <td>0.737633</td>\n",
       "      <td>0.000066</td>\n",
       "      <td>10.668562</td>\n",
       "      <td>0.693844</td>\n",
       "      <td>297.916076</td>\n",
       "      <td>2.972514</td>\n",
       "      <td>294.179263</td>\n",
       "      <td>291.988989</td>\n",
       "      <td>72.550361</td>\n",
       "      <td>302.026736</td>\n",
       "      <td>2.082780</td>\n",
       "      <td>294.718322</td>\n",
       "      <td>1.131217</td>\n",
       "      <td>0.394388</td>\n",
       "      <td>0.819948</td>\n",
       "    </tr>\n",
       "    <tr>\n",
       "      <th>2010-01-04</th>\n",
       "      <td>-24359.584905</td>\n",
       "      <td>0</td>\n",
       "      <td>279.712986</td>\n",
       "      <td>0.163599</td>\n",
       "      <td>0.000008</td>\n",
       "      <td>10.686163</td>\n",
       "      <td>0.706049</td>\n",
       "      <td>297.762436</td>\n",
       "      <td>2.582235</td>\n",
       "      <td>295.617390</td>\n",
       "      <td>293.322323</td>\n",
       "      <td>67.344300</td>\n",
       "      <td>303.514904</td>\n",
       "      <td>2.021476</td>\n",
       "      <td>294.726776</td>\n",
       "      <td>1.235412</td>\n",
       "      <td>0.444585</td>\n",
       "      <td>0.901100</td>\n",
       "    </tr>\n",
       "    <tr>\n",
       "      <th>2010-01-05</th>\n",
       "      <td>-29769.122085</td>\n",
       "      <td>0</td>\n",
       "      <td>279.097154</td>\n",
       "      <td>0.176157</td>\n",
       "      <td>0.000004</td>\n",
       "      <td>11.065908</td>\n",
       "      <td>0.495410</td>\n",
       "      <td>298.002990</td>\n",
       "      <td>2.717305</td>\n",
       "      <td>296.451681</td>\n",
       "      <td>294.178909</td>\n",
       "      <td>67.795080</td>\n",
       "      <td>304.407560</td>\n",
       "      <td>2.184892</td>\n",
       "      <td>295.416262</td>\n",
       "      <td>1.441549</td>\n",
       "      <td>0.461046</td>\n",
       "      <td>1.167922</td>\n",
       "    </tr>\n",
       "  </tbody>\n",
       "</table>\n",
       "</div>"
      ],
      "text/plain": [
       "                  demand  is_weekend    msdwswrf       hdd      mtpr  \\\n",
       "2010-01-01 -41100.149287           0  201.443723  0.118780  0.000080   \n",
       "2010-01-02  19560.909302           1  249.026949  0.645959  0.000049   \n",
       "2010-01-03  -6000.400994           1  291.995451  0.737633  0.000066   \n",
       "2010-01-04 -24359.584905           0  279.712986  0.163599  0.000008   \n",
       "2010-01-05 -29769.122085           0  279.097154  0.176157  0.000004   \n",
       "\n",
       "                    q      hdd3        t2m4       w10         t2m       t2min  \\\n",
       "2010-01-01  13.244343  0.061323  299.656013  2.851172  295.592025  293.489085   \n",
       "2010-01-02  11.565844  0.350267  298.824586  3.420816  294.383226  291.833230   \n",
       "2010-01-03  10.668562  0.693844  297.916076  2.972514  294.179263  291.988989   \n",
       "2010-01-04  10.686163  0.706049  297.762436  2.582235  295.617390  293.322323   \n",
       "2010-01-05  11.065908  0.495410  298.002990  2.717305  296.451681  294.178909   \n",
       "\n",
       "                   rh       t2max      cdd4        t2m3      cdd3      hdd4  \\\n",
       "2010-01-01  77.791976  303.550399  3.201385  297.144259  1.835807  0.045622   \n",
       "2010-01-02  71.327385  302.166075  2.678200  295.785979  1.268047  0.201982   \n",
       "2010-01-03  72.550361  302.026736  2.082780  294.718322  1.131217  0.394388   \n",
       "2010-01-04  67.344300  303.514904  2.021476  294.726776  1.235412  0.444585   \n",
       "2010-01-05  67.795080  304.407560  2.184892  295.416262  1.441549  0.461046   \n",
       "\n",
       "                 cdd  \n",
       "2010-01-01  0.679239  \n",
       "2010-01-02  0.806275  \n",
       "2010-01-03  0.819948  \n",
       "2010-01-04  0.901100  \n",
       "2010-01-05  1.167922  "
      ]
     },
     "execution_count": 79,
     "metadata": {},
     "output_type": "execute_result"
    }
   ],
   "source": [
    "region_dfs[\"NEM\"].head()"
   ]
  },
  {
   "cell_type": "markdown",
   "id": "4869679f-498d-41a0-a4dd-bc50bcd6bed1",
   "metadata": {},
   "source": [
    "## Split data into training and testing"
   ]
  },
  {
   "cell_type": "markdown",
   "id": "b73b5b11-458a-4891-b47e-486a42ecca91",
   "metadata": {},
   "source": [
    "Using this as a guide: https://towardsdatascience.com/random-forest-in-python-24d0893d51c0\n",
    "\n",
    "As this is time series data, leave out the last two years for testing."
   ]
  },
  {
   "cell_type": "code",
   "execution_count": 112,
   "id": "b53b10ef-f092-4e70-8b85-f559e1c82009",
   "metadata": {},
   "outputs": [],
   "source": [
    "def split(df, target_name, test_size, random_state, shuffle=True):\n",
    "    \"\"\"\n",
    "    Apply train_test_split to dataframe\n",
    "    \n",
    "    df: pandas dataframe\n",
    "    target_name: column name of df to target\n",
    "    test_size: float, proportion of data to test\n",
    "    random_state: int\n",
    "    shuffle: bool, whether or not to shuffle data before splitting\n",
    "    \"\"\"\n",
    "    y = np.array(df[target_name]) # target\n",
    "    X = np.array(df.drop(target_name, axis=1)) # predictors\n",
    "    return train_test_split(X, y, test_size=test_size, random_state=random_state, shuffle=shuffle)"
   ]
  },
  {
   "cell_type": "code",
   "execution_count": 113,
   "id": "38321cea-ed8f-4922-8a0a-ea598a89f50a",
   "metadata": {},
   "outputs": [
    {
     "data": {
      "text/plain": [
       "4017"
      ]
     },
     "execution_count": 113,
     "metadata": {},
     "output_type": "execute_result"
    }
   ],
   "source": [
    "len(region_dfs[\"NEM\"])"
   ]
  },
  {
   "cell_type": "code",
   "execution_count": 114,
   "id": "ef6e611b-3631-4a09-a1ca-1aba9326384a",
   "metadata": {},
   "outputs": [],
   "source": [
    "# Hold out last two years for testing\n",
    "test_len = dem_da.sel(time=slice(\"2019\", \"2020\")).time.values.shape[0]"
   ]
  },
  {
   "cell_type": "code",
   "execution_count": 115,
   "id": "e6ae6fc9-8327-4c1d-a899-66649f9e89f5",
   "metadata": {},
   "outputs": [
    {
     "data": {
      "text/plain": [
       "730"
      ]
     },
     "execution_count": 115,
     "metadata": {},
     "output_type": "execute_result"
    }
   ],
   "source": [
    "test_len"
   ]
  },
  {
   "cell_type": "code",
   "execution_count": 116,
   "id": "87b83b7e-36da-4590-ab81-6471768a6215",
   "metadata": {},
   "outputs": [],
   "source": [
    "train_X, test_X, train_y, test_y = split(\n",
    "    region_dfs[\"NEM\"],\n",
    "    \"demand\",\n",
    "    test_size=test_len,\n",
    "    random_state=0,\n",
    "    shuffle=False\n",
    ")"
   ]
  },
  {
   "cell_type": "markdown",
   "id": "a34ee88a-a502-4a52-9f1b-c8cb37cfe617",
   "metadata": {},
   "source": [
    "## Tune hyperparameters\n",
    "\n",
    "Using leave one group out cross validation, where a group is a year."
   ]
  },
  {
   "cell_type": "code",
   "execution_count": 117,
   "id": "0976b3a6-dfd3-4cbd-8c10-f20d18729616",
   "metadata": {},
   "outputs": [],
   "source": [
    "def leave_one_group_out(train_X, train_y, target_da, first_year, last_year):\n",
    "    \"\"\"\n",
    "    Return CV splitter using leave one group out, where the groups are years.\n",
    "    \n",
    "    train_X: training data\n",
    "    train_y: training target\n",
    "    target_da: target array with time dimension\n",
    "    first_year, last_year: str, first and last years of training set\n",
    "    \"\"\"\n",
    "    logo = LeaveOneGroupOut()\n",
    "    groups = target_da.sel(time=slice(first_year, last_year)).time.dt.year.values\n",
    "    return logo.split(train_X, train_y, groups=groups)"
   ]
  },
  {
   "cell_type": "code",
   "execution_count": 118,
   "id": "4a00a90e-159d-46c0-b02b-3fb4f159e64b",
   "metadata": {},
   "outputs": [],
   "source": [
    "def tune_hyperparameters(train_X, train_y, parameters, cv, n_iter, random_state=0):\n",
    "    \"\"\"\n",
    "    Return tuned hyperparameters by fitting the model using CV on the training set.\n",
    "    \n",
    "    train_X: training data\n",
    "    train_y: training target\n",
    "    parameters: dict, parameters of RandomForestRegressor to tune, with associated distributions\n",
    "    cv: the cross validation to do. See docs for RandomizedSearchCV\n",
    "    random_state: random state for RandomizedSearchCV\n",
    "    n_iter: number of CV iterations\n",
    "    \"\"\"\n",
    "    rf = RandomForestRegressor()\n",
    "    clf = RandomizedSearchCV(rf, parameters, cv=cv, n_iter=n_iter, random_state=random_state)\n",
    "    search = clf.fit(train_X, train_y)\n",
    "    return search.best_params_"
   ]
  },
  {
   "cell_type": "code",
   "execution_count": 87,
   "id": "1a0c8bf7-5679-4d0c-9455-61c798feb19e",
   "metadata": {},
   "outputs": [],
   "source": [
    "# parameters = {\n",
    "#     \"n_estimators\": randint(10, 500), # no. trees in the forest\n",
    "#     \"min_samples_leaf\": randint(1, 30), # min no. samples at leaf node\n",
    "#     \"max_depth\" : randint(5, 100), # max depth of each tree\n",
    "#     # \"max_features\" : uniform(0.2, 1) # max proportion of features to consider at split\n",
    "# }"
   ]
  },
  {
   "cell_type": "code",
   "execution_count": 134,
   "id": "831db82f-957c-41cc-b27b-27fd7005a3e8",
   "metadata": {},
   "outputs": [],
   "source": [
    "# very restricted space for testing\n",
    "parameters = {\n",
    "    \"n_estimators\": randint(10, 12), # no. trees in the forest\n",
    "}"
   ]
  },
  {
   "cell_type": "code",
   "execution_count": 135,
   "id": "9fd0d2ce-0658-499f-ad51-7e5b39cf34ef",
   "metadata": {},
   "outputs": [],
   "source": [
    "logo = leave_one_group_out(train_X, train_y, dem_da, \"2010\", \"2018\")"
   ]
  },
  {
   "cell_type": "code",
   "execution_count": 136,
   "id": "98b0e210-9a46-450d-acdb-5b7a0fcc6fb3",
   "metadata": {},
   "outputs": [],
   "source": [
    "best_params = tune_hyperparameters(train_X, train_y, parameters, logo, n_iter=1, random_state=0)"
   ]
  },
  {
   "cell_type": "code",
   "execution_count": 137,
   "id": "a50e878e-ecea-4852-92ec-b19d0b085fd8",
   "metadata": {},
   "outputs": [
    {
     "data": {
      "text/plain": [
       "{'n_estimators': 10}"
      ]
     },
     "execution_count": 137,
     "metadata": {},
     "output_type": "execute_result"
    }
   ],
   "source": [
    "best_params"
   ]
  },
  {
   "cell_type": "markdown",
   "id": "bb3a746b-1692-4470-b535-a2afc7d82314",
   "metadata": {},
   "source": [
    "## Sequential feature selection\n",
    "\n",
    "Chooses the predictors using forwards selection and a stopping criterion for a score."
   ]
  },
  {
   "cell_type": "code",
   "execution_count": 191,
   "id": "fc606b5e-6530-4381-b7ae-e703f9f30522",
   "metadata": {},
   "outputs": [],
   "source": [
    "def sfs(train_X, train_y, rf, cv, tol=0.001, scoring=\"r2\"):\n",
    "    \"\"\"\n",
    "    Forward selection of features using CV, and a chosen score with tolerance.\n",
    "    \n",
    "    train_X: training data\n",
    "    train_y: training target\n",
    "    rf: RandomForestRegressor\n",
    "    cv: the cross validation to do. See docs for RandomizedSearchCV\n",
    "    tol: tolerance for scoring\n",
    "    scoring: score to use in CV\n",
    "    \"\"\"\n",
    "    s = SequentialFeatureSelector(rf, tol=tol, scoring=scoring, cv=cv)\n",
    "    return s.fit(train_X, train_y)"
   ]
  },
  {
   "cell_type": "code",
   "execution_count": 193,
   "id": "0e4e7e55-9c87-4158-a82d-e836f350225a",
   "metadata": {},
   "outputs": [],
   "source": [
    "rf = RandomForestRegressor(\n",
    "    n_estimators=best_params[\"n_estimators\"],\n",
    "    random_state=0\n",
    ")"
   ]
  },
  {
   "cell_type": "code",
   "execution_count": 194,
   "id": "8a260c41-ed13-4836-b199-f82ae24ffb1f",
   "metadata": {},
   "outputs": [],
   "source": [
    "logo = leave_one_group_out(train_X, train_y, dem_da, \"2010\", \"2018\")"
   ]
  },
  {
   "cell_type": "code",
   "execution_count": 196,
   "id": "e36ab030-e569-4e4c-ae2e-c34eb616a50a",
   "metadata": {},
   "outputs": [],
   "source": [
    "model = sfs(train_X, train_y, rf, logo, tol=0.5)"
   ]
  },
  {
   "cell_type": "code",
   "execution_count": 197,
   "id": "9f492b68-92ff-4f59-ac9e-ca7dc0ae12ef",
   "metadata": {},
   "outputs": [
    {
     "ename": "IndexError",
     "evalue": "boolean index did not match indexed array along dimension 0; dimension is 17 but corresponding boolean dimension is 8",
     "output_type": "error",
     "traceback": [
      "\u001b[0;31m---------------------------------------------------------------------------\u001b[0m",
      "\u001b[0;31mIndexError\u001b[0m                                Traceback (most recent call last)",
      "Cell \u001b[0;32mIn[197], line 1\u001b[0m\n\u001b[0;32m----> 1\u001b[0m selected_features \u001b[38;5;241m=\u001b[39m \u001b[38;5;28mlist\u001b[39m(\u001b[43mregion_dfs\u001b[49m\u001b[43m[\u001b[49m\u001b[38;5;124;43m\"\u001b[39;49m\u001b[38;5;124;43mNEM\u001b[39;49m\u001b[38;5;124;43m\"\u001b[39;49m\u001b[43m]\u001b[49m\u001b[38;5;241;43m.\u001b[39;49m\u001b[43mcolumns\u001b[49m\u001b[43m[\u001b[49m\u001b[38;5;241;43m1\u001b[39;49m\u001b[43m:\u001b[49m\u001b[43m]\u001b[49m\u001b[43m[\u001b[49m\u001b[43mmodel\u001b[49m\u001b[38;5;241;43m.\u001b[39;49m\u001b[43mget_support\u001b[49m\u001b[43m(\u001b[49m\u001b[43m)\u001b[49m\u001b[43m]\u001b[49m)\n\u001b[1;32m      2\u001b[0m \u001b[38;5;28mprint\u001b[39m(selected_features)\n",
      "File \u001b[0;32m/g/data/w42/dr6273/apps/conda/envs/pangeo/lib/python3.10/site-packages/pandas/core/indexes/base.py:5382\u001b[0m, in \u001b[0;36mIndex.__getitem__\u001b[0;34m(self, key)\u001b[0m\n\u001b[1;32m   5379\u001b[0m     \u001b[38;5;28;01melse\u001b[39;00m:\n\u001b[1;32m   5380\u001b[0m         key \u001b[38;5;241m=\u001b[39m np\u001b[38;5;241m.\u001b[39masarray(key, dtype\u001b[38;5;241m=\u001b[39m\u001b[38;5;28mbool\u001b[39m)\n\u001b[0;32m-> 5382\u001b[0m result \u001b[38;5;241m=\u001b[39m \u001b[43mgetitem\u001b[49m\u001b[43m(\u001b[49m\u001b[43mkey\u001b[49m\u001b[43m)\u001b[49m\n\u001b[1;32m   5383\u001b[0m \u001b[38;5;66;03m# Because we ruled out integer above, we always get an arraylike here\u001b[39;00m\n\u001b[1;32m   5384\u001b[0m \u001b[38;5;28;01mif\u001b[39;00m result\u001b[38;5;241m.\u001b[39mndim \u001b[38;5;241m>\u001b[39m \u001b[38;5;241m1\u001b[39m:\n",
      "\u001b[0;31mIndexError\u001b[0m: boolean index did not match indexed array along dimension 0; dimension is 17 but corresponding boolean dimension is 8"
     ]
    }
   ],
   "source": [
    "selected_features = list(region_dfs[\"NEM\"].columns[1:][model.get_support()])\n",
    "print(selected_features)"
   ]
  },
  {
   "cell_type": "code",
   "execution_count": 198,
   "id": "9608a661-65b0-4fad-8524-64686eb2bbcd",
   "metadata": {},
   "outputs": [
    {
     "data": {
      "text/plain": [
       "array([ True, False, False, False, False, False, False, False])"
      ]
     },
     "execution_count": 198,
     "metadata": {},
     "output_type": "execute_result"
    }
   ],
   "source": [
    "model.get_support()"
   ]
  },
  {
   "cell_type": "markdown",
   "id": "59be8e8c-e20d-43b7-a24a-3355984d7d75",
   "metadata": {},
   "source": [
    "## Finalise best model"
   ]
  },
  {
   "cell_type": "code",
   "execution_count": 164,
   "id": "694d603f-38aa-403b-b327-7fafe44df0aa",
   "metadata": {},
   "outputs": [],
   "source": [
    "retain = [\"demand\"] + selected_features"
   ]
  },
  {
   "cell_type": "code",
   "execution_count": 165,
   "id": "1e7f7c2f-0b03-483b-9dda-83be10c6e1f3",
   "metadata": {},
   "outputs": [],
   "source": [
    "final_features = region_dfs[\"NEM\"][retain]"
   ]
  },
  {
   "cell_type": "code",
   "execution_count": 166,
   "id": "ba7ac74e-870e-4758-a68c-dd7370fee9bd",
   "metadata": {},
   "outputs": [],
   "source": [
    "train_X, test_X, train_y, test_y = split(\n",
    "    final_features,\n",
    "    \"demand\",\n",
    "    test_size=test_len,\n",
    "    random_state=0,\n",
    "    shuffle=False\n",
    ")"
   ]
  },
  {
   "cell_type": "code",
   "execution_count": 167,
   "id": "dcc0c4c8-8120-45a9-a193-513a77b6a72d",
   "metadata": {},
   "outputs": [],
   "source": [
    "rf = RandomForestRegressor(\n",
    "    n_estimators=best_params[\"n_estimators\"],\n",
    "    random_state=0\n",
    ")"
   ]
  },
  {
   "cell_type": "code",
   "execution_count": 168,
   "id": "c5b283c6-774a-4ec6-a5a6-96dfa961c995",
   "metadata": {},
   "outputs": [],
   "source": [
    "def predict_forest(train_y, train_X, test_X, rf):\n",
    "    \"\"\"\n",
    "    Instantiate and fit a random forest model, return predictions.\n",
    "    \n",
    "    train_y: target for training set\n",
    "    train_X: predictors for training set\n",
    "    test_X: predictors for test set\n",
    "    rf: RandomForestRegressor\n",
    "    \"\"\"\n",
    "    rf.fit(train_X, train_y)\n",
    "    return rf, rf.predict(test_X)"
   ]
  },
  {
   "cell_type": "code",
   "execution_count": 169,
   "id": "ed294f4c-4136-45db-9472-c17ad6c88794",
   "metadata": {},
   "outputs": [],
   "source": [
    "model_train, pred_train = predict_forest(train_y, train_X, train_X, rf)"
   ]
  },
  {
   "cell_type": "code",
   "execution_count": 170,
   "id": "d852debe-5307-4d89-83d2-afa77924f9c1",
   "metadata": {},
   "outputs": [],
   "source": [
    "model_test, pred_test = predict_forest(train_y, train_X, test_X, rf)"
   ]
  },
  {
   "cell_type": "code",
   "execution_count": 171,
   "id": "52574d52-8511-45ed-afee-dc56095c627a",
   "metadata": {},
   "outputs": [
    {
     "data": {
      "text/plain": [
       "(3287,)"
      ]
     },
     "execution_count": 171,
     "metadata": {},
     "output_type": "execute_result"
    }
   ],
   "source": [
    "pred_train.shape"
   ]
  },
  {
   "cell_type": "code",
   "execution_count": 172,
   "id": "b8bae4f7-a310-490b-9bec-b2e493d06769",
   "metadata": {},
   "outputs": [
    {
     "data": {
      "text/plain": [
       "(730,)"
      ]
     },
     "execution_count": 172,
     "metadata": {},
     "output_type": "execute_result"
    }
   ],
   "source": [
    "pred_test.shape"
   ]
  },
  {
   "cell_type": "markdown",
   "id": "2be55ccf-24cd-4bc3-9ee7-ae014c381b80",
   "metadata": {},
   "source": [
    "## Evaluate performance"
   ]
  },
  {
   "cell_type": "code",
   "execution_count": 173,
   "id": "364d8e58-b114-4712-b08b-43b46326c43e",
   "metadata": {},
   "outputs": [],
   "source": [
    "def compute_scores(y_true, y_pred, metrics):\n",
    "    \"\"\"\n",
    "    Compute scores for a variety of metrics.\n",
    "    \n",
    "    y_true: observations\n",
    "    y_predict: predictions\n",
    "    metrics: list of scores from sklearn.metrics\n",
    "    \"\"\"\n",
    "    scores = []\n",
    "    for metric in metrics:\n",
    "        s = metric(y_true, y_pred)\n",
    "        scores.append(s)\n",
    "    return scores"
   ]
  },
  {
   "cell_type": "code",
   "execution_count": 174,
   "id": "23d54ec0-8edb-48be-a4d1-8800c66ce2c3",
   "metadata": {},
   "outputs": [],
   "source": [
    "metric_names = [\"r\", \"R2\", \"MAE\", \"MSE\", \"MAPE\", \"MedAE\"]\n",
    "metrics = [correlation, r2_score, mean_absolute_error,\n",
    "           mean_squared_error, mean_absolute_percentage_error, median_absolute_error]"
   ]
  },
  {
   "cell_type": "code",
   "execution_count": 175,
   "id": "fd1ba4e1-57c5-42a7-bf69-ddb24a4f64cd",
   "metadata": {},
   "outputs": [],
   "source": [
    "train_scores = compute_scores(train_y, pred_train, metrics)"
   ]
  },
  {
   "cell_type": "code",
   "execution_count": 176,
   "id": "20ad8af3-a453-4168-b384-8e39f723d20d",
   "metadata": {},
   "outputs": [
    {
     "data": {
      "text/plain": [
       "[0.057272845668372985,\n",
       " 0.8686268517585309,\n",
       " 8748.070204385904,\n",
       " 153086828.66750023,\n",
       " 1.0852642025815467,\n",
       " 6060.19652789017]"
      ]
     },
     "execution_count": 176,
     "metadata": {},
     "output_type": "execute_result"
    }
   ],
   "source": [
    "train_scores"
   ]
  },
  {
   "cell_type": "code",
   "execution_count": 177,
   "id": "49518192-4e06-478b-82fd-1849024b5786",
   "metadata": {},
   "outputs": [],
   "source": [
    "test_scores = compute_scores(test_y, pred_test, metrics)"
   ]
  },
  {
   "cell_type": "code",
   "execution_count": 178,
   "id": "63c17df0-d9eb-46af-ac90-9a0836891647",
   "metadata": {},
   "outputs": [
    {
     "data": {
      "text/plain": [
       "[0.5954869854351229,\n",
       " 0.12357888150134733,\n",
       " 26248.26086093379,\n",
       " 1246643128.2972689,\n",
       " 1.4465979762356393,\n",
       " 20215.41582718541]"
      ]
     },
     "execution_count": 178,
     "metadata": {},
     "output_type": "execute_result"
    }
   ],
   "source": [
    "test_scores"
   ]
  },
  {
   "cell_type": "code",
   "execution_count": 179,
   "id": "fed537ec-6894-433e-993f-42eb1e923cd0",
   "metadata": {},
   "outputs": [
    {
     "data": {
      "image/png": "[encoded data removed]",
      "text/plain": [
       "<Figure size 900x400 with 2 Axes>"
      ]
     },
     "metadata": {},
     "output_type": "display_data"
    }
   ],
   "source": [
    "fig, ax = plt.subplots(2, 1, figsize=(9, 4))\n",
    "\n",
    "ax[0].plot(train_y, label=\"Observations\")\n",
    "ax[0].plot(pred_train, label=\"Predictions\")\n",
    "ax[0].legend()\n",
    "ax[0].set_title(\"Training\")\n",
    "\n",
    "ax[1].plot(test_y)\n",
    "ax[1].plot(pred_test)\n",
    "ax[1].set_title(\"Test\")\n",
    "\n",
    "plt.tight_layout()"
   ]
  },
  {
   "cell_type": "markdown",
   "id": "373155fe-e195-4baf-b10b-85c67b697e64",
   "metadata": {},
   "source": [
    "## Permutation importances\n",
    "\n",
    "Compute these on the training and test sets. Differences tell us what the model actually used to make the predictions."
   ]
  },
  {
   "cell_type": "code",
   "execution_count": 180,
   "id": "3613403d-82b1-45f6-844c-3e879a618e1c",
   "metadata": {},
   "outputs": [],
   "source": [
    "def perm_imp(model, X, y, n_repeats, random_state=0):\n",
    "    \"\"\"\n",
    "    Permutation importances\n",
    "    \"\"\"\n",
    "    return permutation_importance(model, X, y, n_repeats=n_repeats, random_state=random_state)"
   ]
  },
  {
   "cell_type": "code",
   "execution_count": 181,
   "id": "6206c92a-4e23-472c-ba5b-15dffa1d702f",
   "metadata": {},
   "outputs": [],
   "source": [
    "perm_train = perm_imp(\n",
    "    model_train,\n",
    "    train_X,\n",
    "    train_y,\n",
    "    n_repeats=2,\n",
    ")"
   ]
  },
  {
   "cell_type": "code",
   "execution_count": 182,
   "id": "7208071a-f1ea-4031-8fa4-2b3b2b4b6d50",
   "metadata": {},
   "outputs": [],
   "source": [
    "perm_test = perm_imp(\n",
    "    model_test,\n",
    "    test_X,\n",
    "    test_y,\n",
    "    n_repeats=2,\n",
    ")"
   ]
  },
  {
   "cell_type": "code",
   "execution_count": 183,
   "id": "c7a9129b-157a-49f9-bd30-ecdddef3cfa4",
   "metadata": {},
   "outputs": [
    {
     "data": {
      "text/plain": [
       "{'importances_mean': array([0.51592232, 0.24112545, 0.17684197, 0.56857034, 0.50402279,\n",
       "        0.24656337, 0.23581277, 0.30753215]),\n",
       " 'importances_std': array([0.01818624, 0.00103512, 0.00476061, 0.00081237, 0.01178981,\n",
       "        0.00157386, 0.00419036, 0.00081622]),\n",
       " 'importances': array([[0.49773609, 0.53410856],\n",
       "        [0.24009033, 0.24216058],\n",
       "        [0.18160258, 0.17208136],\n",
       "        [0.56775797, 0.56938271],\n",
       "        [0.49223299, 0.5158126 ],\n",
       "        [0.24498951, 0.24813723],\n",
       "        [0.24000313, 0.23162241],\n",
       "        [0.30671593, 0.30834837]])}"
      ]
     },
     "execution_count": 183,
     "metadata": {},
     "output_type": "execute_result"
    }
   ],
   "source": [
    "perm_train"
   ]
  },
  {
   "cell_type": "code",
   "execution_count": 184,
   "id": "a9542d8f-89ee-487b-961b-e591edf6ed6f",
   "metadata": {},
   "outputs": [
    {
     "data": {
      "text/plain": [
       "{'importances_mean': array([ 0.11582942,  0.03576543,  0.00414824,  0.17781982,  0.16122564,\n",
       "        -0.09002724,  0.01258542,  0.03499416]),\n",
       " 'importances_std': array([0.00862077, 0.00290551, 0.00762519, 0.03802629, 0.01516939,\n",
       "        0.02046326, 0.00586123, 0.00915259]),\n",
       " 'importances': array([[ 0.10720866,  0.12445019],\n",
       "        [ 0.03285992,  0.03867094],\n",
       "        [ 0.01177343, -0.00347694],\n",
       "        [ 0.13979353,  0.21584611],\n",
       "        [ 0.17639503,  0.14605624],\n",
       "        [-0.06956398, -0.1104905 ],\n",
       "        [ 0.0067242 ,  0.01844665],\n",
       "        [ 0.04414676,  0.02584157]])}"
      ]
     },
     "execution_count": 184,
     "metadata": {},
     "output_type": "execute_result"
    }
   ],
   "source": [
    "perm_test"
   ]
  },
  {
   "cell_type": "code",
   "execution_count": 185,
   "id": "4813c3b2-e2d6-48a5-b0cc-3e84883615d1",
   "metadata": {},
   "outputs": [],
   "source": [
    "def print_perm_imp(perm_imp, features):\n",
    "    \"\"\"\n",
    "    Print permutation importance stats\n",
    "    \"\"\"\n",
    "    for i in perm_imp.importances_mean.argsort()[::-1]:\n",
    "        if perm_imp.importances_mean[i] - 2 * perm_imp.importances_std[i] > 0:\n",
    "            print(\n",
    "                f\"{features[i]:<8} \"\n",
    "                f\"{perm_imp.importances_mean[i]:.3f}\"\n",
    "                f\" +/- {perm_imp.importances_std[i]:.3f}\"\n",
    "            )"
   ]
  },
  {
   "cell_type": "code",
   "execution_count": 186,
   "id": "83e1e109-b737-4ce8-ac6c-72188f5163c9",
   "metadata": {},
   "outputs": [
    {
     "name": "stdout",
     "output_type": "stream",
     "text": [
      "hdd3     0.569 +/- 0.001\n",
      "is_weekend 0.516 +/- 0.018\n",
      "t2m      0.504 +/- 0.012\n",
      "cdd      0.308 +/- 0.001\n",
      "t2max    0.247 +/- 0.002\n",
      "msdwswrf 0.241 +/- 0.001\n",
      "cdd4     0.236 +/- 0.004\n",
      "mtpr     0.177 +/- 0.005\n"
     ]
    }
   ],
   "source": [
    "print_perm_imp(perm_train, selected_features)"
   ]
  },
  {
   "cell_type": "code",
   "execution_count": 187,
   "id": "b05661a2-27b8-47ba-a316-5bd3169e9f04",
   "metadata": {},
   "outputs": [
    {
     "name": "stdout",
     "output_type": "stream",
     "text": [
      "hdd3     0.178 +/- 0.038\n",
      "t2m      0.161 +/- 0.015\n",
      "is_weekend 0.116 +/- 0.009\n",
      "msdwswrf 0.036 +/- 0.003\n",
      "cdd      0.035 +/- 0.009\n",
      "cdd4     0.013 +/- 0.006\n"
     ]
    }
   ],
   "source": [
    "print_perm_imp(perm_test, selected_features)"
   ]
  },
  {
   "cell_type": "code",
   "execution_count": 190,
   "id": "7782aa93-14ab-4b1b-8ea1-6a23228b3d9f",
   "metadata": {},
   "outputs": [
    {
     "name": "stdout",
     "output_type": "stream",
     "text": [
      "3\n",
      "0\n",
      "4\n",
      "7\n",
      "5\n",
      "1\n",
      "6\n",
      "2\n"
     ]
    }
   ],
   "source": [
    "for i in perm_train.importances_mean.argsort()[::-1]:\n",
    "    print(i)"
   ]
  },
  {
   "cell_type": "code",
   "execution_count": null,
   "id": "7be66240-b4bb-45c9-bac6-8e82c996d4a1",
   "metadata": {},
   "outputs": [],
   "source": []
  }
 ],
 "metadata": {
  "kernelspec": {
   "display_name": "Python (pangeo)",
   "language": "python",
   "name": "pangeo"
  },
  "language_info": {
   "codemirror_mode": {
    "name": "ipython",
    "version": 3
   },
   "file_extension": ".py",
   "mimetype": "text/x-python",
   "name": "python",
   "nbconvert_exporter": "python",
   "pygments_lexer": "ipython3",
   "version": "3.10.8"
  }
 },
 "nbformat": 4,
 "nbformat_minor": 5
}
