{
 "cells": [
  {
   "cell_type": "markdown",
   "id": "7ca7eab1-334a-400c-8f50-70eb48d45296",
   "metadata": {},
   "source": [
    "# Analyse ERA5 demand for NEM"
   ]
  },
  {
   "cell_type": "code",
   "execution_count": 1,
   "id": "3b4056c3-c92b-4d90-9b47-a23182be0776",
   "metadata": {},
   "outputs": [],
   "source": [
    "import xarray as xr\n",
    "import pandas as pd\n",
    "\n",
    "import matplotlib.pyplot as plt"
   ]
  },
  {
   "cell_type": "code",
   "execution_count": 2,
   "id": "bb88b1e8-eae2-405b-98f2-e78be4bb1d56",
   "metadata": {},
   "outputs": [
    {
     "name": "stdout",
     "output_type": "stream",
     "text": [
      "/g/data/w42/dr6273/work/demand_model\n"
     ]
    }
   ],
   "source": [
    "%cd /g/data/w42/dr6273/work/demand_model/\n",
    "\n",
    "import functions as fn"
   ]
  },
  {
   "cell_type": "code",
   "execution_count": 3,
   "id": "99695b52-b66a-469e-bb05-b531e3327b9f",
   "metadata": {},
   "outputs": [],
   "source": [
    "%load_ext autoreload\n",
    "%autoreload 2"
   ]
  },
  {
   "cell_type": "markdown",
   "id": "dae90325-7619-4cb5-bd8c-4107a32cba1b",
   "metadata": {},
   "source": [
    "### Set global variables"
   ]
  },
  {
   "cell_type": "code",
   "execution_count": 4,
   "id": "cb452c7c-9cba-456b-9447-e9ec4d04b24e",
   "metadata": {},
   "outputs": [],
   "source": [
    "RESULTS_PATH = \"/g/data/w42/dr6273/work/projects/Aus_energy/model_results/\""
   ]
  },
  {
   "cell_type": "code",
   "execution_count": 5,
   "id": "320da562-9164-4a9c-9c69-9ca257c96bc8",
   "metadata": {},
   "outputs": [],
   "source": [
    "MARKET = \"NEM\" # \"NEM\" or \"EU\""
   ]
  },
  {
   "cell_type": "code",
   "execution_count": 6,
   "id": "0b94b6c2-f049-4ce3-ba6a-575bcf6fdb9f",
   "metadata": {},
   "outputs": [],
   "source": [
    "REMOVE_WEEKEND = True"
   ]
  },
  {
   "cell_type": "code",
   "execution_count": 7,
   "id": "bdd8357e-04a2-4df9-8a60-db143b5fbd45",
   "metadata": {},
   "outputs": [],
   "source": [
    "REMOVE_XMAS = True"
   ]
  },
  {
   "cell_type": "code",
   "execution_count": 8,
   "id": "fb89ccfb-bd3f-4eb6-bd8e-9f1b0a5e6b5f",
   "metadata": {},
   "outputs": [],
   "source": [
    "REMOVE_MONTH = 0 # integer: [1, 12]"
   ]
  },
  {
   "cell_type": "code",
   "execution_count": 9,
   "id": "b0d86628-2694-4543-a9af-916b1cca9005",
   "metadata": {},
   "outputs": [],
   "source": [
    "MASK_NAME = \"pop_dens_mask\""
   ]
  },
  {
   "cell_type": "code",
   "execution_count": 10,
   "id": "8d2e42a8-241e-4fed-a66e-233638a5ac08",
   "metadata": {},
   "outputs": [],
   "source": [
    "TIME_COLUMNS = []"
   ]
  },
  {
   "cell_type": "code",
   "execution_count": 11,
   "id": "7b0ece9b-148f-430a-b546-6de800f191bd",
   "metadata": {},
   "outputs": [],
   "source": [
    "FIRST_TRAIN_YEAR = 2010\n",
    "LAST_TRAIN_YEAR = 2019"
   ]
  },
  {
   "cell_type": "code",
   "execution_count": 12,
   "id": "feab51a0-4261-4a48-9d4f-da9783961bb4",
   "metadata": {},
   "outputs": [],
   "source": [
    "FIRST_TEST_YEAR = 1959\n",
    "LAST_TEST_YEAR = 2022"
   ]
  },
  {
   "cell_type": "code",
   "execution_count": 13,
   "id": "2f2eff62-38fc-47a6-9851-adaf2bc0205b",
   "metadata": {},
   "outputs": [],
   "source": [
    "N_FEATURES = \"parsimonious\""
   ]
  },
  {
   "cell_type": "code",
   "execution_count": 14,
   "id": "e029f07b-1b58-44c7-ae6b-0284041dbc48",
   "metadata": {},
   "outputs": [],
   "source": [
    "regions = [\"NEM\", \"QLD\", \"NSW\", \"VIC\", \"SA\", \"TAS\"]"
   ]
  },
  {
   "cell_type": "markdown",
   "id": "24462422-0742-4a06-a17b-3eb427aed883",
   "metadata": {},
   "source": [
    "### Load demand and climate data"
   ]
  },
  {
   "cell_type": "code",
   "execution_count": 16,
   "id": "185d7d9b-e5dc-47e3-a438-8d995e2a1719",
   "metadata": {},
   "outputs": [],
   "source": [
    "predictions = fn.read_results(\n",
    "    \"extrapolated\", MARKET, regions, MASK_NAME,\n",
    "    FIRST_TRAIN_YEAR, LAST_TRAIN_YEAR, FIRST_TEST_YEAR, LAST_TEST_YEAR,\n",
    "    REMOVE_WEEKEND, REMOVE_XMAS, REMOVE_MONTH, N_FEATURES, RESULTS_PATH\n",
    ")"
   ]
  },
  {
   "cell_type": "code",
   "execution_count": 18,
   "id": "f5fd4f62-8c24-4fa6-8905-e0318ef93bb0",
   "metadata": {},
   "outputs": [
    {
     "data": {
      "text/html": [
       "<div>\n",
       "<style scoped>\n",
       "    .dataframe tbody tr th:only-of-type {\n",
       "        vertical-align: middle;\n",
       "    }\n",
       "\n",
       "    .dataframe tbody tr th {\n",
       "        vertical-align: top;\n",
       "    }\n",
       "\n",
       "    .dataframe thead th {\n",
       "        text-align: right;\n",
       "    }\n",
       "</style>\n",
       "<table border=\"1\" class=\"dataframe\">\n",
       "  <thead>\n",
       "    <tr style=\"text-align: right;\">\n",
       "      <th></th>\n",
       "      <th>t2m</th>\n",
       "      <th>t2m3</th>\n",
       "      <th>q</th>\n",
       "      <th>t2max</th>\n",
       "      <th>t2m4</th>\n",
       "      <th>msdwswrf</th>\n",
       "      <th>w10</th>\n",
       "      <th>prediction</th>\n",
       "    </tr>\n",
       "  </thead>\n",
       "  <tbody>\n",
       "    <tr>\n",
       "      <th>1959-01-04</th>\n",
       "      <td>292.904607</td>\n",
       "      <td>292.351146</td>\n",
       "      <td>10.183963</td>\n",
       "      <td>296.121422</td>\n",
       "      <td>292.490276</td>\n",
       "      <td>235.340160</td>\n",
       "      <td>6.007419</td>\n",
       "      <td>189939.367628</td>\n",
       "    </tr>\n",
       "    <tr>\n",
       "      <th>1959-01-05</th>\n",
       "      <td>294.455309</td>\n",
       "      <td>293.120335</td>\n",
       "      <td>11.235348</td>\n",
       "      <td>298.898968</td>\n",
       "      <td>292.877072</td>\n",
       "      <td>240.777347</td>\n",
       "      <td>3.701544</td>\n",
       "      <td>195404.722001</td>\n",
       "    </tr>\n",
       "    <tr>\n",
       "      <th>1959-01-06</th>\n",
       "      <td>296.243787</td>\n",
       "      <td>294.534379</td>\n",
       "      <td>12.404513</td>\n",
       "      <td>302.511708</td>\n",
       "      <td>293.901080</td>\n",
       "      <td>328.838998</td>\n",
       "      <td>2.394181</td>\n",
       "      <td>206266.436894</td>\n",
       "    </tr>\n",
       "    <tr>\n",
       "      <th>1959-01-07</th>\n",
       "      <td>294.363170</td>\n",
       "      <td>295.020559</td>\n",
       "      <td>11.541422</td>\n",
       "      <td>297.306252</td>\n",
       "      <td>294.491463</td>\n",
       "      <td>200.448106</td>\n",
       "      <td>3.081799</td>\n",
       "      <td>198105.242022</td>\n",
       "    </tr>\n",
       "    <tr>\n",
       "      <th>1959-01-08</th>\n",
       "      <td>293.452509</td>\n",
       "      <td>294.686302</td>\n",
       "      <td>10.831533</td>\n",
       "      <td>296.382980</td>\n",
       "      <td>294.628429</td>\n",
       "      <td>189.942145</td>\n",
       "      <td>3.716499</td>\n",
       "      <td>195268.810449</td>\n",
       "    </tr>\n",
       "    <tr>\n",
       "      <th>...</th>\n",
       "      <td>...</td>\n",
       "      <td>...</td>\n",
       "      <td>...</td>\n",
       "      <td>...</td>\n",
       "      <td>...</td>\n",
       "      <td>...</td>\n",
       "      <td>...</td>\n",
       "      <td>...</td>\n",
       "    </tr>\n",
       "    <tr>\n",
       "      <th>2022-12-27</th>\n",
       "      <td>295.482282</td>\n",
       "      <td>295.553553</td>\n",
       "      <td>10.964935</td>\n",
       "      <td>300.465671</td>\n",
       "      <td>295.500503</td>\n",
       "      <td>364.392888</td>\n",
       "      <td>3.231640</td>\n",
       "      <td>205758.307990</td>\n",
       "    </tr>\n",
       "    <tr>\n",
       "      <th>2022-12-28</th>\n",
       "      <td>295.562816</td>\n",
       "      <td>295.626142</td>\n",
       "      <td>11.385294</td>\n",
       "      <td>300.935108</td>\n",
       "      <td>295.555985</td>\n",
       "      <td>338.085927</td>\n",
       "      <td>2.303274</td>\n",
       "      <td>206442.485035</td>\n",
       "    </tr>\n",
       "    <tr>\n",
       "      <th>2022-12-29</th>\n",
       "      <td>292.976621</td>\n",
       "      <td>294.674093</td>\n",
       "      <td>11.841895</td>\n",
       "      <td>296.848573</td>\n",
       "      <td>294.963887</td>\n",
       "      <td>185.532437</td>\n",
       "      <td>2.955222</td>\n",
       "      <td>195194.041483</td>\n",
       "    </tr>\n",
       "    <tr>\n",
       "      <th>2022-12-30</th>\n",
       "      <td>293.162622</td>\n",
       "      <td>293.900879</td>\n",
       "      <td>11.846156</td>\n",
       "      <td>296.007845</td>\n",
       "      <td>294.296345</td>\n",
       "      <td>182.443168</td>\n",
       "      <td>2.578790</td>\n",
       "      <td>194339.469509</td>\n",
       "    </tr>\n",
       "    <tr>\n",
       "      <th>2022-12-31</th>\n",
       "      <td>294.620444</td>\n",
       "      <td>293.586758</td>\n",
       "      <td>12.237021</td>\n",
       "      <td>296.964165</td>\n",
       "      <td>294.080889</td>\n",
       "      <td>250.202700</td>\n",
       "      <td>2.790215</td>\n",
       "      <td>198951.592124</td>\n",
       "    </tr>\n",
       "  </tbody>\n",
       "</table>\n",
       "<p>23373 rows × 8 columns</p>\n",
       "</div>"
      ],
      "text/plain": [
       "                   t2m        t2m3          q       t2max        t2m4  \\\n",
       "1959-01-04  292.904607  292.351146  10.183963  296.121422  292.490276   \n",
       "1959-01-05  294.455309  293.120335  11.235348  298.898968  292.877072   \n",
       "1959-01-06  296.243787  294.534379  12.404513  302.511708  293.901080   \n",
       "1959-01-07  294.363170  295.020559  11.541422  297.306252  294.491463   \n",
       "1959-01-08  293.452509  294.686302  10.831533  296.382980  294.628429   \n",
       "...                ...         ...        ...         ...         ...   \n",
       "2022-12-27  295.482282  295.553553  10.964935  300.465671  295.500503   \n",
       "2022-12-28  295.562816  295.626142  11.385294  300.935108  295.555985   \n",
       "2022-12-29  292.976621  294.674093  11.841895  296.848573  294.963887   \n",
       "2022-12-30  293.162622  293.900879  11.846156  296.007845  294.296345   \n",
       "2022-12-31  294.620444  293.586758  12.237021  296.964165  294.080889   \n",
       "\n",
       "              msdwswrf       w10     prediction  \n",
       "1959-01-04  235.340160  6.007419  189939.367628  \n",
       "1959-01-05  240.777347  3.701544  195404.722001  \n",
       "1959-01-06  328.838998  2.394181  206266.436894  \n",
       "1959-01-07  200.448106  3.081799  198105.242022  \n",
       "1959-01-08  189.942145  3.716499  195268.810449  \n",
       "...                ...       ...            ...  \n",
       "2022-12-27  364.392888  3.231640  205758.307990  \n",
       "2022-12-28  338.085927  2.303274  206442.485035  \n",
       "2022-12-29  185.532437  2.955222  195194.041483  \n",
       "2022-12-30  182.443168  2.578790  194339.469509  \n",
       "2022-12-31  250.202700  2.790215  198951.592124  \n",
       "\n",
       "[23373 rows x 8 columns]"
      ]
     },
     "execution_count": 18,
     "metadata": {},
     "output_type": "execute_result"
    }
   ],
   "source": [
    "predictions[\"NSW\"]"
   ]
  }
 ],
 "metadata": {
  "kernelspec": {
   "display_name": "Python (pangeo_ML)",
   "language": "python",
   "name": "pangeo_ml"
  },
  "language_info": {
   "codemirror_mode": {
    "name": "ipython",
    "version": 3
   },
   "file_extension": ".py",
   "mimetype": "text/x-python",
   "name": "python",
   "nbconvert_exporter": "python",
   "pygments_lexer": "ipython3",
   "version": "3.10.8"
  }
 },
 "nbformat": 4,
 "nbformat_minor": 5
}
