{
 "cells": [
  {
   "cell_type": "markdown",
   "id": "2f1813ab-7872-462d-a67d-8f7da6c6b5e1",
   "metadata": {},
   "source": [
    "# NEM demand from `NEMOSIS`"
   ]
  },
  {
   "cell_type": "code",
   "execution_count": 1,
   "id": "ef30ae7d-6e4b-4c75-9229-d0226bb01fc2",
   "metadata": {},
   "outputs": [],
   "source": [
    "import pandas as pd\n",
    "\n",
    "import glob"
   ]
  },
  {
   "cell_type": "markdown",
   "id": "b9c710c7-a83f-4e73-809d-4d4ac7230cfd",
   "metadata": {},
   "source": [
    "### Open demand data"
   ]
  },
  {
   "cell_type": "code",
   "execution_count": 2,
   "id": "66af631b-4a56-4df2-bc2f-57bb80d6a707",
   "metadata": {},
   "outputs": [],
   "source": [
    "data_path = \"/g/data/w42/dr6273/tmp/\""
   ]
  },
  {
   "cell_type": "code",
   "execution_count": 3,
   "id": "1c3aa010-56bd-46d3-9c1b-561595a934b9",
   "metadata": {},
   "outputs": [
    {
     "data": {
      "text/plain": [
       "['/g/data/w42/dr6273/tmp/PUBLIC_DVD_TRADINGREGIONSUM_200912010000.CSV',\n",
       " '/g/data/w42/dr6273/tmp/PUBLIC_DVD_TRADINGREGIONSUM_201001010000.CSV',\n",
       " '/g/data/w42/dr6273/tmp/PUBLIC_DVD_TRADINGREGIONSUM_201002010000.CSV']"
      ]
     },
     "execution_count": 3,
     "metadata": {},
     "output_type": "execute_result"
    }
   ],
   "source": [
    "files = sorted(glob.glob(data_path+\"*TRADING*.CSV\")) # TRADING is for 30min demand\n",
    "files[:3]"
   ]
  },
  {
   "cell_type": "code",
   "execution_count": 5,
   "id": "78c3d916-2f9b-441a-a777-36448aa27673",
   "metadata": {},
   "outputs": [],
   "source": [
    "def open_df(path):\n",
    "    return pd.read_csv(\n",
    "        path,\n",
    "        header=1,\n",
    "        usecols=[\"REGIONID\", \"SETTLEMENTDATE\", \"TOTALDEMAND\"],\n",
    "        parse_dates=[\"SETTLEMENTDATE\"],\n",
    "        index_col=\"SETTLEMENTDATE\",\n",
    "    )"
   ]
  },
  {
   "cell_type": "code",
   "execution_count": 8,
   "id": "fc2c5829-e1d4-4db9-a53f-80a39a557a0d",
   "metadata": {},
   "outputs": [],
   "source": [
    "dfs = [open_df(f) for f in files]"
   ]
  },
  {
   "cell_type": "code",
   "execution_count": 74,
   "id": "430adb88-21f9-41f9-831e-a8260aa254a4",
   "metadata": {},
   "outputs": [],
   "source": [
    "df = pd.concat(dfs)"
   ]
  },
  {
   "cell_type": "markdown",
   "id": "83ea6314-65e0-4c47-8899-309f1b7812d9",
   "metadata": {},
   "source": [
    "Remove NaNs"
   ]
  },
  {
   "cell_type": "code",
   "execution_count": 80,
   "id": "7aba9e01-210e-4883-bfc9-05a498c652bf",
   "metadata": {},
   "outputs": [
    {
     "data": {
      "text/html": [
       "<div>\n",
       "<style scoped>\n",
       "    .dataframe tbody tr th:only-of-type {\n",
       "        vertical-align: middle;\n",
       "    }\n",
       "\n",
       "    .dataframe tbody tr th {\n",
       "        vertical-align: top;\n",
       "    }\n",
       "\n",
       "    .dataframe thead th {\n",
       "        text-align: right;\n",
       "    }\n",
       "</style>\n",
       "<table border=\"1\" class=\"dataframe\">\n",
       "  <thead>\n",
       "    <tr style=\"text-align: right;\">\n",
       "      <th></th>\n",
       "      <th>REGIONID</th>\n",
       "      <th>TOTALDEMAND</th>\n",
       "    </tr>\n",
       "    <tr>\n",
       "      <th>SETTLEMENTDATE</th>\n",
       "      <th></th>\n",
       "      <th></th>\n",
       "    </tr>\n",
       "  </thead>\n",
       "  <tbody>\n",
       "    <tr>\n",
       "      <th>NaT</th>\n",
       "      <td>NaN</td>\n",
       "      <td>NaN</td>\n",
       "    </tr>\n",
       "    <tr>\n",
       "      <th>NaT</th>\n",
       "      <td>NaN</td>\n",
       "      <td>NaN</td>\n",
       "    </tr>\n",
       "    <tr>\n",
       "      <th>NaT</th>\n",
       "      <td>NaN</td>\n",
       "      <td>NaN</td>\n",
       "    </tr>\n",
       "    <tr>\n",
       "      <th>NaT</th>\n",
       "      <td>NaN</td>\n",
       "      <td>NaN</td>\n",
       "    </tr>\n",
       "    <tr>\n",
       "      <th>NaT</th>\n",
       "      <td>NaN</td>\n",
       "      <td>NaN</td>\n",
       "    </tr>\n",
       "  </tbody>\n",
       "</table>\n",
       "</div>"
      ],
      "text/plain": [
       "               REGIONID  TOTALDEMAND\n",
       "SETTLEMENTDATE                      \n",
       "NaT                 NaN          NaN\n",
       "NaT                 NaN          NaN\n",
       "NaT                 NaN          NaN\n",
       "NaT                 NaN          NaN\n",
       "NaT                 NaN          NaN"
      ]
     },
     "execution_count": 80,
     "metadata": {},
     "output_type": "execute_result"
    }
   ],
   "source": [
    "df.loc[df.REGIONID.isnull()].head()"
   ]
  },
  {
   "cell_type": "code",
   "execution_count": 81,
   "id": "ae3992c9-b788-450e-bfd8-dd08ed55e1a3",
   "metadata": {},
   "outputs": [],
   "source": [
    "df = df.loc[~df.REGIONID.isnull()]"
   ]
  },
  {
   "cell_type": "code",
   "execution_count": 82,
   "id": "c86566a1-e7af-4394-9020-d08bf3a5f666",
   "metadata": {},
   "outputs": [
    {
     "data": {
      "text/html": [
       "<div>\n",
       "<style scoped>\n",
       "    .dataframe tbody tr th:only-of-type {\n",
       "        vertical-align: middle;\n",
       "    }\n",
       "\n",
       "    .dataframe tbody tr th {\n",
       "        vertical-align: top;\n",
       "    }\n",
       "\n",
       "    .dataframe thead th {\n",
       "        text-align: right;\n",
       "    }\n",
       "</style>\n",
       "<table border=\"1\" class=\"dataframe\">\n",
       "  <thead>\n",
       "    <tr style=\"text-align: right;\">\n",
       "      <th></th>\n",
       "      <th>REGIONID</th>\n",
       "      <th>TOTALDEMAND</th>\n",
       "    </tr>\n",
       "    <tr>\n",
       "      <th>SETTLEMENTDATE</th>\n",
       "      <th></th>\n",
       "      <th></th>\n",
       "    </tr>\n",
       "  </thead>\n",
       "  <tbody>\n",
       "    <tr>\n",
       "      <th>2009-12-01 00:30:00</th>\n",
       "      <td>NSW1</td>\n",
       "      <td>7506.77</td>\n",
       "    </tr>\n",
       "    <tr>\n",
       "      <th>2009-12-01 00:30:00</th>\n",
       "      <td>QLD1</td>\n",
       "      <td>5723.40</td>\n",
       "    </tr>\n",
       "    <tr>\n",
       "      <th>2009-12-01 00:30:00</th>\n",
       "      <td>SA1</td>\n",
       "      <td>1361.08</td>\n",
       "    </tr>\n",
       "    <tr>\n",
       "      <th>2009-12-01 00:30:00</th>\n",
       "      <td>TAS1</td>\n",
       "      <td>1041.04</td>\n",
       "    </tr>\n",
       "    <tr>\n",
       "      <th>2009-12-01 00:30:00</th>\n",
       "      <td>VIC1</td>\n",
       "      <td>4860.18</td>\n",
       "    </tr>\n",
       "    <tr>\n",
       "      <th>...</th>\n",
       "      <td>...</td>\n",
       "      <td>...</td>\n",
       "    </tr>\n",
       "    <tr>\n",
       "      <th>2021-02-01 00:00:00</th>\n",
       "      <td>NSW1</td>\n",
       "      <td>6855.82</td>\n",
       "    </tr>\n",
       "    <tr>\n",
       "      <th>2021-02-01 00:00:00</th>\n",
       "      <td>QLD1</td>\n",
       "      <td>6145.83</td>\n",
       "    </tr>\n",
       "    <tr>\n",
       "      <th>2021-02-01 00:00:00</th>\n",
       "      <td>SA1</td>\n",
       "      <td>1369.41</td>\n",
       "    </tr>\n",
       "    <tr>\n",
       "      <th>2021-02-01 00:00:00</th>\n",
       "      <td>TAS1</td>\n",
       "      <td>963.32</td>\n",
       "    </tr>\n",
       "    <tr>\n",
       "      <th>2021-02-01 00:00:00</th>\n",
       "      <td>VIC1</td>\n",
       "      <td>4380.48</td>\n",
       "    </tr>\n",
       "  </tbody>\n",
       "</table>\n",
       "<p>980880 rows × 2 columns</p>\n",
       "</div>"
      ],
      "text/plain": [
       "                    REGIONID  TOTALDEMAND\n",
       "SETTLEMENTDATE                           \n",
       "2009-12-01 00:30:00     NSW1      7506.77\n",
       "2009-12-01 00:30:00     QLD1      5723.40\n",
       "2009-12-01 00:30:00      SA1      1361.08\n",
       "2009-12-01 00:30:00     TAS1      1041.04\n",
       "2009-12-01 00:30:00     VIC1      4860.18\n",
       "...                      ...          ...\n",
       "2021-02-01 00:00:00     NSW1      6855.82\n",
       "2021-02-01 00:00:00     QLD1      6145.83\n",
       "2021-02-01 00:00:00      SA1      1369.41\n",
       "2021-02-01 00:00:00     TAS1       963.32\n",
       "2021-02-01 00:00:00     VIC1      4380.48\n",
       "\n",
       "[980880 rows x 2 columns]"
      ]
     },
     "execution_count": 82,
     "metadata": {},
     "output_type": "execute_result"
    }
   ],
   "source": [
    "df"
   ]
  },
  {
   "cell_type": "code",
   "execution_count": 70,
   "id": "d0a77419-9b32-4323-a4e8-819800e6c9f3",
   "metadata": {},
   "outputs": [
    {
     "data": {
      "text/plain": [
       "979200"
      ]
     },
     "execution_count": 70,
     "metadata": {},
     "output_type": "execute_result"
    }
   ],
   "source": [
    "len(pd.date_range(\"2009-12-01 00:30:00\", \"2021-02-01 00:00:00\", freq=\"30min\")) * 5"
   ]
  },
  {
   "cell_type": "markdown",
   "id": "76b9aca6-ae62-495d-b3ad-1e94b14d26bb",
   "metadata": {},
   "source": [
    "Lengths don't match because we have some duplicate index values. Don't remove now as need to retain each region"
   ]
  },
  {
   "cell_type": "code",
   "execution_count": 87,
   "id": "c3c70ab6-cbc8-46b3-8ba7-93c13729bdfe",
   "metadata": {},
   "outputs": [
    {
     "data": {
      "text/plain": [
       "195840"
      ]
     },
     "execution_count": 87,
     "metadata": {},
     "output_type": "execute_result"
    }
   ],
   "source": [
    "len(pd.date_range(\"2009-12-01 00:30:00\", \"2021-02-01 00:00:00\", freq=\"30min\"))"
   ]
  },
  {
   "cell_type": "markdown",
   "id": "ed9c6a08-472d-4dbc-8ef7-d5bc31e1fc46",
   "metadata": {},
   "source": [
    "### Process each region separately"
   ]
  },
  {
   "cell_type": "code",
   "execution_count": 83,
   "id": "5795909f-77d6-4532-8ef0-d10dda2e0afc",
   "metadata": {},
   "outputs": [
    {
     "data": {
      "text/plain": [
       "array(['NSW1', 'QLD1', 'SA1', 'TAS1', 'VIC1'], dtype=object)"
      ]
     },
     "execution_count": 83,
     "metadata": {},
     "output_type": "execute_result"
    }
   ],
   "source": [
    "regions = pd.unique(df.REGIONID)\n",
    "regions"
   ]
  },
  {
   "cell_type": "code",
   "execution_count": 108,
   "id": "06515d24-e173-478f-95e1-38ca62d7fa7d",
   "metadata": {},
   "outputs": [],
   "source": [
    "dfs = []\n",
    "for r in regions:\n",
    "    rdf = df.loc[df.REGIONID == r]\n",
    "    rdf = rdf.loc[~rdf.index.duplicated()]\n",
    "    rdf = rdf.drop(\"REGIONID\", axis=1)\n",
    "    rdf.columns = [r]\n",
    "    dfs.append(rdf)"
   ]
  },
  {
   "cell_type": "code",
   "execution_count": 109,
   "id": "d8096092-2520-4ae5-8943-eef7f2d288db",
   "metadata": {},
   "outputs": [
    {
     "data": {
      "text/plain": [
       "195840"
      ]
     },
     "execution_count": 109,
     "metadata": {},
     "output_type": "execute_result"
    }
   ],
   "source": [
    "len(rdf)"
   ]
  },
  {
   "cell_type": "code",
   "execution_count": 112,
   "id": "0cc50282-92cb-44c8-bec2-c3dc902160ea",
   "metadata": {},
   "outputs": [
    {
     "data": {
      "text/html": [
       "<div>\n",
       "<style scoped>\n",
       "    .dataframe tbody tr th:only-of-type {\n",
       "        vertical-align: middle;\n",
       "    }\n",
       "\n",
       "    .dataframe tbody tr th {\n",
       "        vertical-align: top;\n",
       "    }\n",
       "\n",
       "    .dataframe thead th {\n",
       "        text-align: right;\n",
       "    }\n",
       "</style>\n",
       "<table border=\"1\" class=\"dataframe\">\n",
       "  <thead>\n",
       "    <tr style=\"text-align: right;\">\n",
       "      <th></th>\n",
       "      <th>NSW1</th>\n",
       "      <th>QLD1</th>\n",
       "      <th>SA1</th>\n",
       "      <th>TAS1</th>\n",
       "      <th>VIC1</th>\n",
       "    </tr>\n",
       "    <tr>\n",
       "      <th>SETTLEMENTDATE</th>\n",
       "      <th></th>\n",
       "      <th></th>\n",
       "      <th></th>\n",
       "      <th></th>\n",
       "      <th></th>\n",
       "    </tr>\n",
       "  </thead>\n",
       "  <tbody>\n",
       "    <tr>\n",
       "      <th>2009-12-01 00:30:00</th>\n",
       "      <td>7506.77</td>\n",
       "      <td>5723.40</td>\n",
       "      <td>1361.08</td>\n",
       "      <td>1041.04</td>\n",
       "      <td>4860.18</td>\n",
       "    </tr>\n",
       "    <tr>\n",
       "      <th>2009-12-01 01:00:00</th>\n",
       "      <td>7264.11</td>\n",
       "      <td>5532.81</td>\n",
       "      <td>1338.40</td>\n",
       "      <td>1038.98</td>\n",
       "      <td>4767.34</td>\n",
       "    </tr>\n",
       "    <tr>\n",
       "      <th>2009-12-01 01:30:00</th>\n",
       "      <td>7028.90</td>\n",
       "      <td>5415.17</td>\n",
       "      <td>1268.45</td>\n",
       "      <td>1028.18</td>\n",
       "      <td>5096.30</td>\n",
       "    </tr>\n",
       "    <tr>\n",
       "      <th>2009-12-01 02:00:00</th>\n",
       "      <td>6754.74</td>\n",
       "      <td>5270.51</td>\n",
       "      <td>1201.43</td>\n",
       "      <td>1032.79</td>\n",
       "      <td>4991.59</td>\n",
       "    </tr>\n",
       "    <tr>\n",
       "      <th>2009-12-01 02:30:00</th>\n",
       "      <td>6568.64</td>\n",
       "      <td>5206.92</td>\n",
       "      <td>1155.49</td>\n",
       "      <td>1033.40</td>\n",
       "      <td>4821.72</td>\n",
       "    </tr>\n",
       "    <tr>\n",
       "      <th>...</th>\n",
       "      <td>...</td>\n",
       "      <td>...</td>\n",
       "      <td>...</td>\n",
       "      <td>...</td>\n",
       "      <td>...</td>\n",
       "    </tr>\n",
       "    <tr>\n",
       "      <th>2021-01-31 22:00:00</th>\n",
       "      <td>7307.91</td>\n",
       "      <td>7028.43</td>\n",
       "      <td>1331.87</td>\n",
       "      <td>1056.91</td>\n",
       "      <td>4272.24</td>\n",
       "    </tr>\n",
       "    <tr>\n",
       "      <th>2021-01-31 22:30:00</th>\n",
       "      <td>7264.89</td>\n",
       "      <td>6871.32</td>\n",
       "      <td>1280.59</td>\n",
       "      <td>1030.79</td>\n",
       "      <td>4168.66</td>\n",
       "    </tr>\n",
       "    <tr>\n",
       "      <th>2021-01-31 23:00:00</th>\n",
       "      <td>7095.82</td>\n",
       "      <td>6684.62</td>\n",
       "      <td>1249.64</td>\n",
       "      <td>1008.62</td>\n",
       "      <td>4170.81</td>\n",
       "    </tr>\n",
       "    <tr>\n",
       "      <th>2021-01-31 23:30:00</th>\n",
       "      <td>6956.33</td>\n",
       "      <td>6368.72</td>\n",
       "      <td>1230.32</td>\n",
       "      <td>1000.52</td>\n",
       "      <td>4389.61</td>\n",
       "    </tr>\n",
       "    <tr>\n",
       "      <th>2021-02-01 00:00:00</th>\n",
       "      <td>6855.82</td>\n",
       "      <td>6145.83</td>\n",
       "      <td>1369.41</td>\n",
       "      <td>963.32</td>\n",
       "      <td>4380.48</td>\n",
       "    </tr>\n",
       "  </tbody>\n",
       "</table>\n",
       "<p>195840 rows × 5 columns</p>\n",
       "</div>"
      ],
      "text/plain": [
       "                        NSW1     QLD1      SA1     TAS1     VIC1\n",
       "SETTLEMENTDATE                                                  \n",
       "2009-12-01 00:30:00  7506.77  5723.40  1361.08  1041.04  4860.18\n",
       "2009-12-01 01:00:00  7264.11  5532.81  1338.40  1038.98  4767.34\n",
       "2009-12-01 01:30:00  7028.90  5415.17  1268.45  1028.18  5096.30\n",
       "2009-12-01 02:00:00  6754.74  5270.51  1201.43  1032.79  4991.59\n",
       "2009-12-01 02:30:00  6568.64  5206.92  1155.49  1033.40  4821.72\n",
       "...                      ...      ...      ...      ...      ...\n",
       "2021-01-31 22:00:00  7307.91  7028.43  1331.87  1056.91  4272.24\n",
       "2021-01-31 22:30:00  7264.89  6871.32  1280.59  1030.79  4168.66\n",
       "2021-01-31 23:00:00  7095.82  6684.62  1249.64  1008.62  4170.81\n",
       "2021-01-31 23:30:00  6956.33  6368.72  1230.32  1000.52  4389.61\n",
       "2021-02-01 00:00:00  6855.82  6145.83  1369.41   963.32  4380.48\n",
       "\n",
       "[195840 rows x 5 columns]"
      ]
     },
     "execution_count": 112,
     "metadata": {},
     "output_type": "execute_result"
    }
   ],
   "source": [
    "dem = pd.concat(dfs, axis=1)\n",
    "dem"
   ]
  },
  {
   "cell_type": "markdown",
   "id": "df3f0970-9ed8-4435-b213-b9632ed24147",
   "metadata": {},
   "source": [
    "The data are in MW. This is the output at any moment. We want to convert this to MWh/day. To convert these 30-minute ratings, we multiply them by 0.5 hours:"
   ]
  },
  {
   "cell_type": "code",
   "execution_count": 113,
   "id": "2cb171a6-260c-4545-8170-d4a7af6d9cf2",
   "metadata": {},
   "outputs": [],
   "source": [
    "dem_mwh = dem / 2"
   ]
  },
  {
   "cell_type": "markdown",
   "id": "d92fc331-b227-400c-8c7e-09ff0a0c9654",
   "metadata": {},
   "source": [
    "Then we can sum by day"
   ]
  },
  {
   "cell_type": "code",
   "execution_count": 114,
   "id": "6ade727e-4392-4902-b687-f500a5e8e4e3",
   "metadata": {},
   "outputs": [],
   "source": [
    "dem_daily = dem_mwh.resample(\"D\").sum()"
   ]
  },
  {
   "cell_type": "code",
   "execution_count": 115,
   "id": "a7120ca5-772a-4c73-945f-6694cda5a696",
   "metadata": {},
   "outputs": [
    {
     "data": {
      "text/html": [
       "<div>\n",
       "<style scoped>\n",
       "    .dataframe tbody tr th:only-of-type {\n",
       "        vertical-align: middle;\n",
       "    }\n",
       "\n",
       "    .dataframe tbody tr th {\n",
       "        vertical-align: top;\n",
       "    }\n",
       "\n",
       "    .dataframe thead th {\n",
       "        text-align: right;\n",
       "    }\n",
       "</style>\n",
       "<table border=\"1\" class=\"dataframe\">\n",
       "  <thead>\n",
       "    <tr style=\"text-align: right;\">\n",
       "      <th></th>\n",
       "      <th>NSW1</th>\n",
       "      <th>QLD1</th>\n",
       "      <th>SA1</th>\n",
       "      <th>TAS1</th>\n",
       "      <th>VIC1</th>\n",
       "    </tr>\n",
       "    <tr>\n",
       "      <th>SETTLEMENTDATE</th>\n",
       "      <th></th>\n",
       "      <th></th>\n",
       "      <th></th>\n",
       "      <th></th>\n",
       "      <th></th>\n",
       "    </tr>\n",
       "  </thead>\n",
       "  <tbody>\n",
       "    <tr>\n",
       "      <th>2009-12-01</th>\n",
       "      <td>199492.375</td>\n",
       "      <td>157906.720</td>\n",
       "      <td>34669.350</td>\n",
       "      <td>27238.270</td>\n",
       "      <td>133979.610</td>\n",
       "    </tr>\n",
       "    <tr>\n",
       "      <th>2009-12-02</th>\n",
       "      <td>204788.180</td>\n",
       "      <td>152560.925</td>\n",
       "      <td>36575.405</td>\n",
       "      <td>26898.930</td>\n",
       "      <td>142663.835</td>\n",
       "    </tr>\n",
       "    <tr>\n",
       "      <th>2009-12-03</th>\n",
       "      <td>211467.220</td>\n",
       "      <td>153396.620</td>\n",
       "      <td>33274.890</td>\n",
       "      <td>25199.790</td>\n",
       "      <td>138938.435</td>\n",
       "    </tr>\n",
       "    <tr>\n",
       "      <th>2009-12-04</th>\n",
       "      <td>210084.925</td>\n",
       "      <td>157023.230</td>\n",
       "      <td>33545.190</td>\n",
       "      <td>26017.150</td>\n",
       "      <td>137034.295</td>\n",
       "    </tr>\n",
       "    <tr>\n",
       "      <th>2009-12-05</th>\n",
       "      <td>193681.145</td>\n",
       "      <td>148295.860</td>\n",
       "      <td>30288.705</td>\n",
       "      <td>25320.775</td>\n",
       "      <td>123712.470</td>\n",
       "    </tr>\n",
       "    <tr>\n",
       "      <th>...</th>\n",
       "      <td>...</td>\n",
       "      <td>...</td>\n",
       "      <td>...</td>\n",
       "      <td>...</td>\n",
       "      <td>...</td>\n",
       "    </tr>\n",
       "    <tr>\n",
       "      <th>2021-01-28</th>\n",
       "      <td>182573.355</td>\n",
       "      <td>166110.990</td>\n",
       "      <td>32172.045</td>\n",
       "      <td>24579.520</td>\n",
       "      <td>115724.350</td>\n",
       "    </tr>\n",
       "    <tr>\n",
       "      <th>2021-01-29</th>\n",
       "      <td>183623.600</td>\n",
       "      <td>162998.265</td>\n",
       "      <td>29677.830</td>\n",
       "      <td>25404.685</td>\n",
       "      <td>119316.355</td>\n",
       "    </tr>\n",
       "    <tr>\n",
       "      <th>2021-01-30</th>\n",
       "      <td>178655.610</td>\n",
       "      <td>153705.075</td>\n",
       "      <td>24706.830</td>\n",
       "      <td>23698.170</td>\n",
       "      <td>98708.145</td>\n",
       "    </tr>\n",
       "    <tr>\n",
       "      <th>2021-01-31</th>\n",
       "      <td>170728.060</td>\n",
       "      <td>153060.035</td>\n",
       "      <td>24354.495</td>\n",
       "      <td>24798.165</td>\n",
       "      <td>92223.405</td>\n",
       "    </tr>\n",
       "    <tr>\n",
       "      <th>2021-02-01</th>\n",
       "      <td>3427.910</td>\n",
       "      <td>3072.915</td>\n",
       "      <td>684.705</td>\n",
       "      <td>481.660</td>\n",
       "      <td>2190.240</td>\n",
       "    </tr>\n",
       "  </tbody>\n",
       "</table>\n",
       "<p>4081 rows × 5 columns</p>\n",
       "</div>"
      ],
      "text/plain": [
       "                      NSW1        QLD1        SA1       TAS1        VIC1\n",
       "SETTLEMENTDATE                                                          \n",
       "2009-12-01      199492.375  157906.720  34669.350  27238.270  133979.610\n",
       "2009-12-02      204788.180  152560.925  36575.405  26898.930  142663.835\n",
       "2009-12-03      211467.220  153396.620  33274.890  25199.790  138938.435\n",
       "2009-12-04      210084.925  157023.230  33545.190  26017.150  137034.295\n",
       "2009-12-05      193681.145  148295.860  30288.705  25320.775  123712.470\n",
       "...                    ...         ...        ...        ...         ...\n",
       "2021-01-28      182573.355  166110.990  32172.045  24579.520  115724.350\n",
       "2021-01-29      183623.600  162998.265  29677.830  25404.685  119316.355\n",
       "2021-01-30      178655.610  153705.075  24706.830  23698.170   98708.145\n",
       "2021-01-31      170728.060  153060.035  24354.495  24798.165   92223.405\n",
       "2021-02-01        3427.910    3072.915    684.705    481.660    2190.240\n",
       "\n",
       "[4081 rows x 5 columns]"
      ]
     },
     "execution_count": 115,
     "metadata": {},
     "output_type": "execute_result"
    }
   ],
   "source": [
    "dem_daily"
   ]
  },
  {
   "cell_type": "markdown",
   "id": "6c07ac94-0a2c-4f19-8a36-4b2150cda1da",
   "metadata": {},
   "source": [
    "Remove first and last row as incomplete days"
   ]
  },
  {
   "cell_type": "code",
   "execution_count": 116,
   "id": "05d0ecb9-344c-42c2-b315-fdd9fcc97012",
   "metadata": {},
   "outputs": [],
   "source": [
    "dem_daily = dem_daily.iloc[1:-1]"
   ]
  },
  {
   "cell_type": "markdown",
   "id": "cb108804-94a1-4d42-85e6-ccff955c04f2",
   "metadata": {},
   "source": [
    "Rename columns"
   ]
  },
  {
   "cell_type": "code",
   "execution_count": 117,
   "id": "d67c4798-2710-4c6a-a1d8-d8636cd2ac0e",
   "metadata": {},
   "outputs": [],
   "source": [
    "dem_daily.columns = [\"NSW\", \"QLD\", \"SA\", \"TAS\", \"VIC\"]"
   ]
  },
  {
   "cell_type": "code",
   "execution_count": 118,
   "id": "54fc8f6c-f80d-47de-9ba7-d6e5fb0fb723",
   "metadata": {},
   "outputs": [
    {
     "data": {
      "text/html": [
       "<div>\n",
       "<style scoped>\n",
       "    .dataframe tbody tr th:only-of-type {\n",
       "        vertical-align: middle;\n",
       "    }\n",
       "\n",
       "    .dataframe tbody tr th {\n",
       "        vertical-align: top;\n",
       "    }\n",
       "\n",
       "    .dataframe thead th {\n",
       "        text-align: right;\n",
       "    }\n",
       "</style>\n",
       "<table border=\"1\" class=\"dataframe\">\n",
       "  <thead>\n",
       "    <tr style=\"text-align: right;\">\n",
       "      <th></th>\n",
       "      <th>NSW</th>\n",
       "      <th>QLD</th>\n",
       "      <th>SA</th>\n",
       "      <th>TAS</th>\n",
       "      <th>VIC</th>\n",
       "    </tr>\n",
       "    <tr>\n",
       "      <th>SETTLEMENTDATE</th>\n",
       "      <th></th>\n",
       "      <th></th>\n",
       "      <th></th>\n",
       "      <th></th>\n",
       "      <th></th>\n",
       "    </tr>\n",
       "  </thead>\n",
       "  <tbody>\n",
       "    <tr>\n",
       "      <th>2009-12-02</th>\n",
       "      <td>204788.180</td>\n",
       "      <td>152560.925</td>\n",
       "      <td>36575.405</td>\n",
       "      <td>26898.930</td>\n",
       "      <td>142663.835</td>\n",
       "    </tr>\n",
       "    <tr>\n",
       "      <th>2009-12-03</th>\n",
       "      <td>211467.220</td>\n",
       "      <td>153396.620</td>\n",
       "      <td>33274.890</td>\n",
       "      <td>25199.790</td>\n",
       "      <td>138938.435</td>\n",
       "    </tr>\n",
       "    <tr>\n",
       "      <th>2009-12-04</th>\n",
       "      <td>210084.925</td>\n",
       "      <td>157023.230</td>\n",
       "      <td>33545.190</td>\n",
       "      <td>26017.150</td>\n",
       "      <td>137034.295</td>\n",
       "    </tr>\n",
       "    <tr>\n",
       "      <th>2009-12-05</th>\n",
       "      <td>193681.145</td>\n",
       "      <td>148295.860</td>\n",
       "      <td>30288.705</td>\n",
       "      <td>25320.775</td>\n",
       "      <td>123712.470</td>\n",
       "    </tr>\n",
       "    <tr>\n",
       "      <th>2009-12-06</th>\n",
       "      <td>192758.415</td>\n",
       "      <td>148933.610</td>\n",
       "      <td>31091.425</td>\n",
       "      <td>26098.590</td>\n",
       "      <td>121455.025</td>\n",
       "    </tr>\n",
       "    <tr>\n",
       "      <th>...</th>\n",
       "      <td>...</td>\n",
       "      <td>...</td>\n",
       "      <td>...</td>\n",
       "      <td>...</td>\n",
       "      <td>...</td>\n",
       "    </tr>\n",
       "    <tr>\n",
       "      <th>2021-01-27</th>\n",
       "      <td>197531.235</td>\n",
       "      <td>169141.920</td>\n",
       "      <td>24785.745</td>\n",
       "      <td>26008.010</td>\n",
       "      <td>102432.385</td>\n",
       "    </tr>\n",
       "    <tr>\n",
       "      <th>2021-01-28</th>\n",
       "      <td>182573.355</td>\n",
       "      <td>166110.990</td>\n",
       "      <td>32172.045</td>\n",
       "      <td>24579.520</td>\n",
       "      <td>115724.350</td>\n",
       "    </tr>\n",
       "    <tr>\n",
       "      <th>2021-01-29</th>\n",
       "      <td>183623.600</td>\n",
       "      <td>162998.265</td>\n",
       "      <td>29677.830</td>\n",
       "      <td>25404.685</td>\n",
       "      <td>119316.355</td>\n",
       "    </tr>\n",
       "    <tr>\n",
       "      <th>2021-01-30</th>\n",
       "      <td>178655.610</td>\n",
       "      <td>153705.075</td>\n",
       "      <td>24706.830</td>\n",
       "      <td>23698.170</td>\n",
       "      <td>98708.145</td>\n",
       "    </tr>\n",
       "    <tr>\n",
       "      <th>2021-01-31</th>\n",
       "      <td>170728.060</td>\n",
       "      <td>153060.035</td>\n",
       "      <td>24354.495</td>\n",
       "      <td>24798.165</td>\n",
       "      <td>92223.405</td>\n",
       "    </tr>\n",
       "  </tbody>\n",
       "</table>\n",
       "<p>4079 rows × 5 columns</p>\n",
       "</div>"
      ],
      "text/plain": [
       "                       NSW         QLD         SA        TAS         VIC\n",
       "SETTLEMENTDATE                                                          \n",
       "2009-12-02      204788.180  152560.925  36575.405  26898.930  142663.835\n",
       "2009-12-03      211467.220  153396.620  33274.890  25199.790  138938.435\n",
       "2009-12-04      210084.925  157023.230  33545.190  26017.150  137034.295\n",
       "2009-12-05      193681.145  148295.860  30288.705  25320.775  123712.470\n",
       "2009-12-06      192758.415  148933.610  31091.425  26098.590  121455.025\n",
       "...                    ...         ...        ...        ...         ...\n",
       "2021-01-27      197531.235  169141.920  24785.745  26008.010  102432.385\n",
       "2021-01-28      182573.355  166110.990  32172.045  24579.520  115724.350\n",
       "2021-01-29      183623.600  162998.265  29677.830  25404.685  119316.355\n",
       "2021-01-30      178655.610  153705.075  24706.830  23698.170   98708.145\n",
       "2021-01-31      170728.060  153060.035  24354.495  24798.165   92223.405\n",
       "\n",
       "[4079 rows x 5 columns]"
      ]
     },
     "execution_count": 118,
     "metadata": {},
     "output_type": "execute_result"
    }
   ],
   "source": [
    "dem_daily"
   ]
  },
  {
   "cell_type": "code",
   "execution_count": 126,
   "id": "e3f94694-0c0d-4b1e-9bbf-a231b610ff6c",
   "metadata": {},
   "outputs": [
    {
     "data": {
      "text/plain": [
       "<AxesSubplot: xlabel='SETTLEMENTDATE'>"
      ]
     },
     "execution_count": 126,
     "metadata": {},
     "output_type": "execute_result"
    },
    {
     "data": {
      "image/png": "[encoded data removed]",
      "text/plain": [
       "<Figure size 640x480 with 1 Axes>"
      ]
     },
     "metadata": {},
     "output_type": "display_data"
    }
   ],
   "source": [
    "dem_daily.sum(axis=1).resample(\"M\").sum().plot()"
   ]
  },
  {
   "cell_type": "code",
   "execution_count": 127,
   "id": "83c4e4b6-4d22-492c-a6de-2221a7fefe0e",
   "metadata": {},
   "outputs": [
    {
     "data": {
      "text/plain": [
       "15000.0"
      ]
     },
     "execution_count": 127,
     "metadata": {},
     "output_type": "execute_result"
    }
   ],
   "source": [
    "1.5e7 / 1000"
   ]
  },
  {
   "cell_type": "markdown",
   "id": "ee84603d-65ac-4e0a-a5b3-500ffb5891df",
   "metadata": {},
   "source": [
    "Write"
   ]
  },
  {
   "cell_type": "code",
   "execution_count": 128,
   "id": "58d75e9b-e4d9-40e2-9170-98c05ae388c0",
   "metadata": {},
   "outputs": [],
   "source": [
    "dem_daily.to_csv(\n",
    "    \"/g/data/w42/dr6273/work/projects/Aus_energy/data/energy_demand/daily_demand_20091202-20210131.csv\"\n",
    ")"
   ]
  },
  {
   "cell_type": "markdown",
   "id": "d27c4656-41ef-44a8-bfc8-6a24de053fca",
   "metadata": {},
   "source": [
    "# EDA\n",
    "\n",
    "Some time values are duplicated"
   ]
  },
  {
   "cell_type": "code",
   "execution_count": 30,
   "id": "efb71d9c-a0a3-4d6c-a7f4-e7fb5ced49c9",
   "metadata": {},
   "outputs": [],
   "source": [
    "q = df.loc[df.REGIONID == \"QLD1\"]"
   ]
  },
  {
   "cell_type": "code",
   "execution_count": 36,
   "id": "60481716-a932-434c-91fb-1eb04f785e09",
   "metadata": {},
   "outputs": [
    {
     "data": {
      "text/html": [
       "<div>\n",
       "<style scoped>\n",
       "    .dataframe tbody tr th:only-of-type {\n",
       "        vertical-align: middle;\n",
       "    }\n",
       "\n",
       "    .dataframe tbody tr th {\n",
       "        vertical-align: top;\n",
       "    }\n",
       "\n",
       "    .dataframe thead th {\n",
       "        text-align: right;\n",
       "    }\n",
       "</style>\n",
       "<table border=\"1\" class=\"dataframe\">\n",
       "  <thead>\n",
       "    <tr style=\"text-align: right;\">\n",
       "      <th></th>\n",
       "      <th>REGIONID</th>\n",
       "      <th>TOTALDEMAND</th>\n",
       "    </tr>\n",
       "    <tr>\n",
       "      <th>SETTLEMENTDATE</th>\n",
       "      <th></th>\n",
       "      <th></th>\n",
       "    </tr>\n",
       "  </thead>\n",
       "  <tbody>\n",
       "    <tr>\n",
       "      <th>2016-09-01 00:30:00</th>\n",
       "      <td>QLD1</td>\n",
       "      <td>5561.56</td>\n",
       "    </tr>\n",
       "    <tr>\n",
       "      <th>2016-09-01 01:00:00</th>\n",
       "      <td>QLD1</td>\n",
       "      <td>5380.54</td>\n",
       "    </tr>\n",
       "    <tr>\n",
       "      <th>2016-09-01 01:30:00</th>\n",
       "      <td>QLD1</td>\n",
       "      <td>5223.33</td>\n",
       "    </tr>\n",
       "    <tr>\n",
       "      <th>2016-09-01 02:00:00</th>\n",
       "      <td>QLD1</td>\n",
       "      <td>5110.12</td>\n",
       "    </tr>\n",
       "    <tr>\n",
       "      <th>2016-09-01 02:30:00</th>\n",
       "      <td>QLD1</td>\n",
       "      <td>5051.31</td>\n",
       "    </tr>\n",
       "    <tr>\n",
       "      <th>...</th>\n",
       "      <td>...</td>\n",
       "      <td>...</td>\n",
       "    </tr>\n",
       "    <tr>\n",
       "      <th>2016-09-07 22:00:00</th>\n",
       "      <td>QLD1</td>\n",
       "      <td>6284.30</td>\n",
       "    </tr>\n",
       "    <tr>\n",
       "      <th>2016-09-07 22:30:00</th>\n",
       "      <td>QLD1</td>\n",
       "      <td>6114.46</td>\n",
       "    </tr>\n",
       "    <tr>\n",
       "      <th>2016-09-07 23:00:00</th>\n",
       "      <td>QLD1</td>\n",
       "      <td>6070.07</td>\n",
       "    </tr>\n",
       "    <tr>\n",
       "      <th>2016-09-07 23:30:00</th>\n",
       "      <td>QLD1</td>\n",
       "      <td>5878.65</td>\n",
       "    </tr>\n",
       "    <tr>\n",
       "      <th>2016-09-08 00:00:00</th>\n",
       "      <td>QLD1</td>\n",
       "      <td>5593.58</td>\n",
       "    </tr>\n",
       "  </tbody>\n",
       "</table>\n",
       "<p>336 rows × 2 columns</p>\n",
       "</div>"
      ],
      "text/plain": [
       "                    REGIONID  TOTALDEMAND\n",
       "SETTLEMENTDATE                           \n",
       "2016-09-01 00:30:00     QLD1      5561.56\n",
       "2016-09-01 01:00:00     QLD1      5380.54\n",
       "2016-09-01 01:30:00     QLD1      5223.33\n",
       "2016-09-01 02:00:00     QLD1      5110.12\n",
       "2016-09-01 02:30:00     QLD1      5051.31\n",
       "...                      ...          ...\n",
       "2016-09-07 22:00:00     QLD1      6284.30\n",
       "2016-09-07 22:30:00     QLD1      6114.46\n",
       "2016-09-07 23:00:00     QLD1      6070.07\n",
       "2016-09-07 23:30:00     QLD1      5878.65\n",
       "2016-09-08 00:00:00     QLD1      5593.58\n",
       "\n",
       "[336 rows x 2 columns]"
      ]
     },
     "execution_count": 36,
     "metadata": {},
     "output_type": "execute_result"
    }
   ],
   "source": [
    "q.loc[q.index.duplicated()]"
   ]
  },
  {
   "cell_type": "code",
   "execution_count": 45,
   "id": "729db06d-2bb7-45f3-8961-ad2cbd7d99ae",
   "metadata": {},
   "outputs": [
    {
     "data": {
      "text/html": [
       "<div>\n",
       "<style scoped>\n",
       "    .dataframe tbody tr th:only-of-type {\n",
       "        vertical-align: middle;\n",
       "    }\n",
       "\n",
       "    .dataframe tbody tr th {\n",
       "        vertical-align: top;\n",
       "    }\n",
       "\n",
       "    .dataframe thead th {\n",
       "        text-align: right;\n",
       "    }\n",
       "</style>\n",
       "<table border=\"1\" class=\"dataframe\">\n",
       "  <thead>\n",
       "    <tr style=\"text-align: right;\">\n",
       "      <th></th>\n",
       "      <th>REGIONID</th>\n",
       "      <th>TOTALDEMAND</th>\n",
       "    </tr>\n",
       "    <tr>\n",
       "      <th>SETTLEMENTDATE</th>\n",
       "      <th></th>\n",
       "      <th></th>\n",
       "    </tr>\n",
       "  </thead>\n",
       "  <tbody>\n",
       "    <tr>\n",
       "      <th>2009-12-01 00:30:00</th>\n",
       "      <td>QLD1</td>\n",
       "      <td>5723.40</td>\n",
       "    </tr>\n",
       "    <tr>\n",
       "      <th>2009-12-01 01:00:00</th>\n",
       "      <td>QLD1</td>\n",
       "      <td>5532.81</td>\n",
       "    </tr>\n",
       "    <tr>\n",
       "      <th>2009-12-01 01:30:00</th>\n",
       "      <td>QLD1</td>\n",
       "      <td>5415.17</td>\n",
       "    </tr>\n",
       "    <tr>\n",
       "      <th>2009-12-01 02:00:00</th>\n",
       "      <td>QLD1</td>\n",
       "      <td>5270.51</td>\n",
       "    </tr>\n",
       "    <tr>\n",
       "      <th>2009-12-01 02:30:00</th>\n",
       "      <td>QLD1</td>\n",
       "      <td>5206.92</td>\n",
       "    </tr>\n",
       "    <tr>\n",
       "      <th>...</th>\n",
       "      <td>...</td>\n",
       "      <td>...</td>\n",
       "    </tr>\n",
       "    <tr>\n",
       "      <th>2021-01-31 22:00:00</th>\n",
       "      <td>QLD1</td>\n",
       "      <td>7028.43</td>\n",
       "    </tr>\n",
       "    <tr>\n",
       "      <th>2021-01-31 22:30:00</th>\n",
       "      <td>QLD1</td>\n",
       "      <td>6871.32</td>\n",
       "    </tr>\n",
       "    <tr>\n",
       "      <th>2021-01-31 23:00:00</th>\n",
       "      <td>QLD1</td>\n",
       "      <td>6684.62</td>\n",
       "    </tr>\n",
       "    <tr>\n",
       "      <th>2021-01-31 23:30:00</th>\n",
       "      <td>QLD1</td>\n",
       "      <td>6368.72</td>\n",
       "    </tr>\n",
       "    <tr>\n",
       "      <th>2021-02-01 00:00:00</th>\n",
       "      <td>QLD1</td>\n",
       "      <td>6145.83</td>\n",
       "    </tr>\n",
       "  </tbody>\n",
       "</table>\n",
       "<p>195840 rows × 2 columns</p>\n",
       "</div>"
      ],
      "text/plain": [
       "                    REGIONID  TOTALDEMAND\n",
       "SETTLEMENTDATE                           \n",
       "2009-12-01 00:30:00     QLD1      5723.40\n",
       "2009-12-01 01:00:00     QLD1      5532.81\n",
       "2009-12-01 01:30:00     QLD1      5415.17\n",
       "2009-12-01 02:00:00     QLD1      5270.51\n",
       "2009-12-01 02:30:00     QLD1      5206.92\n",
       "...                      ...          ...\n",
       "2021-01-31 22:00:00     QLD1      7028.43\n",
       "2021-01-31 22:30:00     QLD1      6871.32\n",
       "2021-01-31 23:00:00     QLD1      6684.62\n",
       "2021-01-31 23:30:00     QLD1      6368.72\n",
       "2021-02-01 00:00:00     QLD1      6145.83\n",
       "\n",
       "[195840 rows x 2 columns]"
      ]
     },
     "execution_count": 45,
     "metadata": {},
     "output_type": "execute_result"
    }
   ],
   "source": [
    "q = q.loc[~q.index.duplicated()]\n",
    "q"
   ]
  },
  {
   "cell_type": "code",
   "execution_count": 13,
   "id": "ae754dd7-c28d-4902-9494-4e504fdccbd5",
   "metadata": {},
   "outputs": [
    {
     "data": {
      "text/plain": [
       "DatetimeIndex(['2009-12-01 00:30:00', '2009-12-01 01:00:00',\n",
       "               '2009-12-01 01:30:00', '2009-12-01 02:00:00',\n",
       "               '2009-12-01 02:30:00', '2009-12-01 03:00:00',\n",
       "               '2009-12-01 03:30:00', '2009-12-01 04:00:00',\n",
       "               '2009-12-01 04:30:00', '2009-12-01 05:00:00',\n",
       "               ...\n",
       "               '2021-01-31 19:30:00', '2021-01-31 20:00:00',\n",
       "               '2021-01-31 20:30:00', '2021-01-31 21:00:00',\n",
       "               '2021-01-31 21:30:00', '2021-01-31 22:00:00',\n",
       "               '2021-01-31 22:30:00', '2021-01-31 23:00:00',\n",
       "               '2021-01-31 23:30:00', '2021-02-01 00:00:00'],\n",
       "              dtype='datetime64[ns]', length=195840, freq='30T')"
      ]
     },
     "execution_count": 13,
     "metadata": {},
     "output_type": "execute_result"
    }
   ],
   "source": [
    "pd.date_range(\"2009-12-01 00:30:00\", \"2021-02-01 00:00:00\", freq=\"30min\")"
   ]
  },
  {
   "cell_type": "markdown",
   "id": "540cfbeb-8061-46a0-b465-ae920c64e69b",
   "metadata": {},
   "source": [
    "### This figure now matches that directly from AEMO"
   ]
  },
  {
   "cell_type": "code",
   "execution_count": 46,
   "id": "4ce0400f-de75-4c83-8401-f4702f449731",
   "metadata": {},
   "outputs": [
    {
     "name": "stderr",
     "output_type": "stream",
     "text": [
      "/jobfs/95780661.gadi-pbs/ipykernel_3851824/2949094144.py:1: FutureWarning: The default value of numeric_only in DataFrameGroupBy.mean is deprecated. In a future version, numeric_only will default to False. Either specify numeric_only or select only columns which should be valid for the function.\n",
      "  (q.loc[\"2017-01\"].resample(\"1H\").mean()).plot(ylim=(0, 10000))\n"
     ]
    },
    {
     "data": {
      "text/plain": [
       "<AxesSubplot: xlabel='SETTLEMENTDATE'>"
      ]
     },
     "execution_count": 46,
     "metadata": {},
     "output_type": "execute_result"
    },
    {
     "data": {
      "image/png": "[encoded data removed]",
      "text/plain": [
       "<Figure size 640x480 with 1 Axes>"
      ]
     },
     "metadata": {},
     "output_type": "display_data"
    }
   ],
   "source": [
    "(q.loc[\"2017-01\"].resample(\"1H\").mean()).plot(ylim=(0, 10000))"
   ]
  },
  {
   "cell_type": "code",
   "execution_count": 47,
   "id": "78e02c32-3daa-47ba-900f-c7a015241bcb",
   "metadata": {},
   "outputs": [
    {
     "data": {
      "text/plain": [
       "<AxesSubplot: xlabel='SETTLEMENTDATE'>"
      ]
     },
     "execution_count": 47,
     "metadata": {},
     "output_type": "execute_result"
    },
    {
     "data": {
      "image/png": "[encoded data removed]",
      "text/plain": [
       "<Figure size 640x480 with 1 Axes>"
      ]
     },
     "metadata": {},
     "output_type": "display_data"
    }
   ],
   "source": [
    "(q.loc[\"2017-01-01\"]).plot()"
   ]
  },
  {
   "cell_type": "code",
   "execution_count": null,
   "id": "eb054444-4f10-492d-8dc5-dd08251398d8",
   "metadata": {},
   "outputs": [],
   "source": []
  }
 ],
 "metadata": {
  "kernelspec": {
   "display_name": "Python (ml_env)",
   "language": "python",
   "name": "pangeo"
  },
  "language_info": {
   "codemirror_mode": {
    "name": "ipython",
    "version": 3
   },
   "file_extension": ".py",
   "mimetype": "text/x-python",
   "name": "python",
   "nbconvert_exporter": "python",
   "pygments_lexer": "ipython3",
   "version": "3.10.8"
  }
 },
 "nbformat": 4,
 "nbformat_minor": 5
}
