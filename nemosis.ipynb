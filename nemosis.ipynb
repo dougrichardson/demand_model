{
 "cells": [
  {
   "cell_type": "markdown",
   "id": "2f1813ab-7872-462d-a67d-8f7da6c6b5e1",
   "metadata": {},
   "source": [
    "# Testing data from Nemosis"
   ]
  },
  {
   "cell_type": "code",
   "execution_count": 3,
   "id": "ef30ae7d-6e4b-4c75-9229-d0226bb01fc2",
   "metadata": {},
   "outputs": [],
   "source": [
    "import pandas as pd\n",
    "\n",
    "import glob"
   ]
  },
  {
   "cell_type": "code",
   "execution_count": 2,
   "id": "66af631b-4a56-4df2-bc2f-57bb80d6a707",
   "metadata": {},
   "outputs": [],
   "source": [
    "data_path = \"/g/data/w42/dr6273/tmp/\""
   ]
  },
  {
   "cell_type": "code",
   "execution_count": 101,
   "id": "1c3aa010-56bd-46d3-9c1b-561595a934b9",
   "metadata": {},
   "outputs": [
    {
     "data": {
      "text/plain": [
       "['/g/data/w42/dr6273/tmp/PUBLIC_DVD_TRADINGREGIONSUM_200912010000.CSV',\n",
       " '/g/data/w42/dr6273/tmp/PUBLIC_DVD_TRADINGREGIONSUM_201001010000.CSV',\n",
       " '/g/data/w42/dr6273/tmp/PUBLIC_DVD_TRADINGREGIONSUM_201002010000.CSV']"
      ]
     },
     "execution_count": 101,
     "metadata": {},
     "output_type": "execute_result"
    }
   ],
   "source": [
    "files = sorted(glob.glob(data_path+\"*TRADING*.CSV\"))\n",
    "files[:3]"
   ]
  },
  {
   "cell_type": "code",
   "execution_count": 104,
   "id": "59cb12df-a79e-4b6b-8bc0-9a6b621539c8",
   "metadata": {},
   "outputs": [
    {
     "data": {
      "text/plain": [
       "'/g/data/w42/dr6273/tmp/PUBLIC_DVD_TRADINGREGIONSUM_201701010000.CSV'"
      ]
     },
     "execution_count": 104,
     "metadata": {},
     "output_type": "execute_result"
    }
   ],
   "source": [
    "files[-49]"
   ]
  },
  {
   "cell_type": "code",
   "execution_count": 102,
   "id": "78c3d916-2f9b-441a-a777-36448aa27673",
   "metadata": {},
   "outputs": [],
   "source": [
    "def open_df(path):\n",
    "    return pd.read_csv(\n",
    "        path,\n",
    "        header=1,\n",
    "        usecols=[\"REGIONID\", \"SETTLEMENTDATE\", \"TOTALDEMAND\"],\n",
    "        parse_dates=[\"SETTLEMENTDATE\"],\n",
    "        index_col=\"SETTLEMENTDATE\",\n",
    "    )"
   ]
  },
  {
   "cell_type": "code",
   "execution_count": 105,
   "id": "b36be0a4-31f4-4dbc-b8da-3c2606682a7e",
   "metadata": {},
   "outputs": [],
   "source": [
    "d = open_df(files[-49])"
   ]
  },
  {
   "cell_type": "code",
   "execution_count": 107,
   "id": "baa3ef7d-23da-419f-bb8c-4fd21f4c368d",
   "metadata": {},
   "outputs": [
    {
     "data": {
      "text/html": [
       "<div>\n",
       "<style scoped>\n",
       "    .dataframe tbody tr th:only-of-type {\n",
       "        vertical-align: middle;\n",
       "    }\n",
       "\n",
       "    .dataframe tbody tr th {\n",
       "        vertical-align: top;\n",
       "    }\n",
       "\n",
       "    .dataframe thead th {\n",
       "        text-align: right;\n",
       "    }\n",
       "</style>\n",
       "<table border=\"1\" class=\"dataframe\">\n",
       "  <thead>\n",
       "    <tr style=\"text-align: right;\">\n",
       "      <th></th>\n",
       "      <th>REGIONID</th>\n",
       "      <th>TOTALDEMAND</th>\n",
       "    </tr>\n",
       "    <tr>\n",
       "      <th>SETTLEMENTDATE</th>\n",
       "      <th></th>\n",
       "      <th></th>\n",
       "    </tr>\n",
       "  </thead>\n",
       "  <tbody>\n",
       "    <tr>\n",
       "      <th>2017-01-01 00:30:00</th>\n",
       "      <td>QLD1</td>\n",
       "      <td>6462.14</td>\n",
       "    </tr>\n",
       "    <tr>\n",
       "      <th>2017-01-01 01:00:00</th>\n",
       "      <td>QLD1</td>\n",
       "      <td>6352.82</td>\n",
       "    </tr>\n",
       "    <tr>\n",
       "      <th>2017-01-01 01:30:00</th>\n",
       "      <td>QLD1</td>\n",
       "      <td>6261.02</td>\n",
       "    </tr>\n",
       "    <tr>\n",
       "      <th>2017-01-01 02:00:00</th>\n",
       "      <td>QLD1</td>\n",
       "      <td>6169.66</td>\n",
       "    </tr>\n",
       "    <tr>\n",
       "      <th>2017-01-01 02:30:00</th>\n",
       "      <td>QLD1</td>\n",
       "      <td>6149.87</td>\n",
       "    </tr>\n",
       "    <tr>\n",
       "      <th>...</th>\n",
       "      <td>...</td>\n",
       "      <td>...</td>\n",
       "    </tr>\n",
       "    <tr>\n",
       "      <th>2017-01-31 22:00:00</th>\n",
       "      <td>QLD1</td>\n",
       "      <td>7611.94</td>\n",
       "    </tr>\n",
       "    <tr>\n",
       "      <th>2017-01-31 22:30:00</th>\n",
       "      <td>QLD1</td>\n",
       "      <td>7265.97</td>\n",
       "    </tr>\n",
       "    <tr>\n",
       "      <th>2017-01-31 23:00:00</th>\n",
       "      <td>QLD1</td>\n",
       "      <td>7117.27</td>\n",
       "    </tr>\n",
       "    <tr>\n",
       "      <th>2017-01-31 23:30:00</th>\n",
       "      <td>QLD1</td>\n",
       "      <td>6747.14</td>\n",
       "    </tr>\n",
       "    <tr>\n",
       "      <th>2017-02-01 00:00:00</th>\n",
       "      <td>QLD1</td>\n",
       "      <td>6457.86</td>\n",
       "    </tr>\n",
       "  </tbody>\n",
       "</table>\n",
       "<p>1488 rows × 2 columns</p>\n",
       "</div>"
      ],
      "text/plain": [
       "                    REGIONID  TOTALDEMAND\n",
       "SETTLEMENTDATE                           \n",
       "2017-01-01 00:30:00     QLD1      6462.14\n",
       "2017-01-01 01:00:00     QLD1      6352.82\n",
       "2017-01-01 01:30:00     QLD1      6261.02\n",
       "2017-01-01 02:00:00     QLD1      6169.66\n",
       "2017-01-01 02:30:00     QLD1      6149.87\n",
       "...                      ...          ...\n",
       "2017-01-31 22:00:00     QLD1      7611.94\n",
       "2017-01-31 22:30:00     QLD1      7265.97\n",
       "2017-01-31 23:00:00     QLD1      7117.27\n",
       "2017-01-31 23:30:00     QLD1      6747.14\n",
       "2017-02-01 00:00:00     QLD1      6457.86\n",
       "\n",
       "[1488 rows x 2 columns]"
      ]
     },
     "execution_count": 107,
     "metadata": {},
     "output_type": "execute_result"
    }
   ],
   "source": [
    "d[d.REGIONID == \"QLD1\"]"
   ]
  },
  {
   "cell_type": "code",
   "execution_count": 108,
   "id": "fc2c5829-e1d4-4db9-a53f-80a39a557a0d",
   "metadata": {},
   "outputs": [],
   "source": [
    "dfs = [open_df(f) for f in files]"
   ]
  },
  {
   "cell_type": "code",
   "execution_count": 109,
   "id": "430adb88-21f9-41f9-831e-a8260aa254a4",
   "metadata": {},
   "outputs": [],
   "source": [
    "df2 = pd.concat(dfs)"
   ]
  },
  {
   "cell_type": "code",
   "execution_count": 118,
   "id": "1b9e512e-56cb-4bc8-b30a-1c139374cd4d",
   "metadata": {},
   "outputs": [
    {
     "data": {
      "text/html": [
       "<div>\n",
       "<style scoped>\n",
       "    .dataframe tbody tr th:only-of-type {\n",
       "        vertical-align: middle;\n",
       "    }\n",
       "\n",
       "    .dataframe tbody tr th {\n",
       "        vertical-align: top;\n",
       "    }\n",
       "\n",
       "    .dataframe thead th {\n",
       "        text-align: right;\n",
       "    }\n",
       "</style>\n",
       "<table border=\"1\" class=\"dataframe\">\n",
       "  <thead>\n",
       "    <tr style=\"text-align: right;\">\n",
       "      <th></th>\n",
       "      <th>REGIONID</th>\n",
       "      <th>TOTALDEMAND</th>\n",
       "    </tr>\n",
       "    <tr>\n",
       "      <th>SETTLEMENTDATE</th>\n",
       "      <th></th>\n",
       "      <th></th>\n",
       "    </tr>\n",
       "  </thead>\n",
       "  <tbody>\n",
       "    <tr>\n",
       "      <th>2017-01-01 00:00:00</th>\n",
       "      <td>NSW1</td>\n",
       "      <td>7431.17</td>\n",
       "    </tr>\n",
       "    <tr>\n",
       "      <th>2017-01-01 00:30:00</th>\n",
       "      <td>NSW1</td>\n",
       "      <td>7259.07</td>\n",
       "    </tr>\n",
       "    <tr>\n",
       "      <th>2017-01-01 01:00:00</th>\n",
       "      <td>NSW1</td>\n",
       "      <td>7046.41</td>\n",
       "    </tr>\n",
       "    <tr>\n",
       "      <th>2017-01-01 01:30:00</th>\n",
       "      <td>NSW1</td>\n",
       "      <td>6845.24</td>\n",
       "    </tr>\n",
       "    <tr>\n",
       "      <th>2017-01-01 02:00:00</th>\n",
       "      <td>NSW1</td>\n",
       "      <td>6629.92</td>\n",
       "    </tr>\n",
       "    <tr>\n",
       "      <th>...</th>\n",
       "      <td>...</td>\n",
       "      <td>...</td>\n",
       "    </tr>\n",
       "    <tr>\n",
       "      <th>2017-12-31 21:00:00</th>\n",
       "      <td>NSW1</td>\n",
       "      <td>7268.84</td>\n",
       "    </tr>\n",
       "    <tr>\n",
       "      <th>2017-12-31 21:30:00</th>\n",
       "      <td>NSW1</td>\n",
       "      <td>7389.58</td>\n",
       "    </tr>\n",
       "    <tr>\n",
       "      <th>2017-12-31 22:00:00</th>\n",
       "      <td>NSW1</td>\n",
       "      <td>7415.33</td>\n",
       "    </tr>\n",
       "    <tr>\n",
       "      <th>2017-12-31 23:00:00</th>\n",
       "      <td>NSW1</td>\n",
       "      <td>7296.95</td>\n",
       "    </tr>\n",
       "    <tr>\n",
       "      <th>2017-12-31 23:30:00</th>\n",
       "      <td>NSW1</td>\n",
       "      <td>7101.85</td>\n",
       "    </tr>\n",
       "  </tbody>\n",
       "</table>\n",
       "<p>13131 rows × 2 columns</p>\n",
       "</div>"
      ],
      "text/plain": [
       "                    REGIONID  TOTALDEMAND\n",
       "SETTLEMENTDATE                           \n",
       "2017-01-01 00:00:00     NSW1      7431.17\n",
       "2017-01-01 00:30:00     NSW1      7259.07\n",
       "2017-01-01 01:00:00     NSW1      7046.41\n",
       "2017-01-01 01:30:00     NSW1      6845.24\n",
       "2017-01-01 02:00:00     NSW1      6629.92\n",
       "...                      ...          ...\n",
       "2017-12-31 21:00:00     NSW1      7268.84\n",
       "2017-12-31 21:30:00     NSW1      7389.58\n",
       "2017-12-31 22:00:00     NSW1      7415.33\n",
       "2017-12-31 23:00:00     NSW1      7296.95\n",
       "2017-12-31 23:30:00     NSW1      7101.85\n",
       "\n",
       "[13131 rows x 2 columns]"
      ]
     },
     "execution_count": 118,
     "metadata": {},
     "output_type": "execute_result"
    }
   ],
   "source": [
    "df2.loc[df2.REGIONID == \"NSW1\"].drop_duplicates().loc[\"2017\"]"
   ]
  },
  {
   "cell_type": "code",
   "execution_count": 127,
   "id": "b9eb703e-3e7f-42fa-aa94-2f96d5180509",
   "metadata": {},
   "outputs": [
    {
     "data": {
      "text/html": [
       "<div>\n",
       "<style scoped>\n",
       "    .dataframe tbody tr th:only-of-type {\n",
       "        vertical-align: middle;\n",
       "    }\n",
       "\n",
       "    .dataframe tbody tr th {\n",
       "        vertical-align: top;\n",
       "    }\n",
       "\n",
       "    .dataframe thead th {\n",
       "        text-align: right;\n",
       "    }\n",
       "</style>\n",
       "<table border=\"1\" class=\"dataframe\">\n",
       "  <thead>\n",
       "    <tr style=\"text-align: right;\">\n",
       "      <th></th>\n",
       "      <th>REGIONID</th>\n",
       "      <th>TOTALDEMAND</th>\n",
       "    </tr>\n",
       "    <tr>\n",
       "      <th>SETTLEMENTDATE</th>\n",
       "      <th></th>\n",
       "      <th></th>\n",
       "    </tr>\n",
       "  </thead>\n",
       "  <tbody>\n",
       "    <tr>\n",
       "      <th>2017-01-01 00:00:00</th>\n",
       "      <td>QLD1</td>\n",
       "      <td>6728.99</td>\n",
       "    </tr>\n",
       "    <tr>\n",
       "      <th>2017-01-01 00:30:00</th>\n",
       "      <td>QLD1</td>\n",
       "      <td>6462.14</td>\n",
       "    </tr>\n",
       "    <tr>\n",
       "      <th>2017-01-01 01:00:00</th>\n",
       "      <td>QLD1</td>\n",
       "      <td>6352.82</td>\n",
       "    </tr>\n",
       "    <tr>\n",
       "      <th>2017-01-01 01:30:00</th>\n",
       "      <td>QLD1</td>\n",
       "      <td>6261.02</td>\n",
       "    </tr>\n",
       "    <tr>\n",
       "      <th>2017-01-01 02:00:00</th>\n",
       "      <td>QLD1</td>\n",
       "      <td>6169.66</td>\n",
       "    </tr>\n",
       "    <tr>\n",
       "      <th>...</th>\n",
       "      <td>...</td>\n",
       "      <td>...</td>\n",
       "    </tr>\n",
       "    <tr>\n",
       "      <th>2017-12-31 21:30:00</th>\n",
       "      <td>QLD1</td>\n",
       "      <td>6855.11</td>\n",
       "    </tr>\n",
       "    <tr>\n",
       "      <th>2017-12-31 22:00:00</th>\n",
       "      <td>QLD1</td>\n",
       "      <td>6781.15</td>\n",
       "    </tr>\n",
       "    <tr>\n",
       "      <th>2017-12-31 22:30:00</th>\n",
       "      <td>QLD1</td>\n",
       "      <td>6715.13</td>\n",
       "    </tr>\n",
       "    <tr>\n",
       "      <th>2017-12-31 23:00:00</th>\n",
       "      <td>QLD1</td>\n",
       "      <td>6678.43</td>\n",
       "    </tr>\n",
       "    <tr>\n",
       "      <th>2017-12-31 23:30:00</th>\n",
       "      <td>QLD1</td>\n",
       "      <td>6517.96</td>\n",
       "    </tr>\n",
       "  </tbody>\n",
       "</table>\n",
       "<p>17520 rows × 2 columns</p>\n",
       "</div>"
      ],
      "text/plain": [
       "                    REGIONID  TOTALDEMAND\n",
       "SETTLEMENTDATE                           \n",
       "2017-01-01 00:00:00     QLD1      6728.99\n",
       "2017-01-01 00:30:00     QLD1      6462.14\n",
       "2017-01-01 01:00:00     QLD1      6352.82\n",
       "2017-01-01 01:30:00     QLD1      6261.02\n",
       "2017-01-01 02:00:00     QLD1      6169.66\n",
       "...                      ...          ...\n",
       "2017-12-31 21:30:00     QLD1      6855.11\n",
       "2017-12-31 22:00:00     QLD1      6781.15\n",
       "2017-12-31 22:30:00     QLD1      6715.13\n",
       "2017-12-31 23:00:00     QLD1      6678.43\n",
       "2017-12-31 23:30:00     QLD1      6517.96\n",
       "\n",
       "[17520 rows x 2 columns]"
      ]
     },
     "execution_count": 127,
     "metadata": {},
     "output_type": "execute_result"
    }
   ],
   "source": [
    "df2.loc[df2.REGIONID == \"QLD1\"].loc[\"2017\"]"
   ]
  },
  {
   "cell_type": "code",
   "execution_count": 128,
   "id": "9031e7fb-0d58-40c3-b2e9-39c8462f713b",
   "metadata": {},
   "outputs": [
    {
     "data": {
      "text/html": [
       "<div>\n",
       "<style scoped>\n",
       "    .dataframe tbody tr th:only-of-type {\n",
       "        vertical-align: middle;\n",
       "    }\n",
       "\n",
       "    .dataframe tbody tr th {\n",
       "        vertical-align: top;\n",
       "    }\n",
       "\n",
       "    .dataframe thead th {\n",
       "        text-align: right;\n",
       "    }\n",
       "</style>\n",
       "<table border=\"1\" class=\"dataframe\">\n",
       "  <thead>\n",
       "    <tr style=\"text-align: right;\">\n",
       "      <th></th>\n",
       "      <th>REGIONID</th>\n",
       "      <th>TOTALDEMAND</th>\n",
       "    </tr>\n",
       "    <tr>\n",
       "      <th>SETTLEMENTDATE</th>\n",
       "      <th></th>\n",
       "      <th></th>\n",
       "    </tr>\n",
       "  </thead>\n",
       "  <tbody>\n",
       "    <tr>\n",
       "      <th>2017-01-01 00:00:00</th>\n",
       "      <td>QLD1</td>\n",
       "      <td>6728.99</td>\n",
       "    </tr>\n",
       "    <tr>\n",
       "      <th>2017-01-01 00:30:00</th>\n",
       "      <td>QLD1</td>\n",
       "      <td>6462.14</td>\n",
       "    </tr>\n",
       "    <tr>\n",
       "      <th>2017-01-01 01:00:00</th>\n",
       "      <td>QLD1</td>\n",
       "      <td>6352.82</td>\n",
       "    </tr>\n",
       "    <tr>\n",
       "      <th>2017-01-01 01:30:00</th>\n",
       "      <td>QLD1</td>\n",
       "      <td>6261.02</td>\n",
       "    </tr>\n",
       "    <tr>\n",
       "      <th>2017-01-01 02:00:00</th>\n",
       "      <td>QLD1</td>\n",
       "      <td>6169.66</td>\n",
       "    </tr>\n",
       "    <tr>\n",
       "      <th>...</th>\n",
       "      <td>...</td>\n",
       "      <td>...</td>\n",
       "    </tr>\n",
       "    <tr>\n",
       "      <th>2017-12-31 21:30:00</th>\n",
       "      <td>QLD1</td>\n",
       "      <td>6855.11</td>\n",
       "    </tr>\n",
       "    <tr>\n",
       "      <th>2017-12-31 22:00:00</th>\n",
       "      <td>QLD1</td>\n",
       "      <td>6781.15</td>\n",
       "    </tr>\n",
       "    <tr>\n",
       "      <th>2017-12-31 22:30:00</th>\n",
       "      <td>QLD1</td>\n",
       "      <td>6715.13</td>\n",
       "    </tr>\n",
       "    <tr>\n",
       "      <th>2017-12-31 23:00:00</th>\n",
       "      <td>QLD1</td>\n",
       "      <td>6678.43</td>\n",
       "    </tr>\n",
       "    <tr>\n",
       "      <th>2017-12-31 23:30:00</th>\n",
       "      <td>QLD1</td>\n",
       "      <td>6517.96</td>\n",
       "    </tr>\n",
       "  </tbody>\n",
       "</table>\n",
       "<p>17006 rows × 2 columns</p>\n",
       "</div>"
      ],
      "text/plain": [
       "                    REGIONID  TOTALDEMAND\n",
       "SETTLEMENTDATE                           \n",
       "2017-01-01 00:00:00     QLD1      6728.99\n",
       "2017-01-01 00:30:00     QLD1      6462.14\n",
       "2017-01-01 01:00:00     QLD1      6352.82\n",
       "2017-01-01 01:30:00     QLD1      6261.02\n",
       "2017-01-01 02:00:00     QLD1      6169.66\n",
       "...                      ...          ...\n",
       "2017-12-31 21:30:00     QLD1      6855.11\n",
       "2017-12-31 22:00:00     QLD1      6781.15\n",
       "2017-12-31 22:30:00     QLD1      6715.13\n",
       "2017-12-31 23:00:00     QLD1      6678.43\n",
       "2017-12-31 23:30:00     QLD1      6517.96\n",
       "\n",
       "[17006 rows x 2 columns]"
      ]
     },
     "execution_count": 128,
     "metadata": {},
     "output_type": "execute_result"
    }
   ],
   "source": [
    "df2.loc[df2.REGIONID == \"QLD1\"].loc[\"2017\"].drop_duplicates()"
   ]
  },
  {
   "cell_type": "code",
   "execution_count": 129,
   "id": "067bbf19-7fa0-4712-a4e2-186da38ccf73",
   "metadata": {},
   "outputs": [],
   "source": [
    "# df2 = df2.drop_duplicates()"
   ]
  },
  {
   "cell_type": "code",
   "execution_count": 62,
   "id": "43d8027f-9ea1-4ae5-91b7-be23293a067b",
   "metadata": {},
   "outputs": [
    {
     "data": {
      "text/html": [
       "<div>\n",
       "<style scoped>\n",
       "    .dataframe tbody tr th:only-of-type {\n",
       "        vertical-align: middle;\n",
       "    }\n",
       "\n",
       "    .dataframe tbody tr th {\n",
       "        vertical-align: top;\n",
       "    }\n",
       "\n",
       "    .dataframe thead th {\n",
       "        text-align: right;\n",
       "    }\n",
       "</style>\n",
       "<table border=\"1\" class=\"dataframe\">\n",
       "  <thead>\n",
       "    <tr style=\"text-align: right;\">\n",
       "      <th></th>\n",
       "      <th>REGIONID</th>\n",
       "      <th>TOTALDEMAND</th>\n",
       "    </tr>\n",
       "    <tr>\n",
       "      <th>SETTLEMENTDATE</th>\n",
       "      <th></th>\n",
       "      <th></th>\n",
       "    </tr>\n",
       "  </thead>\n",
       "  <tbody>\n",
       "    <tr>\n",
       "      <th>2009-12-01 00:05:00</th>\n",
       "      <td>NSW1</td>\n",
       "      <td>7565.67</td>\n",
       "    </tr>\n",
       "    <tr>\n",
       "      <th>2009-12-01 00:05:00</th>\n",
       "      <td>QLD1</td>\n",
       "      <td>5817.96</td>\n",
       "    </tr>\n",
       "    <tr>\n",
       "      <th>2009-12-01 00:05:00</th>\n",
       "      <td>SA1</td>\n",
       "      <td>1399.56</td>\n",
       "    </tr>\n",
       "    <tr>\n",
       "      <th>2009-12-01 00:05:00</th>\n",
       "      <td>TAS1</td>\n",
       "      <td>1039.38</td>\n",
       "    </tr>\n",
       "    <tr>\n",
       "      <th>2009-12-01 00:05:00</th>\n",
       "      <td>VIC1</td>\n",
       "      <td>4884.23</td>\n",
       "    </tr>\n",
       "    <tr>\n",
       "      <th>...</th>\n",
       "      <td>...</td>\n",
       "      <td>...</td>\n",
       "    </tr>\n",
       "    <tr>\n",
       "      <th>2021-01-31 11:00:00</th>\n",
       "      <td>SA1</td>\n",
       "      <td>491.68</td>\n",
       "    </tr>\n",
       "    <tr>\n",
       "      <th>2021-01-31 11:00:00</th>\n",
       "      <td>VIC1</td>\n",
       "      <td>3369.94</td>\n",
       "    </tr>\n",
       "    <tr>\n",
       "      <th>2021-01-31 11:05:00</th>\n",
       "      <td>SA1</td>\n",
       "      <td>440.63</td>\n",
       "    </tr>\n",
       "    <tr>\n",
       "      <th>2021-01-31 11:05:00</th>\n",
       "      <td>VIC1</td>\n",
       "      <td>3351.34</td>\n",
       "    </tr>\n",
       "    <tr>\n",
       "      <th>2021-02-01 00:00:00</th>\n",
       "      <td>NSW1</td>\n",
       "      <td>6790.25</td>\n",
       "    </tr>\n",
       "  </tbody>\n",
       "</table>\n",
       "<p>1416510 rows × 2 columns</p>\n",
       "</div>"
      ],
      "text/plain": [
       "                    REGIONID  TOTALDEMAND\n",
       "SETTLEMENTDATE                           \n",
       "2009-12-01 00:05:00     NSW1      7565.67\n",
       "2009-12-01 00:05:00     QLD1      5817.96\n",
       "2009-12-01 00:05:00      SA1      1399.56\n",
       "2009-12-01 00:05:00     TAS1      1039.38\n",
       "2009-12-01 00:05:00     VIC1      4884.23\n",
       "...                      ...          ...\n",
       "2021-01-31 11:00:00      SA1       491.68\n",
       "2021-01-31 11:00:00     VIC1      3369.94\n",
       "2021-01-31 11:05:00      SA1       440.63\n",
       "2021-01-31 11:05:00     VIC1      3351.34\n",
       "2021-02-01 00:00:00     NSW1      6790.25\n",
       "\n",
       "[1416510 rows x 2 columns]"
      ]
     },
     "execution_count": 62,
     "metadata": {},
     "output_type": "execute_result"
    }
   ],
   "source": [
    "df"
   ]
  },
  {
   "cell_type": "code",
   "execution_count": 130,
   "id": "36d9661d-3453-418f-8e80-575db17682dd",
   "metadata": {},
   "outputs": [
    {
     "data": {
      "text/html": [
       "<div>\n",
       "<style scoped>\n",
       "    .dataframe tbody tr th:only-of-type {\n",
       "        vertical-align: middle;\n",
       "    }\n",
       "\n",
       "    .dataframe tbody tr th {\n",
       "        vertical-align: top;\n",
       "    }\n",
       "\n",
       "    .dataframe thead th {\n",
       "        text-align: right;\n",
       "    }\n",
       "</style>\n",
       "<table border=\"1\" class=\"dataframe\">\n",
       "  <thead>\n",
       "    <tr style=\"text-align: right;\">\n",
       "      <th></th>\n",
       "      <th>REGIONID</th>\n",
       "      <th>TOTALDEMAND</th>\n",
       "    </tr>\n",
       "    <tr>\n",
       "      <th>SETTLEMENTDATE</th>\n",
       "      <th></th>\n",
       "      <th></th>\n",
       "    </tr>\n",
       "  </thead>\n",
       "  <tbody>\n",
       "    <tr>\n",
       "      <th>2009-12-01 00:30:00</th>\n",
       "      <td>QLD1</td>\n",
       "      <td>5723.40</td>\n",
       "    </tr>\n",
       "    <tr>\n",
       "      <th>2009-12-01 01:00:00</th>\n",
       "      <td>QLD1</td>\n",
       "      <td>5532.81</td>\n",
       "    </tr>\n",
       "    <tr>\n",
       "      <th>2009-12-01 01:30:00</th>\n",
       "      <td>QLD1</td>\n",
       "      <td>5415.17</td>\n",
       "    </tr>\n",
       "    <tr>\n",
       "      <th>2009-12-01 02:00:00</th>\n",
       "      <td>QLD1</td>\n",
       "      <td>5270.51</td>\n",
       "    </tr>\n",
       "    <tr>\n",
       "      <th>2009-12-01 02:30:00</th>\n",
       "      <td>QLD1</td>\n",
       "      <td>5206.92</td>\n",
       "    </tr>\n",
       "    <tr>\n",
       "      <th>...</th>\n",
       "      <td>...</td>\n",
       "      <td>...</td>\n",
       "    </tr>\n",
       "    <tr>\n",
       "      <th>2021-01-31 22:00:00</th>\n",
       "      <td>QLD1</td>\n",
       "      <td>7028.43</td>\n",
       "    </tr>\n",
       "    <tr>\n",
       "      <th>2021-01-31 22:30:00</th>\n",
       "      <td>QLD1</td>\n",
       "      <td>6871.32</td>\n",
       "    </tr>\n",
       "    <tr>\n",
       "      <th>2021-01-31 23:00:00</th>\n",
       "      <td>QLD1</td>\n",
       "      <td>6684.62</td>\n",
       "    </tr>\n",
       "    <tr>\n",
       "      <th>2021-01-31 23:30:00</th>\n",
       "      <td>QLD1</td>\n",
       "      <td>6368.72</td>\n",
       "    </tr>\n",
       "    <tr>\n",
       "      <th>2021-02-01 00:00:00</th>\n",
       "      <td>QLD1</td>\n",
       "      <td>6145.83</td>\n",
       "    </tr>\n",
       "  </tbody>\n",
       "</table>\n",
       "<p>196176 rows × 2 columns</p>\n",
       "</div>"
      ],
      "text/plain": [
       "                    REGIONID  TOTALDEMAND\n",
       "SETTLEMENTDATE                           \n",
       "2009-12-01 00:30:00     QLD1      5723.40\n",
       "2009-12-01 01:00:00     QLD1      5532.81\n",
       "2009-12-01 01:30:00     QLD1      5415.17\n",
       "2009-12-01 02:00:00     QLD1      5270.51\n",
       "2009-12-01 02:30:00     QLD1      5206.92\n",
       "...                      ...          ...\n",
       "2021-01-31 22:00:00     QLD1      7028.43\n",
       "2021-01-31 22:30:00     QLD1      6871.32\n",
       "2021-01-31 23:00:00     QLD1      6684.62\n",
       "2021-01-31 23:30:00     QLD1      6368.72\n",
       "2021-02-01 00:00:00     QLD1      6145.83\n",
       "\n",
       "[196176 rows x 2 columns]"
      ]
     },
     "execution_count": 130,
     "metadata": {},
     "output_type": "execute_result"
    }
   ],
   "source": [
    "df2[df2.REGIONID == \"QLD1\"]"
   ]
  },
  {
   "cell_type": "code",
   "execution_count": 86,
   "id": "e121b9fc-e274-49ae-b66b-e607c652ab7a",
   "metadata": {},
   "outputs": [
    {
     "data": {
      "text/plain": [
       "Timestamp('2009-12-01 00:30:00')"
      ]
     },
     "execution_count": 86,
     "metadata": {},
     "output_type": "execute_result"
    }
   ],
   "source": [
    "df2.index[0]"
   ]
  },
  {
   "cell_type": "code",
   "execution_count": 87,
   "id": "b74a0e25-c570-4695-b2d6-cc17c1f68fe7",
   "metadata": {},
   "outputs": [
    {
     "data": {
      "text/plain": [
       "Timestamp('2021-02-01 00:00:00')"
      ]
     },
     "execution_count": 87,
     "metadata": {},
     "output_type": "execute_result"
    }
   ],
   "source": [
    "df2.index[-1]"
   ]
  },
  {
   "cell_type": "code",
   "execution_count": 89,
   "id": "7837ba76-ba94-4564-9c43-5c4cd8f7580c",
   "metadata": {},
   "outputs": [
    {
     "data": {
      "text/plain": [
       "DatetimeIndex(['2009-12-01 00:30:00', '2009-12-01 01:00:00',\n",
       "               '2009-12-01 01:30:00', '2009-12-01 02:00:00',\n",
       "               '2009-12-01 02:30:00', '2009-12-01 03:00:00',\n",
       "               '2009-12-01 03:30:00', '2009-12-01 04:00:00',\n",
       "               '2009-12-01 04:30:00', '2009-12-01 05:00:00',\n",
       "               ...\n",
       "               '2021-01-31 19:30:00', '2021-01-31 20:00:00',\n",
       "               '2021-01-31 20:30:00', '2021-01-31 21:00:00',\n",
       "               '2021-01-31 21:30:00', '2021-01-31 22:00:00',\n",
       "               '2021-01-31 22:30:00', '2021-01-31 23:00:00',\n",
       "               '2021-01-31 23:30:00', '2021-02-01 00:00:00'],\n",
       "              dtype='datetime64[ns]', length=195840, freq='30T')"
      ]
     },
     "execution_count": 89,
     "metadata": {},
     "output_type": "execute_result"
    }
   ],
   "source": [
    "pd.date_range(df2.index[0], df2.index[-1], freq=\"30min\")"
   ]
  },
  {
   "cell_type": "code",
   "execution_count": 141,
   "id": "4ce0400f-de75-4c83-8401-f4702f449731",
   "metadata": {},
   "outputs": [
    {
     "name": "stderr",
     "output_type": "stream",
     "text": [
      "/jobfs/95687832.gadi-pbs/ipykernel_3620848/3353393575.py:1: FutureWarning: The default value of numeric_only in DataFrameGroupBy.mean is deprecated. In a future version, numeric_only will default to False. Either specify numeric_only or select only columns which should be valid for the function.\n",
      "  (df2.loc[df2.REGIONID == \"QLD1\"].loc[\"2017-01\"].resample(\"1H\").mean()).plot(ylim=(0, 10000))\n"
     ]
    },
    {
     "data": {
      "text/plain": [
       "<AxesSubplot: xlabel='SETTLEMENTDATE'>"
      ]
     },
     "execution_count": 141,
     "metadata": {},
     "output_type": "execute_result"
    },
    {
     "data": {
      "image/png": "[encoded data removed]",
      "text/plain": [
       "<Figure size 640x480 with 1 Axes>"
      ]
     },
     "metadata": {},
     "output_type": "display_data"
    }
   ],
   "source": [
    "(df2.loc[df2.REGIONID == \"QLD1\"].loc[\"2017-01\"].resample(\"1H\").mean()).plot(ylim=(0, 10000))"
   ]
  },
  {
   "cell_type": "code",
   "execution_count": 140,
   "id": "f4558e51-4990-4490-bb66-6db102ddd0d2",
   "metadata": {},
   "outputs": [
    {
     "data": {
      "text/html": [
       "<div>\n",
       "<style scoped>\n",
       "    .dataframe tbody tr th:only-of-type {\n",
       "        vertical-align: middle;\n",
       "    }\n",
       "\n",
       "    .dataframe tbody tr th {\n",
       "        vertical-align: top;\n",
       "    }\n",
       "\n",
       "    .dataframe thead th {\n",
       "        text-align: right;\n",
       "    }\n",
       "</style>\n",
       "<table border=\"1\" class=\"dataframe\">\n",
       "  <thead>\n",
       "    <tr style=\"text-align: right;\">\n",
       "      <th></th>\n",
       "      <th>REGIONID</th>\n",
       "      <th>TOTALDEMAND</th>\n",
       "    </tr>\n",
       "    <tr>\n",
       "      <th>SETTLEMENTDATE</th>\n",
       "      <th></th>\n",
       "      <th></th>\n",
       "    </tr>\n",
       "  </thead>\n",
       "  <tbody>\n",
       "    <tr>\n",
       "      <th>2017-01-01 00:00:00</th>\n",
       "      <td>QLD1</td>\n",
       "      <td>6728.99</td>\n",
       "    </tr>\n",
       "    <tr>\n",
       "      <th>2017-01-01 00:30:00</th>\n",
       "      <td>QLD1</td>\n",
       "      <td>6462.14</td>\n",
       "    </tr>\n",
       "    <tr>\n",
       "      <th>2017-01-01 01:00:00</th>\n",
       "      <td>QLD1</td>\n",
       "      <td>6352.82</td>\n",
       "    </tr>\n",
       "    <tr>\n",
       "      <th>2017-01-01 01:30:00</th>\n",
       "      <td>QLD1</td>\n",
       "      <td>6261.02</td>\n",
       "    </tr>\n",
       "    <tr>\n",
       "      <th>2017-01-01 02:00:00</th>\n",
       "      <td>QLD1</td>\n",
       "      <td>6169.66</td>\n",
       "    </tr>\n",
       "    <tr>\n",
       "      <th>...</th>\n",
       "      <td>...</td>\n",
       "      <td>...</td>\n",
       "    </tr>\n",
       "    <tr>\n",
       "      <th>2017-01-31 21:30:00</th>\n",
       "      <td>QLD1</td>\n",
       "      <td>7894.58</td>\n",
       "    </tr>\n",
       "    <tr>\n",
       "      <th>2017-01-31 22:00:00</th>\n",
       "      <td>QLD1</td>\n",
       "      <td>7611.94</td>\n",
       "    </tr>\n",
       "    <tr>\n",
       "      <th>2017-01-31 22:30:00</th>\n",
       "      <td>QLD1</td>\n",
       "      <td>7265.97</td>\n",
       "    </tr>\n",
       "    <tr>\n",
       "      <th>2017-01-31 23:00:00</th>\n",
       "      <td>QLD1</td>\n",
       "      <td>7117.27</td>\n",
       "    </tr>\n",
       "    <tr>\n",
       "      <th>2017-01-31 23:30:00</th>\n",
       "      <td>QLD1</td>\n",
       "      <td>6747.14</td>\n",
       "    </tr>\n",
       "  </tbody>\n",
       "</table>\n",
       "<p>1488 rows × 2 columns</p>\n",
       "</div>"
      ],
      "text/plain": [
       "                    REGIONID  TOTALDEMAND\n",
       "SETTLEMENTDATE                           \n",
       "2017-01-01 00:00:00     QLD1      6728.99\n",
       "2017-01-01 00:30:00     QLD1      6462.14\n",
       "2017-01-01 01:00:00     QLD1      6352.82\n",
       "2017-01-01 01:30:00     QLD1      6261.02\n",
       "2017-01-01 02:00:00     QLD1      6169.66\n",
       "...                      ...          ...\n",
       "2017-01-31 21:30:00     QLD1      7894.58\n",
       "2017-01-31 22:00:00     QLD1      7611.94\n",
       "2017-01-31 22:30:00     QLD1      7265.97\n",
       "2017-01-31 23:00:00     QLD1      7117.27\n",
       "2017-01-31 23:30:00     QLD1      6747.14\n",
       "\n",
       "[1488 rows x 2 columns]"
      ]
     },
     "execution_count": 140,
     "metadata": {},
     "output_type": "execute_result"
    }
   ],
   "source": [
    "(df2.loc[df2.REGIONID == \"QLD1\"].loc[\"2017-01\"])"
   ]
  },
  {
   "cell_type": "code",
   "execution_count": 98,
   "id": "78e02c32-3daa-47ba-900f-c7a015241bcb",
   "metadata": {},
   "outputs": [
    {
     "data": {
      "text/plain": [
       "<AxesSubplot: xlabel='SETTLEMENTDATE'>"
      ]
     },
     "execution_count": 98,
     "metadata": {},
     "output_type": "execute_result"
    },
    {
     "data": {
      "image/png": "[encoded data removed]",
      "text/plain": [
       "<Figure size 640x480 with 1 Axes>"
      ]
     },
     "metadata": {},
     "output_type": "display_data"
    }
   ],
   "source": [
    "(df2.loc[df2.REGIONID == \"QLD1\"].loc[\"2017-01-01\"]).plot()"
   ]
  },
  {
   "cell_type": "code",
   "execution_count": 97,
   "id": "7d96eba5-1cf2-47df-b4f8-20e5de5115a2",
   "metadata": {},
   "outputs": [
    {
     "name": "stderr",
     "output_type": "stream",
     "text": [
      "/jobfs/95687832.gadi-pbs/ipykernel_3620848/1066274955.py:1: FutureWarning: The default value of numeric_only in DataFrameGroupBy.mean is deprecated. In a future version, numeric_only will default to False. Either specify numeric_only or select only columns which should be valid for the function.\n",
      "  df2.loc[df2.REGIONID == \"QLD1\"].loc[\"2017-01-01\"].resample(\"30min\").mean().plot()\n"
     ]
    },
    {
     "data": {
      "text/plain": [
       "<AxesSubplot: xlabel='SETTLEMENTDATE'>"
      ]
     },
     "execution_count": 97,
     "metadata": {},
     "output_type": "execute_result"
    },
    {
     "data": {
      "image/png": "[encoded data removed]",
      "text/plain": [
       "<Figure size 640x480 with 1 Axes>"
      ]
     },
     "metadata": {},
     "output_type": "display_data"
    }
   ],
   "source": [
    "df2.loc[df2.REGIONID == \"QLD1\"].loc[\"2017-01-01\"].resample(\"30min\").mean().plot()"
   ]
  },
  {
   "cell_type": "code",
   "execution_count": 100,
   "id": "608c83d4-d8f9-46a9-8358-5a60ffbe8c21",
   "metadata": {},
   "outputs": [
    {
     "name": "stderr",
     "output_type": "stream",
     "text": [
      "/jobfs/95687832.gadi-pbs/ipykernel_3620848/3547218188.py:1: FutureWarning: The default value of numeric_only in DataFrameGroupBy.mean is deprecated. In a future version, numeric_only will default to False. Either specify numeric_only or select only columns which should be valid for the function.\n",
      "  df2.loc[df2.REGIONID == \"QLD1\"].loc[\"2017-01-01\"].resample(\"30min\").mean()\n"
     ]
    },
    {
     "data": {
      "text/html": [
       "<div>\n",
       "<style scoped>\n",
       "    .dataframe tbody tr th:only-of-type {\n",
       "        vertical-align: middle;\n",
       "    }\n",
       "\n",
       "    .dataframe tbody tr th {\n",
       "        vertical-align: top;\n",
       "    }\n",
       "\n",
       "    .dataframe thead th {\n",
       "        text-align: right;\n",
       "    }\n",
       "</style>\n",
       "<table border=\"1\" class=\"dataframe\">\n",
       "  <thead>\n",
       "    <tr style=\"text-align: right;\">\n",
       "      <th></th>\n",
       "      <th>TOTALDEMAND</th>\n",
       "    </tr>\n",
       "    <tr>\n",
       "      <th>SETTLEMENTDATE</th>\n",
       "      <th></th>\n",
       "    </tr>\n",
       "  </thead>\n",
       "  <tbody>\n",
       "    <tr>\n",
       "      <th>2017-01-01 00:00:00</th>\n",
       "      <td>6728.99</td>\n",
       "    </tr>\n",
       "    <tr>\n",
       "      <th>2017-01-01 00:30:00</th>\n",
       "      <td>6462.14</td>\n",
       "    </tr>\n",
       "    <tr>\n",
       "      <th>2017-01-01 01:00:00</th>\n",
       "      <td>NaN</td>\n",
       "    </tr>\n",
       "    <tr>\n",
       "      <th>2017-01-01 01:30:00</th>\n",
       "      <td>NaN</td>\n",
       "    </tr>\n",
       "    <tr>\n",
       "      <th>2017-01-01 02:00:00</th>\n",
       "      <td>NaN</td>\n",
       "    </tr>\n",
       "    <tr>\n",
       "      <th>2017-01-01 02:30:00</th>\n",
       "      <td>6149.87</td>\n",
       "    </tr>\n",
       "    <tr>\n",
       "      <th>2017-01-01 03:00:00</th>\n",
       "      <td>NaN</td>\n",
       "    </tr>\n",
       "    <tr>\n",
       "      <th>2017-01-01 03:30:00</th>\n",
       "      <td>NaN</td>\n",
       "    </tr>\n",
       "    <tr>\n",
       "      <th>2017-01-01 04:00:00</th>\n",
       "      <td>NaN</td>\n",
       "    </tr>\n",
       "    <tr>\n",
       "      <th>2017-01-01 04:30:00</th>\n",
       "      <td>NaN</td>\n",
       "    </tr>\n",
       "    <tr>\n",
       "      <th>2017-01-01 05:00:00</th>\n",
       "      <td>NaN</td>\n",
       "    </tr>\n",
       "    <tr>\n",
       "      <th>2017-01-01 05:30:00</th>\n",
       "      <td>5829.53</td>\n",
       "    </tr>\n",
       "    <tr>\n",
       "      <th>2017-01-01 06:00:00</th>\n",
       "      <td>5772.74</td>\n",
       "    </tr>\n",
       "    <tr>\n",
       "      <th>2017-01-01 06:30:00</th>\n",
       "      <td>5847.59</td>\n",
       "    </tr>\n",
       "    <tr>\n",
       "      <th>2017-01-01 07:00:00</th>\n",
       "      <td>NaN</td>\n",
       "    </tr>\n",
       "    <tr>\n",
       "      <th>2017-01-01 07:30:00</th>\n",
       "      <td>NaN</td>\n",
       "    </tr>\n",
       "    <tr>\n",
       "      <th>2017-01-01 08:00:00</th>\n",
       "      <td>NaN</td>\n",
       "    </tr>\n",
       "    <tr>\n",
       "      <th>2017-01-01 08:30:00</th>\n",
       "      <td>6264.87</td>\n",
       "    </tr>\n",
       "    <tr>\n",
       "      <th>2017-01-01 09:00:00</th>\n",
       "      <td>6485.89</td>\n",
       "    </tr>\n",
       "    <tr>\n",
       "      <th>2017-01-01 09:30:00</th>\n",
       "      <td>6610.20</td>\n",
       "    </tr>\n",
       "    <tr>\n",
       "      <th>2017-01-01 10:00:00</th>\n",
       "      <td>6769.76</td>\n",
       "    </tr>\n",
       "    <tr>\n",
       "      <th>2017-01-01 10:30:00</th>\n",
       "      <td>NaN</td>\n",
       "    </tr>\n",
       "    <tr>\n",
       "      <th>2017-01-01 11:00:00</th>\n",
       "      <td>6992.67</td>\n",
       "    </tr>\n",
       "    <tr>\n",
       "      <th>2017-01-01 11:30:00</th>\n",
       "      <td>7047.07</td>\n",
       "    </tr>\n",
       "    <tr>\n",
       "      <th>2017-01-01 12:00:00</th>\n",
       "      <td>NaN</td>\n",
       "    </tr>\n",
       "    <tr>\n",
       "      <th>2017-01-01 12:30:00</th>\n",
       "      <td>7280.93</td>\n",
       "    </tr>\n",
       "    <tr>\n",
       "      <th>2017-01-01 13:00:00</th>\n",
       "      <td>7329.27</td>\n",
       "    </tr>\n",
       "    <tr>\n",
       "      <th>2017-01-01 13:30:00</th>\n",
       "      <td>7440.06</td>\n",
       "    </tr>\n",
       "    <tr>\n",
       "      <th>2017-01-01 14:00:00</th>\n",
       "      <td>7530.07</td>\n",
       "    </tr>\n",
       "    <tr>\n",
       "      <th>2017-01-01 14:30:00</th>\n",
       "      <td>7619.91</td>\n",
       "    </tr>\n",
       "    <tr>\n",
       "      <th>2017-01-01 15:00:00</th>\n",
       "      <td>7680.57</td>\n",
       "    </tr>\n",
       "    <tr>\n",
       "      <th>2017-01-01 15:30:00</th>\n",
       "      <td>7801.23</td>\n",
       "    </tr>\n",
       "    <tr>\n",
       "      <th>2017-01-01 16:00:00</th>\n",
       "      <td>7897.56</td>\n",
       "    </tr>\n",
       "    <tr>\n",
       "      <th>2017-01-01 16:30:00</th>\n",
       "      <td>7841.00</td>\n",
       "    </tr>\n",
       "    <tr>\n",
       "      <th>2017-01-01 17:00:00</th>\n",
       "      <td>7996.54</td>\n",
       "    </tr>\n",
       "    <tr>\n",
       "      <th>2017-01-01 17:30:00</th>\n",
       "      <td>8042.19</td>\n",
       "    </tr>\n",
       "    <tr>\n",
       "      <th>2017-01-01 18:00:00</th>\n",
       "      <td>7933.60</td>\n",
       "    </tr>\n",
       "    <tr>\n",
       "      <th>2017-01-01 18:30:00</th>\n",
       "      <td>7903.67</td>\n",
       "    </tr>\n",
       "    <tr>\n",
       "      <th>2017-01-01 19:00:00</th>\n",
       "      <td>7975.06</td>\n",
       "    </tr>\n",
       "    <tr>\n",
       "      <th>2017-01-01 19:30:00</th>\n",
       "      <td>8030.82</td>\n",
       "    </tr>\n",
       "    <tr>\n",
       "      <th>2017-01-01 20:00:00</th>\n",
       "      <td>7981.29</td>\n",
       "    </tr>\n",
       "    <tr>\n",
       "      <th>2017-01-01 20:30:00</th>\n",
       "      <td>7883.46</td>\n",
       "    </tr>\n",
       "    <tr>\n",
       "      <th>2017-01-01 21:00:00</th>\n",
       "      <td>7686.81</td>\n",
       "    </tr>\n",
       "    <tr>\n",
       "      <th>2017-01-01 21:30:00</th>\n",
       "      <td>7568.41</td>\n",
       "    </tr>\n",
       "    <tr>\n",
       "      <th>2017-01-01 22:00:00</th>\n",
       "      <td>NaN</td>\n",
       "    </tr>\n",
       "    <tr>\n",
       "      <th>2017-01-01 22:30:00</th>\n",
       "      <td>7154.45</td>\n",
       "    </tr>\n",
       "    <tr>\n",
       "      <th>2017-01-01 23:00:00</th>\n",
       "      <td>7065.76</td>\n",
       "    </tr>\n",
       "    <tr>\n",
       "      <th>2017-01-01 23:30:00</th>\n",
       "      <td>6763.58</td>\n",
       "    </tr>\n",
       "  </tbody>\n",
       "</table>\n",
       "</div>"
      ],
      "text/plain": [
       "                     TOTALDEMAND\n",
       "SETTLEMENTDATE                  \n",
       "2017-01-01 00:00:00      6728.99\n",
       "2017-01-01 00:30:00      6462.14\n",
       "2017-01-01 01:00:00          NaN\n",
       "2017-01-01 01:30:00          NaN\n",
       "2017-01-01 02:00:00          NaN\n",
       "2017-01-01 02:30:00      6149.87\n",
       "2017-01-01 03:00:00          NaN\n",
       "2017-01-01 03:30:00          NaN\n",
       "2017-01-01 04:00:00          NaN\n",
       "2017-01-01 04:30:00          NaN\n",
       "2017-01-01 05:00:00          NaN\n",
       "2017-01-01 05:30:00      5829.53\n",
       "2017-01-01 06:00:00      5772.74\n",
       "2017-01-01 06:30:00      5847.59\n",
       "2017-01-01 07:00:00          NaN\n",
       "2017-01-01 07:30:00          NaN\n",
       "2017-01-01 08:00:00          NaN\n",
       "2017-01-01 08:30:00      6264.87\n",
       "2017-01-01 09:00:00      6485.89\n",
       "2017-01-01 09:30:00      6610.20\n",
       "2017-01-01 10:00:00      6769.76\n",
       "2017-01-01 10:30:00          NaN\n",
       "2017-01-01 11:00:00      6992.67\n",
       "2017-01-01 11:30:00      7047.07\n",
       "2017-01-01 12:00:00          NaN\n",
       "2017-01-01 12:30:00      7280.93\n",
       "2017-01-01 13:00:00      7329.27\n",
       "2017-01-01 13:30:00      7440.06\n",
       "2017-01-01 14:00:00      7530.07\n",
       "2017-01-01 14:30:00      7619.91\n",
       "2017-01-01 15:00:00      7680.57\n",
       "2017-01-01 15:30:00      7801.23\n",
       "2017-01-01 16:00:00      7897.56\n",
       "2017-01-01 16:30:00      7841.00\n",
       "2017-01-01 17:00:00      7996.54\n",
       "2017-01-01 17:30:00      8042.19\n",
       "2017-01-01 18:00:00      7933.60\n",
       "2017-01-01 18:30:00      7903.67\n",
       "2017-01-01 19:00:00      7975.06\n",
       "2017-01-01 19:30:00      8030.82\n",
       "2017-01-01 20:00:00      7981.29\n",
       "2017-01-01 20:30:00      7883.46\n",
       "2017-01-01 21:00:00      7686.81\n",
       "2017-01-01 21:30:00      7568.41\n",
       "2017-01-01 22:00:00          NaN\n",
       "2017-01-01 22:30:00      7154.45\n",
       "2017-01-01 23:00:00      7065.76\n",
       "2017-01-01 23:30:00      6763.58"
      ]
     },
     "execution_count": 100,
     "metadata": {},
     "output_type": "execute_result"
    }
   ],
   "source": [
    "df2.loc[df2.REGIONID == \"QLD1\"].loc[\"2017-01-01\"].resample(\"30min\").mean()"
   ]
  },
  {
   "cell_type": "code",
   "execution_count": 82,
   "id": "7400f4fd-cab4-4e34-897c-ed25a86cef88",
   "metadata": {},
   "outputs": [
    {
     "data": {
      "text/plain": [
       "DatetimeIndex(['2009-12-01 00:30:00', '2009-12-01 00:30:00',\n",
       "               '2009-12-01 00:30:00', '2009-12-01 00:30:00',\n",
       "               '2009-12-01 00:30:00', '2009-12-01 01:00:00',\n",
       "               '2009-12-01 01:00:00', '2009-12-01 01:00:00',\n",
       "               '2009-12-01 01:00:00', '2009-12-01 01:00:00',\n",
       "               ...\n",
       "               '2021-01-31 21:30:00', '2021-01-31 22:00:00',\n",
       "               '2021-01-31 22:00:00', '2021-01-31 22:30:00',\n",
       "               '2021-01-31 22:30:00', '2021-01-31 23:00:00',\n",
       "               '2021-01-31 23:00:00', '2021-01-31 23:30:00',\n",
       "               '2021-02-01 00:00:00', '2021-02-01 00:00:00'],\n",
       "              dtype='datetime64[ns]', name='SETTLEMENTDATE', length=609946, freq=None)"
      ]
     },
     "execution_count": 82,
     "metadata": {},
     "output_type": "execute_result"
    }
   ],
   "source": [
    "df2.index"
   ]
  },
  {
   "cell_type": "code",
   "execution_count": 53,
   "id": "6b35a4c7-851e-4d32-8e7a-bce5c29ebbd5",
   "metadata": {},
   "outputs": [
    {
     "name": "stderr",
     "output_type": "stream",
     "text": [
      "/jobfs/95687832.gadi-pbs/ipykernel_3620848/1026711087.py:1: FutureWarning: The default value of numeric_only in DataFrameGroupBy.sum is deprecated. In a future version, numeric_only will default to False. Either specify numeric_only or select only columns which should be valid for the function.\n",
      "  df.loc[df.REGIONID == \"QLD1\"].loc[\"2017-12\"].resample(\"D\").sum().plot()\n"
     ]
    },
    {
     "data": {
      "text/plain": [
       "<AxesSubplot: xlabel='SETTLEMENTDATE'>"
      ]
     },
     "execution_count": 53,
     "metadata": {},
     "output_type": "execute_result"
    },
    {
     "data": {
      "image/png": "[encoded data removed]",
      "text/plain": [
       "<Figure size 640x480 with 1 Axes>"
      ]
     },
     "metadata": {},
     "output_type": "display_data"
    }
   ],
   "source": [
    "df.loc[df.REGIONID == \"QLD1\"].loc[\"2017-12\"].resample(\"D\").sum().plot()"
   ]
  },
  {
   "cell_type": "code",
   "execution_count": 54,
   "id": "d7dc7f45-50e3-4cba-88a8-d1a77a298f5c",
   "metadata": {},
   "outputs": [
    {
     "data": {
      "text/plain": [
       "<AxesSubplot: xlabel='SETTLEMENTDATE'>"
      ]
     },
     "execution_count": 54,
     "metadata": {},
     "output_type": "execute_result"
    },
    {
     "data": {
      "image/png": "[encoded data removed]",
      "text/plain": [
       "<Figure size 640x480 with 1 Axes>"
      ]
     },
     "metadata": {},
     "output_type": "display_data"
    }
   ],
   "source": [
    "df.loc[df.REGIONID == \"QLD1\"].loc[\"2017-12-02\"].plot()"
   ]
  },
  {
   "cell_type": "code",
   "execution_count": 49,
   "id": "40873cf2-12e2-4111-b597-378d04abd3b7",
   "metadata": {},
   "outputs": [
    {
     "data": {
      "text/plain": [
       "REGIONID       QLD1QLD1QLD1QLD1QLD1QLD1QLD1QLD1QLD1QLD1QLD1QL...\n",
       "TOTALDEMAND                                            3594479.2\n",
       "dtype: object"
      ]
     },
     "execution_count": 49,
     "metadata": {},
     "output_type": "execute_result"
    }
   ],
   "source": [
    "df.loc[df.REGIONID == \"QLD1\"].loc[\"2017-12-02\"].sum()"
   ]
  },
  {
   "cell_type": "code",
   "execution_count": 50,
   "id": "c846b16b-4bb4-48d1-9c94-3ce22c77f5c5",
   "metadata": {},
   "outputs": [
    {
     "data": {
      "text/html": [
       "<div>\n",
       "<style scoped>\n",
       "    .dataframe tbody tr th:only-of-type {\n",
       "        vertical-align: middle;\n",
       "    }\n",
       "\n",
       "    .dataframe tbody tr th {\n",
       "        vertical-align: top;\n",
       "    }\n",
       "\n",
       "    .dataframe thead th {\n",
       "        text-align: right;\n",
       "    }\n",
       "</style>\n",
       "<table border=\"1\" class=\"dataframe\">\n",
       "  <thead>\n",
       "    <tr style=\"text-align: right;\">\n",
       "      <th></th>\n",
       "      <th>REGIONID</th>\n",
       "      <th>TOTALDEMAND</th>\n",
       "    </tr>\n",
       "    <tr>\n",
       "      <th>SETTLEMENTDATE</th>\n",
       "      <th></th>\n",
       "      <th></th>\n",
       "    </tr>\n",
       "  </thead>\n",
       "  <tbody>\n",
       "    <tr>\n",
       "      <th>2017-12-02 00:00:00</th>\n",
       "      <td>QLD1</td>\n",
       "      <td>5851.75</td>\n",
       "    </tr>\n",
       "    <tr>\n",
       "      <th>2017-12-02 00:00:00</th>\n",
       "      <td>QLD1</td>\n",
       "      <td>5851.75</td>\n",
       "    </tr>\n",
       "    <tr>\n",
       "      <th>2017-12-02 00:05:00</th>\n",
       "      <td>QLD1</td>\n",
       "      <td>5909.44</td>\n",
       "    </tr>\n",
       "    <tr>\n",
       "      <th>2017-12-02 00:05:00</th>\n",
       "      <td>QLD1</td>\n",
       "      <td>5909.44</td>\n",
       "    </tr>\n",
       "    <tr>\n",
       "      <th>2017-12-02 00:10:00</th>\n",
       "      <td>QLD1</td>\n",
       "      <td>5858.56</td>\n",
       "    </tr>\n",
       "    <tr>\n",
       "      <th>...</th>\n",
       "      <td>...</td>\n",
       "      <td>...</td>\n",
       "    </tr>\n",
       "    <tr>\n",
       "      <th>2017-12-02 23:45:00</th>\n",
       "      <td>QLD1</td>\n",
       "      <td>6037.25</td>\n",
       "    </tr>\n",
       "    <tr>\n",
       "      <th>2017-12-02 23:50:00</th>\n",
       "      <td>QLD1</td>\n",
       "      <td>5941.48</td>\n",
       "    </tr>\n",
       "    <tr>\n",
       "      <th>2017-12-02 23:50:00</th>\n",
       "      <td>QLD1</td>\n",
       "      <td>5941.48</td>\n",
       "    </tr>\n",
       "    <tr>\n",
       "      <th>2017-12-02 23:55:00</th>\n",
       "      <td>QLD1</td>\n",
       "      <td>5931.28</td>\n",
       "    </tr>\n",
       "    <tr>\n",
       "      <th>2017-12-02 23:55:00</th>\n",
       "      <td>QLD1</td>\n",
       "      <td>5931.28</td>\n",
       "    </tr>\n",
       "  </tbody>\n",
       "</table>\n",
       "<p>576 rows × 2 columns</p>\n",
       "</div>"
      ],
      "text/plain": [
       "                    REGIONID  TOTALDEMAND\n",
       "SETTLEMENTDATE                           \n",
       "2017-12-02 00:00:00     QLD1      5851.75\n",
       "2017-12-02 00:00:00     QLD1      5851.75\n",
       "2017-12-02 00:05:00     QLD1      5909.44\n",
       "2017-12-02 00:05:00     QLD1      5909.44\n",
       "2017-12-02 00:10:00     QLD1      5858.56\n",
       "...                      ...          ...\n",
       "2017-12-02 23:45:00     QLD1      6037.25\n",
       "2017-12-02 23:50:00     QLD1      5941.48\n",
       "2017-12-02 23:50:00     QLD1      5941.48\n",
       "2017-12-02 23:55:00     QLD1      5931.28\n",
       "2017-12-02 23:55:00     QLD1      5931.28\n",
       "\n",
       "[576 rows x 2 columns]"
      ]
     },
     "execution_count": 50,
     "metadata": {},
     "output_type": "execute_result"
    }
   ],
   "source": [
    "df.loc[df.REGIONID == \"QLD1\"].loc[\"2017-12-02\"]"
   ]
  },
  {
   "cell_type": "code",
   "execution_count": null,
   "id": "eb054444-4f10-492d-8dc5-dd08251398d8",
   "metadata": {},
   "outputs": [],
   "source": []
  }
 ],
 "metadata": {
  "kernelspec": {
   "display_name": "Python (ml_env)",
   "language": "python",
   "name": "pangeo"
  },
  "language_info": {
   "codemirror_mode": {
    "name": "ipython",
    "version": 3
   },
   "file_extension": ".py",
   "mimetype": "text/x-python",
   "name": "python",
   "nbconvert_exporter": "python",
   "pygments_lexer": "ipython3",
   "version": "3.10.8"
  }
 },
 "nbformat": 4,
 "nbformat_minor": 5
}
