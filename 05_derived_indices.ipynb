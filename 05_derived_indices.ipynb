{
 "cells": [
  {
   "cell_type": "markdown",
   "id": "ae9966b9-bd5f-4389-99e3-3f3d334bd2ea",
   "metadata": {},
   "source": [
    "# Derived indices for model predictors"
   ]
  },
  {
   "cell_type": "markdown",
   "id": "7a5a0548-2d21-46fd-ad3b-bdd5f974d92f",
   "metadata": {},
   "source": [
    "Along with some base variables processed in `2_hourly_to_daily.ipynb` (https://are.nci.org.au/node/gadi-cpu-bdw-0054.gadi.nci.org.au/45142/lab/tree/g/data/w42/dr6273/work/demand_model/2_hourly_to_daily.ipynb), here we compute additional predictors that use those variables."
   ]
  },
  {
   "cell_type": "markdown",
   "id": "635509f5-b2d2-4e18-a998-a1783b88baa9",
   "metadata": {},
   "source": [
    "What climate metrics might affect energy demand?"
   ]
  },
  {
   "cell_type": "markdown",
   "id": "5a789823-86ca-4ace-99f2-2db44968a49c",
   "metadata": {},
   "source": [
    "Bloomfield et al (2019) https://rmets.onlinelibrary.wiley.com/doi/10.1002/met.1858 :\n",
    "- Heating Degree Days (based on daily mean T) - Done\n",
    "- Cooling Degree Days (based on daily mean T) - Done"
   ]
  },
  {
   "cell_type": "markdown",
   "id": "69316318-9883-411e-b4ca-83289aa4818d",
   "metadata": {},
   "source": [
    "van der Wiel et al (2019) https://www.sciencedirect.com/science/article/pii/S1364032119302862#sec3 :\n",
    "- Daily mean temperature (two linear regimes combined) - Done."
   ]
  },
  {
   "cell_type": "markdown",
   "id": "8a5cff34-9ef0-4bb6-946a-3eb4dd72c10f",
   "metadata": {},
   "source": [
    "Kang & Reiner (2022) https://www.sciencedirect.com/science/article/pii/S014098832200189X :\n",
    "- This study is from Ireland\n",
    "- Number of sun hours - radiation as proxy, Done\n",
    "- Wind speed - Done\n",
    "- humidity - Done\n",
    "- Rainfall - Done"
   ]
  },
  {
   "cell_type": "markdown",
   "id": "c7af11c7-cda5-4765-b10d-3656e807b1f3",
   "metadata": {},
   "source": [
    "Me spitballing:\n",
    "- Maximum daily T - Done\n",
    "- Minimum daily T - Done\n",
    "- Humidity (daily average and/or overnight?) - daily avg only Done\n",
    "- Heatwaves (e.g. EHF or even just 3-day T?)"
   ]
  },
  {
   "cell_type": "markdown",
   "id": "c8189ad1-ed89-4ad7-9ad2-d071b719804a",
   "metadata": {},
   "source": [
    "Also useful read: https://www.energycouncil.com.au/media/mejc2mfz/extreme-weather-and-electricity-supply.pdf\n",
    "- Heatwaves in multiple states (might not affect demand though, just ability to supply)\n",
    "- Demand peaks in 3rd and 4th day of a heatwave (so 4-day T?)\n",
    "- Cloud cover (affects demand on grid by reducing rooftop solar's ability to smooth the peaks) - radiation as proxy, Done"
   ]
  },
  {
   "cell_type": "markdown",
   "id": "2234608f-ac8e-4a75-9e43-f9b05cc27129",
   "metadata": {},
   "source": [
    "Could also consider:\n",
    "- weighting the selected metrics by population (we eventually want state and national figures)\n",
    "- Detrending everything, including demand."
   ]
  },
  {
   "cell_type": "code",
   "execution_count": 1,
   "id": "19680ff7-5eb2-4989-b8fa-713399585b3f",
   "metadata": {},
   "outputs": [],
   "source": [
    "from dask.distributed import Client,LocalCluster\n",
    "from dask_jobqueue import PBSCluster\n",
    "\n",
    "import bottleneck"
   ]
  },
  {
   "cell_type": "code",
   "execution_count": 2,
   "id": "76d23f9e-dad1-4fd6-8e50-718f0e69a54e",
   "metadata": {},
   "outputs": [
    {
     "name": "stderr",
     "output_type": "stream",
     "text": [
      "/g/data/w42/dr6273/apps/conda/envs/pangeo/lib/python3.10/site-packages/distributed/node.py:182: UserWarning: Port 8787 is already in use.\n",
      "Perhaps you already have a cluster running?\n",
      "Hosting the HTTP server on port 46329 instead\n",
      "  warnings.warn(\n"
     ]
    }
   ],
   "source": [
    "# One node on Gadi has 48 cores - try and use up a full node before going to multiple nodes (jobs)\n",
    "\n",
    "walltime = \"00:20:00\"\n",
    "cores = 24\n",
    "memory = str(4 * cores) + \"GB\"\n",
    "\n",
    "cluster = PBSCluster(walltime=str(walltime), cores=cores, memory=str(memory), processes=cores,\n",
    "                                          \n",
    "                     job_extra_directives=[\"-q normal\",\n",
    "                                           \"-P w42\",\n",
    "                                           \"-l ncpus=\"+str(cores),\n",
    "                                           \"-l mem=\"+str(memory),\n",
    "                                           \"-l storage=gdata/w42+gdata/rt52\"],\n",
    "                     local_directory=\"$TMPDIR\",\n",
    "                     job_directives_skip=[\"select\"])"
   ]
  },
  {
   "cell_type": "code",
   "execution_count": 3,
   "id": "051a0c91-3395-4d56-ba4e-9c1f686cd031",
   "metadata": {},
   "outputs": [],
   "source": [
    "cluster.scale(jobs=1)\n",
    "client = Client(cluster)"
   ]
  },
  {
   "cell_type": "code",
   "execution_count": 4,
   "id": "62f69630-f688-4422-892e-0c3a56016809",
   "metadata": {},
   "outputs": [
    {
     "data": {
      "text/html": [
       "<div>\n",
       "    <div style=\"width: 24px; height: 24px; background-color: #e1e1e1; border: 3px solid #9D9D9D; border-radius: 5px; position: absolute;\"> </div>\n",
       "    <div style=\"margin-left: 48px;\">\n",
       "        <h3 style=\"margin-bottom: 0px;\">Client</h3>\n",
       "        <p style=\"color: #9D9D9D; margin-bottom: 0px;\">Client-52c29671-4801-11ee-a39f-00000769fe80</p>\n",
       "        <table style=\"width: 100%; text-align: left;\">\n",
       "\n",
       "        <tr>\n",
       "        \n",
       "            <td style=\"text-align: left;\"><strong>Connection method:</strong> Cluster object</td>\n",
       "            <td style=\"text-align: left;\"><strong>Cluster type:</strong> dask_jobqueue.PBSCluster</td>\n",
       "        \n",
       "        </tr>\n",
       "\n",
       "        \n",
       "            <tr>\n",
       "                <td style=\"text-align: left;\">\n",
       "                    <strong>Dashboard: </strong> <a href=\"/proxy/46329/status\" target=\"_blank\">/proxy/46329/status</a>\n",
       "                </td>\n",
       "                <td style=\"text-align: left;\"></td>\n",
       "            </tr>\n",
       "        \n",
       "\n",
       "        </table>\n",
       "\n",
       "        \n",
       "            <button style=\"margin-bottom: 12px;\" data-commandlinker-command=\"dask:populate-and-launch-layout\" data-commandlinker-args='{\"url\": \"/proxy/46329/status\" }'>\n",
       "                Launch dashboard in JupyterLab\n",
       "            </button>\n",
       "        \n",
       "\n",
       "        \n",
       "            <details>\n",
       "            <summary style=\"margin-bottom: 20px;\"><h3 style=\"display: inline;\">Cluster Info</h3></summary>\n",
       "            <div class=\"jp-RenderedHTMLCommon jp-RenderedHTML jp-mod-trusted jp-OutputArea-output\">\n",
       "    <div style=\"width: 24px; height: 24px; background-color: #e1e1e1; border: 3px solid #9D9D9D; border-radius: 5px; position: absolute;\">\n",
       "    </div>\n",
       "    <div style=\"margin-left: 48px;\">\n",
       "        <h3 style=\"margin-bottom: 0px; margin-top: 0px;\">PBSCluster</h3>\n",
       "        <p style=\"color: #9D9D9D; margin-bottom: 0px;\">a1535c78</p>\n",
       "        <table style=\"width: 100%; text-align: left;\">\n",
       "            <tr>\n",
       "                <td style=\"text-align: left;\">\n",
       "                    <strong>Dashboard:</strong> <a href=\"/proxy/46329/status\" target=\"_blank\">/proxy/46329/status</a>\n",
       "                </td>\n",
       "                <td style=\"text-align: left;\">\n",
       "                    <strong>Workers:</strong> 0\n",
       "                </td>\n",
       "            </tr>\n",
       "            <tr>\n",
       "                <td style=\"text-align: left;\">\n",
       "                    <strong>Total threads:</strong> 0\n",
       "                </td>\n",
       "                <td style=\"text-align: left;\">\n",
       "                    <strong>Total memory:</strong> 0 B\n",
       "                </td>\n",
       "            </tr>\n",
       "            \n",
       "        </table>\n",
       "\n",
       "        <details>\n",
       "            <summary style=\"margin-bottom: 20px;\">\n",
       "                <h3 style=\"display: inline;\">Scheduler Info</h3>\n",
       "            </summary>\n",
       "\n",
       "            <div style=\"\">\n",
       "    <div>\n",
       "        <div style=\"width: 24px; height: 24px; background-color: #FFF7E5; border: 3px solid #FF6132; border-radius: 5px; position: absolute;\"> </div>\n",
       "        <div style=\"margin-left: 48px;\">\n",
       "            <h3 style=\"margin-bottom: 0px;\">Scheduler</h3>\n",
       "            <p style=\"color: #9D9D9D; margin-bottom: 0px;\">Scheduler-3032e8c0-f796-4c76-a5dc-6b79e1c5e599</p>\n",
       "            <table style=\"width: 100%; text-align: left;\">\n",
       "                <tr>\n",
       "                    <td style=\"text-align: left;\">\n",
       "                        <strong>Comm:</strong> tcp://10.6.121.49:45269\n",
       "                    </td>\n",
       "                    <td style=\"text-align: left;\">\n",
       "                        <strong>Workers:</strong> 0\n",
       "                    </td>\n",
       "                </tr>\n",
       "                <tr>\n",
       "                    <td style=\"text-align: left;\">\n",
       "                        <strong>Dashboard:</strong> <a href=\"/proxy/46329/status\" target=\"_blank\">/proxy/46329/status</a>\n",
       "                    </td>\n",
       "                    <td style=\"text-align: left;\">\n",
       "                        <strong>Total threads:</strong> 0\n",
       "                    </td>\n",
       "                </tr>\n",
       "                <tr>\n",
       "                    <td style=\"text-align: left;\">\n",
       "                        <strong>Started:</strong> Just now\n",
       "                    </td>\n",
       "                    <td style=\"text-align: left;\">\n",
       "                        <strong>Total memory:</strong> 0 B\n",
       "                    </td>\n",
       "                </tr>\n",
       "            </table>\n",
       "        </div>\n",
       "    </div>\n",
       "\n",
       "    <details style=\"margin-left: 48px;\">\n",
       "        <summary style=\"margin-bottom: 20px;\">\n",
       "            <h3 style=\"display: inline;\">Workers</h3>\n",
       "        </summary>\n",
       "\n",
       "        \n",
       "\n",
       "    </details>\n",
       "</div>\n",
       "\n",
       "        </details>\n",
       "    </div>\n",
       "</div>\n",
       "            </details>\n",
       "        \n",
       "\n",
       "    </div>\n",
       "</div>"
      ],
      "text/plain": [
       "<Client: 'tcp://10.6.121.49:45269' processes=0 threads=0, memory=0 B>"
      ]
     },
     "execution_count": 4,
     "metadata": {},
     "output_type": "execute_result"
    }
   ],
   "source": [
    "client"
   ]
  },
  {
   "cell_type": "code",
   "execution_count": 5,
   "id": "40a15913-1b05-40db-989c-aa5e2ec96c90",
   "metadata": {},
   "outputs": [],
   "source": [
    "import xarray as xr\n",
    "import numpy as np"
   ]
  },
  {
   "cell_type": "code",
   "execution_count": 6,
   "id": "1477ae0b-edb7-498c-ab87-c2b1ff36f7e9",
   "metadata": {},
   "outputs": [
    {
     "name": "stdout",
     "output_type": "stream",
     "text": [
      "/g/data/w42/dr6273/work/demand_model\n"
     ]
    }
   ],
   "source": [
    "%cd /g/data/w42/dr6273/work/demand_model//\n",
    "\n",
    "import functions as fn"
   ]
  },
  {
   "cell_type": "code",
   "execution_count": 7,
   "id": "7042723b-a1ab-42e9-aa64-1138315bacb1",
   "metadata": {},
   "outputs": [],
   "source": [
    "era_path = \"/g/data/w42/dr6273/work/data/era5/\""
   ]
  },
  {
   "cell_type": "code",
   "execution_count": 8,
   "id": "0bdf75d1-d21a-4138-a495-2541f33cb583",
   "metadata": {},
   "outputs": [],
   "source": [
    "years = range(1959, 2023)"
   ]
  },
  {
   "cell_type": "markdown",
   "id": "18ae998b-ae03-425b-b93c-420d1b896004",
   "metadata": {},
   "source": [
    "# Load detrended temperature"
   ]
  },
  {
   "cell_type": "code",
   "execution_count": 9,
   "id": "89fee29a-0c92-4b59-9fb0-f3d8ed6b0bb0",
   "metadata": {},
   "outputs": [],
   "source": [
    "T = xr.open_zarr(\n",
    "    \"/scratch/w42/dr6273/tmp/2t_detrended_era5_daily_1959-2022_by_lat.zarr\",\n",
    "    consolidated=True\n",
    ")"
   ]
  },
  {
   "cell_type": "code",
   "execution_count": 10,
   "id": "baa01c84-982b-41bc-8036-d5b3ea1ac606",
   "metadata": {},
   "outputs": [],
   "source": [
    "T = T - 273.15"
   ]
  },
  {
   "cell_type": "markdown",
   "id": "8608ac76-b781-4265-8fa4-7ba9c34f6a9f",
   "metadata": {},
   "source": [
    "# Cooling degree day\n",
    "\n",
    "Difference between daily average temperature and a comfort-level temperature of 24 degrees C, if the daily average temperature is above 24C.\n",
    "\n",
    "http://www.bom.gov.au/climate/maps/averages/degree-days/#:~:text=The%20heating%20degree%20days%20or,24%20degrees%20Celsius%20for%20cooling."
   ]
  },
  {
   "cell_type": "code",
   "execution_count": 11,
   "id": "620a9eb9-3efe-4d21-bad8-f890a5d56abd",
   "metadata": {},
   "outputs": [],
   "source": [
    "def calc_cdd(T, comfort=24):\n",
    "    \"\"\"\n",
    "    Cooling Degree Day.\n",
    "    \n",
    "    T: array of daily average temperature in degrees Celsius.\n",
    "    \"\"\"\n",
    "    return (T - comfort).where(T > comfort, 0)"
   ]
  },
  {
   "cell_type": "code",
   "execution_count": 13,
   "id": "b9a65d98-bbc3-4c90-a9dd-84ee7e3f9866",
   "metadata": {},
   "outputs": [],
   "source": [
    "cdd = calc_cdd(T)"
   ]
  },
  {
   "cell_type": "code",
   "execution_count": 23,
   "id": "ed594c78-ce6d-4f47-b03c-51309562ff4c",
   "metadata": {},
   "outputs": [],
   "source": [
    "cdd = cdd.rename({\"t2m\": \"cdd\"})"
   ]
  },
  {
   "cell_type": "code",
   "execution_count": 24,
   "id": "1993e241-3126-4db2-8e08-e3fbeeeb7886",
   "metadata": {},
   "outputs": [],
   "source": [
    "# # Need to chunk again so that we have uniform chunk sizes\n",
    "# cdd = cdd.chunk({\"time\": \"200MB\"})"
   ]
  },
  {
   "cell_type": "code",
   "execution_count": 15,
   "id": "baafd917-d899-4885-80ed-19f0b0d0bf8a",
   "metadata": {},
   "outputs": [
    {
     "data": {
      "text/plain": [
       "<xarray.backends.zarr.ZarrStore at 0x1486417605f0>"
      ]
     },
     "execution_count": 15,
     "metadata": {},
     "output_type": "execute_result"
    }
   ],
   "source": [
    "cdd.to_zarr(\n",
    "    era_path + \"/derived/cdd_24_era5_daily_1959-2022.zarr\",\n",
    "    mode=\"w\",\n",
    "    consolidated=True\n",
    ")"
   ]
  },
  {
   "cell_type": "code",
   "execution_count": 12,
   "id": "aaa4a723-f79f-4fe0-b3c2-7037f5ad5873",
   "metadata": {},
   "outputs": [
    {
     "data": {
      "text/plain": [
       "<xarray.backends.zarr.ZarrStore at 0x14eea0900eb0>"
      ]
     },
     "execution_count": 12,
     "metadata": {},
     "output_type": "execute_result"
    }
   ],
   "source": [
    "cdd_eu = calc_cdd(T, comfort=22)\n",
    "cdd_eu = cdd_eu.rename({\"t2m\": \"cdd\"})\n",
    "cdd_eu.to_zarr(\n",
    "    era_path + \"/derived/cdd_22_era5_daily_1959-2022.zarr\",\n",
    "    mode=\"w\",\n",
    "    consolidated=True\n",
    ")"
   ]
  },
  {
   "cell_type": "markdown",
   "id": "c62d1a95-0607-4d85-91ba-c8e98dc656f1",
   "metadata": {},
   "source": [
    "# Heating degree day\n",
    "\n",
    "Difference between daily average temperature and a comfort-level temperature of 18 degrees C, if the daily average temperature is below 24C.\n",
    "\n",
    "http://www.bom.gov.au/climate/maps/averages/degree-days/#:~:text=The%20heating%20degree%20days%20or,24%20degrees%20Celsius%20for%20cooling."
   ]
  },
  {
   "cell_type": "code",
   "execution_count": 13,
   "id": "56406fbd-bc60-4061-8caf-a36f14165e4e",
   "metadata": {},
   "outputs": [],
   "source": [
    "def calc_hdd(T, comfort=18):\n",
    "    \"\"\"\n",
    "    Heating Degree Day.\n",
    "    \n",
    "    T: array of daily average temperature in degrees Celsius.\n",
    "    \"\"\"\n",
    "    return (comfort - T).where(T < comfort, 0)"
   ]
  },
  {
   "cell_type": "code",
   "execution_count": 17,
   "id": "aa80247f-0fe3-44d0-a91c-28389f1bf9e8",
   "metadata": {},
   "outputs": [],
   "source": [
    "hdd = calc_hdd(T)"
   ]
  },
  {
   "cell_type": "code",
   "execution_count": 18,
   "id": "90001375-1c9a-4a0e-b41a-4d33b11d0a52",
   "metadata": {},
   "outputs": [],
   "source": [
    "hdd = hdd.rename({\"t2m\": \"hdd\"})"
   ]
  },
  {
   "cell_type": "code",
   "execution_count": 19,
   "id": "32d91c01-5217-4b75-9388-a44acf7f1199",
   "metadata": {},
   "outputs": [],
   "source": [
    "# # Need to chunk again so that we have uniform chunk sizes\n",
    "# hdd = hdd.chunk({\"time\": \"200MB\"})"
   ]
  },
  {
   "cell_type": "code",
   "execution_count": 20,
   "id": "f1f8ab61-4fbe-4d7b-ad61-6b956935dd07",
   "metadata": {},
   "outputs": [
    {
     "data": {
      "text/plain": [
       "<xarray.backends.zarr.ZarrStore at 0x1486408d7c30>"
      ]
     },
     "execution_count": 20,
     "metadata": {},
     "output_type": "execute_result"
    }
   ],
   "source": [
    "hdd.to_zarr(\n",
    "    era_path + \"derived/hdd_18_era5_daily_1959-2022.zarr\",\n",
    "    mode=\"w\",\n",
    "    consolidated=True\n",
    ")"
   ]
  },
  {
   "cell_type": "code",
   "execution_count": 14,
   "id": "1d0d64ce-b74b-4039-b6f2-72b20ab94927",
   "metadata": {},
   "outputs": [
    {
     "data": {
      "text/plain": [
       "<xarray.backends.zarr.ZarrStore at 0x14ee9f96eb90>"
      ]
     },
     "execution_count": 14,
     "metadata": {},
     "output_type": "execute_result"
    }
   ],
   "source": [
    "hdd_eu = calc_hdd(T, comfort=15)\n",
    "hdd_eu = hdd_eu.rename({\"t2m\": \"hdd\"})\n",
    "hdd_eu.to_zarr(\n",
    "    era_path + \"/derived/hdd_15_era5_daily_1959-2022.zarr\",\n",
    "    mode=\"w\",\n",
    "    consolidated=True\n",
    ")"
   ]
  },
  {
   "cell_type": "markdown",
   "id": "079df909-cc6d-4bae-a8ea-f53b7d1567c7",
   "metadata": {},
   "source": [
    "# 3- and 4-day rolling CDD, HDD and T"
   ]
  },
  {
   "cell_type": "code",
   "execution_count": 10,
   "id": "d0126b15-f7a0-42b5-a5dd-815b9d0be7ac",
   "metadata": {},
   "outputs": [],
   "source": [
    "def region_roll_and_write(ds, region_coords, da_name, k):\n",
    "    \"\"\"\n",
    "    Compute rolling mean of a region subset of ds and write to zarr store.\n",
    "    \n",
    "    ds: dataset to process\n",
    "    region_coords: dict, with 'name': str,'latitude': slice and 'longitude'\" slice\n",
    "    da_name: str, first part of zarr store name to read\n",
    "             i.e. <da_name>_era5_daily_1959-2022.zarr\n",
    "    k: int, window length for rolling\n",
    "    \"\"\"\n",
    "    ds = ds.sel({\n",
    "        \"longitude\": region_coords[\"longitude\"],\n",
    "        \"latitude\": region_coords[\"latitude\"]\n",
    "    })\n",
    "    ds_roll = ds.rolling(time=k).mean()\n",
    "    ds_roll = ds_roll.chunk({\"time\": \"200MB\"})\n",
    "    ds_roll.to_zarr(\n",
    "        era_path + \"derived/\"+da_name+\"_\"+region_coords[\"name\"]+\"_rollmean\"+str(k)+\"_era5_daily_1959-2022.zarr\",\n",
    "        mode=\"w\",\n",
    "        consolidated=True\n",
    "    )"
   ]
  },
  {
   "cell_type": "code",
   "execution_count": 11,
   "id": "aed872c9-1d59-4db9-a6bf-9102ea1dfd37",
   "metadata": {},
   "outputs": [],
   "source": [
    "aus_coords = {\n",
    "    \"name\": \"Aus\",\n",
    "    \"longitude\": slice(110, 155),\n",
    "    \"latitude\": slice(-10, -45)\n",
    "}"
   ]
  },
  {
   "cell_type": "markdown",
   "id": "2537b48d-b87a-4fd6-a314-c8ccfb3f6f37",
   "metadata": {},
   "source": [
    "HDD and CDD"
   ]
  },
  {
   "cell_type": "code",
   "execution_count": 12,
   "id": "b7fd2673-fdef-464a-be7d-61d8696cc82f",
   "metadata": {},
   "outputs": [],
   "source": [
    "for name in [\"hdd_18\", \"cdd_24\"]:\n",
    "    for k in [3, 4]:\n",
    "        ds = xr.open_zarr(\n",
    "            era_path + \"derived/\"+name+\"_era5_daily_1959-2022.zarr\",\n",
    "            consolidated=True\n",
    "        )\n",
    "        region_roll_and_write(ds, aus_coords, name, k)"
   ]
  },
  {
   "cell_type": "markdown",
   "id": "355fab19-eaa0-446d-8770-ee7f0b25a1b1",
   "metadata": {},
   "source": [
    "Temperature"
   ]
  },
  {
   "cell_type": "code",
   "execution_count": 14,
   "id": "5d614751-b78f-4ecf-80bd-880462214384",
   "metadata": {},
   "outputs": [
    {
     "name": "stderr",
     "output_type": "stream",
     "text": [
      "/g/data/w42/dr6273/apps/conda/envs/pangeo/lib/python3.10/site-packages/xarray/core/dataset.py:248: UserWarning: The specified Dask chunks separate the stored chunks along dimension \"latitude\" starting at index 1. This could degrade performance. Instead, consider rechunking after loading.\n",
      "  warnings.warn(\n",
      "/g/data/w42/dr6273/apps/conda/envs/pangeo/lib/python3.10/site-packages/xarray/core/dataset.py:248: UserWarning: The specified Dask chunks separate the stored chunks along dimension \"latitude\" starting at index 1. This could degrade performance. Instead, consider rechunking after loading.\n",
      "  warnings.warn(\n"
     ]
    }
   ],
   "source": [
    "for k in [3, 4]:\n",
    "    ds = xr.open_zarr(\n",
    "        \"/scratch/w42/dr6273/tmp/2t_era5_daily_1959-2022.zarr\",\n",
    "        consolidated=True,\n",
    "        chunks={\"time\": -1, \"longitude\": -1, \"latitude\": 1}\n",
    "    )\n",
    "    region_roll_and_write(ds, aus_coords, name, k)"
   ]
  },
  {
   "cell_type": "markdown",
   "id": "6517976b-966e-4a38-bba3-3101ef42d5f2",
   "metadata": {},
   "source": [
    "# Close cluster"
   ]
  },
  {
   "cell_type": "code",
   "execution_count": 15,
   "id": "7988e521-4fbb-46f0-a58e-10692d194b61",
   "metadata": {},
   "outputs": [],
   "source": [
    "client.close()\n",
    "cluster.close()"
   ]
  },
  {
   "cell_type": "code",
   "execution_count": null,
   "id": "efe8ff9c-9753-48b6-8517-432eead7a316",
   "metadata": {},
   "outputs": [],
   "source": []
  }
 ],
 "metadata": {
  "kernelspec": {
   "display_name": "Python (pangeo)",
   "language": "python",
   "name": "pangeo"
  },
  "language_info": {
   "codemirror_mode": {
    "name": "ipython",
    "version": 3
   },
   "file_extension": ".py",
   "mimetype": "text/x-python",
   "name": "python",
   "nbconvert_exporter": "python",
   "pygments_lexer": "ipython3",
   "version": "3.10.8"
  }
 },
 "nbformat": 4,
 "nbformat_minor": 5
}
